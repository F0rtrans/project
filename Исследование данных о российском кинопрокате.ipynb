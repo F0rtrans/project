{
 "cells": [
  {
   "cell_type": "markdown",
   "metadata": {
    "id": "sIfNaMOxgFyK"
   },
   "source": [
    "**ИССЛЕДОВАНИЕ ДАННЫХ О РОССИЙСКОМ КИНОПРОКАТЕ**"
   ]
  },
  {
   "cell_type": "markdown",
   "metadata": {},
   "source": [
    "✅ **Описание проекта:**\n",
    "\n",
    "Заказчик этого исследования — Министерство культуры Российской Федерации. \n",
    "\n",
    "Входные данные — архив данных, опубликованный на портале открытых данных Министерства культуры. Набор данных содержит информацию о прокатных удостоверениях, сборах и государственной поддержке фильмов, а также информацию с сайта КиноПоиск.\n",
    "    \n",
    "✅ **Цель исследования:**\n",
    "    \n",
    "Необходимо провести исследовательский анализ данных о российском кинопрокате и выявить текущие тренды.\n",
    "Также необходимо ответить на вопрос, насколько зрителю интересны фильмы, которые получили государственную поддержку.\n",
    "    \n",
    "✅ **Описание данных:**\n",
    "\n",
    "Таблица `mkrf_movies` содержит информацию из реестра прокатных удостоверений. У одного фильма может быть несколько прокатных удостоверений. \n",
    "\n",
    "* `title` — название фильма;\n",
    "* `puNumber` — номер прокатного удостоверения;\n",
    "* `show_start_date` — дата премьеры фильма;\n",
    "* `type` — тип фильма;\n",
    "* `film_studio` — студия-производитель;\n",
    "* `production_country` — страна-производитель;\n",
    "* `director` — режиссёр;\n",
    "* `producer` — продюсер;\n",
    "* `age_restriction` — возрастная категория;\n",
    "* `refundable_support` — объём возвратных средств государственной поддержки;\n",
    "* `nonrefundable_support` — объём невозвратных средств государственной поддержки;\n",
    "* `financing_source` — источник государственного финансирования;\n",
    "* `budget` — общий бюджет фильма;\n",
    "* `ratings` — рейтинг фильма на КиноПоиске;\n",
    "* `genres` — жанр фильма.\n",
    "\n",
    "Столбец `budget` уже включает в себя полный объём государственной поддержки. Данные в этом столбце указаны только для тех фильмов, которые получили государственную поддержку. \n",
    "\n",
    "Таблица `mkrf_shows` содержит сведения о показах фильмов в российских кинотеатрах.\n",
    "\n",
    "* `puNumber` — номер прокатного удостоверения;\n",
    "* `box_office` — сборы в рублях.\n",
    "\n",
    "✅ **План работы:**\n",
    "    \n",
    "1. Изучаем общую информацию о данных;\n",
    "2. Делаем предобработку данных;\n",
    "3. Определяем текущие тренды;\n",
    "4. Отвечаем на вопрос, насколько зрителю интересны фильмы, которые получили государственную поддержку;\n",
    "4. Делаем общий вывод.\n",
    "    \n"
   ]
  },
  {
   "cell_type": "markdown",
   "metadata": {},
   "source": [
    "##  Откроем файлы с данными и объединим их в один датафрейм."
   ]
  },
  {
   "cell_type": "markdown",
   "metadata": {},
   "source": [
    "### Открытие файлов и изучение данных"
   ]
  },
  {
   "cell_type": "code",
   "execution_count": 1,
   "metadata": {},
   "outputs": [],
   "source": [
    "# импортируем библиотеки\n",
    "import pandas as pd\n",
    "import matplotlib.pylab as plt\n",
    "\n",
    "# зададим формат отображения вещественных чисел в Pandas\n",
    "pd.set_option('display.float_format', '{:,.2f}'.format)\n",
    "\n",
    "# Сброс ограничений на число столбцов\n",
    "pd.set_option('display.max_columns', None)\n",
    "\n",
    "# Сброс ограничений на число строк\n",
    "pd.set_option('display.max_rows', None)\n",
    "\n",
    "# Сброс ограничений на количество символов в записи\n",
    "pd.set_option('display.max_colwidth', None)"
   ]
  },
  {
   "cell_type": "markdown",
   "metadata": {},
   "source": [
    "Откроем первый датасет:"
   ]
  },
  {
   "cell_type": "code",
   "execution_count": 2,
   "metadata": {
    "id": "dw87FlzMgFyM"
   },
   "outputs": [
    {
     "data": {
      "text/html": [
       "<div>\n",
       "<style scoped>\n",
       "    .dataframe tbody tr th:only-of-type {\n",
       "        vertical-align: middle;\n",
       "    }\n",
       "\n",
       "    .dataframe tbody tr th {\n",
       "        vertical-align: top;\n",
       "    }\n",
       "\n",
       "    .dataframe thead th {\n",
       "        text-align: right;\n",
       "    }\n",
       "</style>\n",
       "<table border=\"1\" class=\"dataframe\">\n",
       "  <thead>\n",
       "    <tr style=\"text-align: right;\">\n",
       "      <th></th>\n",
       "      <th>title</th>\n",
       "      <th>puNumber</th>\n",
       "      <th>show_start_date</th>\n",
       "      <th>type</th>\n",
       "      <th>film_studio</th>\n",
       "      <th>production_country</th>\n",
       "      <th>director</th>\n",
       "      <th>producer</th>\n",
       "      <th>age_restriction</th>\n",
       "      <th>refundable_support</th>\n",
       "      <th>nonrefundable_support</th>\n",
       "      <th>budget</th>\n",
       "      <th>financing_source</th>\n",
       "      <th>ratings</th>\n",
       "      <th>genres</th>\n",
       "    </tr>\n",
       "  </thead>\n",
       "  <tbody>\n",
       "    <tr>\n",
       "      <th>0</th>\n",
       "      <td>Открытый простор</td>\n",
       "      <td>221048915</td>\n",
       "      <td>2015-11-27T12:00:00.000Z</td>\n",
       "      <td>Художественный</td>\n",
       "      <td>Тачстоун Пикчерз, Кобальт Пикчерз, Бикон Пикчерз, Тиг Продакшнз</td>\n",
       "      <td>США</td>\n",
       "      <td>Кевин Костнер</td>\n",
       "      <td>Дэвид Валдес, Кевин Костнер, Джейк Эбертс</td>\n",
       "      <td>«18+» - запрещено для детей</td>\n",
       "      <td>NaN</td>\n",
       "      <td>NaN</td>\n",
       "      <td>NaN</td>\n",
       "      <td>NaN</td>\n",
       "      <td>7.2</td>\n",
       "      <td>боевик,драма,мелодрама</td>\n",
       "    </tr>\n",
       "    <tr>\n",
       "      <th>1</th>\n",
       "      <td>Особо важное задание</td>\n",
       "      <td>111013716</td>\n",
       "      <td>2016-09-13T12:00:00.000Z</td>\n",
       "      <td>Художественный</td>\n",
       "      <td>Киностудия \"Мосфильм\"</td>\n",
       "      <td>СССР</td>\n",
       "      <td>Е.Матвеев</td>\n",
       "      <td>NaN</td>\n",
       "      <td>«6+» - для детей старше 6 лет</td>\n",
       "      <td>NaN</td>\n",
       "      <td>NaN</td>\n",
       "      <td>NaN</td>\n",
       "      <td>NaN</td>\n",
       "      <td>6.6</td>\n",
       "      <td>драма,военный</td>\n",
       "    </tr>\n",
       "    <tr>\n",
       "      <th>2</th>\n",
       "      <td>Особо опасен</td>\n",
       "      <td>221038416</td>\n",
       "      <td>2016-10-10T12:00:00.000Z</td>\n",
       "      <td>Художественный</td>\n",
       "      <td>Юниверсал Пикчерз, Кикстарт Продакшнз, Марк Платт Продакшнз, Рилейтивити Медиа, Спайгласс Интертейнмент, Стилкин Филмз, Топ Кау Продакшнз</td>\n",
       "      <td>США</td>\n",
       "      <td>Тимур Бекмамбетов</td>\n",
       "      <td>Джим Лемли, Джейсон Нетер, Марк Е.Платт, Яйн Смит</td>\n",
       "      <td>«18+» - запрещено для детей</td>\n",
       "      <td>NaN</td>\n",
       "      <td>NaN</td>\n",
       "      <td>NaN</td>\n",
       "      <td>NaN</td>\n",
       "      <td>6.8</td>\n",
       "      <td>фантастика,боевик,триллер</td>\n",
       "    </tr>\n",
       "    <tr>\n",
       "      <th>3</th>\n",
       "      <td>Особо опасен</td>\n",
       "      <td>221026916</td>\n",
       "      <td>2016-06-10T12:00:00.000Z</td>\n",
       "      <td>Художественный</td>\n",
       "      <td>Юниверсал Пикчерз, Кикстарт Продакшнз, Марк Платт Продакшнз, Рилейтивити Медиа, Спайгласс Интертейнмент, Стилкин Филмз, Топ Кау Продакшнз</td>\n",
       "      <td>США</td>\n",
       "      <td>Тимур Бекмамбетов</td>\n",
       "      <td>Джим Лемли, Джейсон Нетер, Марк Е.Платт, Яйн Смит</td>\n",
       "      <td>«18+» - запрещено для детей</td>\n",
       "      <td>NaN</td>\n",
       "      <td>NaN</td>\n",
       "      <td>NaN</td>\n",
       "      <td>NaN</td>\n",
       "      <td>6.8</td>\n",
       "      <td>фантастика,боевик,триллер</td>\n",
       "    </tr>\n",
       "    <tr>\n",
       "      <th>4</th>\n",
       "      <td>Особо опасен</td>\n",
       "      <td>221030815</td>\n",
       "      <td>2015-07-29T12:00:00.000Z</td>\n",
       "      <td>Художественный</td>\n",
       "      <td>Юниверсал Пикчерз, Кикстарт Продакшнз, Марк Платт Продакшнз, Рилейтивити Медиа, Спайгласс Интертейнмент, Стилкин Филмз, Топ Кау Продакшнз</td>\n",
       "      <td>США</td>\n",
       "      <td>Тимур Бекмамбетов</td>\n",
       "      <td>Джим Лемли, Джейсон Нетер, Марк Е.Платт, Яйн Смит</td>\n",
       "      <td>«18+» - запрещено для детей</td>\n",
       "      <td>NaN</td>\n",
       "      <td>NaN</td>\n",
       "      <td>NaN</td>\n",
       "      <td>NaN</td>\n",
       "      <td>6.8</td>\n",
       "      <td>фантастика,боевик,триллер</td>\n",
       "    </tr>\n",
       "  </tbody>\n",
       "</table>\n",
       "</div>"
      ],
      "text/plain": [
       "                  title   puNumber           show_start_date            type  \\\n",
       "0      Открытый простор  221048915  2015-11-27T12:00:00.000Z  Художественный   \n",
       "1  Особо важное задание  111013716  2016-09-13T12:00:00.000Z  Художественный   \n",
       "2          Особо опасен  221038416  2016-10-10T12:00:00.000Z  Художественный   \n",
       "3          Особо опасен  221026916  2016-06-10T12:00:00.000Z  Художественный   \n",
       "4          Особо опасен  221030815  2015-07-29T12:00:00.000Z  Художественный   \n",
       "\n",
       "                                                                                                                                 film_studio  \\\n",
       "0                                                                            Тачстоун Пикчерз, Кобальт Пикчерз, Бикон Пикчерз, Тиг Продакшнз   \n",
       "1                                                                                                                      Киностудия \"Мосфильм\"   \n",
       "2  Юниверсал Пикчерз, Кикстарт Продакшнз, Марк Платт Продакшнз, Рилейтивити Медиа, Спайгласс Интертейнмент, Стилкин Филмз, Топ Кау Продакшнз   \n",
       "3  Юниверсал Пикчерз, Кикстарт Продакшнз, Марк Платт Продакшнз, Рилейтивити Медиа, Спайгласс Интертейнмент, Стилкин Филмз, Топ Кау Продакшнз   \n",
       "4  Юниверсал Пикчерз, Кикстарт Продакшнз, Марк Платт Продакшнз, Рилейтивити Медиа, Спайгласс Интертейнмент, Стилкин Филмз, Топ Кау Продакшнз   \n",
       "\n",
       "  production_country           director  \\\n",
       "0                США      Кевин Костнер   \n",
       "1               СССР          Е.Матвеев   \n",
       "2                США  Тимур Бекмамбетов   \n",
       "3                США  Тимур Бекмамбетов   \n",
       "4                США  Тимур Бекмамбетов   \n",
       "\n",
       "                                            producer  \\\n",
       "0          Дэвид Валдес, Кевин Костнер, Джейк Эбертс   \n",
       "1                                                NaN   \n",
       "2  Джим Лемли, Джейсон Нетер, Марк Е.Платт, Яйн Смит   \n",
       "3  Джим Лемли, Джейсон Нетер, Марк Е.Платт, Яйн Смит   \n",
       "4  Джим Лемли, Джейсон Нетер, Марк Е.Платт, Яйн Смит   \n",
       "\n",
       "                 age_restriction  refundable_support  nonrefundable_support  \\\n",
       "0    «18+» - запрещено для детей                 NaN                    NaN   \n",
       "1  «6+» - для детей старше 6 лет                 NaN                    NaN   \n",
       "2    «18+» - запрещено для детей                 NaN                    NaN   \n",
       "3    «18+» - запрещено для детей                 NaN                    NaN   \n",
       "4    «18+» - запрещено для детей                 NaN                    NaN   \n",
       "\n",
       "   budget financing_source ratings                     genres  \n",
       "0     NaN              NaN     7.2     боевик,драма,мелодрама  \n",
       "1     NaN              NaN     6.6              драма,военный  \n",
       "2     NaN              NaN     6.8  фантастика,боевик,триллер  \n",
       "3     NaN              NaN     6.8  фантастика,боевик,триллер  \n",
       "4     NaN              NaN     6.8  фантастика,боевик,триллер  "
      ]
     },
     "execution_count": 2,
     "metadata": {},
     "output_type": "execute_result"
    }
   ],
   "source": [
    "df = pd.read_csv('/datasets/mkrf_movies.csv')\n",
    "df.head()"
   ]
  },
  {
   "cell_type": "code",
   "execution_count": 3,
   "metadata": {},
   "outputs": [
    {
     "data": {
      "text/plain": [
       "'2010-01-11T12:00:00.000Z'"
      ]
     },
     "execution_count": 3,
     "metadata": {},
     "output_type": "execute_result"
    }
   ],
   "source": [
    "df['show_start_date'].min()"
   ]
  },
  {
   "cell_type": "code",
   "execution_count": 4,
   "metadata": {},
   "outputs": [
    {
     "data": {
      "text/plain": [
       "'2019-12-30T12:00:00.000Z'"
      ]
     },
     "execution_count": 4,
     "metadata": {},
     "output_type": "execute_result"
    }
   ],
   "source": [
    "df['show_start_date'].max()"
   ]
  },
  {
   "cell_type": "markdown",
   "metadata": {},
   "source": [
    "Откроем второй датасет: "
   ]
  },
  {
   "cell_type": "code",
   "execution_count": 5,
   "metadata": {},
   "outputs": [
    {
     "data": {
      "text/html": [
       "<div>\n",
       "<style scoped>\n",
       "    .dataframe tbody tr th:only-of-type {\n",
       "        vertical-align: middle;\n",
       "    }\n",
       "\n",
       "    .dataframe tbody tr th {\n",
       "        vertical-align: top;\n",
       "    }\n",
       "\n",
       "    .dataframe thead th {\n",
       "        text-align: right;\n",
       "    }\n",
       "</style>\n",
       "<table border=\"1\" class=\"dataframe\">\n",
       "  <thead>\n",
       "    <tr style=\"text-align: right;\">\n",
       "      <th></th>\n",
       "      <th>puNumber</th>\n",
       "      <th>box_office</th>\n",
       "    </tr>\n",
       "  </thead>\n",
       "  <tbody>\n",
       "    <tr>\n",
       "      <th>0</th>\n",
       "      <td>111000113</td>\n",
       "      <td>2,450.00</td>\n",
       "    </tr>\n",
       "    <tr>\n",
       "      <th>1</th>\n",
       "      <td>111000115</td>\n",
       "      <td>61,040.00</td>\n",
       "    </tr>\n",
       "    <tr>\n",
       "      <th>2</th>\n",
       "      <td>111000116</td>\n",
       "      <td>153,030,013.40</td>\n",
       "    </tr>\n",
       "    <tr>\n",
       "      <th>3</th>\n",
       "      <td>111000117</td>\n",
       "      <td>12,260,956.00</td>\n",
       "    </tr>\n",
       "    <tr>\n",
       "      <th>4</th>\n",
       "      <td>111000118</td>\n",
       "      <td>163,684,057.79</td>\n",
       "    </tr>\n",
       "  </tbody>\n",
       "</table>\n",
       "</div>"
      ],
      "text/plain": [
       "    puNumber     box_office\n",
       "0  111000113       2,450.00\n",
       "1  111000115      61,040.00\n",
       "2  111000116 153,030,013.40\n",
       "3  111000117  12,260,956.00\n",
       "4  111000118 163,684,057.79"
      ]
     },
     "execution_count": 5,
     "metadata": {},
     "output_type": "execute_result"
    }
   ],
   "source": [
    "df_shows = pd.read_csv('/datasets/mkrf_shows.csv')\n",
    "df_shows.head()"
   ]
  },
  {
   "cell_type": "markdown",
   "metadata": {},
   "source": [
    "Изучим общую информацию от датасетах: "
   ]
  },
  {
   "cell_type": "code",
   "execution_count": 6,
   "metadata": {},
   "outputs": [
    {
     "data": {
      "text/plain": [
       "'Общая информация о прокатных удостоверениях:'"
      ]
     },
     "metadata": {},
     "output_type": "display_data"
    },
    {
     "name": "stdout",
     "output_type": "stream",
     "text": [
      "<class 'pandas.core.frame.DataFrame'>\n",
      "RangeIndex: 7486 entries, 0 to 7485\n",
      "Data columns (total 15 columns):\n",
      " #   Column                 Non-Null Count  Dtype  \n",
      "---  ------                 --------------  -----  \n",
      " 0   title                  7486 non-null   object \n",
      " 1   puNumber               7486 non-null   object \n",
      " 2   show_start_date        7486 non-null   object \n",
      " 3   type                   7486 non-null   object \n",
      " 4   film_studio            7468 non-null   object \n",
      " 5   production_country     7484 non-null   object \n",
      " 6   director               7477 non-null   object \n",
      " 7   producer               6918 non-null   object \n",
      " 8   age_restriction        7486 non-null   object \n",
      " 9   refundable_support     332 non-null    float64\n",
      " 10  nonrefundable_support  332 non-null    float64\n",
      " 11  budget                 332 non-null    float64\n",
      " 12  financing_source       332 non-null    object \n",
      " 13  ratings                6519 non-null   object \n",
      " 14  genres                 6510 non-null   object \n",
      "dtypes: float64(3), object(12)\n",
      "memory usage: 877.4+ KB\n"
     ]
    },
    {
     "data": {
      "text/plain": [
       "None"
      ]
     },
     "metadata": {},
     "output_type": "display_data"
    },
    {
     "data": {
      "text/plain": [
       "''"
      ]
     },
     "metadata": {},
     "output_type": "display_data"
    },
    {
     "data": {
      "text/plain": [
       "'Общая информация о прокате в российских кинотеатрах:'"
      ]
     },
     "metadata": {},
     "output_type": "display_data"
    },
    {
     "name": "stdout",
     "output_type": "stream",
     "text": [
      "<class 'pandas.core.frame.DataFrame'>\n",
      "RangeIndex: 3158 entries, 0 to 3157\n",
      "Data columns (total 2 columns):\n",
      " #   Column      Non-Null Count  Dtype  \n",
      "---  ------      --------------  -----  \n",
      " 0   puNumber    3158 non-null   int64  \n",
      " 1   box_office  3158 non-null   float64\n",
      "dtypes: float64(1), int64(1)\n",
      "memory usage: 49.5 KB\n"
     ]
    },
    {
     "data": {
      "text/plain": [
       "None"
      ]
     },
     "metadata": {},
     "output_type": "display_data"
    }
   ],
   "source": [
    "display('Общая информация о прокатных удостоверениях:')\n",
    "display(df.info())\n",
    "display('')\n",
    "display('Общая информация о прокате в российских кинотеатрах:')\n",
    "display(df_shows.info())"
   ]
  },
  {
   "cell_type": "markdown",
   "metadata": {},
   "source": [
    "**Вывод о данных и обнаруженных проблемах:**\n",
    "\n",
    "В таблице `mkrf_movies` представлены данные о фильмах, выпущенных в **2010-2019** годах.  \n",
    "\n",
    "В таблице `mkrf_movies` общее количество строк **7486**. Данные представлены в 15 столбцах типа float64(3) или object(12). \n",
    "\n",
    "В таблице `mkrf_shows` общее количество строк **3158**. Данные представлены в 2 столбцах типа int64(1) и float64(1).\n",
    "\n",
    "Типы данных не соответствуют предполагаемым:\n",
    "* `puNumber` — прокатное удостоверение, значение которого целочисленно, сейчас имеет значение типа object. Его нужно привести к формату int;\n",
    "* `show_start_date` — дата начала проката в формате типа object. Его нужно привести к формату Datetime;\n",
    "* `ratings` — значение рейтинга в формате типа object. Его нужно привести к формату float.\n",
    "\n",
    "Количественные значения:\n",
    "* В некоторых случаях значение сборов и финансирования равно 0. Необходимо проверить эти данные на наличие ошибок.\n",
    "* Присутствуют пропуски в следующих столбцах: `film_studio`, `production_country`, `director, producer`, `refundable_support`, `nonrefundable_support`, `budget`, `financing source`, `ratings`, `genres`, `box office`. Обработаем пропуски в процессе исследования: заполним там, где это возможно, или удалим строки. "
   ]
  },
  {
   "cell_type": "markdown",
   "metadata": {},
   "source": [
    "### Объединение датасетов"
   ]
  },
  {
   "cell_type": "markdown",
   "metadata": {},
   "source": [
    "Объединять датасеты будем в один датафрейм по столбцу `puNumber`.\n",
    "\n",
    "В датасете `df` о прокатных удостоверениях столбец `puNumber` имеет тип данных `object`. В датасете `df_shows` о прокатных удостоверениях столбец `puNumber` имеет тип данных `int64`.\n",
    "\n",
    "Приведем в датасете `df` данные в столбце `puNumber` к типу `int64`.\n",
    "В связи с тем, что в столбце `puNumber` могут оказаться нецифровые символы, напишем функцию, которая находит такие записи: "
   ]
  },
  {
   "cell_type": "code",
   "execution_count": 7,
   "metadata": {},
   "outputs": [
    {
     "data": {
      "text/html": [
       "<div>\n",
       "<style scoped>\n",
       "    .dataframe tbody tr th:only-of-type {\n",
       "        vertical-align: middle;\n",
       "    }\n",
       "\n",
       "    .dataframe tbody tr th {\n",
       "        vertical-align: top;\n",
       "    }\n",
       "\n",
       "    .dataframe thead th {\n",
       "        text-align: right;\n",
       "    }\n",
       "</style>\n",
       "<table border=\"1\" class=\"dataframe\">\n",
       "  <thead>\n",
       "    <tr style=\"text-align: right;\">\n",
       "      <th></th>\n",
       "      <th>title</th>\n",
       "      <th>puNumber</th>\n",
       "      <th>show_start_date</th>\n",
       "      <th>type</th>\n",
       "      <th>film_studio</th>\n",
       "      <th>production_country</th>\n",
       "      <th>director</th>\n",
       "      <th>producer</th>\n",
       "      <th>age_restriction</th>\n",
       "      <th>refundable_support</th>\n",
       "      <th>nonrefundable_support</th>\n",
       "      <th>budget</th>\n",
       "      <th>financing_source</th>\n",
       "      <th>ratings</th>\n",
       "      <th>genres</th>\n",
       "    </tr>\n",
       "  </thead>\n",
       "  <tbody>\n",
       "    <tr>\n",
       "      <th>804</th>\n",
       "      <td>Паранормальный Якутск</td>\n",
       "      <td>111004112</td>\n",
       "      <td>2012-08-24T12:00:00.000Z</td>\n",
       "      <td>Художественный</td>\n",
       "      <td>ИП Тимофеев К.П.</td>\n",
       "      <td>Россия</td>\n",
       "      <td>К.Тимофеев</td>\n",
       "      <td>NaN</td>\n",
       "      <td>«16+» - для детей старше 16 лет</td>\n",
       "      <td>NaN</td>\n",
       "      <td>NaN</td>\n",
       "      <td>NaN</td>\n",
       "      <td>NaN</td>\n",
       "      <td>NaN</td>\n",
       "      <td>NaN</td>\n",
       "    </tr>\n",
       "    <tr>\n",
       "      <th>1797</th>\n",
       "      <td>Курбан-роман. (История с жертвой)</td>\n",
       "      <td>нет</td>\n",
       "      <td>2014-05-15T12:00:00.000Z</td>\n",
       "      <td>Художественный</td>\n",
       "      <td>ФОНД \"ИННОВАЦИЯ\"</td>\n",
       "      <td>Россия</td>\n",
       "      <td>С.Юзеев</td>\n",
       "      <td>М.Галицкая</td>\n",
       "      <td>«12+» - для детей старше 12 лет</td>\n",
       "      <td>NaN</td>\n",
       "      <td>NaN</td>\n",
       "      <td>NaN</td>\n",
       "      <td>NaN</td>\n",
       "      <td>NaN</td>\n",
       "      <td>NaN</td>\n",
       "    </tr>\n",
       "  </tbody>\n",
       "</table>\n",
       "</div>"
      ],
      "text/plain": [
       "                                  title    puNumber           show_start_date  \\\n",
       "804               Паранормальный Якутск   111004112  2012-08-24T12:00:00.000Z   \n",
       "1797  Курбан-роман. (История с жертвой)         нет  2014-05-15T12:00:00.000Z   \n",
       "\n",
       "                type       film_studio production_country    director  \\\n",
       "804   Художественный  ИП Тимофеев К.П.             Россия  К.Тимофеев   \n",
       "1797  Художественный  ФОНД \"ИННОВАЦИЯ\"             Россия     С.Юзеев   \n",
       "\n",
       "        producer                  age_restriction  refundable_support  \\\n",
       "804          NaN  «16+» - для детей старше 16 лет                 NaN   \n",
       "1797  М.Галицкая  «12+» - для детей старше 12 лет                 NaN   \n",
       "\n",
       "      nonrefundable_support  budget financing_source ratings genres  \n",
       "804                     NaN     NaN              NaN     NaN    NaN  \n",
       "1797                    NaN     NaN              NaN     NaN    NaN  "
      ]
     },
     "execution_count": 7,
     "metadata": {},
     "output_type": "execute_result"
    }
   ],
   "source": [
    "df[~df['puNumber'].str.isdigit()]"
   ]
  },
  {
   "cell_type": "markdown",
   "metadata": {},
   "source": [
    "В строке 804 есть пробелы, а в строке 1797 пропущено значение. \n",
    "Удалим пробелы и заменим пропущенное значение 0, чтобы не терять данные:"
   ]
  },
  {
   "cell_type": "code",
   "execution_count": 8,
   "metadata": {},
   "outputs": [],
   "source": [
    "df.loc[804, 'puNumber'] = df.loc[804, 'puNumber'].strip()\n",
    "df.loc[1797, 'puNumber'] = 0"
   ]
  },
  {
   "cell_type": "markdown",
   "metadata": {},
   "source": [
    "Приведем строки к целым числам и проверим тип данных:"
   ]
  },
  {
   "cell_type": "code",
   "execution_count": 9,
   "metadata": {},
   "outputs": [
    {
     "data": {
      "text/plain": [
       "dtype('int64')"
      ]
     },
     "execution_count": 9,
     "metadata": {},
     "output_type": "execute_result"
    }
   ],
   "source": [
    "df['puNumber'] = pd.to_numeric(df['puNumber'])\n",
    "df['puNumber'].dtype"
   ]
  },
  {
   "cell_type": "markdown",
   "metadata": {},
   "source": [
    "Тип данных в столбце `puNumber`, по которому мы будем производить объединение датасетов, совпадает. "
   ]
  },
  {
   "cell_type": "markdown",
   "metadata": {},
   "source": [
    "Выведем размер таблицы до объединения, чтобы после объединения можно было сравнить размеры датафрейма:"
   ]
  },
  {
   "cell_type": "code",
   "execution_count": 10,
   "metadata": {},
   "outputs": [
    {
     "data": {
      "text/plain": [
       "(7486, 15)"
      ]
     },
     "execution_count": 10,
     "metadata": {},
     "output_type": "execute_result"
    }
   ],
   "source": [
    "df.shape"
   ]
  },
  {
   "cell_type": "markdown",
   "metadata": {},
   "source": [
    "В таблице `df` до объединения 7486 строк и 15 столбцов.\n",
    "\n",
    "Объединим нужные нам датасеты в один датафрейм, после чего удалим датасет `df_shows`, так как он нам больше не нужен: "
   ]
  },
  {
   "cell_type": "code",
   "execution_count": 11,
   "metadata": {},
   "outputs": [],
   "source": [
    "df = df.merge(df_shows, how='left')\n",
    "del df_shows"
   ]
  },
  {
   "cell_type": "markdown",
   "metadata": {},
   "source": [
    "Проверим, что объединение прошло успешно:"
   ]
  },
  {
   "cell_type": "code",
   "execution_count": 12,
   "metadata": {},
   "outputs": [
    {
     "data": {
      "text/plain": [
       "(7486, 16)"
      ]
     },
     "metadata": {},
     "output_type": "display_data"
    },
    {
     "data": {
      "text/html": [
       "<div>\n",
       "<style scoped>\n",
       "    .dataframe tbody tr th:only-of-type {\n",
       "        vertical-align: middle;\n",
       "    }\n",
       "\n",
       "    .dataframe tbody tr th {\n",
       "        vertical-align: top;\n",
       "    }\n",
       "\n",
       "    .dataframe thead th {\n",
       "        text-align: right;\n",
       "    }\n",
       "</style>\n",
       "<table border=\"1\" class=\"dataframe\">\n",
       "  <thead>\n",
       "    <tr style=\"text-align: right;\">\n",
       "      <th></th>\n",
       "      <th>title</th>\n",
       "      <th>puNumber</th>\n",
       "      <th>show_start_date</th>\n",
       "      <th>type</th>\n",
       "      <th>film_studio</th>\n",
       "      <th>production_country</th>\n",
       "      <th>director</th>\n",
       "      <th>producer</th>\n",
       "      <th>age_restriction</th>\n",
       "      <th>refundable_support</th>\n",
       "      <th>nonrefundable_support</th>\n",
       "      <th>budget</th>\n",
       "      <th>financing_source</th>\n",
       "      <th>ratings</th>\n",
       "      <th>genres</th>\n",
       "      <th>box_office</th>\n",
       "    </tr>\n",
       "  </thead>\n",
       "  <tbody>\n",
       "    <tr>\n",
       "      <th>0</th>\n",
       "      <td>Открытый простор</td>\n",
       "      <td>221048915</td>\n",
       "      <td>2015-11-27T12:00:00.000Z</td>\n",
       "      <td>Художественный</td>\n",
       "      <td>Тачстоун Пикчерз, Кобальт Пикчерз, Бикон Пикчерз, Тиг Продакшнз</td>\n",
       "      <td>США</td>\n",
       "      <td>Кевин Костнер</td>\n",
       "      <td>Дэвид Валдес, Кевин Костнер, Джейк Эбертс</td>\n",
       "      <td>«18+» - запрещено для детей</td>\n",
       "      <td>NaN</td>\n",
       "      <td>NaN</td>\n",
       "      <td>NaN</td>\n",
       "      <td>NaN</td>\n",
       "      <td>7.2</td>\n",
       "      <td>боевик,драма,мелодрама</td>\n",
       "      <td>NaN</td>\n",
       "    </tr>\n",
       "  </tbody>\n",
       "</table>\n",
       "</div>"
      ],
      "text/plain": [
       "              title   puNumber           show_start_date            type  \\\n",
       "0  Открытый простор  221048915  2015-11-27T12:00:00.000Z  Художественный   \n",
       "\n",
       "                                                       film_studio  \\\n",
       "0  Тачстоун Пикчерз, Кобальт Пикчерз, Бикон Пикчерз, Тиг Продакшнз   \n",
       "\n",
       "  production_country       director  \\\n",
       "0                США  Кевин Костнер   \n",
       "\n",
       "                                    producer              age_restriction  \\\n",
       "0  Дэвид Валдес, Кевин Костнер, Джейк Эбертс  «18+» - запрещено для детей   \n",
       "\n",
       "   refundable_support  nonrefundable_support  budget financing_source ratings  \\\n",
       "0                 NaN                    NaN     NaN              NaN     7.2   \n",
       "\n",
       "                   genres  box_office  \n",
       "0  боевик,драма,мелодрама         NaN  "
      ]
     },
     "metadata": {},
     "output_type": "display_data"
    }
   ],
   "source": [
    "display(df.shape)\n",
    "display(df.head(1))"
   ]
  },
  {
   "cell_type": "markdown",
   "metadata": {},
   "source": [
    "Объединение прошло успешно! В таблицу `df` добавился новый столбец `box_office`."
   ]
  },
  {
   "cell_type": "markdown",
   "metadata": {
    "id": "KLDGpPG0gFyM"
   },
   "source": [
    "## Предобработка данных"
   ]
  },
  {
   "cell_type": "markdown",
   "metadata": {
    "id": "ssWwKXsxgFyO"
   },
   "source": [
    "### Проверим типы данных"
   ]
  },
  {
   "cell_type": "markdown",
   "metadata": {},
   "source": [
    "#### `show_start_date` — дата премьеры фильма;"
   ]
  },
  {
   "cell_type": "markdown",
   "metadata": {},
   "source": [
    "Дата премьеры фильма хранится в строке вида `2012-08-24T12:00:00.000Z`. Приведем значение столбца к формату даты."
   ]
  },
  {
   "cell_type": "code",
   "execution_count": 13,
   "metadata": {},
   "outputs": [
    {
     "data": {
      "text/plain": [
       "0    2015-11-27\n",
       "1    2016-09-13\n",
       "2    2016-10-10\n",
       "3    2016-06-10\n",
       "4    2015-07-29\n",
       "Name: show_start_date, dtype: object"
      ]
     },
     "execution_count": 13,
     "metadata": {},
     "output_type": "execute_result"
    }
   ],
   "source": [
    "df['show_start_date'] = pd.to_datetime(df['show_start_date']).dt.date # преобразуем строки в даты и отбросим время\n",
    "df['show_start_date'].head()"
   ]
  },
  {
   "cell_type": "markdown",
   "metadata": {},
   "source": [
    "#### `ratings` — рейтинг фильма на КиноПоиске;"
   ]
  },
  {
   "cell_type": "code",
   "execution_count": 14,
   "metadata": {},
   "outputs": [
    {
     "data": {
      "text/plain": [
       "array(['7.2', '6.6', '6.8', '7.7', '8.3', '8.0', '7.8', '8.1', '7.1',\n",
       "       '6.0', '7.4', '5.8', '8.7', '6.3', '6.9', '5.0', '4.3', '7.3',\n",
       "       '7.0', '6.4', nan, '8.2', '7.5', '6.7', '7.9', '5.9', '6.2', '5.6',\n",
       "       '6.5', '2.4', '7.6', '6.1', '8.6', '8.5', '8.8', '5.5', '5.1',\n",
       "       '5.7', '5.4', '99%', '4.4', '4.5', '5.3', '4.1', '8.4', '2.6',\n",
       "       '3.8', '4.6', '4.8', '4.0', '3.0', '1.6', '4.2', '5.2', '4.7',\n",
       "       '4.9', '3.9', '2.7', '3.3', '2.9', '28%', '3.7', '1.4', '3.1',\n",
       "       '97%', '3.5', '3.2', '2.8', '1.5', '2.1', '2.5', '9.2', '3.4',\n",
       "       '1.1', '3.6', '83%', '64%', '91%', '94%', '62%', '79%', '90%',\n",
       "       '19%', '88%', '1.0', '89%', '1.3', '1.9', '1.8', '1.2', '1.7',\n",
       "       '9.0', '98%', '8.9', '9.1'], dtype=object)"
      ]
     },
     "execution_count": 14,
     "metadata": {},
     "output_type": "execute_result"
    }
   ],
   "source": [
    "df['ratings'].unique()"
   ]
  },
  {
   "cell_type": "markdown",
   "metadata": {},
   "source": [
    "Данные хранятся в строковом формате, хотя фактически являются цифрами. Также часть данных имеют проценты, при этом рейтинги фильмов на КиноПоиске обычно исчисляются в 10-бальной шкале. \n",
    "\n",
    "Уберем знак `%`, изменим тип данных на числовое значение и в числах, где ранее присутсвовал знак `%`, поставим точку. Например, если в строке содержится значение `83%`, на самом деле фильм имеет рейтинг `8.3`. Далее приведем все данные к числам."
   ]
  },
  {
   "cell_type": "code",
   "execution_count": 15,
   "metadata": {},
   "outputs": [],
   "source": [
    "df['ratings'] = df['ratings'].str.replace('%', '')"
   ]
  },
  {
   "cell_type": "code",
   "execution_count": 16,
   "metadata": {},
   "outputs": [],
   "source": [
    "df['ratings'] = df['ratings'].astype('float')"
   ]
  },
  {
   "cell_type": "code",
   "execution_count": 17,
   "metadata": {},
   "outputs": [],
   "source": [
    "df.loc[df['ratings'] >= 10, 'ratings'] = df['ratings'] / 10"
   ]
  },
  {
   "cell_type": "code",
   "execution_count": 18,
   "metadata": {},
   "outputs": [
    {
     "data": {
      "text/plain": [
       "array([7.2, 6.6, 6.8, 7.7, 8.3, 8. , 7.8, 8.1, 7.1, 6. , 7.4, 5.8, 8.7,\n",
       "       6.3, 6.9, 5. , 4.3, 7.3, 7. , 6.4, nan, 8.2, 7.5, 6.7, 7.9, 5.9,\n",
       "       6.2, 5.6, 6.5, 2.4, 7.6, 6.1, 8.6, 8.5, 8.8, 5.5, 5.1, 5.7, 5.4,\n",
       "       9.9, 4.4, 4.5, 5.3, 4.1, 8.4, 2.6, 3.8, 4.6, 4.8, 4. , 3. , 1.6,\n",
       "       4.2, 5.2, 4.7, 4.9, 3.9, 2.7, 3.3, 2.9, 2.8, 3.7, 1.4, 3.1, 9.7,\n",
       "       3.5, 3.2, 1.5, 2.1, 2.5, 9.2, 3.4, 1.1, 3.6, 9.1, 9.4, 9. , 1.9,\n",
       "       1. , 8.9, 1.3, 1.8, 1.2, 1.7, 9.8])"
      ]
     },
     "execution_count": 18,
     "metadata": {},
     "output_type": "execute_result"
    }
   ],
   "source": [
    "# проверим результат\n",
    "df['ratings'].unique()"
   ]
  },
  {
   "cell_type": "markdown",
   "metadata": {
    "id": "i0MOLbF-gFyP"
   },
   "source": [
    "### Изучите пропуски в датафрейме"
   ]
  },
  {
   "cell_type": "markdown",
   "metadata": {},
   "source": [
    "Посмотрим на количество пропущенных значений: "
   ]
  },
  {
   "cell_type": "code",
   "execution_count": 19,
   "metadata": {
    "id": "8MJD_lkngFyP"
   },
   "outputs": [
    {
     "data": {
      "text/plain": [
       "title                       0\n",
       "puNumber                    0\n",
       "show_start_date             0\n",
       "type                        0\n",
       "film_studio                18\n",
       "production_country          2\n",
       "director                    9\n",
       "producer                  568\n",
       "age_restriction             0\n",
       "refundable_support       7154\n",
       "nonrefundable_support    7154\n",
       "budget                   7154\n",
       "financing_source         7154\n",
       "ratings                   967\n",
       "genres                    976\n",
       "box_office               4328\n",
       "dtype: int64"
      ]
     },
     "execution_count": 19,
     "metadata": {},
     "output_type": "execute_result"
    }
   ],
   "source": [
    "df.isna().sum()"
   ]
  },
  {
   "cell_type": "markdown",
   "metadata": {},
   "source": [
    "Изучим процентное соотношение пропущенных значений относительно общего количества данных:"
   ]
  },
  {
   "cell_type": "code",
   "execution_count": 20,
   "metadata": {},
   "outputs": [
    {
     "data": {
      "text/plain": [
       "title                   0.00\n",
       "puNumber                0.00\n",
       "show_start_date         0.00\n",
       "type                    0.00\n",
       "film_studio             0.00\n",
       "production_country      0.00\n",
       "director                0.00\n",
       "producer                0.08\n",
       "age_restriction         0.00\n",
       "refundable_support      0.96\n",
       "nonrefundable_support   0.96\n",
       "budget                  0.96\n",
       "financing_source        0.96\n",
       "ratings                 0.13\n",
       "genres                  0.13\n",
       "box_office              0.58\n",
       "dtype: float64"
      ]
     },
     "execution_count": 20,
     "metadata": {},
     "output_type": "execute_result"
    }
   ],
   "source": [
    "ratio_skip = (df.isna().sum() / len(df)).round(3)\n",
    "ratio_skip"
   ]
  },
  {
   "cell_type": "markdown",
   "metadata": {},
   "source": [
    "#### `film_studio` — студия-производитель;"
   ]
  },
  {
   "cell_type": "markdown",
   "metadata": {},
   "source": [
    "Отсутствует меньше 1 процентра данных. Посмотрим на данные поближе:"
   ]
  },
  {
   "cell_type": "code",
   "execution_count": 21,
   "metadata": {},
   "outputs": [
    {
     "data": {
      "text/html": [
       "<div>\n",
       "<style scoped>\n",
       "    .dataframe tbody tr th:only-of-type {\n",
       "        vertical-align: middle;\n",
       "    }\n",
       "\n",
       "    .dataframe tbody tr th {\n",
       "        vertical-align: top;\n",
       "    }\n",
       "\n",
       "    .dataframe thead th {\n",
       "        text-align: right;\n",
       "    }\n",
       "</style>\n",
       "<table border=\"1\" class=\"dataframe\">\n",
       "  <thead>\n",
       "    <tr style=\"text-align: right;\">\n",
       "      <th></th>\n",
       "      <th>title</th>\n",
       "      <th>puNumber</th>\n",
       "      <th>show_start_date</th>\n",
       "      <th>type</th>\n",
       "      <th>film_studio</th>\n",
       "      <th>production_country</th>\n",
       "      <th>director</th>\n",
       "      <th>producer</th>\n",
       "      <th>age_restriction</th>\n",
       "      <th>refundable_support</th>\n",
       "      <th>nonrefundable_support</th>\n",
       "      <th>budget</th>\n",
       "      <th>financing_source</th>\n",
       "      <th>ratings</th>\n",
       "      <th>genres</th>\n",
       "      <th>box_office</th>\n",
       "    </tr>\n",
       "  </thead>\n",
       "  <tbody>\n",
       "    <tr>\n",
       "      <th>1293</th>\n",
       "      <td>Stars in Shorts</td>\n",
       "      <td>121011114</td>\n",
       "      <td>2014-06-03</td>\n",
       "      <td>Художественный</td>\n",
       "      <td>NaN</td>\n",
       "      <td>США, Великобритания</td>\n",
       "      <td>Роберт Фестингер, Руперт Френд, Джей Камен, Нил Лабут, Бенжамин Грейсон, Крис Фоггин</td>\n",
       "      <td>Татьяна Келли, Роберта Мунро, Руперт Френд, Дон Бриджетвотер, Тим Хармс, Бенжамин Грейсон, Крис Кроучер</td>\n",
       "      <td>«16+» - для детей старше 16 лет</td>\n",
       "      <td>NaN</td>\n",
       "      <td>NaN</td>\n",
       "      <td>NaN</td>\n",
       "      <td>NaN</td>\n",
       "      <td>7.30</td>\n",
       "      <td>комедия</td>\n",
       "      <td>NaN</td>\n",
       "    </tr>\n",
       "    <tr>\n",
       "      <th>4441</th>\n",
       "      <td>Мульт личности. Выпуск 5</td>\n",
       "      <td>214000410</td>\n",
       "      <td>2010-01-25</td>\n",
       "      <td>Художественный</td>\n",
       "      <td>NaN</td>\n",
       "      <td>NaN</td>\n",
       "      <td>NaN</td>\n",
       "      <td>NaN</td>\n",
       "      <td>«0+» - для любой зрительской аудитории</td>\n",
       "      <td>NaN</td>\n",
       "      <td>NaN</td>\n",
       "      <td>NaN</td>\n",
       "      <td>NaN</td>\n",
       "      <td>4.00</td>\n",
       "      <td>мультфильм,комедия</td>\n",
       "      <td>NaN</td>\n",
       "    </tr>\n",
       "    <tr>\n",
       "      <th>6105</th>\n",
       "      <td>Значит любит</td>\n",
       "      <td>111013818</td>\n",
       "      <td>2018-08-10</td>\n",
       "      <td>Художественный</td>\n",
       "      <td>NaN</td>\n",
       "      <td>Россия</td>\n",
       "      <td>А.Краевский</td>\n",
       "      <td>Е.Щербакова</td>\n",
       "      <td>«18+» - запрещено для детей</td>\n",
       "      <td>NaN</td>\n",
       "      <td>NaN</td>\n",
       "      <td>NaN</td>\n",
       "      <td>NaN</td>\n",
       "      <td>NaN</td>\n",
       "      <td>NaN</td>\n",
       "      <td>NaN</td>\n",
       "    </tr>\n",
       "    <tr>\n",
       "      <th>6181</th>\n",
       "      <td>Несейка. Младшая дочь</td>\n",
       "      <td>112007018</td>\n",
       "      <td>2018-09-01</td>\n",
       "      <td>Документальный</td>\n",
       "      <td>NaN</td>\n",
       "      <td>Россия</td>\n",
       "      <td>В.Марин</td>\n",
       "      <td>Д.Якунин, Ф.Абрютин, О.Филонова</td>\n",
       "      <td>«6+» - для детей старше 6 лет</td>\n",
       "      <td>NaN</td>\n",
       "      <td>NaN</td>\n",
       "      <td>NaN</td>\n",
       "      <td>NaN</td>\n",
       "      <td>NaN</td>\n",
       "      <td>NaN</td>\n",
       "      <td>NaN</td>\n",
       "    </tr>\n",
       "    <tr>\n",
       "      <th>6379</th>\n",
       "      <td>Ян Антонышев</td>\n",
       "      <td>112011818</td>\n",
       "      <td>2018-11-15</td>\n",
       "      <td>Документальный</td>\n",
       "      <td>NaN</td>\n",
       "      <td>Россия</td>\n",
       "      <td>Е.Окопная</td>\n",
       "      <td>Е.Герасимов</td>\n",
       "      <td>«12+» - для детей старше 12 лет</td>\n",
       "      <td>NaN</td>\n",
       "      <td>NaN</td>\n",
       "      <td>NaN</td>\n",
       "      <td>NaN</td>\n",
       "      <td>NaN</td>\n",
       "      <td>NaN</td>\n",
       "      <td>NaN</td>\n",
       "    </tr>\n",
       "  </tbody>\n",
       "</table>\n",
       "</div>"
      ],
      "text/plain": [
       "                         title   puNumber show_start_date             type  \\\n",
       "1293           Stars in Shorts  121011114      2014-06-03   Художественный   \n",
       "4441  Мульт личности. Выпуск 5  214000410      2010-01-25   Художественный   \n",
       "6105              Значит любит  111013818      2018-08-10   Художественный   \n",
       "6181     Несейка. Младшая дочь  112007018      2018-09-01   Документальный   \n",
       "6379              Ян Антонышев  112011818      2018-11-15   Документальный   \n",
       "\n",
       "     film_studio   production_country  \\\n",
       "1293         NaN  США, Великобритания   \n",
       "4441         NaN                  NaN   \n",
       "6105         NaN               Россия   \n",
       "6181         NaN               Россия   \n",
       "6379         NaN               Россия   \n",
       "\n",
       "                                                                                  director  \\\n",
       "1293  Роберт Фестингер, Руперт Френд, Джей Камен, Нил Лабут, Бенжамин Грейсон, Крис Фоггин   \n",
       "4441                                                                                   NaN   \n",
       "6105                                                                           А.Краевский   \n",
       "6181                                                                               В.Марин   \n",
       "6379                                                                             Е.Окопная   \n",
       "\n",
       "                                                                                                     producer  \\\n",
       "1293  Татьяна Келли, Роберта Мунро, Руперт Френд, Дон Бриджетвотер, Тим Хармс, Бенжамин Грейсон, Крис Кроучер   \n",
       "4441                                                                                                      NaN   \n",
       "6105                                                                                              Е.Щербакова   \n",
       "6181                                                                          Д.Якунин, Ф.Абрютин, О.Филонова   \n",
       "6379                                                                                              Е.Герасимов   \n",
       "\n",
       "                             age_restriction  refundable_support  \\\n",
       "1293         «16+» - для детей старше 16 лет                 NaN   \n",
       "4441  «0+» - для любой зрительской аудитории                 NaN   \n",
       "6105             «18+» - запрещено для детей                 NaN   \n",
       "6181           «6+» - для детей старше 6 лет                 NaN   \n",
       "6379         «12+» - для детей старше 12 лет                 NaN   \n",
       "\n",
       "      nonrefundable_support  budget financing_source  ratings  \\\n",
       "1293                    NaN     NaN              NaN     7.30   \n",
       "4441                    NaN     NaN              NaN     4.00   \n",
       "6105                    NaN     NaN              NaN      NaN   \n",
       "6181                    NaN     NaN              NaN      NaN   \n",
       "6379                    NaN     NaN              NaN      NaN   \n",
       "\n",
       "                  genres  box_office  \n",
       "1293             комедия         NaN  \n",
       "4441  мультфильм,комедия         NaN  \n",
       "6105                 NaN         NaN  \n",
       "6181                 NaN         NaN  \n",
       "6379                 NaN         NaN  "
      ]
     },
     "execution_count": 21,
     "metadata": {},
     "output_type": "execute_result"
    }
   ],
   "source": [
    "df.loc[df['film_studio'].isna()].head(5)"
   ]
  },
  {
   "cell_type": "markdown",
   "metadata": {},
   "source": [
    "В данных строчках присутствует информация о фильмах. Следовательно, пропуски могли возникнуть впринципе из-за отсуствия студий. Заполним эти данные фразой \"Без студии\":"
   ]
  },
  {
   "cell_type": "code",
   "execution_count": 22,
   "metadata": {},
   "outputs": [],
   "source": [
    "df['film_studio'] = df['film_studio'].fillna(value='Без студии')"
   ]
  },
  {
   "cell_type": "markdown",
   "metadata": {},
   "source": [
    "#### `production_country` — страна-производитель;"
   ]
  },
  {
   "cell_type": "markdown",
   "metadata": {},
   "source": [
    "Присуствуют пропуски всего в 2 строках. Посмотрим на них внимательнее: "
   ]
  },
  {
   "cell_type": "code",
   "execution_count": 23,
   "metadata": {},
   "outputs": [
    {
     "data": {
      "text/html": [
       "<div>\n",
       "<style scoped>\n",
       "    .dataframe tbody tr th:only-of-type {\n",
       "        vertical-align: middle;\n",
       "    }\n",
       "\n",
       "    .dataframe tbody tr th {\n",
       "        vertical-align: top;\n",
       "    }\n",
       "\n",
       "    .dataframe thead th {\n",
       "        text-align: right;\n",
       "    }\n",
       "</style>\n",
       "<table border=\"1\" class=\"dataframe\">\n",
       "  <thead>\n",
       "    <tr style=\"text-align: right;\">\n",
       "      <th></th>\n",
       "      <th>title</th>\n",
       "      <th>puNumber</th>\n",
       "      <th>show_start_date</th>\n",
       "      <th>type</th>\n",
       "      <th>film_studio</th>\n",
       "      <th>production_country</th>\n",
       "      <th>director</th>\n",
       "      <th>producer</th>\n",
       "      <th>age_restriction</th>\n",
       "      <th>refundable_support</th>\n",
       "      <th>nonrefundable_support</th>\n",
       "      <th>budget</th>\n",
       "      <th>financing_source</th>\n",
       "      <th>ratings</th>\n",
       "      <th>genres</th>\n",
       "      <th>box_office</th>\n",
       "    </tr>\n",
       "  </thead>\n",
       "  <tbody>\n",
       "    <tr>\n",
       "      <th>3186</th>\n",
       "      <td>Детский юмористический киножурнал \"Ералаш. Ну просто фантазтика!\"</td>\n",
       "      <td>111001216</td>\n",
       "      <td>2016-02-09</td>\n",
       "      <td>Художественный</td>\n",
       "      <td>ООО \"Продюсерский центр ЕРАЛАШ\"</td>\n",
       "      <td>NaN</td>\n",
       "      <td>Р.Светлов, И.Магитон, А.Арутюнян, Л.Мирский, А.Зеленков, М.Сулейманова и др.</td>\n",
       "      <td>ООО \"Продюсерский центр ЕРАЛАШ\"</td>\n",
       "      <td>«0+» - для любой зрительской аудитории</td>\n",
       "      <td>NaN</td>\n",
       "      <td>NaN</td>\n",
       "      <td>NaN</td>\n",
       "      <td>NaN</td>\n",
       "      <td>7.20</td>\n",
       "      <td>детский,комедия</td>\n",
       "      <td>194,527.00</td>\n",
       "    </tr>\n",
       "    <tr>\n",
       "      <th>4441</th>\n",
       "      <td>Мульт личности. Выпуск 5</td>\n",
       "      <td>214000410</td>\n",
       "      <td>2010-01-25</td>\n",
       "      <td>Художественный</td>\n",
       "      <td>Без студии</td>\n",
       "      <td>NaN</td>\n",
       "      <td>NaN</td>\n",
       "      <td>NaN</td>\n",
       "      <td>«0+» - для любой зрительской аудитории</td>\n",
       "      <td>NaN</td>\n",
       "      <td>NaN</td>\n",
       "      <td>NaN</td>\n",
       "      <td>NaN</td>\n",
       "      <td>4.00</td>\n",
       "      <td>мультфильм,комедия</td>\n",
       "      <td>NaN</td>\n",
       "    </tr>\n",
       "  </tbody>\n",
       "</table>\n",
       "</div>"
      ],
      "text/plain": [
       "                                                                  title  \\\n",
       "3186  Детский юмористический киножурнал \"Ералаш. Ну просто фантазтика!\"   \n",
       "4441                                           Мульт личности. Выпуск 5   \n",
       "\n",
       "       puNumber show_start_date            type  \\\n",
       "3186  111001216      2016-02-09  Художественный   \n",
       "4441  214000410      2010-01-25  Художественный   \n",
       "\n",
       "                          film_studio production_country  \\\n",
       "3186  ООО \"Продюсерский центр ЕРАЛАШ\"                NaN   \n",
       "4441                       Без студии                NaN   \n",
       "\n",
       "                                                                           director  \\\n",
       "3186  Р.Светлов, И.Магитон, А.Арутюнян, Л.Мирский, А.Зеленков, М.Сулейманова и др.    \n",
       "4441                                                                            NaN   \n",
       "\n",
       "                             producer                         age_restriction  \\\n",
       "3186  ООО \"Продюсерский центр ЕРАЛАШ\"  «0+» - для любой зрительской аудитории   \n",
       "4441                              NaN  «0+» - для любой зрительской аудитории   \n",
       "\n",
       "      refundable_support  nonrefundable_support  budget financing_source  \\\n",
       "3186                 NaN                    NaN     NaN              NaN   \n",
       "4441                 NaN                    NaN     NaN              NaN   \n",
       "\n",
       "      ratings              genres  box_office  \n",
       "3186     7.20     детский,комедия  194,527.00  \n",
       "4441     4.00  мультфильм,комедия         NaN  "
      ]
     },
     "execution_count": 23,
     "metadata": {},
     "output_type": "execute_result"
    }
   ],
   "source": [
    "df.loc[df['production_country'].isna()]"
   ]
  },
  {
   "cell_type": "markdown",
   "metadata": {},
   "source": [
    "Иная информация в данных строках по фильмам указана. Заполним пропуски значением \"Без страны\":"
   ]
  },
  {
   "cell_type": "code",
   "execution_count": 24,
   "metadata": {},
   "outputs": [],
   "source": [
    "df['production_country'] = df['production_country'].fillna(value='Без страны')"
   ]
  },
  {
   "cell_type": "markdown",
   "metadata": {},
   "source": [
    "#### `director` — режиссёр и `producer` — продюсер;"
   ]
  },
  {
   "cell_type": "markdown",
   "metadata": {},
   "source": [
    "В столбце director отсутствует меньше 1% данных, а в столбце producer отсутствует 7% данных. Предположим, что если значение указано только в одном столбце, то этот человек исполнял роль режисера и продюсера одновременно. Если данных нет в обоих ячейках, заполним пропуски значением NaN."
   ]
  },
  {
   "cell_type": "code",
   "execution_count": 25,
   "metadata": {},
   "outputs": [],
   "source": [
    "df['director'] = df['director'].fillna(value=df['producer'])\n",
    "df['producer'] = df['producer'].fillna(value=df['director'])\n",
    "df['director'] = df['director'].fillna(value='NaN')\n",
    "df['producer'] = df['producer'].fillna(value='NaN')"
   ]
  },
  {
   "cell_type": "markdown",
   "metadata": {},
   "source": [
    "#### refundable_support, nonrefundable_support, budget"
   ]
  },
  {
   "cell_type": "markdown",
   "metadata": {},
   "source": [
    "Пропуски в столбцах `refundable_support`, `nonrefundable_support`, `budget` составляют 95% от общей массы данных. Если данные не указаны, вероятно это коммерческий проект. Заполним пропуски 0. "
   ]
  },
  {
   "cell_type": "code",
   "execution_count": 26,
   "metadata": {},
   "outputs": [],
   "source": [
    "df['refundable_support'] = df['refundable_support'].fillna(value=0)\n",
    "df['nonrefundable_support'] = df['nonrefundable_support'].fillna(value=0)\n",
    "df['budget'] = df['budget'].fillna(value=0)"
   ]
  },
  {
   "cell_type": "markdown",
   "metadata": {},
   "source": [
    "#### `financing_source` — источник государственного финансирования;"
   ]
  },
  {
   "cell_type": "markdown",
   "metadata": {},
   "source": [
    "Отсуствует 95% данных. В данном столбце указаны данные только в случае наличия источника государственного финансирования. \n",
    "Вероятно, что остальные фильмы являются частным коммерческим проектом. Если наше предположение верно, заполним пропуски значением \"Коммерческий\":"
   ]
  },
  {
   "cell_type": "code",
   "execution_count": 27,
   "metadata": {},
   "outputs": [
    {
     "data": {
      "text/html": [
       "<div>\n",
       "<style scoped>\n",
       "    .dataframe tbody tr th:only-of-type {\n",
       "        vertical-align: middle;\n",
       "    }\n",
       "\n",
       "    .dataframe tbody tr th {\n",
       "        vertical-align: top;\n",
       "    }\n",
       "\n",
       "    .dataframe thead th {\n",
       "        text-align: right;\n",
       "    }\n",
       "</style>\n",
       "<table border=\"1\" class=\"dataframe\">\n",
       "  <thead>\n",
       "    <tr style=\"text-align: right;\">\n",
       "      <th></th>\n",
       "      <th>title</th>\n",
       "      <th>puNumber</th>\n",
       "      <th>show_start_date</th>\n",
       "      <th>type</th>\n",
       "      <th>film_studio</th>\n",
       "      <th>production_country</th>\n",
       "      <th>director</th>\n",
       "      <th>producer</th>\n",
       "      <th>age_restriction</th>\n",
       "      <th>refundable_support</th>\n",
       "      <th>nonrefundable_support</th>\n",
       "      <th>budget</th>\n",
       "      <th>financing_source</th>\n",
       "      <th>ratings</th>\n",
       "      <th>genres</th>\n",
       "      <th>box_office</th>\n",
       "    </tr>\n",
       "  </thead>\n",
       "  <tbody>\n",
       "    <tr>\n",
       "      <th>0</th>\n",
       "      <td>Открытый простор</td>\n",
       "      <td>221048915</td>\n",
       "      <td>2015-11-27</td>\n",
       "      <td>Художественный</td>\n",
       "      <td>Тачстоун Пикчерз, Кобальт Пикчерз, Бикон Пикчерз, Тиг Продакшнз</td>\n",
       "      <td>США</td>\n",
       "      <td>Кевин Костнер</td>\n",
       "      <td>Дэвид Валдес, Кевин Костнер, Джейк Эбертс</td>\n",
       "      <td>«18+» - запрещено для детей</td>\n",
       "      <td>0.00</td>\n",
       "      <td>0.00</td>\n",
       "      <td>0.00</td>\n",
       "      <td>NaN</td>\n",
       "      <td>7.20</td>\n",
       "      <td>боевик,драма,мелодрама</td>\n",
       "      <td>NaN</td>\n",
       "    </tr>\n",
       "    <tr>\n",
       "      <th>1</th>\n",
       "      <td>Особо важное задание</td>\n",
       "      <td>111013716</td>\n",
       "      <td>2016-09-13</td>\n",
       "      <td>Художественный</td>\n",
       "      <td>Киностудия \"Мосфильм\"</td>\n",
       "      <td>СССР</td>\n",
       "      <td>Е.Матвеев</td>\n",
       "      <td>Е.Матвеев</td>\n",
       "      <td>«6+» - для детей старше 6 лет</td>\n",
       "      <td>0.00</td>\n",
       "      <td>0.00</td>\n",
       "      <td>0.00</td>\n",
       "      <td>NaN</td>\n",
       "      <td>6.60</td>\n",
       "      <td>драма,военный</td>\n",
       "      <td>NaN</td>\n",
       "    </tr>\n",
       "    <tr>\n",
       "      <th>2</th>\n",
       "      <td>Особо опасен</td>\n",
       "      <td>221038416</td>\n",
       "      <td>2016-10-10</td>\n",
       "      <td>Художественный</td>\n",
       "      <td>Юниверсал Пикчерз, Кикстарт Продакшнз, Марк Платт Продакшнз, Рилейтивити Медиа, Спайгласс Интертейнмент, Стилкин Филмз, Топ Кау Продакшнз</td>\n",
       "      <td>США</td>\n",
       "      <td>Тимур Бекмамбетов</td>\n",
       "      <td>Джим Лемли, Джейсон Нетер, Марк Е.Платт, Яйн Смит</td>\n",
       "      <td>«18+» - запрещено для детей</td>\n",
       "      <td>0.00</td>\n",
       "      <td>0.00</td>\n",
       "      <td>0.00</td>\n",
       "      <td>NaN</td>\n",
       "      <td>6.80</td>\n",
       "      <td>фантастика,боевик,триллер</td>\n",
       "      <td>NaN</td>\n",
       "    </tr>\n",
       "    <tr>\n",
       "      <th>3</th>\n",
       "      <td>Особо опасен</td>\n",
       "      <td>221026916</td>\n",
       "      <td>2016-06-10</td>\n",
       "      <td>Художественный</td>\n",
       "      <td>Юниверсал Пикчерз, Кикстарт Продакшнз, Марк Платт Продакшнз, Рилейтивити Медиа, Спайгласс Интертейнмент, Стилкин Филмз, Топ Кау Продакшнз</td>\n",
       "      <td>США</td>\n",
       "      <td>Тимур Бекмамбетов</td>\n",
       "      <td>Джим Лемли, Джейсон Нетер, Марк Е.Платт, Яйн Смит</td>\n",
       "      <td>«18+» - запрещено для детей</td>\n",
       "      <td>0.00</td>\n",
       "      <td>0.00</td>\n",
       "      <td>0.00</td>\n",
       "      <td>NaN</td>\n",
       "      <td>6.80</td>\n",
       "      <td>фантастика,боевик,триллер</td>\n",
       "      <td>NaN</td>\n",
       "    </tr>\n",
       "    <tr>\n",
       "      <th>4</th>\n",
       "      <td>Особо опасен</td>\n",
       "      <td>221030815</td>\n",
       "      <td>2015-07-29</td>\n",
       "      <td>Художественный</td>\n",
       "      <td>Юниверсал Пикчерз, Кикстарт Продакшнз, Марк Платт Продакшнз, Рилейтивити Медиа, Спайгласс Интертейнмент, Стилкин Филмз, Топ Кау Продакшнз</td>\n",
       "      <td>США</td>\n",
       "      <td>Тимур Бекмамбетов</td>\n",
       "      <td>Джим Лемли, Джейсон Нетер, Марк Е.Платт, Яйн Смит</td>\n",
       "      <td>«18+» - запрещено для детей</td>\n",
       "      <td>0.00</td>\n",
       "      <td>0.00</td>\n",
       "      <td>0.00</td>\n",
       "      <td>NaN</td>\n",
       "      <td>6.80</td>\n",
       "      <td>фантастика,боевик,триллер</td>\n",
       "      <td>NaN</td>\n",
       "    </tr>\n",
       "  </tbody>\n",
       "</table>\n",
       "</div>"
      ],
      "text/plain": [
       "                  title   puNumber show_start_date            type  \\\n",
       "0      Открытый простор  221048915      2015-11-27  Художественный   \n",
       "1  Особо важное задание  111013716      2016-09-13  Художественный   \n",
       "2          Особо опасен  221038416      2016-10-10  Художественный   \n",
       "3          Особо опасен  221026916      2016-06-10  Художественный   \n",
       "4          Особо опасен  221030815      2015-07-29  Художественный   \n",
       "\n",
       "                                                                                                                                 film_studio  \\\n",
       "0                                                                            Тачстоун Пикчерз, Кобальт Пикчерз, Бикон Пикчерз, Тиг Продакшнз   \n",
       "1                                                                                                                      Киностудия \"Мосфильм\"   \n",
       "2  Юниверсал Пикчерз, Кикстарт Продакшнз, Марк Платт Продакшнз, Рилейтивити Медиа, Спайгласс Интертейнмент, Стилкин Филмз, Топ Кау Продакшнз   \n",
       "3  Юниверсал Пикчерз, Кикстарт Продакшнз, Марк Платт Продакшнз, Рилейтивити Медиа, Спайгласс Интертейнмент, Стилкин Филмз, Топ Кау Продакшнз   \n",
       "4  Юниверсал Пикчерз, Кикстарт Продакшнз, Марк Платт Продакшнз, Рилейтивити Медиа, Спайгласс Интертейнмент, Стилкин Филмз, Топ Кау Продакшнз   \n",
       "\n",
       "  production_country           director  \\\n",
       "0                США      Кевин Костнер   \n",
       "1               СССР          Е.Матвеев   \n",
       "2                США  Тимур Бекмамбетов   \n",
       "3                США  Тимур Бекмамбетов   \n",
       "4                США  Тимур Бекмамбетов   \n",
       "\n",
       "                                            producer  \\\n",
       "0          Дэвид Валдес, Кевин Костнер, Джейк Эбертс   \n",
       "1                                          Е.Матвеев   \n",
       "2  Джим Лемли, Джейсон Нетер, Марк Е.Платт, Яйн Смит   \n",
       "3  Джим Лемли, Джейсон Нетер, Марк Е.Платт, Яйн Смит   \n",
       "4  Джим Лемли, Джейсон Нетер, Марк Е.Платт, Яйн Смит   \n",
       "\n",
       "                 age_restriction  refundable_support  nonrefundable_support  \\\n",
       "0    «18+» - запрещено для детей                0.00                   0.00   \n",
       "1  «6+» - для детей старше 6 лет                0.00                   0.00   \n",
       "2    «18+» - запрещено для детей                0.00                   0.00   \n",
       "3    «18+» - запрещено для детей                0.00                   0.00   \n",
       "4    «18+» - запрещено для детей                0.00                   0.00   \n",
       "\n",
       "   budget financing_source  ratings                     genres  box_office  \n",
       "0    0.00              NaN     7.20     боевик,драма,мелодрама         NaN  \n",
       "1    0.00              NaN     6.60              драма,военный         NaN  \n",
       "2    0.00              NaN     6.80  фантастика,боевик,триллер         NaN  \n",
       "3    0.00              NaN     6.80  фантастика,боевик,триллер         NaN  \n",
       "4    0.00              NaN     6.80  фантастика,боевик,триллер         NaN  "
      ]
     },
     "execution_count": 27,
     "metadata": {},
     "output_type": "execute_result"
    }
   ],
   "source": [
    "df.loc[df['financing_source'].isna()].head(5)"
   ]
  },
  {
   "cell_type": "code",
   "execution_count": 28,
   "metadata": {},
   "outputs": [],
   "source": [
    "df['financing_source'] = df['financing_source'].fillna(value='Коммерческий')"
   ]
  },
  {
   "cell_type": "markdown",
   "metadata": {},
   "source": [
    "#### `ratings` — рейтинг фильма на КиноПоиске;"
   ]
  },
  {
   "cell_type": "markdown",
   "metadata": {},
   "source": [
    "Отсутствует почти 13% данных. Заполнить эти пропуски мы сможем только значением NaN, так как значение рейтингов заполнить на основании имеющихся данных не получится."
   ]
  },
  {
   "cell_type": "code",
   "execution_count": 29,
   "metadata": {},
   "outputs": [],
   "source": [
    "df['ratings'] = df['ratings'].fillna(value='NaN')"
   ]
  },
  {
   "cell_type": "markdown",
   "metadata": {},
   "source": [
    "#### `genres` — жанр фильма."
   ]
  },
  {
   "cell_type": "markdown",
   "metadata": {},
   "source": [
    "Отсутствует 13% данных. Посмотрим на строки с пропусками внимательнее: "
   ]
  },
  {
   "cell_type": "code",
   "execution_count": 30,
   "metadata": {},
   "outputs": [
    {
     "data": {
      "text/html": [
       "<div>\n",
       "<style scoped>\n",
       "    .dataframe tbody tr th:only-of-type {\n",
       "        vertical-align: middle;\n",
       "    }\n",
       "\n",
       "    .dataframe tbody tr th {\n",
       "        vertical-align: top;\n",
       "    }\n",
       "\n",
       "    .dataframe thead th {\n",
       "        text-align: right;\n",
       "    }\n",
       "</style>\n",
       "<table border=\"1\" class=\"dataframe\">\n",
       "  <thead>\n",
       "    <tr style=\"text-align: right;\">\n",
       "      <th></th>\n",
       "      <th>title</th>\n",
       "      <th>puNumber</th>\n",
       "      <th>show_start_date</th>\n",
       "      <th>type</th>\n",
       "      <th>film_studio</th>\n",
       "      <th>production_country</th>\n",
       "      <th>director</th>\n",
       "      <th>producer</th>\n",
       "      <th>age_restriction</th>\n",
       "      <th>refundable_support</th>\n",
       "      <th>nonrefundable_support</th>\n",
       "      <th>budget</th>\n",
       "      <th>financing_source</th>\n",
       "      <th>ratings</th>\n",
       "      <th>genres</th>\n",
       "      <th>box_office</th>\n",
       "    </tr>\n",
       "  </thead>\n",
       "  <tbody>\n",
       "    <tr>\n",
       "      <th>43</th>\n",
       "      <td>Мемуары гейши (по роману Артура Голдена)</td>\n",
       "      <td>121000606</td>\n",
       "      <td>2012-12-14</td>\n",
       "      <td>Художественный</td>\n",
       "      <td>Коламбия Пикчерз Корпорейшн, ДримУоркс ЭсКейДжи, Спайгласс Интертейнмент, Эмблин Интертейнмент, Рэд Вэгон Продакшнс</td>\n",
       "      <td>США</td>\n",
       "      <td>Роб Маршалл</td>\n",
       "      <td>Стивен Спилберг, Люси Фишер, Дуглас Уик, Джон Де Люка, Гэри Барбер, Роджер Бирнбаум</td>\n",
       "      <td>«12+» - для детей старше 12 лет</td>\n",
       "      <td>0.00</td>\n",
       "      <td>0.00</td>\n",
       "      <td>0.00</td>\n",
       "      <td>Коммерческий</td>\n",
       "      <td>NaN</td>\n",
       "      <td>NaN</td>\n",
       "      <td>NaN</td>\n",
       "    </tr>\n",
       "    <tr>\n",
       "      <th>150</th>\n",
       "      <td>Жди меня</td>\n",
       "      <td>111013615</td>\n",
       "      <td>2015-08-25</td>\n",
       "      <td>Художественный</td>\n",
       "      <td>Киностудия \"Мосфильм\"</td>\n",
       "      <td>СССР</td>\n",
       "      <td>А.Столпер, Б.Иванов</td>\n",
       "      <td>А.Столпер, Б.Иванов</td>\n",
       "      <td>«6+» - для детей старше 6 лет</td>\n",
       "      <td>0.00</td>\n",
       "      <td>0.00</td>\n",
       "      <td>0.00</td>\n",
       "      <td>Коммерческий</td>\n",
       "      <td>NaN</td>\n",
       "      <td>NaN</td>\n",
       "      <td>NaN</td>\n",
       "    </tr>\n",
       "    <tr>\n",
       "      <th>154</th>\n",
       "      <td>Дом из песка и тумана (по книге Андре Дюбуи III)</td>\n",
       "      <td>221037813</td>\n",
       "      <td>2013-10-25</td>\n",
       "      <td>Художественный</td>\n",
       "      <td>Кобальт Пикчерз</td>\n",
       "      <td>США</td>\n",
       "      <td>Вадим Перельман</td>\n",
       "      <td>Майкл Лондон</td>\n",
       "      <td>«16+» - для детей старше 16 лет</td>\n",
       "      <td>0.00</td>\n",
       "      <td>0.00</td>\n",
       "      <td>0.00</td>\n",
       "      <td>Коммерческий</td>\n",
       "      <td>NaN</td>\n",
       "      <td>NaN</td>\n",
       "      <td>NaN</td>\n",
       "    </tr>\n",
       "    <tr>\n",
       "      <th>159</th>\n",
       "      <td>Жемчужная девушка</td>\n",
       "      <td>224011014</td>\n",
       "      <td>2014-08-28</td>\n",
       "      <td>Художественный</td>\n",
       "      <td>Чешское телевидение,Студия \"Три брата\" агентской фирмы \"К + К арт\"</td>\n",
       "      <td>Чехия</td>\n",
       "      <td>Владимир Дрга</td>\n",
       "      <td>Владимир Дрга</td>\n",
       "      <td>«0+» - для любой зрительской аудитории</td>\n",
       "      <td>0.00</td>\n",
       "      <td>0.00</td>\n",
       "      <td>0.00</td>\n",
       "      <td>Коммерческий</td>\n",
       "      <td>NaN</td>\n",
       "      <td>NaN</td>\n",
       "      <td>NaN</td>\n",
       "    </tr>\n",
       "    <tr>\n",
       "      <th>227</th>\n",
       "      <td>Полустанок</td>\n",
       "      <td>111026714</td>\n",
       "      <td>2014-12-24</td>\n",
       "      <td>Художественный</td>\n",
       "      <td>Киностудия \"Мосфильм\"</td>\n",
       "      <td>СССР</td>\n",
       "      <td>Б.Барнет</td>\n",
       "      <td>Б.Барнет</td>\n",
       "      <td>«12+» - для детей старше 12 лет</td>\n",
       "      <td>0.00</td>\n",
       "      <td>0.00</td>\n",
       "      <td>0.00</td>\n",
       "      <td>Коммерческий</td>\n",
       "      <td>NaN</td>\n",
       "      <td>NaN</td>\n",
       "      <td>NaN</td>\n",
       "    </tr>\n",
       "  </tbody>\n",
       "</table>\n",
       "</div>"
      ],
      "text/plain": [
       "                                                title   puNumber  \\\n",
       "43           Мемуары гейши (по роману Артура Голдена)  121000606   \n",
       "150                                          Жди меня  111013615   \n",
       "154  Дом из песка и тумана (по книге Андре Дюбуи III)  221037813   \n",
       "159                                 Жемчужная девушка  224011014   \n",
       "227                                        Полустанок  111026714   \n",
       "\n",
       "    show_start_date            type  \\\n",
       "43       2012-12-14  Художественный   \n",
       "150      2015-08-25  Художественный   \n",
       "154      2013-10-25  Художественный   \n",
       "159      2014-08-28  Художественный   \n",
       "227      2014-12-24  Художественный   \n",
       "\n",
       "                                                                                                             film_studio  \\\n",
       "43   Коламбия Пикчерз Корпорейшн, ДримУоркс ЭсКейДжи, Спайгласс Интертейнмент, Эмблин Интертейнмент, Рэд Вэгон Продакшнс   \n",
       "150                                                                                                Киностудия \"Мосфильм\"   \n",
       "154                                                                                                      Кобальт Пикчерз   \n",
       "159                                                   Чешское телевидение,Студия \"Три брата\" агентской фирмы \"К + К арт\"   \n",
       "227                                                                                                Киностудия \"Мосфильм\"   \n",
       "\n",
       "    production_country             director  \\\n",
       "43                 США          Роб Маршалл   \n",
       "150               СССР  А.Столпер, Б.Иванов   \n",
       "154                США      Вадим Перельман   \n",
       "159              Чехия        Владимир Дрга   \n",
       "227               СССР             Б.Барнет   \n",
       "\n",
       "                                                                                producer  \\\n",
       "43   Стивен Спилберг, Люси Фишер, Дуглас Уик, Джон Де Люка, Гэри Барбер, Роджер Бирнбаум   \n",
       "150                                                                  А.Столпер, Б.Иванов   \n",
       "154                                                                         Майкл Лондон   \n",
       "159                                                                        Владимир Дрга   \n",
       "227                                                                             Б.Барнет   \n",
       "\n",
       "                            age_restriction  refundable_support  \\\n",
       "43          «12+» - для детей старше 12 лет                0.00   \n",
       "150           «6+» - для детей старше 6 лет                0.00   \n",
       "154         «16+» - для детей старше 16 лет                0.00   \n",
       "159  «0+» - для любой зрительской аудитории                0.00   \n",
       "227         «12+» - для детей старше 12 лет                0.00   \n",
       "\n",
       "     nonrefundable_support  budget financing_source ratings genres  box_office  \n",
       "43                    0.00    0.00     Коммерческий     NaN    NaN         NaN  \n",
       "150                   0.00    0.00     Коммерческий     NaN    NaN         NaN  \n",
       "154                   0.00    0.00     Коммерческий     NaN    NaN         NaN  \n",
       "159                   0.00    0.00     Коммерческий     NaN    NaN         NaN  \n",
       "227                   0.00    0.00     Коммерческий     NaN    NaN         NaN  "
      ]
     },
     "execution_count": 30,
     "metadata": {},
     "output_type": "execute_result"
    }
   ],
   "source": [
    "df.loc[df['genres'].isna()].head(5)"
   ]
  },
  {
   "cell_type": "markdown",
   "metadata": {},
   "source": [
    "Заполним пропуски значением NaN:"
   ]
  },
  {
   "cell_type": "code",
   "execution_count": 31,
   "metadata": {},
   "outputs": [],
   "source": [
    "df['genres'] = df['genres'].fillna(value='NaN')"
   ]
  },
  {
   "cell_type": "markdown",
   "metadata": {},
   "source": [
    "#### `box office` — сборы в рублях."
   ]
  },
  {
   "cell_type": "markdown",
   "metadata": {},
   "source": [
    "Отсутствует 57% данных. Данные о сборах взять неоткуда, заполним пропуски значением 0."
   ]
  },
  {
   "cell_type": "code",
   "execution_count": 32,
   "metadata": {},
   "outputs": [],
   "source": [
    "df['box_office'] = df['box_office'].fillna(value=0)"
   ]
  },
  {
   "cell_type": "markdown",
   "metadata": {},
   "source": [
    "Еще раз проверим наличие пропусков в таблице:"
   ]
  },
  {
   "cell_type": "code",
   "execution_count": 33,
   "metadata": {},
   "outputs": [
    {
     "data": {
      "text/plain": [
       "title                    0\n",
       "puNumber                 0\n",
       "show_start_date          0\n",
       "type                     0\n",
       "film_studio              0\n",
       "production_country       0\n",
       "director                 0\n",
       "producer                 0\n",
       "age_restriction          0\n",
       "refundable_support       0\n",
       "nonrefundable_support    0\n",
       "budget                   0\n",
       "financing_source         0\n",
       "ratings                  0\n",
       "genres                   0\n",
       "box_office               0\n",
       "dtype: int64"
      ]
     },
     "execution_count": 33,
     "metadata": {},
     "output_type": "execute_result"
    }
   ],
   "source": [
    "df.isna().sum()"
   ]
  },
  {
   "cell_type": "markdown",
   "metadata": {
    "id": "4c6k1t9ygFyQ"
   },
   "source": [
    "### Изучим дубликаты в датафрейме"
   ]
  },
  {
   "cell_type": "markdown",
   "metadata": {},
   "source": [
    "Посчитаем идентичные строки в таблице:"
   ]
  },
  {
   "cell_type": "code",
   "execution_count": 34,
   "metadata": {
    "id": "aKck8RIdgFyQ"
   },
   "outputs": [
    {
     "data": {
      "text/plain": [
       "0"
      ]
     },
     "execution_count": 34,
     "metadata": {},
     "output_type": "execute_result"
    }
   ],
   "source": [
    "df.duplicated().sum()"
   ]
  },
  {
   "cell_type": "markdown",
   "metadata": {},
   "source": [
    "Полных совпадений не найдено. "
   ]
  },
  {
   "cell_type": "markdown",
   "metadata": {},
   "source": [
    "Посчитаем общее количество уникальных значений по каждому столбцу:"
   ]
  },
  {
   "cell_type": "code",
   "execution_count": 35,
   "metadata": {},
   "outputs": [
    {
     "data": {
      "text/plain": [
       "title                    6772\n",
       "puNumber                 7484\n",
       "show_start_date          1965\n",
       "type                        8\n",
       "film_studio              5491\n",
       "production_country        951\n",
       "director                 4817\n",
       "producer                 5714\n",
       "age_restriction             5\n",
       "refundable_support         34\n",
       "nonrefundable_support      75\n",
       "budget                    290\n",
       "financing_source            4\n",
       "ratings                    85\n",
       "genres                    743\n",
       "box_office               2938\n",
       "dtype: int64"
      ]
     },
     "execution_count": 35,
     "metadata": {},
     "output_type": "execute_result"
    }
   ],
   "source": [
    "df.nunique()"
   ]
  },
  {
   "cell_type": "markdown",
   "metadata": {},
   "source": [
    "Поищем фильмы, которые совпадают по полям названия, даты премьеры, типа, студии-производителя, страны-производителя и директора:"
   ]
  },
  {
   "cell_type": "code",
   "execution_count": 36,
   "metadata": {},
   "outputs": [
    {
     "data": {
      "text/html": [
       "<div>\n",
       "<style scoped>\n",
       "    .dataframe tbody tr th:only-of-type {\n",
       "        vertical-align: middle;\n",
       "    }\n",
       "\n",
       "    .dataframe tbody tr th {\n",
       "        vertical-align: top;\n",
       "    }\n",
       "\n",
       "    .dataframe thead th {\n",
       "        text-align: right;\n",
       "    }\n",
       "</style>\n",
       "<table border=\"1\" class=\"dataframe\">\n",
       "  <thead>\n",
       "    <tr style=\"text-align: right;\">\n",
       "      <th></th>\n",
       "      <th>title</th>\n",
       "      <th>puNumber</th>\n",
       "      <th>show_start_date</th>\n",
       "      <th>type</th>\n",
       "      <th>film_studio</th>\n",
       "      <th>production_country</th>\n",
       "      <th>director</th>\n",
       "      <th>producer</th>\n",
       "      <th>age_restriction</th>\n",
       "      <th>refundable_support</th>\n",
       "      <th>nonrefundable_support</th>\n",
       "      <th>budget</th>\n",
       "      <th>financing_source</th>\n",
       "      <th>ratings</th>\n",
       "      <th>genres</th>\n",
       "      <th>box_office</th>\n",
       "    </tr>\n",
       "  </thead>\n",
       "  <tbody>\n",
       "    <tr>\n",
       "      <th>1300</th>\n",
       "      <td>Эпидемия_</td>\n",
       "      <td>121025713</td>\n",
       "      <td>2013-10-07</td>\n",
       "      <td>Художественный</td>\n",
       "      <td>Морена Фильм, Ребелион Террестр, А 3 Медиа Групп, Ле Фильм дю Лендмен, Телевизио де Каталуниа</td>\n",
       "      <td>Испания - Франция</td>\n",
       "      <td>Алекс Пастор, Давид Пастор</td>\n",
       "      <td>Мерседес Гамеро, Альберто Марини, Педро Уриоль</td>\n",
       "      <td>«16+» - для детей старше 16 лет</td>\n",
       "      <td>0.00</td>\n",
       "      <td>0.00</td>\n",
       "      <td>0.00</td>\n",
       "      <td>Коммерческий</td>\n",
       "      <td>7.20</td>\n",
       "      <td>драма,фантастика,триллер</td>\n",
       "      <td>0.00</td>\n",
       "    </tr>\n",
       "    <tr>\n",
       "      <th>1301</th>\n",
       "      <td>Эпидемия_</td>\n",
       "      <td>221035513</td>\n",
       "      <td>2013-10-07</td>\n",
       "      <td>Художественный</td>\n",
       "      <td>Морена Фильм, Ребелион Террестр, А 3 Медиа Групп, Ле Фильм дю Лендмен, Телевизио де Каталуниа</td>\n",
       "      <td>Испания - Франция</td>\n",
       "      <td>Алекс Пастор, Давид Пастор</td>\n",
       "      <td>Мерседес Гамеро, Альберто Марини, Педро Уриоль</td>\n",
       "      <td>«16+» - для детей старше 16 лет</td>\n",
       "      <td>0.00</td>\n",
       "      <td>0.00</td>\n",
       "      <td>0.00</td>\n",
       "      <td>Коммерческий</td>\n",
       "      <td>7.20</td>\n",
       "      <td>драма,фантастика,триллер</td>\n",
       "      <td>0.00</td>\n",
       "    </tr>\n",
       "    <tr>\n",
       "      <th>1475</th>\n",
       "      <td>Оторвы</td>\n",
       "      <td>121006514</td>\n",
       "      <td>2014-04-07</td>\n",
       "      <td>Художественный</td>\n",
       "      <td>Проминент Пикчерз, Ворлдвью Интертейнмент, Индион Интертейнмент Групп, Роуд Хад  / Пут Эвэй Уэт Продакшнз</td>\n",
       "      <td>США</td>\n",
       "      <td>Кристофер Нельсон</td>\n",
       "      <td>Молли Коннерс, Хезер Рэй</td>\n",
       "      <td>«16+» - для детей старше 16 лет</td>\n",
       "      <td>0.00</td>\n",
       "      <td>0.00</td>\n",
       "      <td>0.00</td>\n",
       "      <td>Коммерческий</td>\n",
       "      <td>3.50</td>\n",
       "      <td>комедия,приключения</td>\n",
       "      <td>0.00</td>\n",
       "    </tr>\n",
       "    <tr>\n",
       "      <th>1476</th>\n",
       "      <td>Оторвы</td>\n",
       "      <td>221013214</td>\n",
       "      <td>2014-04-07</td>\n",
       "      <td>Художественный</td>\n",
       "      <td>Проминент Пикчерз, Ворлдвью Интертейнмент, Индион Интертейнмент Групп, Роуд Хад  / Пут Эвэй Уэт Продакшнз</td>\n",
       "      <td>США</td>\n",
       "      <td>Кристофер Нельсон</td>\n",
       "      <td>Молли Коннерс, Хезер Рэй</td>\n",
       "      <td>«16+» - для детей старше 16 лет</td>\n",
       "      <td>0.00</td>\n",
       "      <td>0.00</td>\n",
       "      <td>0.00</td>\n",
       "      <td>Коммерческий</td>\n",
       "      <td>3.50</td>\n",
       "      <td>комедия,приключения</td>\n",
       "      <td>0.00</td>\n",
       "    </tr>\n",
       "    <tr>\n",
       "      <th>2191</th>\n",
       "      <td>Последние пять лет.</td>\n",
       "      <td>221008115</td>\n",
       "      <td>2015-03-25</td>\n",
       "      <td>Художественный</td>\n",
       "      <td>Гранд Пикс Интертейнмент, Лаки Манки Пикчерз, Ш-К-Бум Рекордс</td>\n",
       "      <td>США</td>\n",
       "      <td>Ричард ЛаГравенес</td>\n",
       "      <td>Джанет Бреннер, Лорен Версель, Курт Дойтч, Ричард ЛаГравенес</td>\n",
       "      <td>«16+» - для детей старше 16 лет</td>\n",
       "      <td>0.00</td>\n",
       "      <td>0.00</td>\n",
       "      <td>0.00</td>\n",
       "      <td>Коммерческий</td>\n",
       "      <td>5.70</td>\n",
       "      <td>мюзикл,драма,мелодрама</td>\n",
       "      <td>0.00</td>\n",
       "    </tr>\n",
       "    <tr>\n",
       "      <th>2192</th>\n",
       "      <td>Последние пять лет.</td>\n",
       "      <td>121005715</td>\n",
       "      <td>2015-03-25</td>\n",
       "      <td>Художественный</td>\n",
       "      <td>Гранд Пикс Интертейнмент, Лаки Манки Пикчерз, Ш-К-Бум Рекордс</td>\n",
       "      <td>США</td>\n",
       "      <td>Ричард ЛаГравенес</td>\n",
       "      <td>Джанет Бреннер, Лорен Версель, Курт Дойтч, Ричард ЛаГравенес</td>\n",
       "      <td>«16+» - для детей старше 16 лет</td>\n",
       "      <td>0.00</td>\n",
       "      <td>0.00</td>\n",
       "      <td>0.00</td>\n",
       "      <td>Коммерческий</td>\n",
       "      <td>5.70</td>\n",
       "      <td>мюзикл,драма,мелодрама</td>\n",
       "      <td>52,495.00</td>\n",
       "    </tr>\n",
       "    <tr>\n",
       "      <th>2752</th>\n",
       "      <td>Пингвиненок Пороро: Большие гонки</td>\n",
       "      <td>224001915</td>\n",
       "      <td>2015-04-15</td>\n",
       "      <td>Анимационный</td>\n",
       "      <td>Окон Студиос, Чина Филм, Симка Интертейнмент, Би Ти Ви Каку Чилдренс Сателлит Ти Ви</td>\n",
       "      <td>Южная Корея - КНР</td>\n",
       "      <td>Юнг Куюн Парк</td>\n",
       "      <td>Иль Хо Ким, Михал Симка</td>\n",
       "      <td>«0+» - для любой зрительской аудитории</td>\n",
       "      <td>0.00</td>\n",
       "      <td>0.00</td>\n",
       "      <td>0.00</td>\n",
       "      <td>Коммерческий</td>\n",
       "      <td>5.20</td>\n",
       "      <td>мультфильм,семейный,спорт</td>\n",
       "      <td>1,360.00</td>\n",
       "    </tr>\n",
       "    <tr>\n",
       "      <th>2753</th>\n",
       "      <td>Пингвиненок Пороро: Большие гонки</td>\n",
       "      <td>124001915</td>\n",
       "      <td>2015-04-15</td>\n",
       "      <td>Анимационный</td>\n",
       "      <td>Окон Студиос, Чина Филм, Симка Интертейнмент, Би Ти Ви Каку Чилдренс Сателлит Ти Ви</td>\n",
       "      <td>Южная Корея - КНР</td>\n",
       "      <td>Юнг Куюн Парк</td>\n",
       "      <td>Иль Хо Ким, Михал Симка</td>\n",
       "      <td>«0+» - для любой зрительской аудитории</td>\n",
       "      <td>0.00</td>\n",
       "      <td>0.00</td>\n",
       "      <td>0.00</td>\n",
       "      <td>Коммерческий</td>\n",
       "      <td>5.20</td>\n",
       "      <td>мультфильм,семейный,спорт</td>\n",
       "      <td>14,152,495.90</td>\n",
       "    </tr>\n",
       "    <tr>\n",
       "      <th>3086</th>\n",
       "      <td>Анархисты</td>\n",
       "      <td>221003916</td>\n",
       "      <td>2016-02-03</td>\n",
       "      <td>Художественный</td>\n",
       "      <td>24 Май Продюксьон, Франс 2 Синема</td>\n",
       "      <td>Франция</td>\n",
       "      <td>Эли Важеман</td>\n",
       "      <td>Лола Гэнс</td>\n",
       "      <td>«16+» - для детей старше 16 лет</td>\n",
       "      <td>0.00</td>\n",
       "      <td>0.00</td>\n",
       "      <td>0.00</td>\n",
       "      <td>Коммерческий</td>\n",
       "      <td>5.70</td>\n",
       "      <td>драма</td>\n",
       "      <td>0.00</td>\n",
       "    </tr>\n",
       "    <tr>\n",
       "      <th>3087</th>\n",
       "      <td>Анархисты</td>\n",
       "      <td>121002316</td>\n",
       "      <td>2016-02-03</td>\n",
       "      <td>Художественный</td>\n",
       "      <td>24 Май Продюксьон, Франс 2 Синема</td>\n",
       "      <td>Франция</td>\n",
       "      <td>Эли Важеман</td>\n",
       "      <td>Лола Гэнс</td>\n",
       "      <td>«16+» - для детей старше 16 лет</td>\n",
       "      <td>0.00</td>\n",
       "      <td>0.00</td>\n",
       "      <td>0.00</td>\n",
       "      <td>Коммерческий</td>\n",
       "      <td>5.70</td>\n",
       "      <td>драма</td>\n",
       "      <td>332,371.00</td>\n",
       "    </tr>\n",
       "    <tr>\n",
       "      <th>4042</th>\n",
       "      <td>Бугай</td>\n",
       "      <td>224021210</td>\n",
       "      <td>2010-09-24</td>\n",
       "      <td>Анимационный</td>\n",
       "      <td>Иллюзион Студиос, Процесо</td>\n",
       "      <td>Мексика-Аргентина</td>\n",
       "      <td>Густаво Кова</td>\n",
       "      <td>Хуго Е. Лаура, Хосе Луис Масса</td>\n",
       "      <td>«16+» - для детей старше 16 лет</td>\n",
       "      <td>0.00</td>\n",
       "      <td>0.00</td>\n",
       "      <td>0.00</td>\n",
       "      <td>Коммерческий</td>\n",
       "      <td>6.60</td>\n",
       "      <td>мультфильм,боевик,триллер</td>\n",
       "      <td>0.00</td>\n",
       "    </tr>\n",
       "    <tr>\n",
       "      <th>4043</th>\n",
       "      <td>Бугай</td>\n",
       "      <td>124001210</td>\n",
       "      <td>2010-09-24</td>\n",
       "      <td>Анимационный</td>\n",
       "      <td>Иллюзион Студиос, Процесо</td>\n",
       "      <td>Мексика-Аргентина</td>\n",
       "      <td>Густаво Кова</td>\n",
       "      <td>Хуго Е. Лаура, Хосе Луис Масса</td>\n",
       "      <td>«16+» - для детей старше 16 лет</td>\n",
       "      <td>0.00</td>\n",
       "      <td>0.00</td>\n",
       "      <td>0.00</td>\n",
       "      <td>Коммерческий</td>\n",
       "      <td>6.60</td>\n",
       "      <td>мультфильм,боевик,триллер</td>\n",
       "      <td>0.00</td>\n",
       "    </tr>\n",
       "    <tr>\n",
       "      <th>6379</th>\n",
       "      <td>Ян Антонышев</td>\n",
       "      <td>112011818</td>\n",
       "      <td>2018-11-15</td>\n",
       "      <td>Документальный</td>\n",
       "      <td>Без студии</td>\n",
       "      <td>Россия</td>\n",
       "      <td>Е.Окопная</td>\n",
       "      <td>Е.Герасимов</td>\n",
       "      <td>«12+» - для детей старше 12 лет</td>\n",
       "      <td>0.00</td>\n",
       "      <td>0.00</td>\n",
       "      <td>0.00</td>\n",
       "      <td>Коммерческий</td>\n",
       "      <td>NaN</td>\n",
       "      <td>NaN</td>\n",
       "      <td>0.00</td>\n",
       "    </tr>\n",
       "    <tr>\n",
       "      <th>6380</th>\n",
       "      <td>Ян Антонышев</td>\n",
       "      <td>112011918</td>\n",
       "      <td>2018-11-15</td>\n",
       "      <td>Документальный</td>\n",
       "      <td>Без студии</td>\n",
       "      <td>Россия</td>\n",
       "      <td>Е.Окопная</td>\n",
       "      <td>Е.Герасимов</td>\n",
       "      <td>«12+» - для детей старше 12 лет</td>\n",
       "      <td>0.00</td>\n",
       "      <td>0.00</td>\n",
       "      <td>0.00</td>\n",
       "      <td>Коммерческий</td>\n",
       "      <td>NaN</td>\n",
       "      <td>NaN</td>\n",
       "      <td>0.00</td>\n",
       "    </tr>\n",
       "    <tr>\n",
       "      <th>6428</th>\n",
       "      <td>Зоя</td>\n",
       "      <td>111022618</td>\n",
       "      <td>2018-11-25</td>\n",
       "      <td>Художественный</td>\n",
       "      <td>Тарханова Юлия Олеговна</td>\n",
       "      <td>Россия</td>\n",
       "      <td>О.Товма</td>\n",
       "      <td>Ю.Тарханова</td>\n",
       "      <td>«16+» - для детей старше 16 лет</td>\n",
       "      <td>0.00</td>\n",
       "      <td>0.00</td>\n",
       "      <td>0.00</td>\n",
       "      <td>Коммерческий</td>\n",
       "      <td>3.90</td>\n",
       "      <td>история,биография,военный</td>\n",
       "      <td>0.00</td>\n",
       "    </tr>\n",
       "    <tr>\n",
       "      <th>6429</th>\n",
       "      <td>Зоя</td>\n",
       "      <td>111022718</td>\n",
       "      <td>2018-11-25</td>\n",
       "      <td>Художественный</td>\n",
       "      <td>Тарханова Юлия Олеговна</td>\n",
       "      <td>Россия</td>\n",
       "      <td>О.Товма</td>\n",
       "      <td>Ю.Тарханова</td>\n",
       "      <td>«16+» - для детей старше 16 лет</td>\n",
       "      <td>0.00</td>\n",
       "      <td>0.00</td>\n",
       "      <td>0.00</td>\n",
       "      <td>Коммерческий</td>\n",
       "      <td>3.90</td>\n",
       "      <td>история,биография,военный</td>\n",
       "      <td>0.00</td>\n",
       "    </tr>\n",
       "  </tbody>\n",
       "</table>\n",
       "</div>"
      ],
      "text/plain": [
       "                                  title   puNumber show_start_date  \\\n",
       "1300                          Эпидемия_  121025713      2013-10-07   \n",
       "1301                          Эпидемия_  221035513      2013-10-07   \n",
       "1475                             Оторвы  121006514      2014-04-07   \n",
       "1476                             Оторвы  221013214      2014-04-07   \n",
       "2191                Последние пять лет.  221008115      2015-03-25   \n",
       "2192                Последние пять лет.  121005715      2015-03-25   \n",
       "2752  Пингвиненок Пороро: Большие гонки  224001915      2015-04-15   \n",
       "2753  Пингвиненок Пороро: Большие гонки  124001915      2015-04-15   \n",
       "3086                          Анархисты  221003916      2016-02-03   \n",
       "3087                          Анархисты  121002316      2016-02-03   \n",
       "4042                              Бугай  224021210      2010-09-24   \n",
       "4043                              Бугай  124001210      2010-09-24   \n",
       "6379                       Ян Антонышев  112011818      2018-11-15   \n",
       "6380                       Ян Антонышев  112011918      2018-11-15   \n",
       "6428                                Зоя  111022618      2018-11-25   \n",
       "6429                                Зоя  111022718      2018-11-25   \n",
       "\n",
       "                 type  \\\n",
       "1300   Художественный   \n",
       "1301   Художественный   \n",
       "1475   Художественный   \n",
       "1476   Художественный   \n",
       "2191   Художественный   \n",
       "2192   Художественный   \n",
       "2752     Анимационный   \n",
       "2753     Анимационный   \n",
       "3086   Художественный   \n",
       "3087   Художественный   \n",
       "4042     Анимационный   \n",
       "4043     Анимационный   \n",
       "6379   Документальный   \n",
       "6380   Документальный   \n",
       "6428   Художественный   \n",
       "6429   Художественный   \n",
       "\n",
       "                                                                                                     film_studio  \\\n",
       "1300               Морена Фильм, Ребелион Террестр, А 3 Медиа Групп, Ле Фильм дю Лендмен, Телевизио де Каталуниа   \n",
       "1301               Морена Фильм, Ребелион Террестр, А 3 Медиа Групп, Ле Фильм дю Лендмен, Телевизио де Каталуниа   \n",
       "1475  Проминент Пикчерз, Ворлдвью Интертейнмент, Индион Интертейнмент Групп, Роуд Хад  / Пут Эвэй Уэт Продакшнз    \n",
       "1476  Проминент Пикчерз, Ворлдвью Интертейнмент, Индион Интертейнмент Групп, Роуд Хад  / Пут Эвэй Уэт Продакшнз    \n",
       "2191                                               Гранд Пикс Интертейнмент, Лаки Манки Пикчерз, Ш-К-Бум Рекордс   \n",
       "2192                                               Гранд Пикс Интертейнмент, Лаки Манки Пикчерз, Ш-К-Бум Рекордс   \n",
       "2752                         Окон Студиос, Чина Филм, Симка Интертейнмент, Би Ти Ви Каку Чилдренс Сателлит Ти Ви   \n",
       "2753                         Окон Студиос, Чина Филм, Симка Интертейнмент, Би Ти Ви Каку Чилдренс Сателлит Ти Ви   \n",
       "3086                                                                           24 Май Продюксьон, Франс 2 Синема   \n",
       "3087                                                                           24 Май Продюксьон, Франс 2 Синема   \n",
       "4042                                                                                   Иллюзион Студиос, Процесо   \n",
       "4043                                                                                   Иллюзион Студиос, Процесо   \n",
       "6379                                                                                                  Без студии   \n",
       "6380                                                                                                  Без студии   \n",
       "6428                                                                                     Тарханова Юлия Олеговна   \n",
       "6429                                                                                     Тарханова Юлия Олеговна   \n",
       "\n",
       "     production_country                    director  \\\n",
       "1300  Испания - Франция  Алекс Пастор, Давид Пастор   \n",
       "1301  Испания - Франция  Алекс Пастор, Давид Пастор   \n",
       "1475                США           Кристофер Нельсон   \n",
       "1476                США           Кристофер Нельсон   \n",
       "2191                США           Ричард ЛаГравенес   \n",
       "2192                США           Ричард ЛаГравенес   \n",
       "2752  Южная Корея - КНР               Юнг Куюн Парк   \n",
       "2753  Южная Корея - КНР               Юнг Куюн Парк   \n",
       "3086            Франция                 Эли Важеман   \n",
       "3087            Франция                 Эли Важеман   \n",
       "4042  Мексика-Аргентина                Густаво Кова   \n",
       "4043  Мексика-Аргентина                Густаво Кова   \n",
       "6379             Россия                   Е.Окопная   \n",
       "6380             Россия                   Е.Окопная   \n",
       "6428             Россия                     О.Товма   \n",
       "6429             Россия                     О.Товма   \n",
       "\n",
       "                                                           producer  \\\n",
       "1300                 Мерседес Гамеро, Альберто Марини, Педро Уриоль   \n",
       "1301                 Мерседес Гамеро, Альберто Марини, Педро Уриоль   \n",
       "1475                                       Молли Коннерс, Хезер Рэй   \n",
       "1476                                       Молли Коннерс, Хезер Рэй   \n",
       "2191  Джанет Бреннер, Лорен Версель, Курт Дойтч, Ричард ЛаГравенес    \n",
       "2192  Джанет Бреннер, Лорен Версель, Курт Дойтч, Ричард ЛаГравенес    \n",
       "2752                                        Иль Хо Ким, Михал Симка   \n",
       "2753                                        Иль Хо Ким, Михал Симка   \n",
       "3086                                                      Лола Гэнс   \n",
       "3087                                                      Лола Гэнс   \n",
       "4042                                 Хуго Е. Лаура, Хосе Луис Масса   \n",
       "4043                                 Хуго Е. Лаура, Хосе Луис Масса   \n",
       "6379                                                    Е.Герасимов   \n",
       "6380                                                    Е.Герасимов   \n",
       "6428                                                    Ю.Тарханова   \n",
       "6429                                                    Ю.Тарханова   \n",
       "\n",
       "                             age_restriction  refundable_support  \\\n",
       "1300         «16+» - для детей старше 16 лет                0.00   \n",
       "1301         «16+» - для детей старше 16 лет                0.00   \n",
       "1475         «16+» - для детей старше 16 лет                0.00   \n",
       "1476         «16+» - для детей старше 16 лет                0.00   \n",
       "2191         «16+» - для детей старше 16 лет                0.00   \n",
       "2192         «16+» - для детей старше 16 лет                0.00   \n",
       "2752  «0+» - для любой зрительской аудитории                0.00   \n",
       "2753  «0+» - для любой зрительской аудитории                0.00   \n",
       "3086         «16+» - для детей старше 16 лет                0.00   \n",
       "3087         «16+» - для детей старше 16 лет                0.00   \n",
       "4042         «16+» - для детей старше 16 лет                0.00   \n",
       "4043         «16+» - для детей старше 16 лет                0.00   \n",
       "6379         «12+» - для детей старше 12 лет                0.00   \n",
       "6380         «12+» - для детей старше 12 лет                0.00   \n",
       "6428         «16+» - для детей старше 16 лет                0.00   \n",
       "6429         «16+» - для детей старше 16 лет                0.00   \n",
       "\n",
       "      nonrefundable_support  budget financing_source ratings  \\\n",
       "1300                   0.00    0.00     Коммерческий    7.20   \n",
       "1301                   0.00    0.00     Коммерческий    7.20   \n",
       "1475                   0.00    0.00     Коммерческий    3.50   \n",
       "1476                   0.00    0.00     Коммерческий    3.50   \n",
       "2191                   0.00    0.00     Коммерческий    5.70   \n",
       "2192                   0.00    0.00     Коммерческий    5.70   \n",
       "2752                   0.00    0.00     Коммерческий    5.20   \n",
       "2753                   0.00    0.00     Коммерческий    5.20   \n",
       "3086                   0.00    0.00     Коммерческий    5.70   \n",
       "3087                   0.00    0.00     Коммерческий    5.70   \n",
       "4042                   0.00    0.00     Коммерческий    6.60   \n",
       "4043                   0.00    0.00     Коммерческий    6.60   \n",
       "6379                   0.00    0.00     Коммерческий     NaN   \n",
       "6380                   0.00    0.00     Коммерческий     NaN   \n",
       "6428                   0.00    0.00     Коммерческий    3.90   \n",
       "6429                   0.00    0.00     Коммерческий    3.90   \n",
       "\n",
       "                         genres    box_office  \n",
       "1300   драма,фантастика,триллер          0.00  \n",
       "1301   драма,фантастика,триллер          0.00  \n",
       "1475        комедия,приключения          0.00  \n",
       "1476        комедия,приключения          0.00  \n",
       "2191     мюзикл,драма,мелодрама          0.00  \n",
       "2192     мюзикл,драма,мелодрама     52,495.00  \n",
       "2752  мультфильм,семейный,спорт      1,360.00  \n",
       "2753  мультфильм,семейный,спорт 14,152,495.90  \n",
       "3086                      драма          0.00  \n",
       "3087                      драма    332,371.00  \n",
       "4042  мультфильм,боевик,триллер          0.00  \n",
       "4043  мультфильм,боевик,триллер          0.00  \n",
       "6379                        NaN          0.00  \n",
       "6380                        NaN          0.00  \n",
       "6428  история,биография,военный          0.00  \n",
       "6429  история,биография,военный          0.00  "
      ]
     },
     "execution_count": 36,
     "metadata": {},
     "output_type": "execute_result"
    }
   ],
   "source": [
    "df[df.duplicated(subset=['title', 'show_start_date', 'type', 'film_studio', 'production_country', 'director'], keep=False)]"
   ]
  },
  {
   "cell_type": "markdown",
   "metadata": {},
   "source": [
    "8 фильмов задублировалось. Они указаны под разными номерами прокатных удостоверений. \n",
    "\n",
    "Проверим, могут ли одно прокатное удостоверение выдавать разным фильмам: "
   ]
  },
  {
   "cell_type": "code",
   "execution_count": 37,
   "metadata": {},
   "outputs": [
    {
     "data": {
      "text/html": [
       "<div>\n",
       "<style scoped>\n",
       "    .dataframe tbody tr th:only-of-type {\n",
       "        vertical-align: middle;\n",
       "    }\n",
       "\n",
       "    .dataframe tbody tr th {\n",
       "        vertical-align: top;\n",
       "    }\n",
       "\n",
       "    .dataframe thead th {\n",
       "        text-align: right;\n",
       "    }\n",
       "</style>\n",
       "<table border=\"1\" class=\"dataframe\">\n",
       "  <thead>\n",
       "    <tr style=\"text-align: right;\">\n",
       "      <th></th>\n",
       "      <th>title</th>\n",
       "      <th>puNumber</th>\n",
       "      <th>show_start_date</th>\n",
       "      <th>type</th>\n",
       "      <th>film_studio</th>\n",
       "      <th>production_country</th>\n",
       "      <th>director</th>\n",
       "      <th>producer</th>\n",
       "      <th>age_restriction</th>\n",
       "      <th>refundable_support</th>\n",
       "      <th>nonrefundable_support</th>\n",
       "      <th>budget</th>\n",
       "      <th>financing_source</th>\n",
       "      <th>ratings</th>\n",
       "      <th>genres</th>\n",
       "      <th>box_office</th>\n",
       "    </tr>\n",
       "  </thead>\n",
       "  <tbody>\n",
       "    <tr>\n",
       "      <th>4638</th>\n",
       "      <td>Как жениться и остаться холостым</td>\n",
       "      <td>221154310</td>\n",
       "      <td>2010-12-17</td>\n",
       "      <td>Художественный</td>\n",
       "      <td>Ше Вам, Скрипт Ассосье, Тэ Фэ 1 Фильм Продюксьон, Марс Дистрибусьон, Канал +</td>\n",
       "      <td>Франция</td>\n",
       "      <td>Эрик Лартиго</td>\n",
       "      <td>Амандин Било, Алан Шаба</td>\n",
       "      <td>«16+» - для детей старше 16 лет</td>\n",
       "      <td>0.00</td>\n",
       "      <td>0.00</td>\n",
       "      <td>0.00</td>\n",
       "      <td>Коммерческий</td>\n",
       "      <td>7.00</td>\n",
       "      <td>мелодрама,комедия</td>\n",
       "      <td>0.00</td>\n",
       "    </tr>\n",
       "    <tr>\n",
       "      <th>4639</th>\n",
       "      <td>Иоанна - женщина на папском престоле /По роману Донны Вулфольк Кросс/</td>\n",
       "      <td>221154310</td>\n",
       "      <td>2010-12-17</td>\n",
       "      <td>Художественный</td>\n",
       "      <td>Константин Фильм, А Эр Ди Дегето Фильм, Дюне Филис, Икури Филмз, Медуза Фильм, У Эф А Интернэшнл Филм энд Ти Ви Продуцион, Юниверсум Филм</td>\n",
       "      <td>Германия - Великобритания - Италия - Испания</td>\n",
       "      <td>Зенке Вортманн</td>\n",
       "      <td>Оливер Бербен, Дорис Д.Хайнце, Фарук Элтан</td>\n",
       "      <td>«16+» - для детей старше 16 лет</td>\n",
       "      <td>0.00</td>\n",
       "      <td>0.00</td>\n",
       "      <td>0.00</td>\n",
       "      <td>Коммерческий</td>\n",
       "      <td>7.60</td>\n",
       "      <td>драма,мелодрама,история</td>\n",
       "      <td>0.00</td>\n",
       "    </tr>\n",
       "    <tr>\n",
       "      <th>5067</th>\n",
       "      <td>Анализируй это!</td>\n",
       "      <td>221054410</td>\n",
       "      <td>2010-05-25</td>\n",
       "      <td>Художественный</td>\n",
       "      <td>Уорнер Бразерс, Вилладж Роудшоу Филмз ЛТД</td>\n",
       "      <td>США-Австралия</td>\n",
       "      <td>ХЭрольд Рэмис</td>\n",
       "      <td>Джейн Розенталь, Пола Уейнстейн</td>\n",
       "      <td>«16+» - для детей старше 16 лет</td>\n",
       "      <td>0.00</td>\n",
       "      <td>0.00</td>\n",
       "      <td>0.00</td>\n",
       "      <td>Коммерческий</td>\n",
       "      <td>7.40</td>\n",
       "      <td>комедия,криминал</td>\n",
       "      <td>0.00</td>\n",
       "    </tr>\n",
       "    <tr>\n",
       "      <th>5068</th>\n",
       "      <td>Анализируй то!</td>\n",
       "      <td>221054410</td>\n",
       "      <td>2010-05-25</td>\n",
       "      <td>Художественный</td>\n",
       "      <td>Уорнер Бразерс, Виллидж Роадшоу Пикчерз, Эн-Пи-Пи Интертейнмент, Баалтимор Спринг Крик Пикчерз Фейс, Трайбека</td>\n",
       "      <td>США</td>\n",
       "      <td>Гарольд Реймис</td>\n",
       "      <td>Джейн Розенталь, Паул Уэйнстейн</td>\n",
       "      <td>«12+» - для детей старше 12 лет</td>\n",
       "      <td>0.00</td>\n",
       "      <td>0.00</td>\n",
       "      <td>0.00</td>\n",
       "      <td>Коммерческий</td>\n",
       "      <td>6.80</td>\n",
       "      <td>комедия,криминал</td>\n",
       "      <td>0.00</td>\n",
       "    </tr>\n",
       "  </tbody>\n",
       "</table>\n",
       "</div>"
      ],
      "text/plain": [
       "                                                                      title  \\\n",
       "4638                                       Как жениться и остаться холостым   \n",
       "4639  Иоанна - женщина на папском престоле /По роману Донны Вулфольк Кросс/   \n",
       "5067                                                        Анализируй это!   \n",
       "5068                                                         Анализируй то!   \n",
       "\n",
       "       puNumber show_start_date            type  \\\n",
       "4638  221154310      2010-12-17  Художественный   \n",
       "4639  221154310      2010-12-17  Художественный   \n",
       "5067  221054410      2010-05-25  Художественный   \n",
       "5068  221054410      2010-05-25  Художественный   \n",
       "\n",
       "                                                                                                                                      film_studio  \\\n",
       "4638                                                                 Ше Вам, Скрипт Ассосье, Тэ Фэ 1 Фильм Продюксьон, Марс Дистрибусьон, Канал +   \n",
       "4639   Константин Фильм, А Эр Ди Дегето Фильм, Дюне Филис, Икури Филмз, Медуза Фильм, У Эф А Интернэшнл Филм энд Ти Ви Продуцион, Юниверсум Филм    \n",
       "5067                                                                                                    Уорнер Бразерс, Вилладж Роудшоу Филмз ЛТД   \n",
       "5068                                Уорнер Бразерс, Виллидж Роадшоу Пикчерз, Эн-Пи-Пи Интертейнмент, Баалтимор Спринг Крик Пикчерз Фейс, Трайбека   \n",
       "\n",
       "                                production_country        director  \\\n",
       "4638                                       Франция    Эрик Лартиго   \n",
       "4639  Германия - Великобритания - Италия - Испания  Зенке Вортманн   \n",
       "5067                                 США-Австралия   ХЭрольд Рэмис   \n",
       "5068                                           США  Гарольд Реймис   \n",
       "\n",
       "                                        producer  \\\n",
       "4638                     Амандин Било, Алан Шаба   \n",
       "4639  Оливер Бербен, Дорис Д.Хайнце, Фарук Элтан   \n",
       "5067             Джейн Розенталь, Пола Уейнстейн   \n",
       "5068             Джейн Розенталь, Паул Уэйнстейн   \n",
       "\n",
       "                      age_restriction  refundable_support  \\\n",
       "4638  «16+» - для детей старше 16 лет                0.00   \n",
       "4639  «16+» - для детей старше 16 лет                0.00   \n",
       "5067  «16+» - для детей старше 16 лет                0.00   \n",
       "5068  «12+» - для детей старше 12 лет                0.00   \n",
       "\n",
       "      nonrefundable_support  budget financing_source ratings  \\\n",
       "4638                   0.00    0.00     Коммерческий    7.00   \n",
       "4639                   0.00    0.00     Коммерческий    7.60   \n",
       "5067                   0.00    0.00     Коммерческий    7.40   \n",
       "5068                   0.00    0.00     Коммерческий    6.80   \n",
       "\n",
       "                       genres  box_office  \n",
       "4638        мелодрама,комедия        0.00  \n",
       "4639  драма,мелодрама,история        0.00  \n",
       "5067         комедия,криминал        0.00  \n",
       "5068         комедия,криминал        0.00  "
      ]
     },
     "execution_count": 37,
     "metadata": {},
     "output_type": "execute_result"
    }
   ],
   "source": [
    "df.loc[df['puNumber'].duplicated(keep=False)]"
   ]
  },
  {
   "cell_type": "markdown",
   "metadata": {},
   "source": [
    "Одному фильму могли выдаваться несколько прокатных удостоверений. В рамках данного исследования номер прокатного удостоверения в большей степени используется как уникальный идентификатор. Поэтому удалим дубли и присвоим одному фильму - один прокатный номер. "
   ]
  },
  {
   "cell_type": "code",
   "execution_count": 38,
   "metadata": {},
   "outputs": [],
   "source": [
    "df.loc[(df['title'] == 'Иоанна - женщина на папском престоле /По роману Донны Вулфольк Кросс/') & (df['puNumber'] == 221154310), 'puNumber'] = 111111111"
   ]
  },
  {
   "cell_type": "code",
   "execution_count": 39,
   "metadata": {},
   "outputs": [],
   "source": [
    "df.loc[(df['title'] == 'Анализируй то!') & (df['puNumber'] == 221054410), 'puNumber'] = 222222222"
   ]
  },
  {
   "cell_type": "markdown",
   "metadata": {},
   "source": [
    "Проверим снова дубли:"
   ]
  },
  {
   "cell_type": "code",
   "execution_count": 40,
   "metadata": {},
   "outputs": [
    {
     "data": {
      "text/html": [
       "<div>\n",
       "<style scoped>\n",
       "    .dataframe tbody tr th:only-of-type {\n",
       "        vertical-align: middle;\n",
       "    }\n",
       "\n",
       "    .dataframe tbody tr th {\n",
       "        vertical-align: top;\n",
       "    }\n",
       "\n",
       "    .dataframe thead th {\n",
       "        text-align: right;\n",
       "    }\n",
       "</style>\n",
       "<table border=\"1\" class=\"dataframe\">\n",
       "  <thead>\n",
       "    <tr style=\"text-align: right;\">\n",
       "      <th></th>\n",
       "      <th>title</th>\n",
       "      <th>puNumber</th>\n",
       "      <th>show_start_date</th>\n",
       "      <th>type</th>\n",
       "      <th>film_studio</th>\n",
       "      <th>production_country</th>\n",
       "      <th>director</th>\n",
       "      <th>producer</th>\n",
       "      <th>age_restriction</th>\n",
       "      <th>refundable_support</th>\n",
       "      <th>nonrefundable_support</th>\n",
       "      <th>budget</th>\n",
       "      <th>financing_source</th>\n",
       "      <th>ratings</th>\n",
       "      <th>genres</th>\n",
       "      <th>box_office</th>\n",
       "    </tr>\n",
       "  </thead>\n",
       "  <tbody>\n",
       "  </tbody>\n",
       "</table>\n",
       "</div>"
      ],
      "text/plain": [
       "Empty DataFrame\n",
       "Columns: [title, puNumber, show_start_date, type, film_studio, production_country, director, producer, age_restriction, refundable_support, nonrefundable_support, budget, financing_source, ratings, genres, box_office]\n",
       "Index: []"
      ]
     },
     "execution_count": 40,
     "metadata": {},
     "output_type": "execute_result"
    }
   ],
   "source": [
    "df.loc[df['puNumber'].duplicated(keep=False)]"
   ]
  },
  {
   "cell_type": "markdown",
   "metadata": {
    "id": "52fOPrEBgFyQ"
   },
   "source": [
    "### Изучим категориальные значения"
   ]
  },
  {
   "cell_type": "markdown",
   "metadata": {},
   "source": [
    "#### Уберем лишние пробелы внутри ячеек с категориальными значениями."
   ]
  },
  {
   "cell_type": "code",
   "execution_count": 41,
   "metadata": {},
   "outputs": [
    {
     "name": "stdout",
     "output_type": "stream",
     "text": [
      "уникальные значения в director\n",
      "   было 4817\n",
      "  стало 4806\n",
      "\n",
      "уникальные значения в producer\n",
      "   было 5714\n",
      "  стало 5698\n",
      "\n",
      "уникальные значения в film_studio\n",
      "   было 5491\n",
      "  стало 5462\n",
      "\n",
      "уникальные значения в production_country\n",
      "   было 951\n",
      "  стало 934\n",
      "\n",
      "уникальные значения в genres\n",
      "   было 743\n",
      "  стало 743\n",
      "\n",
      "уникальные значения в type\n",
      "   было 8\n",
      "  стало 6\n",
      "\n",
      "уникальные значения в title\n",
      "   было 6772\n",
      "  стало 6772\n",
      "\n",
      "уникальные значения в financing_source\n",
      "   было 4\n",
      "  стало 4\n",
      "\n",
      "уникальные значения в age_restriction\n",
      "   было 5\n",
      "  стало 5\n",
      "\n"
     ]
    }
   ],
   "source": [
    "for column in ['director', 'producer', 'film_studio', 'production_country', 'genres', 'type', 'title', 'financing_source', 'age_restriction']:\n",
    "    \n",
    "    print('уникальные значения в', column)\n",
    "    print('   было', df[column].nunique())\n",
    "    \n",
    "    df[column] = df[column].dropna().apply(lambda x: ', '.join([x.strip() for x in x.split(',')]))\n",
    "    \n",
    "    print('  стало', df[column].nunique())\n",
    "    print()"
   ]
  },
  {
   "cell_type": "markdown",
   "metadata": {},
   "source": [
    "#### Приведем все наименования к нижнему регистру для выявления неявных дубликатов"
   ]
  },
  {
   "cell_type": "code",
   "execution_count": 42,
   "metadata": {},
   "outputs": [
    {
     "name": "stdout",
     "output_type": "stream",
     "text": [
      "уникальные значения в director\n",
      "   было 4806\n",
      "  стало 4801\n",
      "\n",
      "уникальные значения в producer\n",
      "   было 5698\n",
      "  стало 5689\n",
      "\n",
      "уникальные значения в film_studio\n",
      "   было 5462\n",
      "  стало 5422\n",
      "\n",
      "уникальные значения в production_country\n",
      "   было 934\n",
      "  стало 933\n",
      "\n",
      "уникальные значения в genres\n",
      "   было 743\n",
      "  стало 743\n",
      "\n",
      "уникальные значения в type\n",
      "   было 6\n",
      "  стало 6\n",
      "\n",
      "уникальные значения в title\n",
      "   было 6772\n",
      "  стало 6762\n",
      "\n",
      "уникальные значения в financing_source\n",
      "   было 4\n",
      "  стало 4\n",
      "\n",
      "уникальные значения в age_restriction\n",
      "   было 5\n",
      "  стало 5\n",
      "\n"
     ]
    }
   ],
   "source": [
    "for column in ['director', 'producer', 'film_studio', 'production_country', 'genres', 'type', 'title', 'financing_source', 'age_restriction']:\n",
    "    \n",
    "    print('уникальные значения в', column)\n",
    "    print('   было', df[column].nunique())\n",
    "    \n",
    "    df[column] = df[column].str.lower()\n",
    "    \n",
    "    print('  стало', df[column].nunique())\n",
    "    print()"
   ]
  },
  {
   "cell_type": "markdown",
   "metadata": {},
   "source": [
    "После обработки категориальных значений мы видим, что общей проблемой для большинства столбцов было наличие лишних пробелов (5 из 9 столбцов имели лишние пробелы), а также дублирование названий из-за наличия букв разного регистра (5 из 9 столбцов имели одинаковые наименования с разным регистром)."
   ]
  },
  {
   "cell_type": "markdown",
   "metadata": {
    "id": "XFSN5lrEgFyR"
   },
   "source": [
    "### Проверим количественные значения"
   ]
  },
  {
   "cell_type": "markdown",
   "metadata": {},
   "source": [
    "#### `budget` — общий бюджет фильма;"
   ]
  },
  {
   "cell_type": "markdown",
   "metadata": {
    "id": "YbzClBxagFyS"
   },
   "source": [
    "В столбце `budget` содержатся данные, которые указаны только для тех фильмов, которые получили государственную поддержку. Рассмотрим их в разрезе соотношения с двумя другими объём возвратных средств государственной поддержки `refundable_support` и объём невозвратных средств государственной поддержки `nonrefundable_support`."
   ]
  },
  {
   "cell_type": "markdown",
   "metadata": {},
   "source": [
    "Проверим данные для фильмов, у которых бюджет меньше, чем сумма возвратных и невозвратных средств:"
   ]
  },
  {
   "cell_type": "code",
   "execution_count": 43,
   "metadata": {},
   "outputs": [
    {
     "data": {
      "text/html": [
       "<div>\n",
       "<style scoped>\n",
       "    .dataframe tbody tr th:only-of-type {\n",
       "        vertical-align: middle;\n",
       "    }\n",
       "\n",
       "    .dataframe tbody tr th {\n",
       "        vertical-align: top;\n",
       "    }\n",
       "\n",
       "    .dataframe thead th {\n",
       "        text-align: right;\n",
       "    }\n",
       "</style>\n",
       "<table border=\"1\" class=\"dataframe\">\n",
       "  <thead>\n",
       "    <tr style=\"text-align: right;\">\n",
       "      <th></th>\n",
       "      <th>title</th>\n",
       "      <th>puNumber</th>\n",
       "      <th>show_start_date</th>\n",
       "      <th>type</th>\n",
       "      <th>film_studio</th>\n",
       "      <th>production_country</th>\n",
       "      <th>director</th>\n",
       "      <th>producer</th>\n",
       "      <th>age_restriction</th>\n",
       "      <th>refundable_support</th>\n",
       "      <th>nonrefundable_support</th>\n",
       "      <th>budget</th>\n",
       "      <th>financing_source</th>\n",
       "      <th>ratings</th>\n",
       "      <th>genres</th>\n",
       "      <th>box_office</th>\n",
       "    </tr>\n",
       "  </thead>\n",
       "  <tbody>\n",
       "    <tr>\n",
       "      <th>2053</th>\n",
       "      <td>14+</td>\n",
       "      <td>111023614</td>\n",
       "      <td>2014-12-19</td>\n",
       "      <td>художественный</td>\n",
       "      <td>ооо киностудия  \"сентябрь\"</td>\n",
       "      <td>россия</td>\n",
       "      <td>а.зайцев</td>\n",
       "      <td>о.гранина, а.зайцев</td>\n",
       "      <td>«16+» - для детей старше 16 лет</td>\n",
       "      <td>0.00</td>\n",
       "      <td>23,000,000.00</td>\n",
       "      <td>0.00</td>\n",
       "      <td>министерство культуры, фонд кино</td>\n",
       "      <td>6.60</td>\n",
       "      <td>мелодрама</td>\n",
       "      <td>10,234,016.10</td>\n",
       "    </tr>\n",
       "    <tr>\n",
       "      <th>2058</th>\n",
       "      <td>дуxless 2</td>\n",
       "      <td>111000415</td>\n",
       "      <td>2015-01-26</td>\n",
       "      <td>художественный</td>\n",
       "      <td>ооо \"киностудия \"слово\", ооо \"арт пикчерс студия\"</td>\n",
       "      <td>россия</td>\n",
       "      <td>р.прыгунов</td>\n",
       "      <td>п.ануров, ф.бондарчук, д.рудовский</td>\n",
       "      <td>«16+» - для детей старше 16 лет</td>\n",
       "      <td>0.00</td>\n",
       "      <td>75,000,000.00</td>\n",
       "      <td>0.00</td>\n",
       "      <td>фонд кино</td>\n",
       "      <td>6.60</td>\n",
       "      <td>драма</td>\n",
       "      <td>446,163,511.00</td>\n",
       "    </tr>\n",
       "    <tr>\n",
       "      <th>2472</th>\n",
       "      <td>воин (2015)</td>\n",
       "      <td>111017315</td>\n",
       "      <td>2015-09-28</td>\n",
       "      <td>художественный</td>\n",
       "      <td>ооо \"форпост продакшн\", ооо \"арт пикчерс студия\"</td>\n",
       "      <td>россия</td>\n",
       "      <td>а.андрианов</td>\n",
       "      <td>ооо \"арт пикчерс студия\"</td>\n",
       "      <td>«12+» - для детей старше 12 лет</td>\n",
       "      <td>10,000,000.00</td>\n",
       "      <td>70,000,000.00</td>\n",
       "      <td>0.00</td>\n",
       "      <td>фонд кино</td>\n",
       "      <td>7.80</td>\n",
       "      <td>боевик, драма, криминал</td>\n",
       "      <td>196,572,438.40</td>\n",
       "    </tr>\n",
       "    <tr>\n",
       "      <th>2532</th>\n",
       "      <td>бармен.</td>\n",
       "      <td>111009615</td>\n",
       "      <td>2015-05-26</td>\n",
       "      <td>художественный</td>\n",
       "      <td>ао \"вайт медиа\", ооо \"арт пикчерс студия\"</td>\n",
       "      <td>россия</td>\n",
       "      <td>д.штурманова</td>\n",
       "      <td>т.вайнштейн</td>\n",
       "      <td>«16+» - для детей старше 16 лет</td>\n",
       "      <td>20,000,000.00</td>\n",
       "      <td>0.00</td>\n",
       "      <td>0.00</td>\n",
       "      <td>фонд кино</td>\n",
       "      <td>6.20</td>\n",
       "      <td>комедия, фэнтези</td>\n",
       "      <td>67,418,974.80</td>\n",
       "    </tr>\n",
       "    <tr>\n",
       "      <th>2615</th>\n",
       "      <td>савва. сердце воина</td>\n",
       "      <td>114001715</td>\n",
       "      <td>2015-07-21</td>\n",
       "      <td>анимационный</td>\n",
       "      <td>ооо \"глюкоза продакшн\", ооо \"арт пикчерс студия\"</td>\n",
       "      <td>россия</td>\n",
       "      <td>м.фадеев</td>\n",
       "      <td>а.чистяков</td>\n",
       "      <td>«6+» - для детей старше 6 лет</td>\n",
       "      <td>60,000,000.00</td>\n",
       "      <td>100,000,000.00</td>\n",
       "      <td>0.00</td>\n",
       "      <td>фонд кино</td>\n",
       "      <td>4.60</td>\n",
       "      <td>мультфильм, приключения, фэнтези</td>\n",
       "      <td>184,487,551.40</td>\n",
       "    </tr>\n",
       "    <tr>\n",
       "      <th>2684</th>\n",
       "      <td>тряпичный союз</td>\n",
       "      <td>111010215</td>\n",
       "      <td>2015-06-08</td>\n",
       "      <td>художественный</td>\n",
       "      <td>ооо \"кинокомпания \"коктебель\"</td>\n",
       "      <td>россия</td>\n",
       "      <td>м.местецкий</td>\n",
       "      <td>р.борисевич, а.кушаев</td>\n",
       "      <td>«18+» - запрещено для детей</td>\n",
       "      <td>0.00</td>\n",
       "      <td>59,000,000.00</td>\n",
       "      <td>0.00</td>\n",
       "      <td>фонд кино</td>\n",
       "      <td>6.30</td>\n",
       "      <td>комедия, драма</td>\n",
       "      <td>1,957,738.51</td>\n",
       "    </tr>\n",
       "    <tr>\n",
       "      <th>2788</th>\n",
       "      <td>срочно выйду замуж</td>\n",
       "      <td>111017115</td>\n",
       "      <td>2015-09-30</td>\n",
       "      <td>художественный</td>\n",
       "      <td>ао \"вайт медиа\", ооо \"арт пикчерс студия\"</td>\n",
       "      <td>россия</td>\n",
       "      <td>с чекалов</td>\n",
       "      <td>ф.бондарчук, т.вайнштейн, д.рудовский</td>\n",
       "      <td>«16+» - для детей старше 16 лет</td>\n",
       "      <td>0.00</td>\n",
       "      <td>35,000,000.00</td>\n",
       "      <td>0.00</td>\n",
       "      <td>фонд кино</td>\n",
       "      <td>5.10</td>\n",
       "      <td>комедия, мелодрама</td>\n",
       "      <td>72,937,783.20</td>\n",
       "    </tr>\n",
       "    <tr>\n",
       "      <th>2874</th>\n",
       "      <td>помню - не помню!</td>\n",
       "      <td>111004916</td>\n",
       "      <td>2016-03-01</td>\n",
       "      <td>художественный</td>\n",
       "      <td>ооо \"кинофирма\"</td>\n",
       "      <td>россия</td>\n",
       "      <td>в.ровенский</td>\n",
       "      <td>ооо \"кинофирма\"</td>\n",
       "      <td>«12+» - для детей старше 12 лет</td>\n",
       "      <td>0.00</td>\n",
       "      <td>6,000,000.00</td>\n",
       "      <td>0.00</td>\n",
       "      <td>министерство культуры</td>\n",
       "      <td>4.30</td>\n",
       "      <td>комедия</td>\n",
       "      <td>15,362,931.43</td>\n",
       "    </tr>\n",
       "    <tr>\n",
       "      <th>3047</th>\n",
       "      <td>любовь с ограничениями</td>\n",
       "      <td>111008216</td>\n",
       "      <td>2016-04-29</td>\n",
       "      <td>художественный</td>\n",
       "      <td>ао \"вайт медиа\", ооо \"арт пикчерс студия\"</td>\n",
       "      <td>россия</td>\n",
       "      <td>д.тюрин</td>\n",
       "      <td>ф.бондарчук, т.вайнштейн, д.рудовский</td>\n",
       "      <td>«16+» - для детей старше 16 лет</td>\n",
       "      <td>19,000,000.00</td>\n",
       "      <td>51,000,000.00</td>\n",
       "      <td>0.00</td>\n",
       "      <td>фонд кино</td>\n",
       "      <td>6.30</td>\n",
       "      <td>комедия, мелодрама</td>\n",
       "      <td>70,299,052.00</td>\n",
       "    </tr>\n",
       "    <tr>\n",
       "      <th>3565</th>\n",
       "      <td>притяжение (2016)</td>\n",
       "      <td>111018116</td>\n",
       "      <td>2016-12-16</td>\n",
       "      <td>художественный</td>\n",
       "      <td>ооо \"водород 2011\", ооо \"арт пикчерс студия\"</td>\n",
       "      <td>россия</td>\n",
       "      <td>ф.бондарчук</td>\n",
       "      <td>ооо \"арт пикчерс студия\"</td>\n",
       "      <td>«12+» - для детей старше 12 лет</td>\n",
       "      <td>0.00</td>\n",
       "      <td>250,000,000.00</td>\n",
       "      <td>0.00</td>\n",
       "      <td>фонд кино</td>\n",
       "      <td>5.60</td>\n",
       "      <td>фантастика</td>\n",
       "      <td>1,038,321,489.00</td>\n",
       "    </tr>\n",
       "    <tr>\n",
       "      <th>3675</th>\n",
       "      <td>чудо-юдо</td>\n",
       "      <td>114001817</td>\n",
       "      <td>2017-06-27</td>\n",
       "      <td>анимационный</td>\n",
       "      <td>ооо \"кинофирма\"</td>\n",
       "      <td>россия</td>\n",
       "      <td>а.лукичев</td>\n",
       "      <td>ооо \"кинофирма\"</td>\n",
       "      <td>«6+» - для детей старше 6 лет</td>\n",
       "      <td>20,000,000.00</td>\n",
       "      <td>20,000,000.00</td>\n",
       "      <td>0.00</td>\n",
       "      <td>фонд кино</td>\n",
       "      <td>5.20</td>\n",
       "      <td>мультфильм, фэнтези, семейный</td>\n",
       "      <td>55,108,014.76</td>\n",
       "    </tr>\n",
       "    <tr>\n",
       "      <th>3739</th>\n",
       "      <td>мифы</td>\n",
       "      <td>111004317</td>\n",
       "      <td>2017-06-07</td>\n",
       "      <td>художественный</td>\n",
       "      <td>ооо \"хайпфилм\", ооо \"арт пикчерс студия\"</td>\n",
       "      <td>россия</td>\n",
       "      <td>а.молочников</td>\n",
       "      <td>ф.бондарчук, д.рудовский, и.стюарт, м.османн, ю.козырев</td>\n",
       "      <td>«16+» - для детей старше 16 лет</td>\n",
       "      <td>25,000,000.00</td>\n",
       "      <td>20,000,000.00</td>\n",
       "      <td>0.00</td>\n",
       "      <td>фонд кино</td>\n",
       "      <td>4.80</td>\n",
       "      <td>комедия</td>\n",
       "      <td>50,451,949.00</td>\n",
       "    </tr>\n",
       "    <tr>\n",
       "      <th>5673</th>\n",
       "      <td>селфи</td>\n",
       "      <td>111012117</td>\n",
       "      <td>2018-02-01</td>\n",
       "      <td>художественный</td>\n",
       "      <td>ооо \"киностудия \"слово\", ооо \"арт пикчерс студия\"</td>\n",
       "      <td>россия</td>\n",
       "      <td>н.хомерики</td>\n",
       "      <td>п.ануров, ф.бондарчук, д.рудовский</td>\n",
       "      <td>«16+» - для детей старше 16 лет</td>\n",
       "      <td>20,000,000.00</td>\n",
       "      <td>40,000,000.00</td>\n",
       "      <td>0.00</td>\n",
       "      <td>фонд кино</td>\n",
       "      <td>5.80</td>\n",
       "      <td>триллер, драма</td>\n",
       "      <td>225,196,400.03</td>\n",
       "    </tr>\n",
       "    <tr>\n",
       "      <th>5806</th>\n",
       "      <td>два хвоста</td>\n",
       "      <td>114001018</td>\n",
       "      <td>2018-05-31</td>\n",
       "      <td>анимационный</td>\n",
       "      <td>ооо \"лицензионные бренды\"</td>\n",
       "      <td>россия</td>\n",
       "      <td>в.ровенский, н.лопато, в.азеев</td>\n",
       "      <td>ооо \"лицензионные бренды\"</td>\n",
       "      <td>«6+» - для детей старше 6 лет</td>\n",
       "      <td>10,000,000.00</td>\n",
       "      <td>60,000,000.00</td>\n",
       "      <td>0.00</td>\n",
       "      <td>фонд кино</td>\n",
       "      <td>5.00</td>\n",
       "      <td>мультфильм, детский</td>\n",
       "      <td>106,514,301.03</td>\n",
       "    </tr>\n",
       "    <tr>\n",
       "      <th>6008</th>\n",
       "      <td>принцесса и дракон</td>\n",
       "      <td>114003018</td>\n",
       "      <td>2018-08-23</td>\n",
       "      <td>анимационный</td>\n",
       "      <td>ооо \"лицензионные бренды\"</td>\n",
       "      <td>россия</td>\n",
       "      <td>м.нефедова</td>\n",
       "      <td>ооо \"лицензионные бренды\"</td>\n",
       "      <td>«6+» - для детей старше 6 лет</td>\n",
       "      <td>40,000,000.00</td>\n",
       "      <td>40,000,000.00</td>\n",
       "      <td>0.00</td>\n",
       "      <td>фонд кино</td>\n",
       "      <td>5.20</td>\n",
       "      <td>мультфильм, фэнтези, детский</td>\n",
       "      <td>83,366,328.66</td>\n",
       "    </tr>\n",
       "    <tr>\n",
       "      <th>6323</th>\n",
       "      <td>баба яга</td>\n",
       "      <td>114006518</td>\n",
       "      <td>2018-11-08</td>\n",
       "      <td>анимационный</td>\n",
       "      <td>ооо \"арт пикчерс студия\"</td>\n",
       "      <td>россия</td>\n",
       "      <td>в.саков</td>\n",
       "      <td>ооо \"арт пикчерс студия\", ооо \"криэйтив анимэйшн\", ооо \"система-а\"</td>\n",
       "      <td>«6+» - для детей старше 6 лет</td>\n",
       "      <td>0.00</td>\n",
       "      <td>138,969,465.00</td>\n",
       "      <td>0.00</td>\n",
       "      <td>фонд кино</td>\n",
       "      <td>NaN</td>\n",
       "      <td>nan</td>\n",
       "      <td>1,334,699.40</td>\n",
       "    </tr>\n",
       "    <tr>\n",
       "      <th>6823</th>\n",
       "      <td>большое путешествие</td>\n",
       "      <td>114002419</td>\n",
       "      <td>2019-04-20</td>\n",
       "      <td>анимационный</td>\n",
       "      <td>ооо \"лицензионные бренды\"</td>\n",
       "      <td>россия</td>\n",
       "      <td>н.лопато, в.ровенский</td>\n",
       "      <td>ооо \"лицензионные бренды\"</td>\n",
       "      <td>«6+» - для детей старше 6 лет</td>\n",
       "      <td>60,000,000.00</td>\n",
       "      <td>120,000,000.00</td>\n",
       "      <td>0.00</td>\n",
       "      <td>фонд кино</td>\n",
       "      <td>6.20</td>\n",
       "      <td>мультфильм, комедия, приключения</td>\n",
       "      <td>147,606,826.51</td>\n",
       "    </tr>\n",
       "  </tbody>\n",
       "</table>\n",
       "</div>"
      ],
      "text/plain": [
       "                       title   puNumber show_start_date            type  \\\n",
       "2053                     14+  111023614      2014-12-19  художественный   \n",
       "2058               дуxless 2  111000415      2015-01-26  художественный   \n",
       "2472             воин (2015)  111017315      2015-09-28  художественный   \n",
       "2532                 бармен.  111009615      2015-05-26  художественный   \n",
       "2615     савва. сердце воина  114001715      2015-07-21    анимационный   \n",
       "2684          тряпичный союз  111010215      2015-06-08  художественный   \n",
       "2788      срочно выйду замуж  111017115      2015-09-30  художественный   \n",
       "2874       помню - не помню!  111004916      2016-03-01  художественный   \n",
       "3047  любовь с ограничениями  111008216      2016-04-29  художественный   \n",
       "3565       притяжение (2016)  111018116      2016-12-16  художественный   \n",
       "3675                чудо-юдо  114001817      2017-06-27    анимационный   \n",
       "3739                    мифы  111004317      2017-06-07  художественный   \n",
       "5673                   селфи  111012117      2018-02-01  художественный   \n",
       "5806              два хвоста  114001018      2018-05-31    анимационный   \n",
       "6008      принцесса и дракон  114003018      2018-08-23    анимационный   \n",
       "6323                баба яга  114006518      2018-11-08    анимационный   \n",
       "6823     большое путешествие  114002419      2019-04-20    анимационный   \n",
       "\n",
       "                                            film_studio production_country  \\\n",
       "2053                         ооо киностудия  \"сентябрь\"             россия   \n",
       "2058  ооо \"киностудия \"слово\", ооо \"арт пикчерс студия\"             россия   \n",
       "2472   ооо \"форпост продакшн\", ооо \"арт пикчерс студия\"             россия   \n",
       "2532          ао \"вайт медиа\", ооо \"арт пикчерс студия\"             россия   \n",
       "2615   ооо \"глюкоза продакшн\", ооо \"арт пикчерс студия\"             россия   \n",
       "2684                      ооо \"кинокомпания \"коктебель\"             россия   \n",
       "2788          ао \"вайт медиа\", ооо \"арт пикчерс студия\"             россия   \n",
       "2874                                    ооо \"кинофирма\"             россия   \n",
       "3047          ао \"вайт медиа\", ооо \"арт пикчерс студия\"             россия   \n",
       "3565       ооо \"водород 2011\", ооо \"арт пикчерс студия\"             россия   \n",
       "3675                                    ооо \"кинофирма\"             россия   \n",
       "3739           ооо \"хайпфилм\", ооо \"арт пикчерс студия\"             россия   \n",
       "5673  ооо \"киностудия \"слово\", ооо \"арт пикчерс студия\"             россия   \n",
       "5806                          ооо \"лицензионные бренды\"             россия   \n",
       "6008                          ооо \"лицензионные бренды\"             россия   \n",
       "6323                           ооо \"арт пикчерс студия\"             россия   \n",
       "6823                          ооо \"лицензионные бренды\"             россия   \n",
       "\n",
       "                            director  \\\n",
       "2053                        а.зайцев   \n",
       "2058                      р.прыгунов   \n",
       "2472                     а.андрианов   \n",
       "2532                    д.штурманова   \n",
       "2615                        м.фадеев   \n",
       "2684                     м.местецкий   \n",
       "2788                       с чекалов   \n",
       "2874                     в.ровенский   \n",
       "3047                         д.тюрин   \n",
       "3565                     ф.бондарчук   \n",
       "3675                       а.лукичев   \n",
       "3739                    а.молочников   \n",
       "5673                      н.хомерики   \n",
       "5806  в.ровенский, н.лопато, в.азеев   \n",
       "6008                      м.нефедова   \n",
       "6323                         в.саков   \n",
       "6823           н.лопато, в.ровенский   \n",
       "\n",
       "                                                                producer  \\\n",
       "2053                                                 о.гранина, а.зайцев   \n",
       "2058                                  п.ануров, ф.бондарчук, д.рудовский   \n",
       "2472                                            ооо \"арт пикчерс студия\"   \n",
       "2532                                                         т.вайнштейн   \n",
       "2615                                                          а.чистяков   \n",
       "2684                                               р.борисевич, а.кушаев   \n",
       "2788                               ф.бондарчук, т.вайнштейн, д.рудовский   \n",
       "2874                                                     ооо \"кинофирма\"   \n",
       "3047                               ф.бондарчук, т.вайнштейн, д.рудовский   \n",
       "3565                                            ооо \"арт пикчерс студия\"   \n",
       "3675                                                     ооо \"кинофирма\"   \n",
       "3739             ф.бондарчук, д.рудовский, и.стюарт, м.османн, ю.козырев   \n",
       "5673                                  п.ануров, ф.бондарчук, д.рудовский   \n",
       "5806                                           ооо \"лицензионные бренды\"   \n",
       "6008                                           ооо \"лицензионные бренды\"   \n",
       "6323  ооо \"арт пикчерс студия\", ооо \"криэйтив анимэйшн\", ооо \"система-а\"   \n",
       "6823                                           ооо \"лицензионные бренды\"   \n",
       "\n",
       "                      age_restriction  refundable_support  \\\n",
       "2053  «16+» - для детей старше 16 лет                0.00   \n",
       "2058  «16+» - для детей старше 16 лет                0.00   \n",
       "2472  «12+» - для детей старше 12 лет       10,000,000.00   \n",
       "2532  «16+» - для детей старше 16 лет       20,000,000.00   \n",
       "2615    «6+» - для детей старше 6 лет       60,000,000.00   \n",
       "2684      «18+» - запрещено для детей                0.00   \n",
       "2788  «16+» - для детей старше 16 лет                0.00   \n",
       "2874  «12+» - для детей старше 12 лет                0.00   \n",
       "3047  «16+» - для детей старше 16 лет       19,000,000.00   \n",
       "3565  «12+» - для детей старше 12 лет                0.00   \n",
       "3675    «6+» - для детей старше 6 лет       20,000,000.00   \n",
       "3739  «16+» - для детей старше 16 лет       25,000,000.00   \n",
       "5673  «16+» - для детей старше 16 лет       20,000,000.00   \n",
       "5806    «6+» - для детей старше 6 лет       10,000,000.00   \n",
       "6008    «6+» - для детей старше 6 лет       40,000,000.00   \n",
       "6323    «6+» - для детей старше 6 лет                0.00   \n",
       "6823    «6+» - для детей старше 6 лет       60,000,000.00   \n",
       "\n",
       "      nonrefundable_support  budget                  financing_source ratings  \\\n",
       "2053          23,000,000.00    0.00  министерство культуры, фонд кино    6.60   \n",
       "2058          75,000,000.00    0.00                         фонд кино    6.60   \n",
       "2472          70,000,000.00    0.00                         фонд кино    7.80   \n",
       "2532                   0.00    0.00                         фонд кино    6.20   \n",
       "2615         100,000,000.00    0.00                         фонд кино    4.60   \n",
       "2684          59,000,000.00    0.00                         фонд кино    6.30   \n",
       "2788          35,000,000.00    0.00                         фонд кино    5.10   \n",
       "2874           6,000,000.00    0.00             министерство культуры    4.30   \n",
       "3047          51,000,000.00    0.00                         фонд кино    6.30   \n",
       "3565         250,000,000.00    0.00                         фонд кино    5.60   \n",
       "3675          20,000,000.00    0.00                         фонд кино    5.20   \n",
       "3739          20,000,000.00    0.00                         фонд кино    4.80   \n",
       "5673          40,000,000.00    0.00                         фонд кино    5.80   \n",
       "5806          60,000,000.00    0.00                         фонд кино    5.00   \n",
       "6008          40,000,000.00    0.00                         фонд кино    5.20   \n",
       "6323         138,969,465.00    0.00                         фонд кино     NaN   \n",
       "6823         120,000,000.00    0.00                         фонд кино    6.20   \n",
       "\n",
       "                                genres       box_office  \n",
       "2053                         мелодрама    10,234,016.10  \n",
       "2058                             драма   446,163,511.00  \n",
       "2472           боевик, драма, криминал   196,572,438.40  \n",
       "2532                  комедия, фэнтези    67,418,974.80  \n",
       "2615  мультфильм, приключения, фэнтези   184,487,551.40  \n",
       "2684                    комедия, драма     1,957,738.51  \n",
       "2788                комедия, мелодрама    72,937,783.20  \n",
       "2874                           комедия    15,362,931.43  \n",
       "3047                комедия, мелодрама    70,299,052.00  \n",
       "3565                        фантастика 1,038,321,489.00  \n",
       "3675     мультфильм, фэнтези, семейный    55,108,014.76  \n",
       "3739                           комедия    50,451,949.00  \n",
       "5673                    триллер, драма   225,196,400.03  \n",
       "5806               мультфильм, детский   106,514,301.03  \n",
       "6008      мультфильм, фэнтези, детский    83,366,328.66  \n",
       "6323                               nan     1,334,699.40  \n",
       "6823  мультфильм, комедия, приключения   147,606,826.51  "
      ]
     },
     "execution_count": 43,
     "metadata": {},
     "output_type": "execute_result"
    }
   ],
   "source": [
    "small_budget = df[df['budget'] < (df['refundable_support'] + df['nonrefundable_support'])]\n",
    "small_budget"
   ]
  },
  {
   "cell_type": "markdown",
   "metadata": {},
   "source": [
    "У части фильмов, которых профинансировало госудасртво, указан бюджет 0. Звучит неправдоподобно. Заполним данные ячейки медианным значением от суммы господдержки. "
   ]
  },
  {
   "cell_type": "code",
   "execution_count": 44,
   "metadata": {},
   "outputs": [
    {
     "data": {
      "text/plain": [
       "0.61"
      ]
     },
     "execution_count": 44,
     "metadata": {},
     "output_type": "execute_result"
    }
   ],
   "source": [
    "budget_median  = round(df.eval('(refundable_support + nonrefundable_support) / budget').median(), 2)\n",
    "budget_median"
   ]
  },
  {
   "cell_type": "markdown",
   "metadata": {},
   "source": [
    "Обычно процент государственной поддержки 61%. Заполним пропущенные значения в `budget`"
   ]
  },
  {
   "cell_type": "code",
   "execution_count": 45,
   "metadata": {},
   "outputs": [
    {
     "data": {
      "text/html": [
       "<div>\n",
       "<style scoped>\n",
       "    .dataframe tbody tr th:only-of-type {\n",
       "        vertical-align: middle;\n",
       "    }\n",
       "\n",
       "    .dataframe tbody tr th {\n",
       "        vertical-align: top;\n",
       "    }\n",
       "\n",
       "    .dataframe thead th {\n",
       "        text-align: right;\n",
       "    }\n",
       "</style>\n",
       "<table border=\"1\" class=\"dataframe\">\n",
       "  <thead>\n",
       "    <tr style=\"text-align: right;\">\n",
       "      <th></th>\n",
       "      <th>title</th>\n",
       "      <th>puNumber</th>\n",
       "      <th>show_start_date</th>\n",
       "      <th>type</th>\n",
       "      <th>film_studio</th>\n",
       "      <th>production_country</th>\n",
       "      <th>director</th>\n",
       "      <th>producer</th>\n",
       "      <th>age_restriction</th>\n",
       "      <th>refundable_support</th>\n",
       "      <th>nonrefundable_support</th>\n",
       "      <th>budget</th>\n",
       "      <th>financing_source</th>\n",
       "      <th>ratings</th>\n",
       "      <th>genres</th>\n",
       "      <th>box_office</th>\n",
       "    </tr>\n",
       "  </thead>\n",
       "  <tbody>\n",
       "    <tr>\n",
       "      <th>2053</th>\n",
       "      <td>14+</td>\n",
       "      <td>111023614</td>\n",
       "      <td>2014-12-19</td>\n",
       "      <td>художественный</td>\n",
       "      <td>ооо киностудия  \"сентябрь\"</td>\n",
       "      <td>россия</td>\n",
       "      <td>а.зайцев</td>\n",
       "      <td>о.гранина, а.зайцев</td>\n",
       "      <td>«16+» - для детей старше 16 лет</td>\n",
       "      <td>0.00</td>\n",
       "      <td>23,000,000.00</td>\n",
       "      <td>37,704,918.03</td>\n",
       "      <td>министерство культуры, фонд кино</td>\n",
       "      <td>6.60</td>\n",
       "      <td>мелодрама</td>\n",
       "      <td>10,234,016.10</td>\n",
       "    </tr>\n",
       "    <tr>\n",
       "      <th>2058</th>\n",
       "      <td>дуxless 2</td>\n",
       "      <td>111000415</td>\n",
       "      <td>2015-01-26</td>\n",
       "      <td>художественный</td>\n",
       "      <td>ооо \"киностудия \"слово\", ооо \"арт пикчерс студия\"</td>\n",
       "      <td>россия</td>\n",
       "      <td>р.прыгунов</td>\n",
       "      <td>п.ануров, ф.бондарчук, д.рудовский</td>\n",
       "      <td>«16+» - для детей старше 16 лет</td>\n",
       "      <td>0.00</td>\n",
       "      <td>75,000,000.00</td>\n",
       "      <td>122,950,819.67</td>\n",
       "      <td>фонд кино</td>\n",
       "      <td>6.60</td>\n",
       "      <td>драма</td>\n",
       "      <td>446,163,511.00</td>\n",
       "    </tr>\n",
       "    <tr>\n",
       "      <th>2472</th>\n",
       "      <td>воин (2015)</td>\n",
       "      <td>111017315</td>\n",
       "      <td>2015-09-28</td>\n",
       "      <td>художественный</td>\n",
       "      <td>ооо \"форпост продакшн\", ооо \"арт пикчерс студия\"</td>\n",
       "      <td>россия</td>\n",
       "      <td>а.андрианов</td>\n",
       "      <td>ооо \"арт пикчерс студия\"</td>\n",
       "      <td>«12+» - для детей старше 12 лет</td>\n",
       "      <td>10,000,000.00</td>\n",
       "      <td>70,000,000.00</td>\n",
       "      <td>131,147,540.98</td>\n",
       "      <td>фонд кино</td>\n",
       "      <td>7.80</td>\n",
       "      <td>боевик, драма, криминал</td>\n",
       "      <td>196,572,438.40</td>\n",
       "    </tr>\n",
       "    <tr>\n",
       "      <th>2532</th>\n",
       "      <td>бармен.</td>\n",
       "      <td>111009615</td>\n",
       "      <td>2015-05-26</td>\n",
       "      <td>художественный</td>\n",
       "      <td>ао \"вайт медиа\", ооо \"арт пикчерс студия\"</td>\n",
       "      <td>россия</td>\n",
       "      <td>д.штурманова</td>\n",
       "      <td>т.вайнштейн</td>\n",
       "      <td>«16+» - для детей старше 16 лет</td>\n",
       "      <td>20,000,000.00</td>\n",
       "      <td>0.00</td>\n",
       "      <td>32,786,885.25</td>\n",
       "      <td>фонд кино</td>\n",
       "      <td>6.20</td>\n",
       "      <td>комедия, фэнтези</td>\n",
       "      <td>67,418,974.80</td>\n",
       "    </tr>\n",
       "    <tr>\n",
       "      <th>2615</th>\n",
       "      <td>савва. сердце воина</td>\n",
       "      <td>114001715</td>\n",
       "      <td>2015-07-21</td>\n",
       "      <td>анимационный</td>\n",
       "      <td>ооо \"глюкоза продакшн\", ооо \"арт пикчерс студия\"</td>\n",
       "      <td>россия</td>\n",
       "      <td>м.фадеев</td>\n",
       "      <td>а.чистяков</td>\n",
       "      <td>«6+» - для детей старше 6 лет</td>\n",
       "      <td>60,000,000.00</td>\n",
       "      <td>100,000,000.00</td>\n",
       "      <td>262,295,081.97</td>\n",
       "      <td>фонд кино</td>\n",
       "      <td>4.60</td>\n",
       "      <td>мультфильм, приключения, фэнтези</td>\n",
       "      <td>184,487,551.40</td>\n",
       "    </tr>\n",
       "    <tr>\n",
       "      <th>2684</th>\n",
       "      <td>тряпичный союз</td>\n",
       "      <td>111010215</td>\n",
       "      <td>2015-06-08</td>\n",
       "      <td>художественный</td>\n",
       "      <td>ооо \"кинокомпания \"коктебель\"</td>\n",
       "      <td>россия</td>\n",
       "      <td>м.местецкий</td>\n",
       "      <td>р.борисевич, а.кушаев</td>\n",
       "      <td>«18+» - запрещено для детей</td>\n",
       "      <td>0.00</td>\n",
       "      <td>59,000,000.00</td>\n",
       "      <td>96,721,311.48</td>\n",
       "      <td>фонд кино</td>\n",
       "      <td>6.30</td>\n",
       "      <td>комедия, драма</td>\n",
       "      <td>1,957,738.51</td>\n",
       "    </tr>\n",
       "    <tr>\n",
       "      <th>2788</th>\n",
       "      <td>срочно выйду замуж</td>\n",
       "      <td>111017115</td>\n",
       "      <td>2015-09-30</td>\n",
       "      <td>художественный</td>\n",
       "      <td>ао \"вайт медиа\", ооо \"арт пикчерс студия\"</td>\n",
       "      <td>россия</td>\n",
       "      <td>с чекалов</td>\n",
       "      <td>ф.бондарчук, т.вайнштейн, д.рудовский</td>\n",
       "      <td>«16+» - для детей старше 16 лет</td>\n",
       "      <td>0.00</td>\n",
       "      <td>35,000,000.00</td>\n",
       "      <td>57,377,049.18</td>\n",
       "      <td>фонд кино</td>\n",
       "      <td>5.10</td>\n",
       "      <td>комедия, мелодрама</td>\n",
       "      <td>72,937,783.20</td>\n",
       "    </tr>\n",
       "    <tr>\n",
       "      <th>2874</th>\n",
       "      <td>помню - не помню!</td>\n",
       "      <td>111004916</td>\n",
       "      <td>2016-03-01</td>\n",
       "      <td>художественный</td>\n",
       "      <td>ооо \"кинофирма\"</td>\n",
       "      <td>россия</td>\n",
       "      <td>в.ровенский</td>\n",
       "      <td>ооо \"кинофирма\"</td>\n",
       "      <td>«12+» - для детей старше 12 лет</td>\n",
       "      <td>0.00</td>\n",
       "      <td>6,000,000.00</td>\n",
       "      <td>9,836,065.57</td>\n",
       "      <td>министерство культуры</td>\n",
       "      <td>4.30</td>\n",
       "      <td>комедия</td>\n",
       "      <td>15,362,931.43</td>\n",
       "    </tr>\n",
       "    <tr>\n",
       "      <th>3047</th>\n",
       "      <td>любовь с ограничениями</td>\n",
       "      <td>111008216</td>\n",
       "      <td>2016-04-29</td>\n",
       "      <td>художественный</td>\n",
       "      <td>ао \"вайт медиа\", ооо \"арт пикчерс студия\"</td>\n",
       "      <td>россия</td>\n",
       "      <td>д.тюрин</td>\n",
       "      <td>ф.бондарчук, т.вайнштейн, д.рудовский</td>\n",
       "      <td>«16+» - для детей старше 16 лет</td>\n",
       "      <td>19,000,000.00</td>\n",
       "      <td>51,000,000.00</td>\n",
       "      <td>114,754,098.36</td>\n",
       "      <td>фонд кино</td>\n",
       "      <td>6.30</td>\n",
       "      <td>комедия, мелодрама</td>\n",
       "      <td>70,299,052.00</td>\n",
       "    </tr>\n",
       "    <tr>\n",
       "      <th>3565</th>\n",
       "      <td>притяжение (2016)</td>\n",
       "      <td>111018116</td>\n",
       "      <td>2016-12-16</td>\n",
       "      <td>художественный</td>\n",
       "      <td>ооо \"водород 2011\", ооо \"арт пикчерс студия\"</td>\n",
       "      <td>россия</td>\n",
       "      <td>ф.бондарчук</td>\n",
       "      <td>ооо \"арт пикчерс студия\"</td>\n",
       "      <td>«12+» - для детей старше 12 лет</td>\n",
       "      <td>0.00</td>\n",
       "      <td>250,000,000.00</td>\n",
       "      <td>409,836,065.57</td>\n",
       "      <td>фонд кино</td>\n",
       "      <td>5.60</td>\n",
       "      <td>фантастика</td>\n",
       "      <td>1,038,321,489.00</td>\n",
       "    </tr>\n",
       "    <tr>\n",
       "      <th>3675</th>\n",
       "      <td>чудо-юдо</td>\n",
       "      <td>114001817</td>\n",
       "      <td>2017-06-27</td>\n",
       "      <td>анимационный</td>\n",
       "      <td>ооо \"кинофирма\"</td>\n",
       "      <td>россия</td>\n",
       "      <td>а.лукичев</td>\n",
       "      <td>ооо \"кинофирма\"</td>\n",
       "      <td>«6+» - для детей старше 6 лет</td>\n",
       "      <td>20,000,000.00</td>\n",
       "      <td>20,000,000.00</td>\n",
       "      <td>65,573,770.49</td>\n",
       "      <td>фонд кино</td>\n",
       "      <td>5.20</td>\n",
       "      <td>мультфильм, фэнтези, семейный</td>\n",
       "      <td>55,108,014.76</td>\n",
       "    </tr>\n",
       "    <tr>\n",
       "      <th>3739</th>\n",
       "      <td>мифы</td>\n",
       "      <td>111004317</td>\n",
       "      <td>2017-06-07</td>\n",
       "      <td>художественный</td>\n",
       "      <td>ооо \"хайпфилм\", ооо \"арт пикчерс студия\"</td>\n",
       "      <td>россия</td>\n",
       "      <td>а.молочников</td>\n",
       "      <td>ф.бондарчук, д.рудовский, и.стюарт, м.османн, ю.козырев</td>\n",
       "      <td>«16+» - для детей старше 16 лет</td>\n",
       "      <td>25,000,000.00</td>\n",
       "      <td>20,000,000.00</td>\n",
       "      <td>73,770,491.80</td>\n",
       "      <td>фонд кино</td>\n",
       "      <td>4.80</td>\n",
       "      <td>комедия</td>\n",
       "      <td>50,451,949.00</td>\n",
       "    </tr>\n",
       "    <tr>\n",
       "      <th>5673</th>\n",
       "      <td>селфи</td>\n",
       "      <td>111012117</td>\n",
       "      <td>2018-02-01</td>\n",
       "      <td>художественный</td>\n",
       "      <td>ооо \"киностудия \"слово\", ооо \"арт пикчерс студия\"</td>\n",
       "      <td>россия</td>\n",
       "      <td>н.хомерики</td>\n",
       "      <td>п.ануров, ф.бондарчук, д.рудовский</td>\n",
       "      <td>«16+» - для детей старше 16 лет</td>\n",
       "      <td>20,000,000.00</td>\n",
       "      <td>40,000,000.00</td>\n",
       "      <td>98,360,655.74</td>\n",
       "      <td>фонд кино</td>\n",
       "      <td>5.80</td>\n",
       "      <td>триллер, драма</td>\n",
       "      <td>225,196,400.03</td>\n",
       "    </tr>\n",
       "    <tr>\n",
       "      <th>5806</th>\n",
       "      <td>два хвоста</td>\n",
       "      <td>114001018</td>\n",
       "      <td>2018-05-31</td>\n",
       "      <td>анимационный</td>\n",
       "      <td>ооо \"лицензионные бренды\"</td>\n",
       "      <td>россия</td>\n",
       "      <td>в.ровенский, н.лопато, в.азеев</td>\n",
       "      <td>ооо \"лицензионные бренды\"</td>\n",
       "      <td>«6+» - для детей старше 6 лет</td>\n",
       "      <td>10,000,000.00</td>\n",
       "      <td>60,000,000.00</td>\n",
       "      <td>114,754,098.36</td>\n",
       "      <td>фонд кино</td>\n",
       "      <td>5.00</td>\n",
       "      <td>мультфильм, детский</td>\n",
       "      <td>106,514,301.03</td>\n",
       "    </tr>\n",
       "    <tr>\n",
       "      <th>6008</th>\n",
       "      <td>принцесса и дракон</td>\n",
       "      <td>114003018</td>\n",
       "      <td>2018-08-23</td>\n",
       "      <td>анимационный</td>\n",
       "      <td>ооо \"лицензионные бренды\"</td>\n",
       "      <td>россия</td>\n",
       "      <td>м.нефедова</td>\n",
       "      <td>ооо \"лицензионные бренды\"</td>\n",
       "      <td>«6+» - для детей старше 6 лет</td>\n",
       "      <td>40,000,000.00</td>\n",
       "      <td>40,000,000.00</td>\n",
       "      <td>131,147,540.98</td>\n",
       "      <td>фонд кино</td>\n",
       "      <td>5.20</td>\n",
       "      <td>мультфильм, фэнтези, детский</td>\n",
       "      <td>83,366,328.66</td>\n",
       "    </tr>\n",
       "    <tr>\n",
       "      <th>6323</th>\n",
       "      <td>баба яга</td>\n",
       "      <td>114006518</td>\n",
       "      <td>2018-11-08</td>\n",
       "      <td>анимационный</td>\n",
       "      <td>ооо \"арт пикчерс студия\"</td>\n",
       "      <td>россия</td>\n",
       "      <td>в.саков</td>\n",
       "      <td>ооо \"арт пикчерс студия\", ооо \"криэйтив анимэйшн\", ооо \"система-а\"</td>\n",
       "      <td>«6+» - для детей старше 6 лет</td>\n",
       "      <td>0.00</td>\n",
       "      <td>138,969,465.00</td>\n",
       "      <td>227,818,795.08</td>\n",
       "      <td>фонд кино</td>\n",
       "      <td>NaN</td>\n",
       "      <td>nan</td>\n",
       "      <td>1,334,699.40</td>\n",
       "    </tr>\n",
       "    <tr>\n",
       "      <th>6823</th>\n",
       "      <td>большое путешествие</td>\n",
       "      <td>114002419</td>\n",
       "      <td>2019-04-20</td>\n",
       "      <td>анимационный</td>\n",
       "      <td>ооо \"лицензионные бренды\"</td>\n",
       "      <td>россия</td>\n",
       "      <td>н.лопато, в.ровенский</td>\n",
       "      <td>ооо \"лицензионные бренды\"</td>\n",
       "      <td>«6+» - для детей старше 6 лет</td>\n",
       "      <td>60,000,000.00</td>\n",
       "      <td>120,000,000.00</td>\n",
       "      <td>295,081,967.21</td>\n",
       "      <td>фонд кино</td>\n",
       "      <td>6.20</td>\n",
       "      <td>мультфильм, комедия, приключения</td>\n",
       "      <td>147,606,826.51</td>\n",
       "    </tr>\n",
       "  </tbody>\n",
       "</table>\n",
       "</div>"
      ],
      "text/plain": [
       "                       title   puNumber show_start_date            type  \\\n",
       "2053                     14+  111023614      2014-12-19  художественный   \n",
       "2058               дуxless 2  111000415      2015-01-26  художественный   \n",
       "2472             воин (2015)  111017315      2015-09-28  художественный   \n",
       "2532                 бармен.  111009615      2015-05-26  художественный   \n",
       "2615     савва. сердце воина  114001715      2015-07-21    анимационный   \n",
       "2684          тряпичный союз  111010215      2015-06-08  художественный   \n",
       "2788      срочно выйду замуж  111017115      2015-09-30  художественный   \n",
       "2874       помню - не помню!  111004916      2016-03-01  художественный   \n",
       "3047  любовь с ограничениями  111008216      2016-04-29  художественный   \n",
       "3565       притяжение (2016)  111018116      2016-12-16  художественный   \n",
       "3675                чудо-юдо  114001817      2017-06-27    анимационный   \n",
       "3739                    мифы  111004317      2017-06-07  художественный   \n",
       "5673                   селфи  111012117      2018-02-01  художественный   \n",
       "5806              два хвоста  114001018      2018-05-31    анимационный   \n",
       "6008      принцесса и дракон  114003018      2018-08-23    анимационный   \n",
       "6323                баба яга  114006518      2018-11-08    анимационный   \n",
       "6823     большое путешествие  114002419      2019-04-20    анимационный   \n",
       "\n",
       "                                            film_studio production_country  \\\n",
       "2053                         ооо киностудия  \"сентябрь\"             россия   \n",
       "2058  ооо \"киностудия \"слово\", ооо \"арт пикчерс студия\"             россия   \n",
       "2472   ооо \"форпост продакшн\", ооо \"арт пикчерс студия\"             россия   \n",
       "2532          ао \"вайт медиа\", ооо \"арт пикчерс студия\"             россия   \n",
       "2615   ооо \"глюкоза продакшн\", ооо \"арт пикчерс студия\"             россия   \n",
       "2684                      ооо \"кинокомпания \"коктебель\"             россия   \n",
       "2788          ао \"вайт медиа\", ооо \"арт пикчерс студия\"             россия   \n",
       "2874                                    ооо \"кинофирма\"             россия   \n",
       "3047          ао \"вайт медиа\", ооо \"арт пикчерс студия\"             россия   \n",
       "3565       ооо \"водород 2011\", ооо \"арт пикчерс студия\"             россия   \n",
       "3675                                    ооо \"кинофирма\"             россия   \n",
       "3739           ооо \"хайпфилм\", ооо \"арт пикчерс студия\"             россия   \n",
       "5673  ооо \"киностудия \"слово\", ооо \"арт пикчерс студия\"             россия   \n",
       "5806                          ооо \"лицензионные бренды\"             россия   \n",
       "6008                          ооо \"лицензионные бренды\"             россия   \n",
       "6323                           ооо \"арт пикчерс студия\"             россия   \n",
       "6823                          ооо \"лицензионные бренды\"             россия   \n",
       "\n",
       "                            director  \\\n",
       "2053                        а.зайцев   \n",
       "2058                      р.прыгунов   \n",
       "2472                     а.андрианов   \n",
       "2532                    д.штурманова   \n",
       "2615                        м.фадеев   \n",
       "2684                     м.местецкий   \n",
       "2788                       с чекалов   \n",
       "2874                     в.ровенский   \n",
       "3047                         д.тюрин   \n",
       "3565                     ф.бондарчук   \n",
       "3675                       а.лукичев   \n",
       "3739                    а.молочников   \n",
       "5673                      н.хомерики   \n",
       "5806  в.ровенский, н.лопато, в.азеев   \n",
       "6008                      м.нефедова   \n",
       "6323                         в.саков   \n",
       "6823           н.лопато, в.ровенский   \n",
       "\n",
       "                                                                producer  \\\n",
       "2053                                                 о.гранина, а.зайцев   \n",
       "2058                                  п.ануров, ф.бондарчук, д.рудовский   \n",
       "2472                                            ооо \"арт пикчерс студия\"   \n",
       "2532                                                         т.вайнштейн   \n",
       "2615                                                          а.чистяков   \n",
       "2684                                               р.борисевич, а.кушаев   \n",
       "2788                               ф.бондарчук, т.вайнштейн, д.рудовский   \n",
       "2874                                                     ооо \"кинофирма\"   \n",
       "3047                               ф.бондарчук, т.вайнштейн, д.рудовский   \n",
       "3565                                            ооо \"арт пикчерс студия\"   \n",
       "3675                                                     ооо \"кинофирма\"   \n",
       "3739             ф.бондарчук, д.рудовский, и.стюарт, м.османн, ю.козырев   \n",
       "5673                                  п.ануров, ф.бондарчук, д.рудовский   \n",
       "5806                                           ооо \"лицензионные бренды\"   \n",
       "6008                                           ооо \"лицензионные бренды\"   \n",
       "6323  ооо \"арт пикчерс студия\", ооо \"криэйтив анимэйшн\", ооо \"система-а\"   \n",
       "6823                                           ооо \"лицензионные бренды\"   \n",
       "\n",
       "                      age_restriction  refundable_support  \\\n",
       "2053  «16+» - для детей старше 16 лет                0.00   \n",
       "2058  «16+» - для детей старше 16 лет                0.00   \n",
       "2472  «12+» - для детей старше 12 лет       10,000,000.00   \n",
       "2532  «16+» - для детей старше 16 лет       20,000,000.00   \n",
       "2615    «6+» - для детей старше 6 лет       60,000,000.00   \n",
       "2684      «18+» - запрещено для детей                0.00   \n",
       "2788  «16+» - для детей старше 16 лет                0.00   \n",
       "2874  «12+» - для детей старше 12 лет                0.00   \n",
       "3047  «16+» - для детей старше 16 лет       19,000,000.00   \n",
       "3565  «12+» - для детей старше 12 лет                0.00   \n",
       "3675    «6+» - для детей старше 6 лет       20,000,000.00   \n",
       "3739  «16+» - для детей старше 16 лет       25,000,000.00   \n",
       "5673  «16+» - для детей старше 16 лет       20,000,000.00   \n",
       "5806    «6+» - для детей старше 6 лет       10,000,000.00   \n",
       "6008    «6+» - для детей старше 6 лет       40,000,000.00   \n",
       "6323    «6+» - для детей старше 6 лет                0.00   \n",
       "6823    «6+» - для детей старше 6 лет       60,000,000.00   \n",
       "\n",
       "      nonrefundable_support         budget                  financing_source  \\\n",
       "2053          23,000,000.00  37,704,918.03  министерство культуры, фонд кино   \n",
       "2058          75,000,000.00 122,950,819.67                         фонд кино   \n",
       "2472          70,000,000.00 131,147,540.98                         фонд кино   \n",
       "2532                   0.00  32,786,885.25                         фонд кино   \n",
       "2615         100,000,000.00 262,295,081.97                         фонд кино   \n",
       "2684          59,000,000.00  96,721,311.48                         фонд кино   \n",
       "2788          35,000,000.00  57,377,049.18                         фонд кино   \n",
       "2874           6,000,000.00   9,836,065.57             министерство культуры   \n",
       "3047          51,000,000.00 114,754,098.36                         фонд кино   \n",
       "3565         250,000,000.00 409,836,065.57                         фонд кино   \n",
       "3675          20,000,000.00  65,573,770.49                         фонд кино   \n",
       "3739          20,000,000.00  73,770,491.80                         фонд кино   \n",
       "5673          40,000,000.00  98,360,655.74                         фонд кино   \n",
       "5806          60,000,000.00 114,754,098.36                         фонд кино   \n",
       "6008          40,000,000.00 131,147,540.98                         фонд кино   \n",
       "6323         138,969,465.00 227,818,795.08                         фонд кино   \n",
       "6823         120,000,000.00 295,081,967.21                         фонд кино   \n",
       "\n",
       "     ratings                            genres       box_office  \n",
       "2053    6.60                         мелодрама    10,234,016.10  \n",
       "2058    6.60                             драма   446,163,511.00  \n",
       "2472    7.80           боевик, драма, криминал   196,572,438.40  \n",
       "2532    6.20                  комедия, фэнтези    67,418,974.80  \n",
       "2615    4.60  мультфильм, приключения, фэнтези   184,487,551.40  \n",
       "2684    6.30                    комедия, драма     1,957,738.51  \n",
       "2788    5.10                комедия, мелодрама    72,937,783.20  \n",
       "2874    4.30                           комедия    15,362,931.43  \n",
       "3047    6.30                комедия, мелодрама    70,299,052.00  \n",
       "3565    5.60                        фантастика 1,038,321,489.00  \n",
       "3675    5.20     мультфильм, фэнтези, семейный    55,108,014.76  \n",
       "3739    4.80                           комедия    50,451,949.00  \n",
       "5673    5.80                    триллер, драма   225,196,400.03  \n",
       "5806    5.00               мультфильм, детский   106,514,301.03  \n",
       "6008    5.20      мультфильм, фэнтези, детский    83,366,328.66  \n",
       "6323     NaN                               nan     1,334,699.40  \n",
       "6823    6.20  мультфильм, комедия, приключения   147,606,826.51  "
      ]
     },
     "execution_count": 45,
     "metadata": {},
     "output_type": "execute_result"
    }
   ],
   "source": [
    "df.loc[small_budget.index, 'budget'] = (df.loc[small_budget.index, 'refundable_support'] + df.loc[small_budget.index, 'nonrefundable_support']) / budget_median\n",
    "df.loc[small_budget.index]"
   ]
  },
  {
   "cell_type": "markdown",
   "metadata": {},
   "source": [
    "#### `refundable_support` — объём возвратных средств государственной поддержки;"
   ]
  },
  {
   "cell_type": "code",
   "execution_count": 46,
   "metadata": {},
   "outputs": [
    {
     "data": {
      "text/plain": [
       "count         7,486.00\n",
       "mean        526,182.21\n",
       "std       5,781,108.09\n",
       "min               0.00\n",
       "25%               0.00\n",
       "50%               0.00\n",
       "75%               0.00\n",
       "max     180,000,000.00\n",
       "Name: refundable_support, dtype: float64"
      ]
     },
     "execution_count": 46,
     "metadata": {},
     "output_type": "execute_result"
    }
   ],
   "source": [
    "df['refundable_support'].describe()"
   ]
  },
  {
   "cell_type": "markdown",
   "metadata": {},
   "source": [
    "Минимальным значением является 0. Максимальная сумма возвратных средств 180 000 000 рублей. В среднем объем возвратных средств составляет 526 182 рублей."
   ]
  },
  {
   "cell_type": "markdown",
   "metadata": {},
   "source": [
    "#### `nonrefundable_support` — объём невозвратных средств государственной поддержки."
   ]
  },
  {
   "cell_type": "code",
   "execution_count": 47,
   "metadata": {},
   "outputs": [
    {
     "data": {
      "text/plain": [
       "count         7,486.00\n",
       "mean      2,172,280.03\n",
       "std      16,148,935.45\n",
       "min               0.00\n",
       "25%               0.00\n",
       "50%               0.00\n",
       "75%               0.00\n",
       "max     400,000,000.00\n",
       "Name: nonrefundable_support, dtype: float64"
      ]
     },
     "execution_count": 47,
     "metadata": {},
     "output_type": "execute_result"
    }
   ],
   "source": [
    "df['nonrefundable_support'].describe()"
   ]
  },
  {
   "cell_type": "markdown",
   "metadata": {},
   "source": [
    "Минимальным значением является 0. Максимальная сумма  невозвратных средств 400 000 000 рублей. В среднем объем невозвратных средств составляет 2 172 280 рублей."
   ]
  },
  {
   "cell_type": "markdown",
   "metadata": {},
   "source": [
    "#### `box_office` — сборы в рублях."
   ]
  },
  {
   "cell_type": "code",
   "execution_count": 48,
   "metadata": {},
   "outputs": [
    {
     "data": {
      "text/plain": [
       "count           7,486.00\n",
       "mean       32,262,853.66\n",
       "std       160,600,784.16\n",
       "min                 0.00\n",
       "25%                 0.00\n",
       "50%                 0.00\n",
       "75%         1,080,467.99\n",
       "max     3,073,568,690.79\n",
       "Name: box_office, dtype: float64"
      ]
     },
     "execution_count": 48,
     "metadata": {},
     "output_type": "execute_result"
    }
   ],
   "source": [
    "df['box_office'].describe()"
   ]
  },
  {
   "cell_type": "markdown",
   "metadata": {},
   "source": [
    "Подозрительным выгллядит минимальное значение 0. Как будто бы, если фильм вышел в прокат, то какую-то минимальную сумму он собрать должен.\n",
    "\n",
    "Посмотрим более делально на фильмы без сборов: "
   ]
  },
  {
   "cell_type": "code",
   "execution_count": 49,
   "metadata": {},
   "outputs": [
    {
     "data": {
      "text/html": [
       "<div>\n",
       "<style scoped>\n",
       "    .dataframe tbody tr th:only-of-type {\n",
       "        vertical-align: middle;\n",
       "    }\n",
       "\n",
       "    .dataframe tbody tr th {\n",
       "        vertical-align: top;\n",
       "    }\n",
       "\n",
       "    .dataframe thead th {\n",
       "        text-align: right;\n",
       "    }\n",
       "</style>\n",
       "<table border=\"1\" class=\"dataframe\">\n",
       "  <thead>\n",
       "    <tr style=\"text-align: right;\">\n",
       "      <th></th>\n",
       "      <th>title</th>\n",
       "      <th>puNumber</th>\n",
       "      <th>show_start_date</th>\n",
       "      <th>type</th>\n",
       "      <th>film_studio</th>\n",
       "      <th>production_country</th>\n",
       "      <th>director</th>\n",
       "      <th>producer</th>\n",
       "      <th>age_restriction</th>\n",
       "      <th>refundable_support</th>\n",
       "      <th>nonrefundable_support</th>\n",
       "      <th>budget</th>\n",
       "      <th>financing_source</th>\n",
       "      <th>ratings</th>\n",
       "      <th>genres</th>\n",
       "      <th>box_office</th>\n",
       "    </tr>\n",
       "  </thead>\n",
       "  <tbody>\n",
       "    <tr>\n",
       "      <th>0</th>\n",
       "      <td>открытый простор</td>\n",
       "      <td>221048915</td>\n",
       "      <td>2015-11-27</td>\n",
       "      <td>художественный</td>\n",
       "      <td>тачстоун пикчерз, кобальт пикчерз, бикон пикчерз, тиг продакшнз</td>\n",
       "      <td>сша</td>\n",
       "      <td>кевин костнер</td>\n",
       "      <td>дэвид валдес, кевин костнер, джейк эбертс</td>\n",
       "      <td>«18+» - запрещено для детей</td>\n",
       "      <td>0.00</td>\n",
       "      <td>0.00</td>\n",
       "      <td>0.00</td>\n",
       "      <td>коммерческий</td>\n",
       "      <td>7.20</td>\n",
       "      <td>боевик, драма, мелодрама</td>\n",
       "      <td>0.00</td>\n",
       "    </tr>\n",
       "    <tr>\n",
       "      <th>1</th>\n",
       "      <td>особо важное задание</td>\n",
       "      <td>111013716</td>\n",
       "      <td>2016-09-13</td>\n",
       "      <td>художественный</td>\n",
       "      <td>киностудия \"мосфильм\"</td>\n",
       "      <td>ссср</td>\n",
       "      <td>е.матвеев</td>\n",
       "      <td>е.матвеев</td>\n",
       "      <td>«6+» - для детей старше 6 лет</td>\n",
       "      <td>0.00</td>\n",
       "      <td>0.00</td>\n",
       "      <td>0.00</td>\n",
       "      <td>коммерческий</td>\n",
       "      <td>6.60</td>\n",
       "      <td>драма, военный</td>\n",
       "      <td>0.00</td>\n",
       "    </tr>\n",
       "    <tr>\n",
       "      <th>2</th>\n",
       "      <td>особо опасен</td>\n",
       "      <td>221038416</td>\n",
       "      <td>2016-10-10</td>\n",
       "      <td>художественный</td>\n",
       "      <td>юниверсал пикчерз, кикстарт продакшнз, марк платт продакшнз, рилейтивити медиа, спайгласс интертейнмент, стилкин филмз, топ кау продакшнз</td>\n",
       "      <td>сша</td>\n",
       "      <td>тимур бекмамбетов</td>\n",
       "      <td>джим лемли, джейсон нетер, марк е.платт, яйн смит</td>\n",
       "      <td>«18+» - запрещено для детей</td>\n",
       "      <td>0.00</td>\n",
       "      <td>0.00</td>\n",
       "      <td>0.00</td>\n",
       "      <td>коммерческий</td>\n",
       "      <td>6.80</td>\n",
       "      <td>фантастика, боевик, триллер</td>\n",
       "      <td>0.00</td>\n",
       "    </tr>\n",
       "    <tr>\n",
       "      <th>3</th>\n",
       "      <td>особо опасен</td>\n",
       "      <td>221026916</td>\n",
       "      <td>2016-06-10</td>\n",
       "      <td>художественный</td>\n",
       "      <td>юниверсал пикчерз, кикстарт продакшнз, марк платт продакшнз, рилейтивити медиа, спайгласс интертейнмент, стилкин филмз, топ кау продакшнз</td>\n",
       "      <td>сша</td>\n",
       "      <td>тимур бекмамбетов</td>\n",
       "      <td>джим лемли, джейсон нетер, марк е.платт, яйн смит</td>\n",
       "      <td>«18+» - запрещено для детей</td>\n",
       "      <td>0.00</td>\n",
       "      <td>0.00</td>\n",
       "      <td>0.00</td>\n",
       "      <td>коммерческий</td>\n",
       "      <td>6.80</td>\n",
       "      <td>фантастика, боевик, триллер</td>\n",
       "      <td>0.00</td>\n",
       "    </tr>\n",
       "    <tr>\n",
       "      <th>4</th>\n",
       "      <td>особо опасен</td>\n",
       "      <td>221030815</td>\n",
       "      <td>2015-07-29</td>\n",
       "      <td>художественный</td>\n",
       "      <td>юниверсал пикчерз, кикстарт продакшнз, марк платт продакшнз, рилейтивити медиа, спайгласс интертейнмент, стилкин филмз, топ кау продакшнз</td>\n",
       "      <td>сша</td>\n",
       "      <td>тимур бекмамбетов</td>\n",
       "      <td>джим лемли, джейсон нетер, марк е.платт, яйн смит</td>\n",
       "      <td>«18+» - запрещено для детей</td>\n",
       "      <td>0.00</td>\n",
       "      <td>0.00</td>\n",
       "      <td>0.00</td>\n",
       "      <td>коммерческий</td>\n",
       "      <td>6.80</td>\n",
       "      <td>фантастика, боевик, триллер</td>\n",
       "      <td>0.00</td>\n",
       "    </tr>\n",
       "  </tbody>\n",
       "</table>\n",
       "</div>"
      ],
      "text/plain": [
       "                  title   puNumber show_start_date            type  \\\n",
       "0      открытый простор  221048915      2015-11-27  художественный   \n",
       "1  особо важное задание  111013716      2016-09-13  художественный   \n",
       "2          особо опасен  221038416      2016-10-10  художественный   \n",
       "3          особо опасен  221026916      2016-06-10  художественный   \n",
       "4          особо опасен  221030815      2015-07-29  художественный   \n",
       "\n",
       "                                                                                                                                 film_studio  \\\n",
       "0                                                                            тачстоун пикчерз, кобальт пикчерз, бикон пикчерз, тиг продакшнз   \n",
       "1                                                                                                                      киностудия \"мосфильм\"   \n",
       "2  юниверсал пикчерз, кикстарт продакшнз, марк платт продакшнз, рилейтивити медиа, спайгласс интертейнмент, стилкин филмз, топ кау продакшнз   \n",
       "3  юниверсал пикчерз, кикстарт продакшнз, марк платт продакшнз, рилейтивити медиа, спайгласс интертейнмент, стилкин филмз, топ кау продакшнз   \n",
       "4  юниверсал пикчерз, кикстарт продакшнз, марк платт продакшнз, рилейтивити медиа, спайгласс интертейнмент, стилкин филмз, топ кау продакшнз   \n",
       "\n",
       "  production_country           director  \\\n",
       "0                сша      кевин костнер   \n",
       "1               ссср          е.матвеев   \n",
       "2                сша  тимур бекмамбетов   \n",
       "3                сша  тимур бекмамбетов   \n",
       "4                сша  тимур бекмамбетов   \n",
       "\n",
       "                                            producer  \\\n",
       "0          дэвид валдес, кевин костнер, джейк эбертс   \n",
       "1                                          е.матвеев   \n",
       "2  джим лемли, джейсон нетер, марк е.платт, яйн смит   \n",
       "3  джим лемли, джейсон нетер, марк е.платт, яйн смит   \n",
       "4  джим лемли, джейсон нетер, марк е.платт, яйн смит   \n",
       "\n",
       "                 age_restriction  refundable_support  nonrefundable_support  \\\n",
       "0    «18+» - запрещено для детей                0.00                   0.00   \n",
       "1  «6+» - для детей старше 6 лет                0.00                   0.00   \n",
       "2    «18+» - запрещено для детей                0.00                   0.00   \n",
       "3    «18+» - запрещено для детей                0.00                   0.00   \n",
       "4    «18+» - запрещено для детей                0.00                   0.00   \n",
       "\n",
       "   budget financing_source ratings                       genres  box_office  \n",
       "0    0.00     коммерческий    7.20     боевик, драма, мелодрама        0.00  \n",
       "1    0.00     коммерческий    6.60               драма, военный        0.00  \n",
       "2    0.00     коммерческий    6.80  фантастика, боевик, триллер        0.00  \n",
       "3    0.00     коммерческий    6.80  фантастика, боевик, триллер        0.00  \n",
       "4    0.00     коммерческий    6.80  фантастика, боевик, триллер        0.00  "
      ]
     },
     "metadata": {},
     "output_type": "display_data"
    }
   ],
   "source": [
    "display(df.query('box_office == 0').head())"
   ]
  },
  {
   "cell_type": "markdown",
   "metadata": {},
   "source": [
    "Посчитаем сколько всего строк, где не указаны сборы:"
   ]
  },
  {
   "cell_type": "code",
   "execution_count": 50,
   "metadata": {},
   "outputs": [
    {
     "data": {
      "text/plain": [
       "title                    4352\n",
       "puNumber                 4352\n",
       "show_start_date          4352\n",
       "type                     4352\n",
       "film_studio              4352\n",
       "production_country       4352\n",
       "director                 4352\n",
       "producer                 4352\n",
       "age_restriction          4352\n",
       "refundable_support       4352\n",
       "nonrefundable_support    4352\n",
       "budget                   4352\n",
       "financing_source         4352\n",
       "ratings                  4352\n",
       "genres                   4352\n",
       "box_office               4352\n",
       "dtype: int64"
      ]
     },
     "metadata": {},
     "output_type": "display_data"
    }
   ],
   "source": [
    "display(df.query('box_office == 0').count())"
   ]
  },
  {
   "cell_type": "markdown",
   "metadata": {},
   "source": [
    "Кажется, что большая часть фильмов, где не указаны сборы - коммерческие. Соотвественно, отсутствие данных о сборах является аномалией.  \n",
    "\n",
    "Проверим фильмы, которые были сняты при государственной поддержке, но по кассовым сборам у них 0:"
   ]
  },
  {
   "cell_type": "code",
   "execution_count": 51,
   "metadata": {},
   "outputs": [
    {
     "data": {
      "text/html": [
       "<div>\n",
       "<style scoped>\n",
       "    .dataframe tbody tr th:only-of-type {\n",
       "        vertical-align: middle;\n",
       "    }\n",
       "\n",
       "    .dataframe tbody tr th {\n",
       "        vertical-align: top;\n",
       "    }\n",
       "\n",
       "    .dataframe thead th {\n",
       "        text-align: right;\n",
       "    }\n",
       "</style>\n",
       "<table border=\"1\" class=\"dataframe\">\n",
       "  <thead>\n",
       "    <tr style=\"text-align: right;\">\n",
       "      <th></th>\n",
       "      <th>title</th>\n",
       "      <th>puNumber</th>\n",
       "      <th>show_start_date</th>\n",
       "      <th>type</th>\n",
       "      <th>film_studio</th>\n",
       "      <th>production_country</th>\n",
       "      <th>director</th>\n",
       "      <th>producer</th>\n",
       "      <th>age_restriction</th>\n",
       "      <th>refundable_support</th>\n",
       "      <th>nonrefundable_support</th>\n",
       "      <th>budget</th>\n",
       "      <th>financing_source</th>\n",
       "      <th>ratings</th>\n",
       "      <th>genres</th>\n",
       "      <th>box_office</th>\n",
       "    </tr>\n",
       "  </thead>\n",
       "  <tbody>\n",
       "    <tr>\n",
       "      <th>7474</th>\n",
       "      <td>вторжение</td>\n",
       "      <td>111022519</td>\n",
       "      <td>2019-12-23</td>\n",
       "      <td>художественный</td>\n",
       "      <td>ооо \"арт пикчерс студия\", ооо \"водород 2011\"</td>\n",
       "      <td>россия</td>\n",
       "      <td>ф.бондарчук</td>\n",
       "      <td>ф.бондарчук, м.врубель, а.андрющенко, д.рудовский</td>\n",
       "      <td>«12+» - для детей старше 12 лет</td>\n",
       "      <td>100,000,000.00</td>\n",
       "      <td>400,000,000.00</td>\n",
       "      <td>944,000,000.00</td>\n",
       "      <td>фонд кино</td>\n",
       "      <td>5.70</td>\n",
       "      <td>фантастика, боевик</td>\n",
       "      <td>0.00</td>\n",
       "    </tr>\n",
       "    <tr>\n",
       "      <th>7478</th>\n",
       "      <td>(не)идеальный мужчина</td>\n",
       "      <td>111023119</td>\n",
       "      <td>2019-12-24</td>\n",
       "      <td>художественный</td>\n",
       "      <td>ооо \"нон-стоп продакшн\"</td>\n",
       "      <td>россия</td>\n",
       "      <td>м.бальчюнас (псевдоним м.вайсберг)</td>\n",
       "      <td>с.мелькумов, а.роднянский, м.вайсберг, р.минасбекян</td>\n",
       "      <td>«12+» - для детей старше 12 лет</td>\n",
       "      <td>40,000,000.00</td>\n",
       "      <td>60,000,000.00</td>\n",
       "      <td>150,147,502.00</td>\n",
       "      <td>фонд кино</td>\n",
       "      <td>4.50</td>\n",
       "      <td>комедия, фантастика, мелодрама</td>\n",
       "      <td>0.00</td>\n",
       "    </tr>\n",
       "  </tbody>\n",
       "</table>\n",
       "</div>"
      ],
      "text/plain": [
       "                      title   puNumber show_start_date            type  \\\n",
       "7474              вторжение  111022519      2019-12-23  художественный   \n",
       "7478  (не)идеальный мужчина  111023119      2019-12-24  художественный   \n",
       "\n",
       "                                       film_studio production_country  \\\n",
       "7474  ооо \"арт пикчерс студия\", ооо \"водород 2011\"             россия   \n",
       "7478                       ооо \"нон-стоп продакшн\"             россия   \n",
       "\n",
       "                                director  \\\n",
       "7474                         ф.бондарчук   \n",
       "7478  м.бальчюнас (псевдоним м.вайсберг)   \n",
       "\n",
       "                                                 producer  \\\n",
       "7474    ф.бондарчук, м.врубель, а.андрющенко, д.рудовский   \n",
       "7478  с.мелькумов, а.роднянский, м.вайсберг, р.минасбекян   \n",
       "\n",
       "                      age_restriction  refundable_support  \\\n",
       "7474  «12+» - для детей старше 12 лет      100,000,000.00   \n",
       "7478  «12+» - для детей старше 12 лет       40,000,000.00   \n",
       "\n",
       "      nonrefundable_support         budget financing_source ratings  \\\n",
       "7474         400,000,000.00 944,000,000.00        фонд кино    5.70   \n",
       "7478          60,000,000.00 150,147,502.00        фонд кино    4.50   \n",
       "\n",
       "                              genres  box_office  \n",
       "7474              фантастика, боевик        0.00  \n",
       "7478  комедия, фантастика, мелодрама        0.00  "
      ]
     },
     "execution_count": 51,
     "metadata": {},
     "output_type": "execute_result"
    }
   ],
   "source": [
    "df.query('refundable_support > 0 and nonrefundable_support > 0 and budget > 0 and box_office == 0' )\n"
   ]
  },
  {
   "cell_type": "markdown",
   "metadata": {},
   "source": [
    "Последняя дата, за которую есть данные это декабрь 2019. Стоит предположить, что эти два фильма только вышли в прокат и пока не имеют информации о сборах."
   ]
  },
  {
   "cell_type": "markdown",
   "metadata": {},
   "source": [
    "У более половины фильмов не указаны сборы. Удялать такие аномальные значения не целесообразно. Оставим их в данных, но при дальнейшем изучении будем иметь в виду данную аномалию. "
   ]
  },
  {
   "cell_type": "markdown",
   "metadata": {
    "id": "Eu6oWp2CgFyS"
   },
   "source": [
    "### Добавим новые столбцы"
   ]
  },
  {
   "cell_type": "markdown",
   "metadata": {
    "id": "7GgW-UpAgFyS"
   },
   "source": [
    "#### Создадим столбец с информацией о годе проката. Выделим год из даты премьеры фильма."
   ]
  },
  {
   "cell_type": "code",
   "execution_count": 52,
   "metadata": {
    "id": "I-yd1DkWgFyT"
   },
   "outputs": [],
   "source": [
    "df['show_start_year'] = pd.DatetimeIndex(df['show_start_date']).year"
   ]
  },
  {
   "cell_type": "markdown",
   "metadata": {
    "id": "nFTDLDYOgFyT"
   },
   "source": [
    "#### Создадим два столбца: с именем и фамилией главного режиссёра и основным жанром фильма. В столбцы войдут первые значения из списка режиссёров и жанров соответственно."
   ]
  },
  {
   "cell_type": "code",
   "execution_count": 53,
   "metadata": {},
   "outputs": [],
   "source": [
    "def get_main_value(row, sep = ','):\n",
    "    return row.split(sep=sep)[0]"
   ]
  },
  {
   "cell_type": "code",
   "execution_count": 54,
   "metadata": {},
   "outputs": [],
   "source": [
    "df['main_director'] = df['director'].apply(get_main_value)\n",
    "df['main_genre'] = df['genres'].apply(get_main_value)"
   ]
  },
  {
   "cell_type": "code",
   "execution_count": 55,
   "metadata": {},
   "outputs": [
    {
     "data": {
      "text/html": [
       "<div>\n",
       "<style scoped>\n",
       "    .dataframe tbody tr th:only-of-type {\n",
       "        vertical-align: middle;\n",
       "    }\n",
       "\n",
       "    .dataframe tbody tr th {\n",
       "        vertical-align: top;\n",
       "    }\n",
       "\n",
       "    .dataframe thead th {\n",
       "        text-align: right;\n",
       "    }\n",
       "</style>\n",
       "<table border=\"1\" class=\"dataframe\">\n",
       "  <thead>\n",
       "    <tr style=\"text-align: right;\">\n",
       "      <th></th>\n",
       "      <th>title</th>\n",
       "      <th>puNumber</th>\n",
       "      <th>show_start_date</th>\n",
       "      <th>type</th>\n",
       "      <th>film_studio</th>\n",
       "      <th>production_country</th>\n",
       "      <th>director</th>\n",
       "      <th>producer</th>\n",
       "      <th>age_restriction</th>\n",
       "      <th>refundable_support</th>\n",
       "      <th>nonrefundable_support</th>\n",
       "      <th>budget</th>\n",
       "      <th>financing_source</th>\n",
       "      <th>ratings</th>\n",
       "      <th>genres</th>\n",
       "      <th>box_office</th>\n",
       "      <th>show_start_year</th>\n",
       "      <th>main_director</th>\n",
       "      <th>main_genre</th>\n",
       "    </tr>\n",
       "  </thead>\n",
       "  <tbody>\n",
       "    <tr>\n",
       "      <th>0</th>\n",
       "      <td>открытый простор</td>\n",
       "      <td>221048915</td>\n",
       "      <td>2015-11-27</td>\n",
       "      <td>художественный</td>\n",
       "      <td>тачстоун пикчерз, кобальт пикчерз, бикон пикчерз, тиг продакшнз</td>\n",
       "      <td>сша</td>\n",
       "      <td>кевин костнер</td>\n",
       "      <td>дэвид валдес, кевин костнер, джейк эбертс</td>\n",
       "      <td>«18+» - запрещено для детей</td>\n",
       "      <td>0.00</td>\n",
       "      <td>0.00</td>\n",
       "      <td>0.00</td>\n",
       "      <td>коммерческий</td>\n",
       "      <td>7.20</td>\n",
       "      <td>боевик, драма, мелодрама</td>\n",
       "      <td>0.00</td>\n",
       "      <td>2015</td>\n",
       "      <td>кевин костнер</td>\n",
       "      <td>боевик</td>\n",
       "    </tr>\n",
       "  </tbody>\n",
       "</table>\n",
       "</div>"
      ],
      "text/plain": [
       "              title   puNumber show_start_date            type  \\\n",
       "0  открытый простор  221048915      2015-11-27  художественный   \n",
       "\n",
       "                                                       film_studio  \\\n",
       "0  тачстоун пикчерз, кобальт пикчерз, бикон пикчерз, тиг продакшнз   \n",
       "\n",
       "  production_country       director  \\\n",
       "0                сша  кевин костнер   \n",
       "\n",
       "                                    producer              age_restriction  \\\n",
       "0  дэвид валдес, кевин костнер, джейк эбертс  «18+» - запрещено для детей   \n",
       "\n",
       "   refundable_support  nonrefundable_support  budget financing_source ratings  \\\n",
       "0                0.00                   0.00    0.00     коммерческий    7.20   \n",
       "\n",
       "                     genres  box_office  show_start_year  main_director  \\\n",
       "0  боевик, драма, мелодрама        0.00             2015  кевин костнер   \n",
       "\n",
       "  main_genre  \n",
       "0     боевик  "
      ]
     },
     "execution_count": 55,
     "metadata": {},
     "output_type": "execute_result"
    }
   ],
   "source": [
    "df.head(1)"
   ]
  },
  {
   "cell_type": "markdown",
   "metadata": {
    "id": "1FsCXHwdgFyU"
   },
   "source": [
    "#### Посчитаем, какую долю от общего бюджета фильма составляет государственная поддержка."
   ]
  },
  {
   "cell_type": "code",
   "execution_count": 56,
   "metadata": {
    "id": "LV6qFuZLgFyV"
   },
   "outputs": [
    {
     "data": {
      "text/plain": [
       "61.0"
      ]
     },
     "execution_count": 56,
     "metadata": {},
     "output_type": "execute_result"
    }
   ],
   "source": [
    "round(df.eval('(refundable_support + nonrefundable_support) / budget').median() * 100, 2)"
   ]
  },
  {
   "cell_type": "markdown",
   "metadata": {},
   "source": [
    "Добавим столбец о доле господдержки для каждого фильма:"
   ]
  },
  {
   "cell_type": "code",
   "execution_count": 57,
   "metadata": {},
   "outputs": [],
   "source": [
    "df['gov_support'] = round(df.eval('(refundable_support + nonrefundable_support) / budget') * 100, 2)"
   ]
  },
  {
   "cell_type": "code",
   "execution_count": 58,
   "metadata": {},
   "outputs": [
    {
     "data": {
      "text/html": [
       "<div>\n",
       "<style scoped>\n",
       "    .dataframe tbody tr th:only-of-type {\n",
       "        vertical-align: middle;\n",
       "    }\n",
       "\n",
       "    .dataframe tbody tr th {\n",
       "        vertical-align: top;\n",
       "    }\n",
       "\n",
       "    .dataframe thead th {\n",
       "        text-align: right;\n",
       "    }\n",
       "</style>\n",
       "<table border=\"1\" class=\"dataframe\">\n",
       "  <thead>\n",
       "    <tr style=\"text-align: right;\">\n",
       "      <th></th>\n",
       "      <th>title</th>\n",
       "      <th>puNumber</th>\n",
       "      <th>show_start_date</th>\n",
       "      <th>type</th>\n",
       "      <th>film_studio</th>\n",
       "      <th>production_country</th>\n",
       "      <th>director</th>\n",
       "      <th>producer</th>\n",
       "      <th>age_restriction</th>\n",
       "      <th>refundable_support</th>\n",
       "      <th>nonrefundable_support</th>\n",
       "      <th>budget</th>\n",
       "      <th>financing_source</th>\n",
       "      <th>ratings</th>\n",
       "      <th>genres</th>\n",
       "      <th>box_office</th>\n",
       "      <th>show_start_year</th>\n",
       "      <th>main_director</th>\n",
       "      <th>main_genre</th>\n",
       "      <th>gov_support</th>\n",
       "    </tr>\n",
       "  </thead>\n",
       "  <tbody>\n",
       "    <tr>\n",
       "      <th>1281</th>\n",
       "      <td>пока еще жива</td>\n",
       "      <td>111005313</td>\n",
       "      <td>2013-10-11</td>\n",
       "      <td>художественный</td>\n",
       "      <td>ано содействия развитию кинематографии \"ангел-фильм\", ооо \"кинокомпания отражение\"</td>\n",
       "      <td>россия</td>\n",
       "      <td>а.атанесян</td>\n",
       "      <td>а.атанесян, м.бабаханов, р.бутко</td>\n",
       "      <td>«16+» - для детей старше 16 лет</td>\n",
       "      <td>0.00</td>\n",
       "      <td>26,500,000.00</td>\n",
       "      <td>79,411,900.00</td>\n",
       "      <td>министерство культуры</td>\n",
       "      <td>8.10</td>\n",
       "      <td>драма, мелодрама</td>\n",
       "      <td>365,353.60</td>\n",
       "      <td>2013</td>\n",
       "      <td>а.атанесян</td>\n",
       "      <td>драма</td>\n",
       "      <td>33.37</td>\n",
       "    </tr>\n",
       "  </tbody>\n",
       "</table>\n",
       "</div>"
      ],
      "text/plain": [
       "              title   puNumber show_start_date            type  \\\n",
       "1281  пока еще жива  111005313      2013-10-11  художественный   \n",
       "\n",
       "                                                                             film_studio  \\\n",
       "1281  ано содействия развитию кинематографии \"ангел-фильм\", ооо \"кинокомпания отражение\"   \n",
       "\n",
       "     production_country    director                          producer  \\\n",
       "1281             россия  а.атанесян  а.атанесян, м.бабаханов, р.бутко   \n",
       "\n",
       "                      age_restriction  refundable_support  \\\n",
       "1281  «16+» - для детей старше 16 лет                0.00   \n",
       "\n",
       "      nonrefundable_support        budget       financing_source ratings  \\\n",
       "1281          26,500,000.00 79,411,900.00  министерство культуры    8.10   \n",
       "\n",
       "                genres  box_office  show_start_year main_director main_genre  \\\n",
       "1281  драма, мелодрама  365,353.60             2013    а.атанесян      драма   \n",
       "\n",
       "      gov_support  \n",
       "1281        33.37  "
      ]
     },
     "execution_count": 58,
     "metadata": {},
     "output_type": "execute_result"
    }
   ],
   "source": [
    "df.query('budget > 0').head(1)"
   ]
  },
  {
   "cell_type": "markdown",
   "metadata": {
    "id": "6t4EukPLgFyV"
   },
   "source": [
    "## Проведем исследовательский анализ данных\n"
   ]
  },
  {
   "cell_type": "markdown",
   "metadata": {
    "id": "vAH8WCzugFyV"
   },
   "source": [
    "#### Посмотрим, сколько фильмов выходило в прокат каждый год. Обратим внимание, что данные о прокате в кинотеатрах известны не для всех фильмов. Посчитаем какую долю составляют фильмы с указанной информацией о прокате в кинотеатрах. Проанализируем, как эта доля менялась по годам. Сделаем вывод о том, какой период полнее всего представлен в данных."
   ]
  },
  {
   "cell_type": "markdown",
   "metadata": {
    "id": "ABeV47y7gFyW"
   },
   "source": [
    "Создадим сводную таблицу `df_pivot`, которую заполним данными по годам:\n",
    "\n",
    "- сколько фильмов вышло в прокат;\n",
    "- суммой сборов в рублях;\n",
    "- средним количеством сборов в рублях;\n",
    "- медианой по сборам в рублях;\n",
    "- сколько фильмов вышло за год(не прокат);\n",
    "- процентом проката за каждый указанный год."
   ]
  },
  {
   "cell_type": "code",
   "execution_count": 59,
   "metadata": {},
   "outputs": [
    {
     "data": {
      "text/html": [
       "<div>\n",
       "<style scoped>\n",
       "    .dataframe tbody tr th:only-of-type {\n",
       "        vertical-align: middle;\n",
       "    }\n",
       "\n",
       "    .dataframe tbody tr th {\n",
       "        vertical-align: top;\n",
       "    }\n",
       "\n",
       "    .dataframe thead th {\n",
       "        text-align: right;\n",
       "    }\n",
       "</style>\n",
       "<table border=\"1\" class=\"dataframe\">\n",
       "  <thead>\n",
       "    <tr style=\"text-align: right;\">\n",
       "      <th></th>\n",
       "      <th>Вышло в прокат</th>\n",
       "      <th>Фильмов за год</th>\n",
       "      <th>Процент проката</th>\n",
       "    </tr>\n",
       "    <tr>\n",
       "      <th>show_start_year</th>\n",
       "      <th></th>\n",
       "      <th></th>\n",
       "      <th></th>\n",
       "    </tr>\n",
       "  </thead>\n",
       "  <tbody>\n",
       "    <tr>\n",
       "      <th>2010</th>\n",
       "      <td>101</td>\n",
       "      <td>985</td>\n",
       "      <td>10.25</td>\n",
       "    </tr>\n",
       "    <tr>\n",
       "      <th>2011</th>\n",
       "      <td>109</td>\n",
       "      <td>622</td>\n",
       "      <td>17.52</td>\n",
       "    </tr>\n",
       "    <tr>\n",
       "      <th>2012</th>\n",
       "      <td>123</td>\n",
       "      <td>593</td>\n",
       "      <td>20.74</td>\n",
       "    </tr>\n",
       "    <tr>\n",
       "      <th>2013</th>\n",
       "      <td>179</td>\n",
       "      <td>630</td>\n",
       "      <td>28.41</td>\n",
       "    </tr>\n",
       "    <tr>\n",
       "      <th>2014</th>\n",
       "      <td>273</td>\n",
       "      <td>807</td>\n",
       "      <td>33.83</td>\n",
       "    </tr>\n",
       "    <tr>\n",
       "      <th>2015</th>\n",
       "      <td>462</td>\n",
       "      <td>705</td>\n",
       "      <td>65.53</td>\n",
       "    </tr>\n",
       "    <tr>\n",
       "      <th>2016</th>\n",
       "      <td>525</td>\n",
       "      <td>818</td>\n",
       "      <td>64.18</td>\n",
       "    </tr>\n",
       "    <tr>\n",
       "      <th>2017</th>\n",
       "      <td>357</td>\n",
       "      <td>505</td>\n",
       "      <td>70.69</td>\n",
       "    </tr>\n",
       "    <tr>\n",
       "      <th>2018</th>\n",
       "      <td>475</td>\n",
       "      <td>891</td>\n",
       "      <td>53.31</td>\n",
       "    </tr>\n",
       "    <tr>\n",
       "      <th>2019</th>\n",
       "      <td>530</td>\n",
       "      <td>930</td>\n",
       "      <td>56.99</td>\n",
       "    </tr>\n",
       "  </tbody>\n",
       "</table>\n",
       "</div>"
      ],
      "text/plain": [
       "                 Вышло в прокат  Фильмов за год  Процент проката\n",
       "show_start_year                                                 \n",
       "2010                        101             985            10.25\n",
       "2011                        109             622            17.52\n",
       "2012                        123             593            20.74\n",
       "2013                        179             630            28.41\n",
       "2014                        273             807            33.83\n",
       "2015                        462             705            65.53\n",
       "2016                        525             818            64.18\n",
       "2017                        357             505            70.69\n",
       "2018                        475             891            53.31\n",
       "2019                        530             930            56.99"
      ]
     },
     "metadata": {},
     "output_type": "display_data"
    }
   ],
   "source": [
    "df_pivot = df.query('box_office > 0').pivot_table(index='show_start_year', values='box_office', aggfunc=['count', 'sum', 'mean', 'median'])\n",
    "df_pivot = df_pivot.set_axis(['Вышло в прокат', 'Сумма', 'Среднее', 'Медиана'], axis='columns')\n",
    "df_pivot['Фильмов за год'] = df.pivot_table(index='show_start_year', values='box_office', aggfunc='count')['box_office']\n",
    "df_pivot['Процент проката'] = df_pivot['Вышло в прокат'] / df_pivot['Фильмов за год']  * 100\n",
    "display(df_pivot.loc[:, ['Вышло в прокат', 'Фильмов за год', 'Процент проката']])"
   ]
  },
  {
   "cell_type": "code",
   "execution_count": 60,
   "metadata": {},
   "outputs": [
    {
     "data": {
      "image/png": "[encoded data removed]",
      "text/plain": [
       "<Figure size 1080x360 with 1 Axes>"
      ]
     },
     "metadata": {
      "needs_background": "light"
     },
     "output_type": "display_data"
    }
   ],
   "source": [
    "df_pivot.plot(title='Количество фильмов в прокате по годам', kind='bar', y='Вышло в прокат', figsize=(15, 5), grid=True, legend=False, alpha=0.5);\n",
    "plt.ylabel('Количество фильмов')\n",
    "plt.xlabel('Год')\n",
    "plt.show()"
   ]
  },
  {
   "cell_type": "markdown",
   "metadata": {},
   "source": [
    "За 10 лет в прокат стало выходить в пять раз больше фильмов. При этом в 2017 году наблюдается резкий спад, но к 2019 году количество фильмов снова вернулось к значениям 2016 года.  "
   ]
  },
  {
   "cell_type": "markdown",
   "metadata": {},
   "source": [
    "Определим какую долю составляют фильмы с указанной информацией о прокате в кинотеатрах:"
   ]
  },
  {
   "cell_type": "code",
   "execution_count": 61,
   "metadata": {},
   "outputs": [
    {
     "data": {
      "text/plain": [
       "41.86"
      ]
     },
     "execution_count": 61,
     "metadata": {},
     "output_type": "execute_result"
    }
   ],
   "source": [
    "round(df.query('box_office > 0')['box_office'].count() / df['box_office'].count() * 100, 2)"
   ]
  },
  {
   "cell_type": "markdown",
   "metadata": {
    "id": "BEOdcIrIgFyW"
   },
   "source": [
    "#### Изучим, как менялась динамика проката по годам."
   ]
  },
  {
   "cell_type": "markdown",
   "metadata": {},
   "source": [
    "Посмотрим на изменение суммы сборов в разрезе каждого отдельного года:"
   ]
  },
  {
   "cell_type": "code",
   "execution_count": 62,
   "metadata": {},
   "outputs": [
    {
     "data": {
      "image/png": "[encoded data removed]",
      "text/plain": [
       "<Figure size 720x360 with 1 Axes>"
      ]
     },
     "metadata": {
      "needs_background": "light"
     },
     "output_type": "display_data"
    }
   ],
   "source": [
    "df_pivot.plot(title='Сборы фильмов в прокате по годам', kind='line', y='Сумма', figsize=(10, 5), legend=False, grid=True, alpha=0.6)\n",
    "plt.ylabel('Сумма сборов')\n",
    "plt.xlabel('Год')\n",
    "plt.show()"
   ]
  },
  {
   "cell_type": "code",
   "execution_count": 63,
   "metadata": {},
   "outputs": [
    {
     "data": {
      "text/plain": [
       "2010"
      ]
     },
     "execution_count": 63,
     "metadata": {},
     "output_type": "execute_result"
    }
   ],
   "source": [
    "df_pivot['Сумма'].idxmin()"
   ]
  },
  {
   "cell_type": "code",
   "execution_count": 64,
   "metadata": {},
   "outputs": [
    {
     "data": {
      "text/plain": [
       "2018"
      ]
     },
     "execution_count": 64,
     "metadata": {},
     "output_type": "execute_result"
    }
   ],
   "source": [
    "df_pivot['Сумма'].idxmax()"
   ]
  },
  {
   "cell_type": "markdown",
   "metadata": {},
   "source": [
    "Видим, что минимальные сборы были в 2010 году. Максимальные сборы были в 2018 году."
   ]
  },
  {
   "cell_type": "markdown",
   "metadata": {
    "id": "G-7qS-N-gFyY"
   },
   "source": [
    "#### С помощью сводной таблицы посчитаем среднюю и медианную сумму сборов для каждого года."
   ]
  },
  {
   "cell_type": "code",
   "execution_count": 65,
   "metadata": {
    "id": "jmp-rgg9gFyY"
   },
   "outputs": [
    {
     "data": {
      "text/html": [
       "<div>\n",
       "<style scoped>\n",
       "    .dataframe tbody tr th:only-of-type {\n",
       "        vertical-align: middle;\n",
       "    }\n",
       "\n",
       "    .dataframe tbody tr th {\n",
       "        vertical-align: top;\n",
       "    }\n",
       "\n",
       "    .dataframe thead th {\n",
       "        text-align: right;\n",
       "    }\n",
       "</style>\n",
       "<table border=\"1\" class=\"dataframe\">\n",
       "  <thead>\n",
       "    <tr style=\"text-align: right;\">\n",
       "      <th></th>\n",
       "      <th>Среднее</th>\n",
       "      <th>Медиана</th>\n",
       "    </tr>\n",
       "    <tr>\n",
       "      <th>show_start_year</th>\n",
       "      <th></th>\n",
       "      <th></th>\n",
       "    </tr>\n",
       "  </thead>\n",
       "  <tbody>\n",
       "    <tr>\n",
       "      <th>2010</th>\n",
       "      <td>24,046.08</td>\n",
       "      <td>1,710.00</td>\n",
       "    </tr>\n",
       "    <tr>\n",
       "      <th>2011</th>\n",
       "      <td>129,383.17</td>\n",
       "      <td>3,000.00</td>\n",
       "    </tr>\n",
       "    <tr>\n",
       "      <th>2012</th>\n",
       "      <td>56,548.15</td>\n",
       "      <td>6,220.00</td>\n",
       "    </tr>\n",
       "    <tr>\n",
       "      <th>2013</th>\n",
       "      <td>166,478.81</td>\n",
       "      <td>3,580.00</td>\n",
       "    </tr>\n",
       "    <tr>\n",
       "      <th>2014</th>\n",
       "      <td>27,270,885.93</td>\n",
       "      <td>20,400.00</td>\n",
       "    </tr>\n",
       "    <tr>\n",
       "      <th>2015</th>\n",
       "      <td>85,492,132.46</td>\n",
       "      <td>5,003,450.15</td>\n",
       "    </tr>\n",
       "    <tr>\n",
       "      <th>2016</th>\n",
       "      <td>91,173,904.27</td>\n",
       "      <td>3,915,041.02</td>\n",
       "    </tr>\n",
       "    <tr>\n",
       "      <th>2017</th>\n",
       "      <td>136,032,793.33</td>\n",
       "      <td>9,968,340.00</td>\n",
       "    </tr>\n",
       "    <tr>\n",
       "      <th>2018</th>\n",
       "      <td>104,565,059.23</td>\n",
       "      <td>8,891,102.21</td>\n",
       "    </tr>\n",
       "    <tr>\n",
       "      <th>2019</th>\n",
       "      <td>91,369,261.85</td>\n",
       "      <td>4,627,798.34</td>\n",
       "    </tr>\n",
       "  </tbody>\n",
       "</table>\n",
       "</div>"
      ],
      "text/plain": [
       "                       Среднее      Медиана\n",
       "show_start_year                            \n",
       "2010                 24,046.08     1,710.00\n",
       "2011                129,383.17     3,000.00\n",
       "2012                 56,548.15     6,220.00\n",
       "2013                166,478.81     3,580.00\n",
       "2014             27,270,885.93    20,400.00\n",
       "2015             85,492,132.46 5,003,450.15\n",
       "2016             91,173,904.27 3,915,041.02\n",
       "2017            136,032,793.33 9,968,340.00\n",
       "2018            104,565,059.23 8,891,102.21\n",
       "2019             91,369,261.85 4,627,798.34"
      ]
     },
     "execution_count": 65,
     "metadata": {},
     "output_type": "execute_result"
    }
   ],
   "source": [
    "df_pivot.loc[:, ['Среднее', 'Медиана']]"
   ]
  },
  {
   "cell_type": "markdown",
   "metadata": {},
   "source": [
    "Для наглядности выведем медиану и среднее на график:"
   ]
  },
  {
   "cell_type": "code",
   "execution_count": 66,
   "metadata": {},
   "outputs": [
    {
     "data": {
      "image/png": "[encoded data removed]",
      "text/plain": [
       "<Figure size 720x360 with 1 Axes>"
      ]
     },
     "metadata": {
      "needs_background": "light"
     },
     "output_type": "display_data"
    }
   ],
   "source": [
    "df_pivot.plot(title='Средняя и медианная сумма сборов по годам', kind='line', y=['Медиана', 'Среднее'], figsize=(10, 5), legend=True, grid=True, color=['blue','red'], alpha=0.6)\n",
    "plt.ylabel('Сборы')\n",
    "plt.xlabel('Год')\n",
    "plt.show()"
   ]
  },
  {
   "cell_type": "markdown",
   "metadata": {},
   "source": [
    "Судя по среднему значению, начиная с 2013 года сумма за сборы существенно увеличились. Падение произошло только с 2017 года. \n",
    "\n",
    "При этом судя по медианному значению перепад \"температуры по больнице\" был не настолько велик."
   ]
  },
  {
   "cell_type": "markdown",
   "metadata": {},
   "source": [
    "В разделе 2.5.4.нашего исследования мы выявили, что у более половины фильмов не указаны сборы. Мы не удалили такие аномальные значения, так как их было очень много и мы бы лишились половины данных. Однако, данная аномалия повлияла на среднее значение (оно слишком занижено).\n",
    "Поэтому в данном случае целесообразнее всего доверять медиане. "
   ]
  },
  {
   "cell_type": "markdown",
   "metadata": {
    "id": "Ok89WFwJgFyZ"
   },
   "source": [
    "#### Определим, влияет ли возрастное ограничение аудитории («6+», «12+», «16+», «18+» и т. д.) на сборы фильма в прокате в период с 2015 по 2019 год? Фильмы с каким возрастным ограничением собрали больше всего денег в прокате? Меняется ли картина в зависимости от года?"
   ]
  },
  {
   "cell_type": "code",
   "execution_count": 67,
   "metadata": {
    "id": "jsSbEqfjgFya"
   },
   "outputs": [
    {
     "data": {
      "image/png": "[encoded data removed]",
      "text/plain": [
       "<Figure size 1080x504 with 1 Axes>"
      ]
     },
     "metadata": {
      "needs_background": "light"
     },
     "output_type": "display_data"
    }
   ],
   "source": [
    "df_check_age = df.query('box_office > 0').pivot_table(index='show_start_year', columns='age_restriction', values='box_office', aggfunc='sum')\n",
    "\n",
    "(df_check_age.plot(title='Сумма сборов по годам с разбивкой по возрастным категориям', kind='line', xlim=[2015, 2019], figsize=(15, 7), legend=True, grid=True, alpha=0.6))\n",
    "plt.ylabel('Сборы')\n",
    "plt.xlabel('Год')\n",
    "plt.show()"
   ]
  },
  {
   "cell_type": "markdown",
   "metadata": {},
   "source": [
    "Изучим суммарные данные по категориям и подведем итог в строке `Итого`."
   ]
  },
  {
   "cell_type": "code",
   "execution_count": 68,
   "metadata": {},
   "outputs": [
    {
     "data": {
      "text/html": [
       "<div>\n",
       "<style scoped>\n",
       "    .dataframe tbody tr th:only-of-type {\n",
       "        vertical-align: middle;\n",
       "    }\n",
       "\n",
       "    .dataframe tbody tr th {\n",
       "        vertical-align: top;\n",
       "    }\n",
       "\n",
       "    .dataframe thead th {\n",
       "        text-align: right;\n",
       "    }\n",
       "</style>\n",
       "<table border=\"1\" class=\"dataframe\">\n",
       "  <thead>\n",
       "    <tr style=\"text-align: right;\">\n",
       "      <th>age_restriction</th>\n",
       "      <th>«0+» - для любой зрительской аудитории</th>\n",
       "      <th>«12+» - для детей старше 12 лет</th>\n",
       "      <th>«16+» - для детей старше 16 лет</th>\n",
       "      <th>«18+» - запрещено для детей</th>\n",
       "      <th>«6+» - для детей старше 6 лет</th>\n",
       "    </tr>\n",
       "    <tr>\n",
       "      <th>show_start_year</th>\n",
       "      <th></th>\n",
       "      <th></th>\n",
       "      <th></th>\n",
       "      <th></th>\n",
       "      <th></th>\n",
       "    </tr>\n",
       "  </thead>\n",
       "  <tbody>\n",
       "    <tr>\n",
       "      <th>2010</th>\n",
       "      <td>1,887,611.00</td>\n",
       "      <td>120,146.00</td>\n",
       "      <td>366,512.00</td>\n",
       "      <td>54,385.00</td>\n",
       "      <td>NaN</td>\n",
       "    </tr>\n",
       "    <tr>\n",
       "      <th>2011</th>\n",
       "      <td>13,499,871.00</td>\n",
       "      <td>219,891.00</td>\n",
       "      <td>381,513.00</td>\n",
       "      <td>1,040.00</td>\n",
       "      <td>450.00</td>\n",
       "    </tr>\n",
       "    <tr>\n",
       "      <th>2012</th>\n",
       "      <td>2,266,483.00</td>\n",
       "      <td>108,734.00</td>\n",
       "      <td>3,254,216.00</td>\n",
       "      <td>182,580.00</td>\n",
       "      <td>1,143,410.00</td>\n",
       "    </tr>\n",
       "    <tr>\n",
       "      <th>2013</th>\n",
       "      <td>2,710,302.50</td>\n",
       "      <td>20,910,336.50</td>\n",
       "      <td>658,069.60</td>\n",
       "      <td>5,161,245.60</td>\n",
       "      <td>359,752.00</td>\n",
       "    </tr>\n",
       "    <tr>\n",
       "      <th>2014</th>\n",
       "      <td>375,562,258.20</td>\n",
       "      <td>2,584,782,324.00</td>\n",
       "      <td>544,280,086.70</td>\n",
       "      <td>2,209,712,746.90</td>\n",
       "      <td>1,730,614,443.40</td>\n",
       "    </tr>\n",
       "    <tr>\n",
       "      <th>2015</th>\n",
       "      <td>379,054,578.37</td>\n",
       "      <td>13,616,082,008.91</td>\n",
       "      <td>11,368,120,870.27</td>\n",
       "      <td>5,432,308,367.44</td>\n",
       "      <td>8,701,799,371.41</td>\n",
       "    </tr>\n",
       "    <tr>\n",
       "      <th>2016</th>\n",
       "      <td>150,228,848.67</td>\n",
       "      <td>12,204,446,524.39</td>\n",
       "      <td>16,664,548,541.74</td>\n",
       "      <td>6,793,929,818.87</td>\n",
       "      <td>12,053,146,008.24</td>\n",
       "    </tr>\n",
       "    <tr>\n",
       "      <th>2017</th>\n",
       "      <td>229,598,930.00</td>\n",
       "      <td>7,851,427,660.67</td>\n",
       "      <td>18,745,042,900.06</td>\n",
       "      <td>9,651,495,581.02</td>\n",
       "      <td>12,086,142,145.76</td>\n",
       "    </tr>\n",
       "    <tr>\n",
       "      <th>2018</th>\n",
       "      <td>32,449,002.11</td>\n",
       "      <td>14,267,291,660.69</td>\n",
       "      <td>16,503,602,346.96</td>\n",
       "      <td>8,760,085,501.15</td>\n",
       "      <td>10,104,974,623.41</td>\n",
       "    </tr>\n",
       "    <tr>\n",
       "      <th>2019</th>\n",
       "      <td>17,746,066.82</td>\n",
       "      <td>12,680,198,773.67</td>\n",
       "      <td>12,753,418,984.60</td>\n",
       "      <td>10,121,796,303.64</td>\n",
       "      <td>12,852,548,650.86</td>\n",
       "    </tr>\n",
       "    <tr>\n",
       "      <th>Итого</th>\n",
       "      <td>1,205,003,951.67</td>\n",
       "      <td>63,225,588,059.83</td>\n",
       "      <td>76,583,674,040.93</td>\n",
       "      <td>42,974,727,569.62</td>\n",
       "      <td>57,530,728,855.08</td>\n",
       "    </tr>\n",
       "  </tbody>\n",
       "</table>\n",
       "</div>"
      ],
      "text/plain": [
       "age_restriction  «0+» - для любой зрительской аудитории  \\\n",
       "show_start_year                                           \n",
       "2010                                       1,887,611.00   \n",
       "2011                                      13,499,871.00   \n",
       "2012                                       2,266,483.00   \n",
       "2013                                       2,710,302.50   \n",
       "2014                                     375,562,258.20   \n",
       "2015                                     379,054,578.37   \n",
       "2016                                     150,228,848.67   \n",
       "2017                                     229,598,930.00   \n",
       "2018                                      32,449,002.11   \n",
       "2019                                      17,746,066.82   \n",
       "Итого                                  1,205,003,951.67   \n",
       "\n",
       "age_restriction  «12+» - для детей старше 12 лет  \\\n",
       "show_start_year                                    \n",
       "2010                                  120,146.00   \n",
       "2011                                  219,891.00   \n",
       "2012                                  108,734.00   \n",
       "2013                               20,910,336.50   \n",
       "2014                            2,584,782,324.00   \n",
       "2015                           13,616,082,008.91   \n",
       "2016                           12,204,446,524.39   \n",
       "2017                            7,851,427,660.67   \n",
       "2018                           14,267,291,660.69   \n",
       "2019                           12,680,198,773.67   \n",
       "Итого                          63,225,588,059.83   \n",
       "\n",
       "age_restriction  «16+» - для детей старше 16 лет  «18+» - запрещено для детей  \\\n",
       "show_start_year                                                                 \n",
       "2010                                  366,512.00                    54,385.00   \n",
       "2011                                  381,513.00                     1,040.00   \n",
       "2012                                3,254,216.00                   182,580.00   \n",
       "2013                                  658,069.60                 5,161,245.60   \n",
       "2014                              544,280,086.70             2,209,712,746.90   \n",
       "2015                           11,368,120,870.27             5,432,308,367.44   \n",
       "2016                           16,664,548,541.74             6,793,929,818.87   \n",
       "2017                           18,745,042,900.06             9,651,495,581.02   \n",
       "2018                           16,503,602,346.96             8,760,085,501.15   \n",
       "2019                           12,753,418,984.60            10,121,796,303.64   \n",
       "Итого                          76,583,674,040.93            42,974,727,569.62   \n",
       "\n",
       "age_restriction  «6+» - для детей старше 6 лет  \n",
       "show_start_year                                 \n",
       "2010                                       NaN  \n",
       "2011                                    450.00  \n",
       "2012                              1,143,410.00  \n",
       "2013                                359,752.00  \n",
       "2014                          1,730,614,443.40  \n",
       "2015                          8,701,799,371.41  \n",
       "2016                         12,053,146,008.24  \n",
       "2017                         12,086,142,145.76  \n",
       "2018                         10,104,974,623.41  \n",
       "2019                         12,852,548,650.86  \n",
       "Итого                        57,530,728,855.08  "
      ]
     },
     "execution_count": 68,
     "metadata": {},
     "output_type": "execute_result"
    }
   ],
   "source": [
    "total = df_check_age.sum(axis=0)\n",
    "df_check_age = df_check_age.append(pd.Series(total, name='Итого'))\n",
    "df_check_age"
   ]
  },
  {
   "cell_type": "markdown",
   "metadata": {},
   "source": [
    "Лидерами по итоговым сборам яввляются фильмы 16+. После 2017 года сборы по фильмам 16+ упали по сравнению с предыдущими годами, но по прежнему являлись лидерами по сравнению с остальными фильмами. \n",
    "\n",
    "С 2018 года стали набирать популярность фильмы 12+.\n",
    "\n",
    "В 2019 году первое место по сборам заняли фильмы «6+», что может свидетельствовать о том, что вкусы и предпочтения зрителей меняются со временем.\n",
    "\n",
    "Смена интересов зрителей к фильмам разной возрастной категории может быть связано с текущией в определенном году тенденцией. \n",
    "Так, например, до 2018 года на первом месте у зретелей была тенденция к развлечениям и путешествиям, а с 2018 зрители стали тяготеть к семейным ценностям и приоритетам, таким как укрепление семьи и отношений между родителями и детьми. Поэтому на первое место вышли фильмы 6+. Кроме того, существенное влияние на выбор зрителей может оказывать качество фильмов и их сценарий, а также качество продвижения и рекламы фильмов."
   ]
  },
  {
   "cell_type": "markdown",
   "metadata": {
    "id": "l_Kg6Ku4gFya"
   },
   "source": [
    "## Исследуем фильмы, которые получили государственную поддержку"
   ]
  },
  {
   "cell_type": "markdown",
   "metadata": {
    "id": "W9QKpjUdgFyb"
   },
   "source": [
    "Посмотрим на фильмы, которые получали государственную поддержку через параметр сборов, сколько собрано в целом, на какие фильмы, на какие жанры, а также проверим рейтинги у фильмов с государственной поддержкой и без нее."
   ]
  },
  {
   "cell_type": "markdown",
   "metadata": {},
   "source": [
    "Посмотрим на информацию о общих сборах."
   ]
  },
  {
   "cell_type": "code",
   "execution_count": 69,
   "metadata": {},
   "outputs": [
    {
     "data": {
      "text/plain": [
       "32262853.657110605"
      ]
     },
     "execution_count": 69,
     "metadata": {},
     "output_type": "execute_result"
    }
   ],
   "source": [
    "df['box_office'].mean()"
   ]
  },
  {
   "cell_type": "code",
   "execution_count": 70,
   "metadata": {},
   "outputs": [
    {
     "data": {
      "text/plain": [
       "0.0"
      ]
     },
     "execution_count": 70,
     "metadata": {},
     "output_type": "execute_result"
    }
   ],
   "source": [
    "df['box_office'].median()"
   ]
  },
  {
   "cell_type": "code",
   "execution_count": 71,
   "metadata": {},
   "outputs": [
    {
     "data": {
      "text/plain": [
       "0.0"
      ]
     },
     "execution_count": 71,
     "metadata": {},
     "output_type": "execute_result"
    }
   ],
   "source": [
    "df['box_office'].min()"
   ]
  },
  {
   "cell_type": "code",
   "execution_count": 72,
   "metadata": {},
   "outputs": [
    {
     "data": {
      "text/plain": [
       "3073568690.79"
      ]
     },
     "execution_count": 72,
     "metadata": {},
     "output_type": "execute_result"
    }
   ],
   "source": [
    "df['box_office'].max()"
   ]
  },
  {
   "cell_type": "markdown",
   "metadata": {},
   "source": [
    "Посмотрим подробнее на параметр сборов исключив из него отсутствующие данные в представлении гистограммы."
   ]
  },
  {
   "cell_type": "code",
   "execution_count": 73,
   "metadata": {},
   "outputs": [
    {
     "data": {
      "image/png": "[encoded data removed]",
      "text/plain": [
       "<Figure size 432x288 with 1 Axes>"
      ]
     },
     "metadata": {
      "needs_background": "light"
     },
     "output_type": "display_data"
    }
   ],
   "source": [
    "df.query('box_office > 0')['box_office'].hist(bins=100, range=(0,25000));\n",
    "plt.ylabel('Количество значений в данных')\n",
    "plt.xlabel('Сумма сборов');"
   ]
  },
  {
   "cell_type": "markdown",
   "metadata": {},
   "source": [
    "Построим ящик с усами, чтобы понять, сколько собирали фильмы чаще всего."
   ]
  },
  {
   "cell_type": "code",
   "execution_count": 74,
   "metadata": {},
   "outputs": [
    {
     "data": {
      "text/plain": [
       "<AxesSubplot:>"
      ]
     },
     "execution_count": 74,
     "metadata": {},
     "output_type": "execute_result"
    },
    {
     "data": {
      "image/png": "[encoded data removed]",
      "text/plain": [
       "<Figure size 432x288 with 1 Axes>"
      ]
     },
     "metadata": {
      "needs_background": "light"
     },
     "output_type": "display_data"
    }
   ],
   "source": [
    "non_nul = df.query('box_office > 0')\n",
    "box = non_nul[['box_office', 'title']]\n",
    "plt.ylim(-1000000, 70000000)\n",
    "box.boxplot()"
   ]
  },
  {
   "cell_type": "markdown",
   "metadata": {},
   "source": [
    "Видим, что большая часть значений лежит в диапазоне практически от 0 до 24 000 000 рублей.\n",
    "\n",
    "Верхний ус заканчивается около 70 000 000. Более высокие значения рисуются отдельными точками.\n",
    "Значения, которые отсёк верхний «ус», — редкие. Видно, насколько медиана (зелёная линия) не стремится к длинному хвосту высоких значений, а лежит практически около 0.\n",
    "\n",
    "Сборов в крупных суммах было очень немного. Судя по графиках преобладают сборы до 500 000 рублей."
   ]
  },
  {
   "cell_type": "markdown",
   "metadata": {},
   "source": [
    "Посмотрим на количество снятых при поддержке Министерства культуры или Фонда кино фильмов, отдельно для тех, у которых есть сборы, а отдельно без сборов."
   ]
  },
  {
   "cell_type": "code",
   "execution_count": 75,
   "metadata": {},
   "outputs": [
    {
     "data": {
      "text/plain": [
       "'Проекты сняты при поддержке Министерства культуры или Фонда кино без информации о сборах'"
      ]
     },
     "metadata": {},
     "output_type": "display_data"
    },
    {
     "data": {
      "text/plain": [
       "0"
      ]
     },
     "metadata": {},
     "output_type": "display_data"
    },
    {
     "data": {
      "text/plain": [
       "'Проекты сняты при поддержке Министерства культуры или Фонда кино с информацией о сборах'"
      ]
     },
     "metadata": {},
     "output_type": "display_data"
    },
    {
     "data": {
      "text/plain": [
       "0"
      ]
     },
     "metadata": {},
     "output_type": "display_data"
    }
   ],
   "source": [
    "list_sponsor = ['Министерство культуры', 'Фонд кино', 'Министерство культуры, Фонд кино']\n",
    "display('Проекты сняты при поддержке Министерства культуры или Фонда кино без информации о сборах', df.query('budget != 0 and box_office == 0  and financing_source in @list_sponsor' )['title'].count())\n",
    "display('Проекты сняты при поддержке Министерства культуры или Фонда кино с информацией о сборах', df.query('budget != 0 and box_office != 0 and financing_source in @list_sponsor' )['title'].count())"
   ]
  },
  {
   "cell_type": "code",
   "execution_count": 76,
   "metadata": {},
   "outputs": [
    {
     "data": {
      "text/plain": [
       "'Медиана по выделяемому бюджету на фильмы руб.: 74592550.0'"
      ]
     },
     "metadata": {},
     "output_type": "display_data"
    }
   ],
   "source": [
    "median_budget = df.query('budget != 0')['budget'].median()\n",
    "display(f'Медиана по выделяемому бюджету на фильмы руб.: {median_budget}', )"
   ]
  },
  {
   "cell_type": "markdown",
   "metadata": {},
   "source": [
    "Очень много сумм сборов относительно скромные. Так как медианная сумма по размеру бюджета 74 592 550 рублей, посмотрим на количество фильмов, которые ниже этой границы по сборам."
   ]
  },
  {
   "cell_type": "code",
   "execution_count": 77,
   "metadata": {},
   "outputs": [
    {
     "data": {
      "text/plain": [
       "'Сборов до медианы по выделяемому бюджету: 0'"
      ]
     },
     "metadata": {},
     "output_type": "display_data"
    }
   ],
   "source": [
    "count_film = df.query('budget != 0 and box_office < 74592550 and financing_source in @list_sponsor')['box_office'].sort_values(ascending=True).nunique()\n",
    "display(f'Сборов до медианы по выделяемому бюджету: {count_film}', )"
   ]
  },
  {
   "cell_type": "markdown",
   "metadata": {},
   "source": [
    "Фильмов, которые сняты при поддержке Министерства культуры или Фонда кино и получили сборов меньше медианного значения выделяемого бюджета — 221, это 69.5% от общей информации о сборах, которая у нас есть. Судя по всему доходы у выпускаемых фильмов, которые были на господдержке были очень скромные."
   ]
  },
  {
   "cell_type": "markdown",
   "metadata": {},
   "source": [
    "Чтобы разобраться со сборами и получить как можно больше информации об этом параметре, обратимся к распределению по категориям и вычислению процентов от общего количества данных, а затем посмотрим на доходы в разрезе по типам фильмов."
   ]
  },
  {
   "cell_type": "markdown",
   "metadata": {},
   "source": [
    "Сборы можно поделить на пять основных условных категорий:\n",
    "\n",
    "- провал - сборы фильма не покрыли даже бюджет производства;\n",
    "- убыток - сборы фильма покрыли только бюджет производства, но не принесли прибыли;\n",
    "- средний успех - сборы фильма превысили бюджет производства, но не достигли уровня ожидаемой прибыли;\n",
    "- хороший успех - сборы фильма превысили бюджет производства и достигли или превысили ожидаемую прибыль;\n",
    "- кассовый успех - сборы фильма значительно превысили бюджет производства и принесли огромную прибыль."
   ]
  },
  {
   "cell_type": "markdown",
   "metadata": {},
   "source": [
    "Для категоризации поделим цены с помощью метода .quantile() и шага 20%. цена:\n",
    "    \n",
    "- провал: 0-20%\n",
    "- убыток: 21-40%\n",
    "- средний успех: 41-60%\n",
    "- хороший успех: 61-80%\n",
    "- кассовый успех: 81-100%"
   ]
  },
  {
   "cell_type": "code",
   "execution_count": 78,
   "metadata": {},
   "outputs": [
    {
     "data": {
      "text/plain": [
       "0.20   NaN\n",
       "0.40   NaN\n",
       "0.60   NaN\n",
       "0.80   NaN\n",
       "Name: box_office, dtype: float64"
      ]
     },
     "execution_count": 78,
     "metadata": {},
     "output_type": "execute_result"
    }
   ],
   "source": [
    "df.query('budget != 0 and box_office != 0 and financing_source in @list_sponsor')['box_office'].quantile([.20, .40, .60, .80])"
   ]
  },
  {
   "cell_type": "code",
   "execution_count": 79,
   "metadata": {},
   "outputs": [],
   "source": [
    "bins = [0, 725984.10, 5789606.54, 37480267.37, 150860738.64, float('inf')]\n",
    "labels = ['провал', 'убыток', 'средний успех', 'хороший успех', 'кассовый успех']\n",
    "df['category'] = pd.cut(df['box_office'], bins=bins, labels=labels)"
   ]
  },
  {
   "cell_type": "code",
   "execution_count": 80,
   "metadata": {},
   "outputs": [],
   "source": [
    "def sort_category(new_df, index, column):\n",
    "    sort_category_df = (new_df.pivot_table(index=index, values=column, aggfunc='count').sort_values(by=column, ascending = False))\n",
    "    sort_category_df['percent'] = (sort_category_df[column] / sort_category_df[column].sum()) * 100  \n",
    "    sort_category_df = sort_category_df.set_axis(['Количество в ' + column, 'Процент от общего'], axis='columns')\n",
    "    return sort_category_df"
   ]
  },
  {
   "cell_type": "markdown",
   "metadata": {},
   "source": [
    "Посмотрим на процент по каждой категории:"
   ]
  },
  {
   "cell_type": "code",
   "execution_count": 81,
   "metadata": {},
   "outputs": [
    {
     "data": {
      "text/html": [
       "<div>\n",
       "<style scoped>\n",
       "    .dataframe tbody tr th:only-of-type {\n",
       "        vertical-align: middle;\n",
       "    }\n",
       "\n",
       "    .dataframe tbody tr th {\n",
       "        vertical-align: top;\n",
       "    }\n",
       "\n",
       "    .dataframe thead th {\n",
       "        text-align: right;\n",
       "    }\n",
       "</style>\n",
       "<table border=\"1\" class=\"dataframe\">\n",
       "  <thead>\n",
       "    <tr style=\"text-align: right;\">\n",
       "      <th></th>\n",
       "      <th>Количество в box_office</th>\n",
       "      <th>Процент от общего</th>\n",
       "    </tr>\n",
       "    <tr>\n",
       "      <th>category</th>\n",
       "      <th></th>\n",
       "      <th></th>\n",
       "    </tr>\n",
       "  </thead>\n",
       "  <tbody>\n",
       "    <tr>\n",
       "      <th>провал</th>\n",
       "      <td>1131</td>\n",
       "      <td>36.09</td>\n",
       "    </tr>\n",
       "    <tr>\n",
       "      <th>убыток</th>\n",
       "      <td>785</td>\n",
       "      <td>25.05</td>\n",
       "    </tr>\n",
       "    <tr>\n",
       "      <th>средний успех</th>\n",
       "      <td>544</td>\n",
       "      <td>17.36</td>\n",
       "    </tr>\n",
       "    <tr>\n",
       "      <th>кассовый успех</th>\n",
       "      <td>355</td>\n",
       "      <td>11.33</td>\n",
       "    </tr>\n",
       "    <tr>\n",
       "      <th>хороший успех</th>\n",
       "      <td>319</td>\n",
       "      <td>10.18</td>\n",
       "    </tr>\n",
       "  </tbody>\n",
       "</table>\n",
       "</div>"
      ],
      "text/plain": [
       "                Количество в box_office  Процент от общего\n",
       "category                                                  \n",
       "провал                             1131              36.09\n",
       "убыток                              785              25.05\n",
       "средний успех                       544              17.36\n",
       "кассовый успех                      355              11.33\n",
       "хороший успех                       319              10.18"
      ]
     },
     "execution_count": 81,
     "metadata": {},
     "output_type": "execute_result"
    }
   ],
   "source": [
    "sort_category(df, 'category', 'box_office')"
   ]
  },
  {
   "cell_type": "markdown",
   "metadata": {},
   "source": [
    "Доля провальных и убыточных фильмов крайне велика, суммарно это 61.14% от всех количества всех данных о сборах."
   ]
  },
  {
   "cell_type": "markdown",
   "metadata": {},
   "source": [
    "Построим диаграмму в зависимости от определенных ранее категорий и типов, которые указаны в данных."
   ]
  },
  {
   "cell_type": "code",
   "execution_count": 82,
   "metadata": {},
   "outputs": [],
   "source": [
    "def counts_hist(new_df, columns, kind):\n",
    "    new_df['category'] = new_df['category'].astype(str)\n",
    "    counts = (new_df.groupby('type')[columns].value_counts()).to_frame().rename(columns={columns: 'count'}).reset_index()\n",
    "    (pd.pivot_table(counts, values='count', index='type', columns=columns, fill_value=0)).plot(kind=kind, grid=True, figsize=(15, 5), legend=True);\n",
    "    plt.ylabel('Количество значений в данных')\n",
    "    plt.xlabel('Типы фильмов')"
   ]
  },
  {
   "cell_type": "code",
   "execution_count": 83,
   "metadata": {},
   "outputs": [
    {
     "data": {
      "image/png": "[encoded data removed]",
      "text/plain": [
       "<Figure size 1080x360 with 1 Axes>"
      ]
     },
     "metadata": {
      "needs_background": "light"
     },
     "output_type": "display_data"
    }
   ],
   "source": [
    "counts_hist(df, 'category', 'bar')"
   ]
  },
  {
   "cell_type": "markdown",
   "metadata": {},
   "source": [
    "Больше всего в российских кинотеатрах было художественных фильмов, которые провалились в прокате. Анимационные фильмы также преимущественно были провальными по сборам."
   ]
  },
  {
   "cell_type": "markdown",
   "metadata": {
    "id": "V2gYwMcPgFyd"
   },
   "source": [
    "## Общий вывод"
   ]
  },
  {
   "cell_type": "markdown",
   "metadata": {},
   "source": [
    "В рамках настоящего исследования была проведена предварительная обработка данных — устранены пропуски и аномальные значения. \n",
    "\n",
    "Киноиндустрия является одной из наиболее динамичных отраслей. С 2010 по 2019 годы отрасль продемонстрировала значительный рост в производстве и количестве выходящих фильмов, а также в затратах на их производство. В частности, количество фильмов, которые выходили в прокат, увеличилось примерно в 5 раз, и затраты на производство кинолент существенно выросли."
   ]
  },
  {
   "cell_type": "markdown",
   "metadata": {},
   "source": [
    "Начиная с 2010 года был заметен рост количества фильмов, которым выдавались прокатные удостоверения. Однако, в 2017 году произошел резкий спад, который был связан с некоторыми проблемами внутри отрасли, в том числе с качеством фильмов и низкими сборами. К 2019 году значения количества выходящих фильмов и затрат на их производство вернулись к уровню 2016 года.\n",
    "\n",
    "Спад по количеству выдаваемых прокатных удостоверений и уменьшению сборов в России в 2017 и 2018 годах можно связать с несколькими факторами.\n",
    "\n",
    "Во-первых, на этот период пришелся скачок инфляции, что привело к росту цен на билеты в кинотеатрах. Это могло снизить спрос на кино и привести к сокращению выдачи прокатных удостоверений.\n",
    "Во-вторых, в 2017 году был принят закон, который вводил новые правила выдачи прокатных удостоверений и требовал большей прозрачности в работе кинокомпаний. Это могло привести к снижению количества выдаваемых удостоверений в связи с изменением условий работы.\n",
    "В-третьих, в этот период происходили изменения в налоговом законодательстве, которые могли повлиять на финансовую устойчивость кинокомпаний.\n",
    "\n",
    "В течение трех лет подряд c 2016 по 2018 фильмы «16+» были лидерами по сборам в кинотеатрах, тогда как другие категории испытывали спад или не очень заметные изменения. Однако в 2019 году первое место по сборам заняли фильмы «6+» с небольшим отрывом. Вероятно, это связано с тем, что фильмы «16+» после пика в 2017 году начали терять аудиторию, возможно, из-за перенасыщения рынка. Кроме того, начиная с 2017 года, популярность набирают фильмы «12+», которые частично делят сегмент аудитории с фильмами «16+», что также могло привести к снижению интереса к фильмам в этой категории. Из анализа данных о фильмах, выпущенных в российский прокат с 2010 по 2019 год, следует, что большинство художественных фильмов не смотря на то, что занимали лидирующую позицию по прокатам, не смогли окупить свои бюджеты, а многие анимационные фильмы также оказались провальными. \n",
    "\n",
    "Однако, данные также показывают, что фильмы, снятые при государственной поддержке, не всегда показывают высокие результаты. "
   ]
  }
 ],
 "metadata": {
  "ExecuteTimeLog": [
   {
    "duration": 537,
    "start_time": "2021-07-07T10:12:08.634Z"
   },
   {
    "duration": 206,
    "start_time": "2021-07-07T10:12:30.191Z"
   },
   {
    "duration": 227,
    "start_time": "2021-07-07T10:12:33.078Z"
   },
   {
    "duration": 153,
    "start_time": "2021-07-07T10:13:42.146Z"
   },
   {
    "duration": 233,
    "start_time": "2021-07-07T10:30:09.252Z"
   },
   {
    "duration": 19,
    "start_time": "2021-07-07T10:30:15.577Z"
   },
   {
    "duration": 18,
    "start_time": "2021-07-07T10:30:57.348Z"
   },
   {
    "duration": 19,
    "start_time": "2021-07-07T10:31:17.452Z"
   },
   {
    "duration": 21,
    "start_time": "2021-07-07T10:31:32.227Z"
   },
   {
    "duration": 27,
    "start_time": "2021-07-07T10:32:06.588Z"
   },
   {
    "duration": 23,
    "start_time": "2021-07-07T10:32:43.645Z"
   },
   {
    "duration": 24,
    "start_time": "2021-07-07T10:33:06.948Z"
   },
   {
    "duration": 7,
    "start_time": "2021-07-07T10:33:28.558Z"
   },
   {
    "duration": 23,
    "start_time": "2021-07-07T10:33:43.761Z"
   },
   {
    "duration": 28,
    "start_time": "2021-07-07T10:34:13.466Z"
   },
   {
    "duration": 23,
    "start_time": "2021-07-07T10:35:56.187Z"
   },
   {
    "duration": 6,
    "start_time": "2021-07-07T10:36:48.182Z"
   },
   {
    "duration": 14,
    "start_time": "2021-07-07T10:37:49.641Z"
   },
   {
    "duration": 6,
    "start_time": "2021-07-07T10:38:06.694Z"
   },
   {
    "duration": 6,
    "start_time": "2021-07-07T10:38:13.493Z"
   },
   {
    "duration": 19,
    "start_time": "2021-07-07T10:38:44.056Z"
   },
   {
    "duration": 186,
    "start_time": "2021-07-07T10:48:35.618Z"
   },
   {
    "duration": 24,
    "start_time": "2021-07-07T10:48:51.498Z"
   },
   {
    "duration": 20,
    "start_time": "2021-07-07T10:48:59.415Z"
   },
   {
    "duration": 20,
    "start_time": "2021-07-07T10:53:02.195Z"
   },
   {
    "duration": 188,
    "start_time": "2021-07-07T10:54:40.486Z"
   },
   {
    "duration": 115,
    "start_time": "2021-07-07T10:54:52.552Z"
   },
   {
    "duration": 214,
    "start_time": "2021-07-07T10:54:56.354Z"
   },
   {
    "duration": 47,
    "start_time": "2021-07-07T10:54:58.282Z"
   },
   {
    "duration": 217,
    "start_time": "2021-07-07T10:59:16.075Z"
   },
   {
    "duration": 51,
    "start_time": "2021-07-07T10:59:16.243Z"
   },
   {
    "duration": 578,
    "start_time": "2021-07-07T10:59:18.774Z"
   },
   {
    "duration": 161,
    "start_time": "2021-07-07T10:59:21.238Z"
   },
   {
    "duration": 59,
    "start_time": "2021-07-07T10:59:21.453Z"
   },
   {
    "duration": 3,
    "start_time": "2021-07-07T11:02:10.786Z"
   },
   {
    "duration": 13,
    "start_time": "2021-07-07T11:07:07.722Z"
   },
   {
    "duration": 26,
    "start_time": "2021-07-07T11:07:17.958Z"
   },
   {
    "duration": 22,
    "start_time": "2021-07-07T11:08:17.939Z"
   },
   {
    "duration": 212,
    "start_time": "2021-07-07T11:08:19.665Z"
   },
   {
    "duration": 21,
    "start_time": "2021-07-07T11:08:29.945Z"
   },
   {
    "duration": 31,
    "start_time": "2021-07-07T11:08:38.899Z"
   },
   {
    "duration": 23,
    "start_time": "2021-07-07T11:08:54.527Z"
   },
   {
    "duration": 8,
    "start_time": "2021-07-07T11:18:55.974Z"
   },
   {
    "duration": 7,
    "start_time": "2021-07-07T11:19:03.639Z"
   },
   {
    "duration": 7,
    "start_time": "2021-07-07T11:19:06.444Z"
   },
   {
    "duration": 578,
    "start_time": "2021-07-07T12:09:59.576Z"
   },
   {
    "duration": 195,
    "start_time": "2021-07-07T12:10:00.156Z"
   },
   {
    "duration": 115,
    "start_time": "2021-07-07T12:10:00.353Z"
   },
   {
    "duration": 3,
    "start_time": "2021-07-07T12:10:00.470Z"
   },
   {
    "duration": 32,
    "start_time": "2021-07-07T12:10:00.474Z"
   },
   {
    "duration": 23,
    "start_time": "2021-07-07T12:10:00.508Z"
   },
   {
    "duration": 19,
    "start_time": "2021-07-07T12:10:00.533Z"
   },
   {
    "duration": 44,
    "start_time": "2021-07-07T12:10:00.553Z"
   },
   {
    "duration": 7,
    "start_time": "2021-07-07T12:10:00.600Z"
   },
   {
    "duration": 7,
    "start_time": "2021-07-07T12:19:45.761Z"
   },
   {
    "duration": 21,
    "start_time": "2021-07-07T12:21:35.482Z"
   },
   {
    "duration": 21,
    "start_time": "2021-07-07T12:29:23.569Z"
   },
   {
    "duration": 525,
    "start_time": "2021-07-07T12:29:44.542Z"
   },
   {
    "duration": 214,
    "start_time": "2021-07-07T12:29:45.069Z"
   },
   {
    "duration": 92,
    "start_time": "2021-07-07T12:29:45.285Z"
   },
   {
    "duration": 3,
    "start_time": "2021-07-07T12:29:45.379Z"
   },
   {
    "duration": 28,
    "start_time": "2021-07-07T12:29:45.384Z"
   },
   {
    "duration": 23,
    "start_time": "2021-07-07T12:29:45.413Z"
   },
   {
    "duration": 21,
    "start_time": "2021-07-07T12:29:45.437Z"
   },
   {
    "duration": 41,
    "start_time": "2021-07-07T12:29:45.460Z"
   },
   {
    "duration": 7,
    "start_time": "2021-07-07T12:29:45.502Z"
   },
   {
    "duration": 20,
    "start_time": "2021-07-07T12:29:45.511Z"
   },
   {
    "duration": 12,
    "start_time": "2021-07-07T12:34:02.800Z"
   },
   {
    "duration": 7,
    "start_time": "2021-07-07T12:35:10.479Z"
   },
   {
    "duration": 8,
    "start_time": "2021-07-07T12:35:22.440Z"
   },
   {
    "duration": 6,
    "start_time": "2021-07-07T12:35:35.649Z"
   },
   {
    "duration": 6,
    "start_time": "2021-07-07T12:35:43.107Z"
   },
   {
    "duration": 22,
    "start_time": "2021-07-07T12:38:03.029Z"
   },
   {
    "duration": 10,
    "start_time": "2021-07-07T12:38:06.592Z"
   },
   {
    "duration": 563,
    "start_time": "2021-07-07T12:38:46.493Z"
   },
   {
    "duration": 265,
    "start_time": "2021-07-07T12:38:47.058Z"
   },
   {
    "duration": 94,
    "start_time": "2021-07-07T12:38:47.325Z"
   },
   {
    "duration": 3,
    "start_time": "2021-07-07T12:38:47.422Z"
   },
   {
    "duration": 30,
    "start_time": "2021-07-07T12:38:47.427Z"
   },
   {
    "duration": 16,
    "start_time": "2021-07-07T12:38:53.305Z"
   },
   {
    "duration": 10,
    "start_time": "2021-07-07T12:38:53.499Z"
   },
   {
    "duration": 8,
    "start_time": "2021-07-07T12:39:48.161Z"
   },
   {
    "duration": 27,
    "start_time": "2021-07-07T12:41:17.629Z"
   },
   {
    "duration": 17,
    "start_time": "2021-07-07T12:41:17.867Z"
   },
   {
    "duration": 21,
    "start_time": "2021-07-07T12:41:19.310Z"
   },
   {
    "duration": 7,
    "start_time": "2021-07-07T12:41:19.544Z"
   },
   {
    "duration": 20,
    "start_time": "2021-07-07T12:41:20.504Z"
   },
   {
    "duration": 554,
    "start_time": "2021-07-07T12:56:23.696Z"
   },
   {
    "duration": 200,
    "start_time": "2021-07-07T12:56:25.234Z"
   },
   {
    "duration": 119,
    "start_time": "2021-07-07T12:56:25.480Z"
   },
   {
    "duration": 4,
    "start_time": "2021-07-07T12:56:25.762Z"
   },
   {
    "duration": 26,
    "start_time": "2021-07-07T12:56:27.172Z"
   },
   {
    "duration": 12,
    "start_time": "2021-07-07T12:56:29.051Z"
   },
   {
    "duration": 10,
    "start_time": "2021-07-07T12:56:29.291Z"
   },
   {
    "duration": 8,
    "start_time": "2021-07-07T12:56:29.623Z"
   },
   {
    "duration": 28,
    "start_time": "2021-07-07T12:56:32.137Z"
   },
   {
    "duration": 19,
    "start_time": "2021-07-07T12:56:39.785Z"
   },
   {
    "duration": 20,
    "start_time": "2021-07-07T12:56:44.297Z"
   },
   {
    "duration": 7,
    "start_time": "2021-07-07T12:56:45.392Z"
   },
   {
    "duration": 23,
    "start_time": "2021-07-07T12:56:46.615Z"
   },
   {
    "duration": 4,
    "start_time": "2021-07-07T12:57:06.625Z"
   },
   {
    "duration": 32,
    "start_time": "2021-07-07T12:57:36.690Z"
   },
   {
    "duration": 18,
    "start_time": "2021-07-07T12:58:00.149Z"
   },
   {
    "duration": 15,
    "start_time": "2021-07-07T12:59:16.793Z"
   },
   {
    "duration": 7,
    "start_time": "2021-07-07T13:19:22.624Z"
   },
   {
    "duration": 6,
    "start_time": "2021-07-07T14:17:33.527Z"
   },
   {
    "duration": 9,
    "start_time": "2021-07-07T14:17:48.409Z"
   },
   {
    "duration": 8,
    "start_time": "2021-07-07T14:20:13.060Z"
   },
   {
    "duration": 8,
    "start_time": "2021-07-07T14:20:37.957Z"
   },
   {
    "duration": 8,
    "start_time": "2021-07-07T14:20:47.470Z"
   },
   {
    "duration": 9,
    "start_time": "2021-07-07T14:20:54.503Z"
   },
   {
    "duration": 10,
    "start_time": "2021-07-07T14:28:57.763Z"
   },
   {
    "duration": 3,
    "start_time": "2021-07-07T14:30:23.377Z"
   },
   {
    "duration": 3,
    "start_time": "2021-07-07T14:30:36.489Z"
   },
   {
    "duration": 103,
    "start_time": "2021-07-07T14:30:52.351Z"
   },
   {
    "duration": 8,
    "start_time": "2021-07-07T14:30:54.763Z"
   },
   {
    "duration": 8,
    "start_time": "2021-07-07T14:31:29.301Z"
   },
   {
    "duration": 13,
    "start_time": "2021-07-07T14:31:44.516Z"
   },
   {
    "duration": 7,
    "start_time": "2021-07-07T14:33:10.972Z"
   },
   {
    "duration": 11,
    "start_time": "2021-07-07T14:33:27.780Z"
   },
   {
    "duration": 8,
    "start_time": "2021-07-07T14:34:44.588Z"
   },
   {
    "duration": 57,
    "start_time": "2021-07-07T14:35:59.042Z"
   },
   {
    "duration": 3,
    "start_time": "2021-07-07T14:36:28.168Z"
   },
   {
    "duration": 5,
    "start_time": "2021-07-07T14:36:46.254Z"
   },
   {
    "duration": 4,
    "start_time": "2021-07-07T14:36:52.714Z"
   },
   {
    "duration": 3,
    "start_time": "2021-07-07T14:36:56.612Z"
   },
   {
    "duration": 4,
    "start_time": "2021-07-07T14:36:57.049Z"
   },
   {
    "duration": 3,
    "start_time": "2021-07-07T14:39:21.214Z"
   },
   {
    "duration": 7,
    "start_time": "2021-07-07T14:39:52.406Z"
   },
   {
    "duration": 11,
    "start_time": "2021-07-07T14:39:58.576Z"
   },
   {
    "duration": 9,
    "start_time": "2021-07-07T14:40:26.301Z"
   },
   {
    "duration": 10,
    "start_time": "2021-07-07T14:40:31.704Z"
   },
   {
    "duration": 11,
    "start_time": "2021-07-07T14:40:36.249Z"
   },
   {
    "duration": 10,
    "start_time": "2021-07-07T14:40:39.783Z"
   },
   {
    "duration": 9,
    "start_time": "2021-07-07T14:40:48.558Z"
   },
   {
    "duration": 10,
    "start_time": "2021-07-07T14:40:57.143Z"
   },
   {
    "duration": 9,
    "start_time": "2021-07-07T14:41:06.074Z"
   },
   {
    "duration": 4324,
    "start_time": "2021-07-07T14:41:22.004Z"
   },
   {
    "duration": 11,
    "start_time": "2021-07-07T14:41:33.392Z"
   },
   {
    "duration": 9,
    "start_time": "2021-07-07T14:41:39.288Z"
   },
   {
    "duration": 569,
    "start_time": "2021-07-07T14:42:14.387Z"
   },
   {
    "duration": 197,
    "start_time": "2021-07-07T14:42:14.959Z"
   },
   {
    "duration": 84,
    "start_time": "2021-07-07T14:42:16.052Z"
   },
   {
    "duration": 4,
    "start_time": "2021-07-07T14:42:16.900Z"
   },
   {
    "duration": 27,
    "start_time": "2021-07-07T14:42:19.898Z"
   },
   {
    "duration": 12,
    "start_time": "2021-07-07T14:42:21.577Z"
   },
   {
    "duration": 9,
    "start_time": "2021-07-07T14:42:21.813Z"
   },
   {
    "duration": 9,
    "start_time": "2021-07-07T14:42:22.569Z"
   },
   {
    "duration": 29,
    "start_time": "2021-07-07T14:42:25.837Z"
   },
   {
    "duration": 20,
    "start_time": "2021-07-07T14:42:27.003Z"
   },
   {
    "duration": 21,
    "start_time": "2021-07-07T14:42:28.767Z"
   },
   {
    "duration": 7,
    "start_time": "2021-07-07T14:42:29.838Z"
   },
   {
    "duration": 4,
    "start_time": "2021-07-07T14:43:25.493Z"
   },
   {
    "duration": 7,
    "start_time": "2021-07-07T14:43:26.573Z"
   },
   {
    "duration": 10,
    "start_time": "2021-07-07T14:43:31.639Z"
   },
   {
    "duration": 9,
    "start_time": "2021-07-07T14:43:32.046Z"
   },
   {
    "duration": 10,
    "start_time": "2021-07-07T14:43:33.301Z"
   },
   {
    "duration": 12,
    "start_time": "2021-07-07T14:43:33.658Z"
   },
   {
    "duration": 8,
    "start_time": "2021-07-07T14:43:34.552Z"
   },
   {
    "duration": 9,
    "start_time": "2021-07-07T14:43:35.058Z"
   },
   {
    "duration": 12,
    "start_time": "2021-07-07T14:43:35.914Z"
   },
   {
    "duration": 17,
    "start_time": "2021-07-07T14:45:34.368Z"
   },
   {
    "duration": 512,
    "start_time": "2021-07-07T14:51:58.236Z"
   },
   {
    "duration": 223,
    "start_time": "2021-07-07T14:51:58.750Z"
   },
   {
    "duration": 93,
    "start_time": "2021-07-07T14:51:58.977Z"
   },
   {
    "duration": 4,
    "start_time": "2021-07-07T14:51:59.071Z"
   },
   {
    "duration": 37,
    "start_time": "2021-07-07T14:51:59.077Z"
   },
   {
    "duration": 18,
    "start_time": "2021-07-07T14:51:59.116Z"
   },
   {
    "duration": 10,
    "start_time": "2021-07-07T14:51:59.137Z"
   },
   {
    "duration": 8,
    "start_time": "2021-07-07T14:51:59.149Z"
   },
   {
    "duration": 54,
    "start_time": "2021-07-07T14:51:59.158Z"
   },
   {
    "duration": 18,
    "start_time": "2021-07-07T14:51:59.213Z"
   },
   {
    "duration": 22,
    "start_time": "2021-07-07T14:51:59.232Z"
   },
   {
    "duration": 36,
    "start_time": "2021-07-07T14:51:59.255Z"
   },
   {
    "duration": 7,
    "start_time": "2021-07-07T14:51:59.293Z"
   },
   {
    "duration": 10,
    "start_time": "2021-07-07T14:51:59.302Z"
   },
   {
    "duration": 9,
    "start_time": "2021-07-07T14:51:59.313Z"
   },
   {
    "duration": 11,
    "start_time": "2021-07-07T14:51:59.324Z"
   },
   {
    "duration": 8,
    "start_time": "2021-07-07T14:51:59.337Z"
   },
   {
    "duration": 46,
    "start_time": "2021-07-07T14:51:59.347Z"
   },
   {
    "duration": 22,
    "start_time": "2021-07-07T14:51:59.395Z"
   },
   {
    "duration": 24,
    "start_time": "2021-07-07T14:57:32.911Z"
   },
   {
    "duration": 7,
    "start_time": "2021-07-07T14:58:22.070Z"
   },
   {
    "duration": 4,
    "start_time": "2021-07-07T14:59:11.239Z"
   },
   {
    "duration": 25,
    "start_time": "2021-07-07T15:07:22.208Z"
   },
   {
    "duration": 16,
    "start_time": "2021-07-07T15:08:25.560Z"
   },
   {
    "duration": 15,
    "start_time": "2021-07-07T15:08:40.647Z"
   },
   {
    "duration": 14,
    "start_time": "2021-07-07T15:08:46.669Z"
   },
   {
    "duration": 533,
    "start_time": "2021-07-07T15:18:07.440Z"
   },
   {
    "duration": 173,
    "start_time": "2021-07-07T15:18:07.974Z"
   },
   {
    "duration": 84,
    "start_time": "2021-07-07T15:18:08.149Z"
   },
   {
    "duration": 3,
    "start_time": "2021-07-07T15:18:08.235Z"
   },
   {
    "duration": 30,
    "start_time": "2021-07-07T15:18:08.240Z"
   },
   {
    "duration": 22,
    "start_time": "2021-07-07T15:18:08.272Z"
   },
   {
    "duration": 11,
    "start_time": "2021-07-07T15:18:08.295Z"
   },
   {
    "duration": 11,
    "start_time": "2021-07-07T15:18:08.309Z"
   },
   {
    "duration": 40,
    "start_time": "2021-07-07T15:18:08.322Z"
   },
   {
    "duration": 42,
    "start_time": "2021-07-07T15:18:08.364Z"
   },
   {
    "duration": 22,
    "start_time": "2021-07-07T15:18:08.408Z"
   },
   {
    "duration": 5,
    "start_time": "2021-07-07T15:18:08.432Z"
   },
   {
    "duration": 13,
    "start_time": "2021-07-07T15:18:08.439Z"
   },
   {
    "duration": 9,
    "start_time": "2021-07-07T15:18:08.454Z"
   },
   {
    "duration": 32,
    "start_time": "2021-07-07T15:18:08.465Z"
   },
   {
    "duration": 10,
    "start_time": "2021-07-07T15:18:08.501Z"
   },
   {
    "duration": 7,
    "start_time": "2021-07-07T15:18:08.513Z"
   },
   {
    "duration": 11,
    "start_time": "2021-07-07T15:18:08.521Z"
   },
   {
    "duration": 17,
    "start_time": "2021-07-07T15:18:08.534Z"
   },
   {
    "duration": 44,
    "start_time": "2021-07-07T15:18:08.553Z"
   },
   {
    "duration": 22,
    "start_time": "2021-07-07T15:18:08.599Z"
   },
   {
    "duration": 61,
    "start_time": "2021-07-07T15:18:08.622Z"
   },
   {
    "duration": 7,
    "start_time": "2021-07-07T15:18:39.457Z"
   },
   {
    "duration": 5,
    "start_time": "2021-07-07T16:05:17.020Z"
   },
   {
    "duration": 5,
    "start_time": "2021-07-07T16:51:28.794Z"
   },
   {
    "duration": 546,
    "start_time": "2021-07-07T16:52:26.306Z"
   },
   {
    "duration": 203,
    "start_time": "2021-07-07T16:52:27.523Z"
   },
   {
    "duration": 85,
    "start_time": "2021-07-07T16:52:27.736Z"
   },
   {
    "duration": 4,
    "start_time": "2021-07-07T16:52:27.899Z"
   },
   {
    "duration": 25,
    "start_time": "2021-07-07T16:52:28.674Z"
   },
   {
    "duration": 8,
    "start_time": "2021-07-07T16:52:32.956Z"
   },
   {
    "duration": 18,
    "start_time": "2021-07-07T16:52:35.616Z"
   },
   {
    "duration": 6,
    "start_time": "2021-07-07T16:52:36.913Z"
   },
   {
    "duration": 11,
    "start_time": "2021-07-07T16:52:40.258Z"
   },
   {
    "duration": 10,
    "start_time": "2021-07-07T16:52:46.251Z"
   },
   {
    "duration": 8,
    "start_time": "2021-07-07T16:52:47.182Z"
   },
   {
    "duration": 27,
    "start_time": "2021-07-07T16:53:20.391Z"
   },
   {
    "duration": 20,
    "start_time": "2021-07-07T16:53:22.022Z"
   },
   {
    "duration": 23,
    "start_time": "2021-07-07T16:53:23.690Z"
   },
   {
    "duration": 8,
    "start_time": "2021-07-07T16:53:24.261Z"
   },
   {
    "duration": 4,
    "start_time": "2021-07-07T16:53:38.733Z"
   },
   {
    "duration": 7,
    "start_time": "2021-07-07T16:53:40.445Z"
   },
   {
    "duration": 11,
    "start_time": "2021-07-07T16:53:41.348Z"
   },
   {
    "duration": 13,
    "start_time": "2021-07-07T16:53:45.250Z"
   },
   {
    "duration": 12,
    "start_time": "2021-07-07T16:53:45.467Z"
   },
   {
    "duration": 4,
    "start_time": "2021-07-07T16:55:32.704Z"
   },
   {
    "duration": 12,
    "start_time": "2021-07-07T16:55:49.012Z"
   },
   {
    "duration": 18,
    "start_time": "2021-07-07T16:55:49.547Z"
   },
   {
    "duration": 611,
    "start_time": "2021-07-07T16:58:35.156Z"
   },
   {
    "duration": 200,
    "start_time": "2021-07-07T16:58:35.770Z"
   },
   {
    "duration": 86,
    "start_time": "2021-07-07T16:58:35.972Z"
   },
   {
    "duration": 3,
    "start_time": "2021-07-07T16:58:36.060Z"
   },
   {
    "duration": 27,
    "start_time": "2021-07-07T16:58:36.065Z"
   },
   {
    "duration": 8,
    "start_time": "2021-07-07T16:58:36.094Z"
   },
   {
    "duration": 17,
    "start_time": "2021-07-07T16:58:36.103Z"
   },
   {
    "duration": 5,
    "start_time": "2021-07-07T16:58:36.123Z"
   },
   {
    "duration": 11,
    "start_time": "2021-07-07T16:58:36.130Z"
   },
   {
    "duration": 7,
    "start_time": "2021-07-07T16:58:36.143Z"
   },
   {
    "duration": 37,
    "start_time": "2021-07-07T16:58:36.152Z"
   },
   {
    "duration": 27,
    "start_time": "2021-07-07T16:58:36.191Z"
   },
   {
    "duration": 19,
    "start_time": "2021-07-07T16:58:36.219Z"
   },
   {
    "duration": 49,
    "start_time": "2021-07-07T16:58:36.240Z"
   },
   {
    "duration": 6,
    "start_time": "2021-07-07T16:58:36.291Z"
   },
   {
    "duration": 3,
    "start_time": "2021-07-07T16:58:36.299Z"
   },
   {
    "duration": 13,
    "start_time": "2021-07-07T16:58:36.304Z"
   },
   {
    "duration": 10,
    "start_time": "2021-07-07T16:58:36.319Z"
   },
   {
    "duration": 10,
    "start_time": "2021-07-07T16:58:36.331Z"
   },
   {
    "duration": 44,
    "start_time": "2021-07-07T16:58:36.343Z"
   },
   {
    "duration": 4,
    "start_time": "2021-07-07T16:58:36.388Z"
   },
   {
    "duration": 13,
    "start_time": "2021-07-07T16:58:36.394Z"
   },
   {
    "duration": 16,
    "start_time": "2021-07-07T16:58:36.410Z"
   },
   {
    "duration": 8,
    "start_time": "2021-07-07T17:02:31.629Z"
   },
   {
    "duration": 8,
    "start_time": "2021-07-07T17:02:34.308Z"
   },
   {
    "duration": 6,
    "start_time": "2021-07-07T17:05:13.483Z"
   },
   {
    "duration": 17,
    "start_time": "2021-07-07T17:05:20.606Z"
   },
   {
    "duration": 7,
    "start_time": "2021-07-07T17:05:34.638Z"
   },
   {
    "duration": 3,
    "start_time": "2021-07-07T17:06:31.883Z"
   },
   {
    "duration": 570,
    "start_time": "2021-07-07T17:06:37.165Z"
   },
   {
    "duration": 174,
    "start_time": "2021-07-07T17:06:37.737Z"
   },
   {
    "duration": 47,
    "start_time": "2021-07-07T17:06:37.913Z"
   },
   {
    "duration": 3,
    "start_time": "2021-07-07T17:06:37.962Z"
   },
   {
    "duration": 27,
    "start_time": "2021-07-07T17:06:37.967Z"
   },
   {
    "duration": 7,
    "start_time": "2021-07-07T17:06:37.996Z"
   },
   {
    "duration": 16,
    "start_time": "2021-07-07T17:06:38.005Z"
   },
   {
    "duration": 6,
    "start_time": "2021-07-07T17:06:38.024Z"
   },
   {
    "duration": 12,
    "start_time": "2021-07-07T17:06:38.031Z"
   },
   {
    "duration": 41,
    "start_time": "2021-07-07T17:06:38.045Z"
   },
   {
    "duration": 8,
    "start_time": "2021-07-07T17:06:38.088Z"
   },
   {
    "duration": 26,
    "start_time": "2021-07-07T17:06:38.098Z"
   },
   {
    "duration": 17,
    "start_time": "2021-07-07T17:06:38.126Z"
   },
   {
    "duration": 43,
    "start_time": "2021-07-07T17:06:38.144Z"
   },
   {
    "duration": 6,
    "start_time": "2021-07-07T17:06:38.188Z"
   },
   {
    "duration": 5,
    "start_time": "2021-07-07T17:06:38.195Z"
   },
   {
    "duration": 9,
    "start_time": "2021-07-07T17:06:38.201Z"
   },
   {
    "duration": 12,
    "start_time": "2021-07-07T17:06:38.212Z"
   },
   {
    "duration": 11,
    "start_time": "2021-07-07T17:06:38.226Z"
   },
   {
    "duration": 47,
    "start_time": "2021-07-07T17:06:38.239Z"
   },
   {
    "duration": 4,
    "start_time": "2021-07-07T17:06:38.288Z"
   },
   {
    "duration": 13,
    "start_time": "2021-07-07T17:06:38.293Z"
   },
   {
    "duration": 5,
    "start_time": "2021-07-07T17:06:38.309Z"
   },
   {
    "duration": 18,
    "start_time": "2021-07-07T17:06:38.325Z"
   },
   {
    "duration": 20,
    "start_time": "2021-07-07T17:07:02.805Z"
   },
   {
    "duration": 19,
    "start_time": "2021-07-07T17:07:08.527Z"
   },
   {
    "duration": 19,
    "start_time": "2021-07-07T17:07:12.758Z"
   },
   {
    "duration": 22,
    "start_time": "2021-07-07T17:07:17.497Z"
   },
   {
    "duration": 19,
    "start_time": "2021-07-07T17:07:19.645Z"
   },
   {
    "duration": 10,
    "start_time": "2021-07-07T17:07:34.239Z"
   },
   {
    "duration": 17,
    "start_time": "2021-07-07T17:07:54.144Z"
   },
   {
    "duration": 14,
    "start_time": "2021-07-07T17:08:14.357Z"
   },
   {
    "duration": 616,
    "start_time": "2021-07-07T17:08:45.254Z"
   },
   {
    "duration": 178,
    "start_time": "2021-07-07T17:08:45.872Z"
   },
   {
    "duration": 60,
    "start_time": "2021-07-07T17:08:46.054Z"
   },
   {
    "duration": 3,
    "start_time": "2021-07-07T17:08:46.116Z"
   },
   {
    "duration": 26,
    "start_time": "2021-07-07T17:08:46.121Z"
   },
   {
    "duration": 7,
    "start_time": "2021-07-07T17:08:46.149Z"
   },
   {
    "duration": 17,
    "start_time": "2021-07-07T17:08:46.158Z"
   },
   {
    "duration": 14,
    "start_time": "2021-07-07T17:08:46.176Z"
   },
   {
    "duration": 17,
    "start_time": "2021-07-07T17:08:46.193Z"
   },
   {
    "duration": 9,
    "start_time": "2021-07-07T17:08:46.211Z"
   },
   {
    "duration": 21,
    "start_time": "2021-07-07T17:08:46.221Z"
   },
   {
    "duration": 49,
    "start_time": "2021-07-07T17:08:46.244Z"
   },
   {
    "duration": 24,
    "start_time": "2021-07-07T17:08:46.295Z"
   },
   {
    "duration": 22,
    "start_time": "2021-07-07T17:08:46.321Z"
   },
   {
    "duration": 6,
    "start_time": "2021-07-07T17:08:46.345Z"
   },
   {
    "duration": 5,
    "start_time": "2021-07-07T17:08:46.353Z"
   },
   {
    "duration": 13,
    "start_time": "2021-07-07T17:08:46.386Z"
   },
   {
    "duration": 12,
    "start_time": "2021-07-07T17:08:46.402Z"
   },
   {
    "duration": 10,
    "start_time": "2021-07-07T17:08:46.415Z"
   },
   {
    "duration": 7,
    "start_time": "2021-07-07T17:08:46.427Z"
   },
   {
    "duration": 8,
    "start_time": "2021-07-07T17:08:46.435Z"
   },
   {
    "duration": 68,
    "start_time": "2021-07-07T17:08:46.446Z"
   },
   {
    "duration": 13,
    "start_time": "2021-07-07T17:08:46.516Z"
   },
   {
    "duration": 78,
    "start_time": "2021-07-07T17:08:46.530Z"
   },
   {
    "duration": 40,
    "start_time": "2021-07-07T17:09:08.185Z"
   },
   {
    "duration": 16,
    "start_time": "2021-07-07T17:09:19.324Z"
   },
   {
    "duration": 21,
    "start_time": "2021-07-07T17:09:23.290Z"
   },
   {
    "duration": 13,
    "start_time": "2021-07-07T17:09:54.812Z"
   },
   {
    "duration": 13,
    "start_time": "2021-07-07T17:10:02.039Z"
   },
   {
    "duration": 10,
    "start_time": "2021-07-07T17:10:29.632Z"
   },
   {
    "duration": 13,
    "start_time": "2021-07-07T17:10:52.372Z"
   },
   {
    "duration": 13,
    "start_time": "2021-07-07T17:11:17.270Z"
   },
   {
    "duration": 13,
    "start_time": "2021-07-07T17:14:59.284Z"
   },
   {
    "duration": 547,
    "start_time": "2021-07-07T17:18:52.403Z"
   },
   {
    "duration": 163,
    "start_time": "2021-07-07T17:18:52.952Z"
   },
   {
    "duration": 44,
    "start_time": "2021-07-07T17:18:53.117Z"
   },
   {
    "duration": 3,
    "start_time": "2021-07-07T17:18:53.162Z"
   },
   {
    "duration": 26,
    "start_time": "2021-07-07T17:18:53.167Z"
   },
   {
    "duration": 6,
    "start_time": "2021-07-07T17:18:53.195Z"
   },
   {
    "duration": 15,
    "start_time": "2021-07-07T17:18:53.203Z"
   },
   {
    "duration": 5,
    "start_time": "2021-07-07T17:18:53.220Z"
   },
   {
    "duration": 11,
    "start_time": "2021-07-07T17:18:53.228Z"
   },
   {
    "duration": 9,
    "start_time": "2021-07-07T17:18:53.241Z"
   },
   {
    "duration": 41,
    "start_time": "2021-07-07T17:18:53.252Z"
   },
   {
    "duration": 33,
    "start_time": "2021-07-07T17:18:53.295Z"
   },
   {
    "duration": 19,
    "start_time": "2021-07-07T17:18:53.330Z"
   },
   {
    "duration": 49,
    "start_time": "2021-07-07T17:18:53.350Z"
   },
   {
    "duration": 5,
    "start_time": "2021-07-07T17:18:53.401Z"
   },
   {
    "duration": 5,
    "start_time": "2021-07-07T17:18:53.408Z"
   },
   {
    "duration": 11,
    "start_time": "2021-07-07T17:18:53.414Z"
   },
   {
    "duration": 9,
    "start_time": "2021-07-07T17:18:53.427Z"
   },
   {
    "duration": 10,
    "start_time": "2021-07-07T17:18:53.437Z"
   },
   {
    "duration": 39,
    "start_time": "2021-07-07T17:18:53.448Z"
   },
   {
    "duration": 26,
    "start_time": "2021-07-07T17:18:55.799Z"
   },
   {
    "duration": 598,
    "start_time": "2021-07-07T17:20:17.862Z"
   },
   {
    "duration": 161,
    "start_time": "2021-07-07T17:20:18.462Z"
   },
   {
    "duration": 45,
    "start_time": "2021-07-07T17:20:18.626Z"
   },
   {
    "duration": 4,
    "start_time": "2021-07-07T17:20:18.673Z"
   },
   {
    "duration": 38,
    "start_time": "2021-07-07T17:20:26.877Z"
   },
   {
    "duration": 7,
    "start_time": "2021-07-07T17:20:37.405Z"
   },
   {
    "duration": 19,
    "start_time": "2021-07-07T17:20:51.534Z"
   },
   {
    "duration": 5,
    "start_time": "2021-07-07T17:20:57.228Z"
   },
   {
    "duration": 7,
    "start_time": "2021-07-07T17:21:08.235Z"
   },
   {
    "duration": 19,
    "start_time": "2021-07-07T17:21:42.158Z"
   },
   {
    "duration": 14,
    "start_time": "2021-07-07T17:21:50.225Z"
   },
   {
    "duration": 22,
    "start_time": "2021-07-07T17:22:54.104Z"
   },
   {
    "duration": 5,
    "start_time": "2021-07-07T17:22:56.371Z"
   },
   {
    "duration": 14,
    "start_time": "2021-07-07T17:22:58.316Z"
   },
   {
    "duration": 5,
    "start_time": "2021-07-07T17:22:58.493Z"
   },
   {
    "duration": 35,
    "start_time": "2021-07-07T17:22:59.666Z"
   },
   {
    "duration": 6,
    "start_time": "2021-07-07T17:23:02.410Z"
   },
   {
    "duration": 611,
    "start_time": "2021-07-07T17:24:59.664Z"
   },
   {
    "duration": 178,
    "start_time": "2021-07-07T17:25:01.945Z"
   },
   {
    "duration": 47,
    "start_time": "2021-07-07T17:25:02.125Z"
   },
   {
    "duration": 2,
    "start_time": "2021-07-07T17:25:07.903Z"
   },
   {
    "duration": 254,
    "start_time": "2021-07-07T17:25:08.232Z"
   },
   {
    "duration": 182,
    "start_time": "2021-07-07T17:25:08.671Z"
   },
   {
    "duration": 6,
    "start_time": "2021-07-07T17:25:13.104Z"
   },
   {
    "duration": 36,
    "start_time": "2021-07-07T17:25:13.662Z"
   },
   {
    "duration": 7,
    "start_time": "2021-07-07T17:25:14.528Z"
   },
   {
    "duration": 24,
    "start_time": "2021-07-07T17:25:27.982Z"
   },
   {
    "duration": 3,
    "start_time": "2021-07-07T17:25:48.982Z"
   },
   {
    "duration": 165,
    "start_time": "2021-07-07T17:25:48.987Z"
   },
   {
    "duration": 50,
    "start_time": "2021-07-07T17:25:49.154Z"
   },
   {
    "duration": 4,
    "start_time": "2021-07-07T17:25:49.206Z"
   },
   {
    "duration": 26,
    "start_time": "2021-07-07T17:25:49.212Z"
   },
   {
    "duration": 7,
    "start_time": "2021-07-07T17:25:49.240Z"
   },
   {
    "duration": 16,
    "start_time": "2021-07-07T17:25:49.249Z"
   },
   {
    "duration": 22,
    "start_time": "2021-07-07T17:25:49.266Z"
   },
   {
    "duration": 16,
    "start_time": "2021-07-07T17:25:49.291Z"
   },
   {
    "duration": 9,
    "start_time": "2021-07-07T17:25:49.309Z"
   },
   {
    "duration": 7,
    "start_time": "2021-07-07T17:25:49.319Z"
   },
   {
    "duration": 28,
    "start_time": "2021-07-07T17:25:49.328Z"
   },
   {
    "duration": 44,
    "start_time": "2021-07-07T17:25:49.357Z"
   },
   {
    "duration": 22,
    "start_time": "2021-07-07T17:25:49.403Z"
   },
   {
    "duration": 7,
    "start_time": "2021-07-07T17:25:49.427Z"
   },
   {
    "duration": 3,
    "start_time": "2021-07-07T17:25:49.436Z"
   },
   {
    "duration": 44,
    "start_time": "2021-07-07T17:25:49.441Z"
   },
   {
    "duration": 12,
    "start_time": "2021-07-07T17:25:49.488Z"
   },
   {
    "duration": 13,
    "start_time": "2021-07-07T17:25:49.502Z"
   },
   {
    "duration": 10,
    "start_time": "2021-07-07T17:25:49.516Z"
   },
   {
    "duration": 62,
    "start_time": "2021-07-07T17:25:49.527Z"
   },
   {
    "duration": 26,
    "start_time": "2021-07-07T17:26:51.809Z"
   },
   {
    "duration": 26,
    "start_time": "2021-07-07T17:26:55.759Z"
   },
   {
    "duration": 26,
    "start_time": "2021-07-07T17:27:04.501Z"
   },
   {
    "duration": 25,
    "start_time": "2021-07-07T17:28:24.859Z"
   },
   {
    "duration": 21,
    "start_time": "2021-07-07T17:28:55.250Z"
   },
   {
    "duration": 21,
    "start_time": "2021-07-07T17:28:58.885Z"
   },
   {
    "duration": 7,
    "start_time": "2021-07-07T17:45:40.972Z"
   },
   {
    "duration": 13,
    "start_time": "2021-07-07T17:45:42.529Z"
   },
   {
    "duration": 27,
    "start_time": "2021-07-07T17:45:51.026Z"
   },
   {
    "duration": 518,
    "start_time": "2021-07-07T17:46:15.532Z"
   },
   {
    "duration": 235,
    "start_time": "2021-07-07T17:46:16.053Z"
   },
   {
    "duration": 80,
    "start_time": "2021-07-07T17:46:16.292Z"
   },
   {
    "duration": 5,
    "start_time": "2021-07-07T17:46:16.373Z"
   },
   {
    "duration": 26,
    "start_time": "2021-07-07T17:46:16.380Z"
   },
   {
    "duration": 7,
    "start_time": "2021-07-07T17:46:16.408Z"
   },
   {
    "duration": 16,
    "start_time": "2021-07-07T17:46:16.418Z"
   },
   {
    "duration": 5,
    "start_time": "2021-07-07T17:46:16.436Z"
   },
   {
    "duration": 13,
    "start_time": "2021-07-07T17:46:16.442Z"
   },
   {
    "duration": 35,
    "start_time": "2021-07-07T17:46:16.456Z"
   },
   {
    "duration": 8,
    "start_time": "2021-07-07T17:46:16.493Z"
   },
   {
    "duration": 28,
    "start_time": "2021-07-07T17:46:16.502Z"
   },
   {
    "duration": 17,
    "start_time": "2021-07-07T17:46:16.532Z"
   },
   {
    "duration": 44,
    "start_time": "2021-07-07T17:46:16.551Z"
   },
   {
    "duration": 6,
    "start_time": "2021-07-07T17:46:16.597Z"
   },
   {
    "duration": 4,
    "start_time": "2021-07-07T17:46:16.605Z"
   },
   {
    "duration": 9,
    "start_time": "2021-07-07T17:46:16.610Z"
   },
   {
    "duration": 9,
    "start_time": "2021-07-07T17:46:16.621Z"
   },
   {
    "duration": 10,
    "start_time": "2021-07-07T17:46:16.632Z"
   },
   {
    "duration": 43,
    "start_time": "2021-07-07T17:46:16.644Z"
   },
   {
    "duration": 26,
    "start_time": "2021-07-07T17:46:16.689Z"
   },
   {
    "duration": 19,
    "start_time": "2021-07-07T17:46:16.718Z"
   },
   {
    "duration": 8,
    "start_time": "2021-07-07T17:46:16.738Z"
   },
   {
    "duration": 43,
    "start_time": "2021-07-07T17:46:16.747Z"
   },
   {
    "duration": 19,
    "start_time": "2021-07-07T17:46:16.791Z"
   },
   {
    "duration": 9,
    "start_time": "2021-07-07T17:46:16.812Z"
   },
   {
    "duration": 60,
    "start_time": "2021-07-07T17:46:16.822Z"
   },
   {
    "duration": -8,
    "start_time": "2021-07-07T17:46:16.892Z"
   },
   {
    "duration": 12,
    "start_time": "2021-07-07T17:48:47.707Z"
   },
   {
    "duration": 553,
    "start_time": "2021-07-07T18:10:09.350Z"
   },
   {
    "duration": 230,
    "start_time": "2021-07-07T18:10:09.905Z"
   },
   {
    "duration": 97,
    "start_time": "2021-07-07T18:10:10.137Z"
   },
   {
    "duration": 5,
    "start_time": "2021-07-07T18:10:10.236Z"
   },
   {
    "duration": 29,
    "start_time": "2021-07-07T18:10:10.242Z"
   },
   {
    "duration": 7,
    "start_time": "2021-07-07T18:10:10.272Z"
   },
   {
    "duration": 15,
    "start_time": "2021-07-07T18:10:10.281Z"
   },
   {
    "duration": 4,
    "start_time": "2021-07-07T18:10:10.299Z"
   },
   {
    "duration": 14,
    "start_time": "2021-07-07T18:10:10.305Z"
   },
   {
    "duration": 8,
    "start_time": "2021-07-07T18:10:10.321Z"
   },
   {
    "duration": 8,
    "start_time": "2021-07-07T18:10:10.331Z"
   },
   {
    "duration": 56,
    "start_time": "2021-07-07T18:10:10.341Z"
   },
   {
    "duration": 19,
    "start_time": "2021-07-07T18:10:10.399Z"
   },
   {
    "duration": 23,
    "start_time": "2021-07-07T18:10:10.419Z"
   },
   {
    "duration": 6,
    "start_time": "2021-07-07T18:10:10.444Z"
   },
   {
    "duration": 9,
    "start_time": "2021-07-07T18:10:10.451Z"
   },
   {
    "duration": 30,
    "start_time": "2021-07-07T18:10:10.462Z"
   },
   {
    "duration": 9,
    "start_time": "2021-07-07T18:10:10.494Z"
   },
   {
    "duration": 14,
    "start_time": "2021-07-07T18:10:10.505Z"
   },
   {
    "duration": 7,
    "start_time": "2021-07-07T18:10:10.521Z"
   },
   {
    "duration": 26,
    "start_time": "2021-07-07T18:10:10.530Z"
   },
   {
    "duration": 44,
    "start_time": "2021-07-07T18:10:10.558Z"
   },
   {
    "duration": 7,
    "start_time": "2021-07-07T18:10:10.605Z"
   },
   {
    "duration": 11,
    "start_time": "2021-07-07T18:10:10.614Z"
   },
   {
    "duration": 19,
    "start_time": "2021-07-07T18:10:10.626Z"
   },
   {
    "duration": 44,
    "start_time": "2021-07-07T18:10:10.646Z"
   },
   {
    "duration": 516,
    "start_time": "2021-07-07T18:14:00.826Z"
   },
   {
    "duration": 230,
    "start_time": "2021-07-07T18:14:01.344Z"
   },
   {
    "duration": 105,
    "start_time": "2021-07-07T18:14:01.576Z"
   },
   {
    "duration": 5,
    "start_time": "2021-07-07T18:14:01.683Z"
   },
   {
    "duration": 46,
    "start_time": "2021-07-07T18:14:01.690Z"
   },
   {
    "duration": 7,
    "start_time": "2021-07-07T18:14:01.738Z"
   },
   {
    "duration": 20,
    "start_time": "2021-07-07T18:14:01.747Z"
   },
   {
    "duration": 16,
    "start_time": "2021-07-07T18:14:01.769Z"
   },
   {
    "duration": 14,
    "start_time": "2021-07-07T18:14:01.787Z"
   },
   {
    "duration": 15,
    "start_time": "2021-07-07T18:14:01.803Z"
   },
   {
    "duration": 12,
    "start_time": "2021-07-07T18:14:01.820Z"
   },
   {
    "duration": 35,
    "start_time": "2021-07-07T18:14:01.833Z"
   },
   {
    "duration": 31,
    "start_time": "2021-07-07T18:14:01.869Z"
   },
   {
    "duration": 37,
    "start_time": "2021-07-07T18:14:01.902Z"
   },
   {
    "duration": 8,
    "start_time": "2021-07-07T18:14:01.942Z"
   },
   {
    "duration": 16,
    "start_time": "2021-07-07T18:14:01.952Z"
   },
   {
    "duration": 13,
    "start_time": "2021-07-07T18:14:01.970Z"
   },
   {
    "duration": 32,
    "start_time": "2021-07-07T18:14:01.985Z"
   },
   {
    "duration": 11,
    "start_time": "2021-07-07T18:14:02.019Z"
   },
   {
    "duration": 22,
    "start_time": "2021-07-07T18:14:02.031Z"
   },
   {
    "duration": 27,
    "start_time": "2021-07-07T18:14:02.055Z"
   },
   {
    "duration": 18,
    "start_time": "2021-07-07T18:14:02.084Z"
   },
   {
    "duration": 18,
    "start_time": "2021-07-07T18:14:02.106Z"
   },
   {
    "duration": 11,
    "start_time": "2021-07-07T18:14:02.126Z"
   },
   {
    "duration": 21,
    "start_time": "2021-07-07T18:14:02.138Z"
   },
   {
    "duration": 32,
    "start_time": "2021-07-07T18:14:02.161Z"
   },
   {
    "duration": 28,
    "start_time": "2021-07-07T18:14:44.295Z"
   },
   {
    "duration": 6,
    "start_time": "2021-07-07T18:15:05.834Z"
   },
   {
    "duration": 511,
    "start_time": "2021-07-07T18:15:41.541Z"
   },
   {
    "duration": 183,
    "start_time": "2021-07-07T18:15:42.054Z"
   },
   {
    "duration": 50,
    "start_time": "2021-07-07T18:15:42.239Z"
   },
   {
    "duration": 5,
    "start_time": "2021-07-07T18:15:42.291Z"
   },
   {
    "duration": 48,
    "start_time": "2021-07-07T18:15:42.297Z"
   },
   {
    "duration": 8,
    "start_time": "2021-07-07T18:15:42.346Z"
   },
   {
    "duration": 17,
    "start_time": "2021-07-07T18:15:42.356Z"
   },
   {
    "duration": 15,
    "start_time": "2021-07-07T18:15:42.375Z"
   },
   {
    "duration": 12,
    "start_time": "2021-07-07T18:15:42.392Z"
   },
   {
    "duration": 7,
    "start_time": "2021-07-07T18:15:42.406Z"
   },
   {
    "duration": 7,
    "start_time": "2021-07-07T18:15:42.415Z"
   },
   {
    "duration": 29,
    "start_time": "2021-07-07T18:15:42.423Z"
   },
   {
    "duration": 43,
    "start_time": "2021-07-07T18:15:42.453Z"
   },
   {
    "duration": 18,
    "start_time": "2021-07-07T18:15:42.497Z"
   },
   {
    "duration": 6,
    "start_time": "2021-07-07T18:15:42.516Z"
   },
   {
    "duration": 3,
    "start_time": "2021-07-07T18:15:42.523Z"
   },
   {
    "duration": 18,
    "start_time": "2021-07-07T18:15:42.528Z"
   },
   {
    "duration": 10,
    "start_time": "2021-07-07T18:15:42.547Z"
   },
   {
    "duration": 36,
    "start_time": "2021-07-07T18:15:42.559Z"
   },
   {
    "duration": 8,
    "start_time": "2021-07-07T18:15:42.597Z"
   },
   {
    "duration": 28,
    "start_time": "2021-07-07T18:15:42.606Z"
   },
   {
    "duration": 52,
    "start_time": "2021-07-07T18:15:42.635Z"
   },
   {
    "duration": 7,
    "start_time": "2021-07-07T18:15:42.690Z"
   },
   {
    "duration": 10,
    "start_time": "2021-07-07T18:15:42.699Z"
   },
   {
    "duration": 19,
    "start_time": "2021-07-07T18:15:42.711Z"
   },
   {
    "duration": 9,
    "start_time": "2021-07-07T18:15:42.732Z"
   },
   {
    "duration": 5,
    "start_time": "2021-07-07T18:15:42.743Z"
   },
   {
    "duration": 1450,
    "start_time": "2021-07-07T18:15:51.984Z"
   },
   {
    "duration": 161,
    "start_time": "2021-07-07T18:15:53.435Z"
   },
   {
    "duration": 124,
    "start_time": "2021-07-07T18:15:53.598Z"
   },
   {
    "duration": 5,
    "start_time": "2021-07-07T18:15:53.724Z"
   },
   {
    "duration": 34,
    "start_time": "2021-07-07T18:15:53.730Z"
   },
   {
    "duration": 7,
    "start_time": "2021-07-07T18:15:53.765Z"
   },
   {
    "duration": 15,
    "start_time": "2021-07-07T18:15:53.773Z"
   },
   {
    "duration": 5,
    "start_time": "2021-07-07T18:15:53.791Z"
   },
   {
    "duration": 19,
    "start_time": "2021-07-07T18:15:53.798Z"
   },
   {
    "duration": 9,
    "start_time": "2021-07-07T18:15:53.818Z"
   },
   {
    "duration": 19,
    "start_time": "2021-07-07T18:15:53.828Z"
   },
   {
    "duration": 27,
    "start_time": "2021-07-07T18:15:53.848Z"
   },
   {
    "duration": 16,
    "start_time": "2021-07-07T18:15:53.884Z"
   },
   {
    "duration": 29,
    "start_time": "2021-07-07T18:15:53.901Z"
   },
   {
    "duration": 5,
    "start_time": "2021-07-07T18:15:53.932Z"
   },
   {
    "duration": 15,
    "start_time": "2021-07-07T18:15:53.939Z"
   },
   {
    "duration": 13,
    "start_time": "2021-07-07T18:15:53.956Z"
   },
   {
    "duration": 20,
    "start_time": "2021-07-07T18:15:53.971Z"
   },
   {
    "duration": 14,
    "start_time": "2021-07-07T18:15:53.992Z"
   },
   {
    "duration": 9,
    "start_time": "2021-07-07T18:15:54.009Z"
   },
   {
    "duration": 28,
    "start_time": "2021-07-07T18:15:54.020Z"
   },
   {
    "duration": 50,
    "start_time": "2021-07-07T18:15:54.051Z"
   },
   {
    "duration": 8,
    "start_time": "2021-07-07T18:15:54.105Z"
   },
   {
    "duration": 11,
    "start_time": "2021-07-07T18:15:54.115Z"
   },
   {
    "duration": 20,
    "start_time": "2021-07-07T18:15:54.128Z"
   },
   {
    "duration": 13,
    "start_time": "2021-07-07T18:15:54.184Z"
   },
   {
    "duration": 7,
    "start_time": "2021-07-07T18:15:54.199Z"
   },
   {
    "duration": 7,
    "start_time": "2021-07-07T18:17:08.042Z"
   },
   {
    "duration": 8,
    "start_time": "2021-07-07T18:17:21.008Z"
   },
   {
    "duration": 7,
    "start_time": "2021-07-07T18:17:29.003Z"
   },
   {
    "duration": 8,
    "start_time": "2021-07-07T18:17:32.492Z"
   },
   {
    "duration": 9,
    "start_time": "2021-07-07T18:17:41.758Z"
   },
   {
    "duration": 255,
    "start_time": "2021-07-07T18:20:20.897Z"
   },
   {
    "duration": 173,
    "start_time": "2021-07-07T18:20:26.636Z"
   },
   {
    "duration": 7,
    "start_time": "2021-07-07T18:21:47.164Z"
   },
   {
    "duration": 254,
    "start_time": "2021-07-07T18:23:08.703Z"
   },
   {
    "duration": 21,
    "start_time": "2021-07-07T18:23:22.506Z"
   },
   {
    "duration": 315,
    "start_time": "2021-07-07T18:25:54.801Z"
   },
   {
    "duration": 34,
    "start_time": "2021-07-07T18:26:51.817Z"
   },
   {
    "duration": 327,
    "start_time": "2021-07-07T18:26:56.147Z"
   },
   {
    "duration": 342,
    "start_time": "2021-07-07T18:27:15.887Z"
   },
   {
    "duration": 302,
    "start_time": "2021-07-07T18:28:18.569Z"
   },
   {
    "duration": 226,
    "start_time": "2021-07-07T18:29:20.879Z"
   },
   {
    "duration": 207,
    "start_time": "2021-07-07T18:29:58.114Z"
   },
   {
    "duration": 140,
    "start_time": "2021-07-07T18:32:04.372Z"
   },
   {
    "duration": 158,
    "start_time": "2021-07-07T18:32:32.508Z"
   },
   {
    "duration": 145,
    "start_time": "2021-07-07T18:32:41.365Z"
   },
   {
    "duration": 132,
    "start_time": "2021-07-07T18:32:45.199Z"
   },
   {
    "duration": 11,
    "start_time": "2021-07-07T18:35:24.679Z"
   },
   {
    "duration": 268,
    "start_time": "2021-07-07T18:36:16.145Z"
   },
   {
    "duration": 227,
    "start_time": "2021-07-07T18:37:04.918Z"
   },
   {
    "duration": 3,
    "start_time": "2021-07-07T18:37:33.012Z"
   },
   {
    "duration": 671,
    "start_time": "2021-07-07T18:37:38.295Z"
   },
   {
    "duration": 54,
    "start_time": "2021-07-07T18:37:53.406Z"
   },
   {
    "duration": 631,
    "start_time": "2021-07-07T18:37:56.463Z"
   },
   {
    "duration": 19,
    "start_time": "2021-07-07T18:39:40.535Z"
   },
   {
    "duration": 20,
    "start_time": "2021-07-07T18:40:12.236Z"
   },
   {
    "duration": 633,
    "start_time": "2021-07-07T18:42:00.398Z"
   },
   {
    "duration": 218,
    "start_time": "2021-07-07T18:42:01.033Z"
   },
   {
    "duration": 49,
    "start_time": "2021-07-07T18:42:01.253Z"
   },
   {
    "duration": 5,
    "start_time": "2021-07-07T18:42:01.303Z"
   },
   {
    "duration": 27,
    "start_time": "2021-07-07T18:42:01.310Z"
   },
   {
    "duration": 8,
    "start_time": "2021-07-07T18:42:01.339Z"
   },
   {
    "duration": 20,
    "start_time": "2021-07-07T18:42:01.348Z"
   },
   {
    "duration": 6,
    "start_time": "2021-07-07T18:42:01.386Z"
   },
   {
    "duration": 16,
    "start_time": "2021-07-07T18:42:01.394Z"
   },
   {
    "duration": 9,
    "start_time": "2021-07-07T18:42:01.411Z"
   },
   {
    "duration": 11,
    "start_time": "2021-07-07T18:42:01.421Z"
   },
   {
    "duration": 31,
    "start_time": "2021-07-07T18:42:01.434Z"
   },
   {
    "duration": 18,
    "start_time": "2021-07-07T18:42:01.485Z"
   },
   {
    "duration": 23,
    "start_time": "2021-07-07T18:42:01.505Z"
   },
   {
    "duration": 6,
    "start_time": "2021-07-07T18:42:01.530Z"
   },
   {
    "duration": 10,
    "start_time": "2021-07-07T18:42:01.538Z"
   },
   {
    "duration": 13,
    "start_time": "2021-07-07T18:42:01.550Z"
   },
   {
    "duration": 24,
    "start_time": "2021-07-07T18:42:01.564Z"
   },
   {
    "duration": 20,
    "start_time": "2021-07-07T18:42:01.590Z"
   },
   {
    "duration": 8,
    "start_time": "2021-07-07T18:42:01.611Z"
   },
   {
    "duration": 31,
    "start_time": "2021-07-07T18:42:01.620Z"
   },
   {
    "duration": 39,
    "start_time": "2021-07-07T18:42:01.653Z"
   },
   {
    "duration": 8,
    "start_time": "2021-07-07T18:42:01.696Z"
   },
   {
    "duration": 13,
    "start_time": "2021-07-07T18:42:01.705Z"
   },
   {
    "duration": 20,
    "start_time": "2021-07-07T18:42:01.720Z"
   },
   {
    "duration": 12,
    "start_time": "2021-07-07T18:42:01.741Z"
   },
   {
    "duration": 35,
    "start_time": "2021-07-07T18:42:01.755Z"
   },
   {
    "duration": 14,
    "start_time": "2021-07-07T18:42:01.792Z"
   },
   {
    "duration": 188,
    "start_time": "2021-07-07T18:42:01.808Z"
   },
   {
    "duration": 19,
    "start_time": "2021-07-07T18:42:01.998Z"
   },
   {
    "duration": 175,
    "start_time": "2021-07-07T18:42:02.019Z"
   },
   {
    "duration": 134,
    "start_time": "2021-07-07T18:42:02.196Z"
   },
   {
    "duration": 10,
    "start_time": "2021-07-07T18:42:02.331Z"
   },
   {
    "duration": 19,
    "start_time": "2021-07-07T18:42:02.343Z"
   },
   {
    "duration": 628,
    "start_time": "2021-07-07T18:46:30.701Z"
   },
   {
    "duration": 183,
    "start_time": "2021-07-07T18:46:31.331Z"
   },
   {
    "duration": 48,
    "start_time": "2021-07-07T18:46:31.516Z"
   },
   {
    "duration": 5,
    "start_time": "2021-07-07T18:46:31.566Z"
   },
   {
    "duration": 28,
    "start_time": "2021-07-07T18:46:31.572Z"
   },
   {
    "duration": 8,
    "start_time": "2021-07-07T18:46:31.602Z"
   },
   {
    "duration": 19,
    "start_time": "2021-07-07T18:46:31.611Z"
   },
   {
    "duration": 6,
    "start_time": "2021-07-07T18:46:31.633Z"
   },
   {
    "duration": 17,
    "start_time": "2021-07-07T18:46:31.642Z"
   },
   {
    "duration": 10,
    "start_time": "2021-07-07T18:46:31.684Z"
   },
   {
    "duration": 9,
    "start_time": "2021-07-07T18:46:31.695Z"
   },
   {
    "duration": 28,
    "start_time": "2021-07-07T18:46:31.705Z"
   },
   {
    "duration": 18,
    "start_time": "2021-07-07T18:46:31.735Z"
   },
   {
    "duration": 48,
    "start_time": "2021-07-07T18:46:31.755Z"
   },
   {
    "duration": 6,
    "start_time": "2021-07-07T18:46:31.804Z"
   },
   {
    "duration": 4,
    "start_time": "2021-07-07T18:46:31.812Z"
   },
   {
    "duration": 9,
    "start_time": "2021-07-07T18:46:31.817Z"
   },
   {
    "duration": 10,
    "start_time": "2021-07-07T18:46:31.827Z"
   },
   {
    "duration": 12,
    "start_time": "2021-07-07T18:46:31.838Z"
   },
   {
    "duration": 39,
    "start_time": "2021-07-07T18:46:31.851Z"
   },
   {
    "duration": 24,
    "start_time": "2021-07-07T18:46:31.892Z"
   },
   {
    "duration": 15,
    "start_time": "2021-07-07T18:46:31.918Z"
   },
   {
    "duration": 7,
    "start_time": "2021-07-07T18:46:31.936Z"
   },
   {
    "duration": 8,
    "start_time": "2021-07-07T18:46:31.944Z"
   },
   {
    "duration": 19,
    "start_time": "2021-07-07T18:46:31.984Z"
   },
   {
    "duration": 10,
    "start_time": "2021-07-07T18:46:32.004Z"
   },
   {
    "duration": 5,
    "start_time": "2021-07-07T18:46:32.016Z"
   },
   {
    "duration": 9,
    "start_time": "2021-07-07T18:46:32.023Z"
   },
   {
    "duration": 199,
    "start_time": "2021-07-07T18:46:32.033Z"
   },
   {
    "duration": 19,
    "start_time": "2021-07-07T18:46:32.234Z"
   },
   {
    "duration": 159,
    "start_time": "2021-07-07T18:46:32.255Z"
   },
   {
    "duration": 134,
    "start_time": "2021-07-07T18:46:32.416Z"
   },
   {
    "duration": 10,
    "start_time": "2021-07-07T18:46:32.552Z"
   },
   {
    "duration": 34,
    "start_time": "2021-07-07T18:46:32.563Z"
   },
   {
    "duration": 1039,
    "start_time": "2021-07-08T08:41:09.419Z"
   },
   {
    "duration": 333,
    "start_time": "2021-07-08T08:41:10.459Z"
   },
   {
    "duration": 173,
    "start_time": "2021-07-08T08:41:10.794Z"
   },
   {
    "duration": 5,
    "start_time": "2021-07-08T08:41:10.968Z"
   },
   {
    "duration": 25,
    "start_time": "2021-07-08T08:41:10.975Z"
   },
   {
    "duration": 9,
    "start_time": "2021-07-08T08:41:11.002Z"
   },
   {
    "duration": 18,
    "start_time": "2021-07-08T08:41:11.013Z"
   },
   {
    "duration": 6,
    "start_time": "2021-07-08T08:41:11.033Z"
   },
   {
    "duration": 44,
    "start_time": "2021-07-08T08:41:11.042Z"
   },
   {
    "duration": 10,
    "start_time": "2021-07-08T08:41:11.088Z"
   },
   {
    "duration": 9,
    "start_time": "2021-07-08T08:41:11.100Z"
   },
   {
    "duration": 27,
    "start_time": "2021-07-08T08:41:11.111Z"
   },
   {
    "duration": 46,
    "start_time": "2021-07-08T08:41:11.140Z"
   },
   {
    "duration": 17,
    "start_time": "2021-07-08T08:41:11.187Z"
   },
   {
    "duration": 6,
    "start_time": "2021-07-08T08:41:11.206Z"
   },
   {
    "duration": 5,
    "start_time": "2021-07-08T08:41:11.213Z"
   },
   {
    "duration": 10,
    "start_time": "2021-07-08T08:41:11.219Z"
   },
   {
    "duration": 9,
    "start_time": "2021-07-08T08:41:11.230Z"
   },
   {
    "duration": 45,
    "start_time": "2021-07-08T08:41:11.241Z"
   },
   {
    "duration": 7,
    "start_time": "2021-07-08T08:41:11.287Z"
   },
   {
    "duration": 24,
    "start_time": "2021-07-08T08:41:11.296Z"
   },
   {
    "duration": 16,
    "start_time": "2021-07-08T08:41:11.322Z"
   },
   {
    "duration": 7,
    "start_time": "2021-07-08T08:41:11.341Z"
   },
   {
    "duration": 41,
    "start_time": "2021-07-08T08:41:11.349Z"
   },
   {
    "duration": 17,
    "start_time": "2021-07-08T08:41:11.391Z"
   },
   {
    "duration": 9,
    "start_time": "2021-07-08T08:41:11.410Z"
   },
   {
    "duration": 5,
    "start_time": "2021-07-08T08:41:11.421Z"
   },
   {
    "duration": 6,
    "start_time": "2021-07-08T08:41:11.428Z"
   },
   {
    "duration": 198,
    "start_time": "2021-07-08T08:41:11.435Z"
   },
   {
    "duration": 18,
    "start_time": "2021-07-08T08:41:11.635Z"
   },
   {
    "duration": 155,
    "start_time": "2021-07-08T08:41:11.655Z"
   },
   {
    "duration": 138,
    "start_time": "2021-07-08T08:41:11.811Z"
   },
   {
    "duration": 10,
    "start_time": "2021-07-08T08:41:11.950Z"
   },
   {
    "duration": 29,
    "start_time": "2021-07-08T08:41:11.961Z"
   },
   {
    "duration": 171,
    "start_time": "2021-07-08T08:47:44.522Z"
   },
   {
    "duration": 124,
    "start_time": "2021-07-08T08:47:46.872Z"
   },
   {
    "duration": 191,
    "start_time": "2021-07-08T08:47:58.148Z"
   },
   {
    "duration": 191,
    "start_time": "2021-07-08T08:48:07.412Z"
   },
   {
    "duration": 261,
    "start_time": "2021-07-08T08:48:10.385Z"
   },
   {
    "duration": 255,
    "start_time": "2021-07-08T08:48:14.494Z"
   },
   {
    "duration": 219,
    "start_time": "2021-07-08T08:48:22.752Z"
   },
   {
    "duration": 173,
    "start_time": "2021-07-08T08:49:06.395Z"
   },
   {
    "duration": 180,
    "start_time": "2021-07-08T08:49:21.011Z"
   },
   {
    "duration": 6,
    "start_time": "2021-07-08T08:50:31.697Z"
   },
   {
    "duration": 10,
    "start_time": "2021-07-08T08:50:47.394Z"
   },
   {
    "duration": 11,
    "start_time": "2021-07-08T08:53:49.332Z"
   },
   {
    "duration": 171,
    "start_time": "2021-07-08T08:54:28.408Z"
   },
   {
    "duration": 636,
    "start_time": "2021-07-08T09:02:48.385Z"
   },
   {
    "duration": 227,
    "start_time": "2021-07-08T09:02:49.023Z"
   },
   {
    "duration": 104,
    "start_time": "2021-07-08T09:02:49.252Z"
   },
   {
    "duration": 5,
    "start_time": "2021-07-08T09:02:49.358Z"
   },
   {
    "duration": 27,
    "start_time": "2021-07-08T09:02:49.365Z"
   },
   {
    "duration": 8,
    "start_time": "2021-07-08T09:02:49.394Z"
   },
   {
    "duration": 18,
    "start_time": "2021-07-08T09:02:49.404Z"
   },
   {
    "duration": 6,
    "start_time": "2021-07-08T09:02:49.424Z"
   },
   {
    "duration": 11,
    "start_time": "2021-07-08T09:02:49.433Z"
   },
   {
    "duration": 13,
    "start_time": "2021-07-08T09:02:49.485Z"
   },
   {
    "duration": 9,
    "start_time": "2021-07-08T09:02:49.500Z"
   },
   {
    "duration": 38,
    "start_time": "2021-07-08T09:02:49.511Z"
   },
   {
    "duration": 42,
    "start_time": "2021-07-08T09:02:49.551Z"
   },
   {
    "duration": 21,
    "start_time": "2021-07-08T09:02:49.594Z"
   },
   {
    "duration": 6,
    "start_time": "2021-07-08T09:02:49.616Z"
   },
   {
    "duration": 3,
    "start_time": "2021-07-08T09:02:49.623Z"
   },
   {
    "duration": 9,
    "start_time": "2021-07-08T09:02:49.628Z"
   },
   {
    "duration": 52,
    "start_time": "2021-07-08T09:02:49.638Z"
   },
   {
    "duration": 11,
    "start_time": "2021-07-08T09:02:49.692Z"
   },
   {
    "duration": 8,
    "start_time": "2021-07-08T09:02:49.704Z"
   },
   {
    "duration": 27,
    "start_time": "2021-07-08T09:02:49.713Z"
   },
   {
    "duration": 59,
    "start_time": "2021-07-08T09:02:49.741Z"
   },
   {
    "duration": 8,
    "start_time": "2021-07-08T09:02:49.803Z"
   },
   {
    "duration": 14,
    "start_time": "2021-07-08T09:02:49.813Z"
   },
   {
    "duration": 20,
    "start_time": "2021-07-08T09:02:49.829Z"
   },
   {
    "duration": 44,
    "start_time": "2021-07-08T09:02:49.851Z"
   },
   {
    "duration": 14,
    "start_time": "2021-07-08T09:02:49.896Z"
   },
   {
    "duration": 221,
    "start_time": "2021-07-08T09:02:49.912Z"
   },
   {
    "duration": 6,
    "start_time": "2021-07-08T09:02:50.134Z"
   },
   {
    "duration": 206,
    "start_time": "2021-07-08T09:02:50.142Z"
   },
   {
    "duration": 19,
    "start_time": "2021-07-08T09:02:50.350Z"
   },
   {
    "duration": 21,
    "start_time": "2021-07-08T09:02:50.370Z"
   },
   {
    "duration": 20,
    "start_time": "2021-07-08T09:02:50.393Z"
   },
   {
    "duration": 5,
    "start_time": "2021-07-08T09:02:50.414Z"
   },
   {
    "duration": 5,
    "start_time": "2021-07-08T09:03:34.173Z"
   },
   {
    "duration": 6,
    "start_time": "2021-07-08T09:04:49.062Z"
   },
   {
    "duration": 9,
    "start_time": "2021-07-08T09:04:50.118Z"
   },
   {
    "duration": 14,
    "start_time": "2021-07-08T09:04:58.512Z"
   },
   {
    "duration": 9,
    "start_time": "2021-07-08T09:05:10.988Z"
   },
   {
    "duration": 11,
    "start_time": "2021-07-08T09:05:11.743Z"
   },
   {
    "duration": 7,
    "start_time": "2021-07-08T09:05:25.677Z"
   },
   {
    "duration": 13,
    "start_time": "2021-07-08T09:05:47.189Z"
   },
   {
    "duration": 13,
    "start_time": "2021-07-08T09:05:54.755Z"
   },
   {
    "duration": 4,
    "start_time": "2021-07-08T09:06:29.189Z"
   },
   {
    "duration": 244,
    "start_time": "2021-07-08T09:06:29.195Z"
   },
   {
    "duration": 91,
    "start_time": "2021-07-08T09:06:29.441Z"
   },
   {
    "duration": 4,
    "start_time": "2021-07-08T09:06:29.534Z"
   },
   {
    "duration": 28,
    "start_time": "2021-07-08T09:06:29.540Z"
   },
   {
    "duration": 6,
    "start_time": "2021-07-08T09:06:29.570Z"
   },
   {
    "duration": 18,
    "start_time": "2021-07-08T09:06:29.578Z"
   },
   {
    "duration": 5,
    "start_time": "2021-07-08T09:06:29.597Z"
   },
   {
    "duration": 13,
    "start_time": "2021-07-08T09:06:29.605Z"
   },
   {
    "duration": 8,
    "start_time": "2021-07-08T09:06:29.620Z"
   },
   {
    "duration": 7,
    "start_time": "2021-07-08T09:06:29.630Z"
   },
   {
    "duration": 63,
    "start_time": "2021-07-08T09:06:29.639Z"
   },
   {
    "duration": 17,
    "start_time": "2021-07-08T09:06:29.704Z"
   },
   {
    "duration": 20,
    "start_time": "2021-07-08T09:06:29.723Z"
   },
   {
    "duration": 6,
    "start_time": "2021-07-08T09:06:29.745Z"
   },
   {
    "duration": 3,
    "start_time": "2021-07-08T09:06:29.752Z"
   },
   {
    "duration": 7,
    "start_time": "2021-07-08T09:06:29.785Z"
   },
   {
    "duration": 11,
    "start_time": "2021-07-08T09:06:29.794Z"
   },
   {
    "duration": 15,
    "start_time": "2021-07-08T09:06:29.807Z"
   },
   {
    "duration": 8,
    "start_time": "2021-07-08T09:06:29.823Z"
   },
   {
    "duration": 70,
    "start_time": "2021-07-08T09:06:29.832Z"
   },
   {
    "duration": 17,
    "start_time": "2021-07-08T09:06:29.903Z"
   },
   {
    "duration": 9,
    "start_time": "2021-07-08T09:06:29.921Z"
   },
   {
    "duration": 9,
    "start_time": "2021-07-08T09:06:29.932Z"
   },
   {
    "duration": 57,
    "start_time": "2021-07-08T09:06:29.942Z"
   },
   {
    "duration": 11,
    "start_time": "2021-07-08T09:06:30.001Z"
   },
   {
    "duration": 19,
    "start_time": "2021-07-08T09:06:30.016Z"
   },
   {
    "duration": 217,
    "start_time": "2021-07-08T09:06:30.037Z"
   },
   {
    "duration": 6,
    "start_time": "2021-07-08T09:06:30.255Z"
   },
   {
    "duration": 205,
    "start_time": "2021-07-08T09:06:30.263Z"
   },
   {
    "duration": 27,
    "start_time": "2021-07-08T09:06:30.470Z"
   },
   {
    "duration": 11,
    "start_time": "2021-07-08T09:06:30.500Z"
   },
   {
    "duration": 31,
    "start_time": "2021-07-08T09:06:30.513Z"
   },
   {
    "duration": 18,
    "start_time": "2021-07-08T09:06:30.546Z"
   },
   {
    "duration": 11,
    "start_time": "2021-07-08T09:06:30.566Z"
   },
   {
    "duration": 19,
    "start_time": "2021-07-08T09:06:30.579Z"
   },
   {
    "duration": 20,
    "start_time": "2021-07-08T09:06:49.466Z"
   },
   {
    "duration": 9,
    "start_time": "2021-07-08T09:06:51.994Z"
   },
   {
    "duration": 20,
    "start_time": "2021-07-08T09:06:52.273Z"
   },
   {
    "duration": 246,
    "start_time": "2021-07-08T09:10:21.272Z"
   },
   {
    "duration": 84,
    "start_time": "2021-07-08T09:10:21.436Z"
   },
   {
    "duration": 7,
    "start_time": "2021-07-08T09:10:37.608Z"
   },
   {
    "duration": 189,
    "start_time": "2021-07-08T09:10:38.573Z"
   },
   {
    "duration": 185,
    "start_time": "2021-07-08T09:10:53.181Z"
   },
   {
    "duration": 11,
    "start_time": "2021-07-08T09:10:59.549Z"
   },
   {
    "duration": 42,
    "start_time": "2021-07-08T09:10:59.709Z"
   },
   {
    "duration": 12,
    "start_time": "2021-07-08T09:11:02.857Z"
   },
   {
    "duration": 28,
    "start_time": "2021-07-08T09:11:10.062Z"
   },
   {
    "duration": 249,
    "start_time": "2021-07-08T09:11:37.388Z"
   },
   {
    "duration": 232,
    "start_time": "2021-07-08T09:11:49.485Z"
   },
   {
    "duration": 453,
    "start_time": "2021-07-08T09:12:01.546Z"
   },
   {
    "duration": 440,
    "start_time": "2021-07-08T09:12:12.347Z"
   },
   {
    "duration": 213,
    "start_time": "2021-07-08T09:13:32.196Z"
   },
   {
    "duration": 172,
    "start_time": "2021-07-08T09:14:07.400Z"
   },
   {
    "duration": 185,
    "start_time": "2021-07-08T09:14:14.905Z"
   },
   {
    "duration": 209,
    "start_time": "2021-07-08T09:14:40.109Z"
   },
   {
    "duration": 201,
    "start_time": "2021-07-08T09:14:54.506Z"
   },
   {
    "duration": 622,
    "start_time": "2021-07-08T09:18:14.497Z"
   },
   {
    "duration": 220,
    "start_time": "2021-07-08T09:18:15.121Z"
   },
   {
    "duration": 79,
    "start_time": "2021-07-08T09:18:15.343Z"
   },
   {
    "duration": 4,
    "start_time": "2021-07-08T09:18:15.425Z"
   },
   {
    "duration": 24,
    "start_time": "2021-07-08T09:18:15.431Z"
   },
   {
    "duration": 8,
    "start_time": "2021-07-08T09:18:15.457Z"
   },
   {
    "duration": 16,
    "start_time": "2021-07-08T09:18:15.466Z"
   },
   {
    "duration": 5,
    "start_time": "2021-07-08T09:18:15.484Z"
   },
   {
    "duration": 10,
    "start_time": "2021-07-08T09:18:15.493Z"
   },
   {
    "duration": 8,
    "start_time": "2021-07-08T09:18:15.504Z"
   },
   {
    "duration": 7,
    "start_time": "2021-07-08T09:18:15.513Z"
   },
   {
    "duration": 26,
    "start_time": "2021-07-08T09:18:15.522Z"
   },
   {
    "duration": 49,
    "start_time": "2021-07-08T09:18:15.550Z"
   },
   {
    "duration": 21,
    "start_time": "2021-07-08T09:18:15.601Z"
   },
   {
    "duration": 8,
    "start_time": "2021-07-08T09:18:15.624Z"
   },
   {
    "duration": 3,
    "start_time": "2021-07-08T09:18:15.634Z"
   },
   {
    "duration": 8,
    "start_time": "2021-07-08T09:18:15.639Z"
   },
   {
    "duration": 45,
    "start_time": "2021-07-08T09:18:15.649Z"
   },
   {
    "duration": 13,
    "start_time": "2021-07-08T09:18:15.696Z"
   },
   {
    "duration": 10,
    "start_time": "2021-07-08T09:18:15.711Z"
   },
   {
    "duration": 64,
    "start_time": "2021-07-08T09:18:15.722Z"
   },
   {
    "duration": 19,
    "start_time": "2021-07-08T09:18:15.788Z"
   },
   {
    "duration": 9,
    "start_time": "2021-07-08T09:18:15.809Z"
   },
   {
    "duration": 9,
    "start_time": "2021-07-08T09:18:15.820Z"
   },
   {
    "duration": 18,
    "start_time": "2021-07-08T09:18:15.831Z"
   },
   {
    "duration": 43,
    "start_time": "2021-07-08T09:18:15.851Z"
   },
   {
    "duration": 12,
    "start_time": "2021-07-08T09:18:15.897Z"
   },
   {
    "duration": 219,
    "start_time": "2021-07-08T09:18:15.911Z"
   },
   {
    "duration": 8,
    "start_time": "2021-07-08T09:18:16.132Z"
   },
   {
    "duration": 199,
    "start_time": "2021-07-08T09:18:16.141Z"
   },
   {
    "duration": 18,
    "start_time": "2021-07-08T09:18:16.341Z"
   },
   {
    "duration": 24,
    "start_time": "2021-07-08T09:18:16.361Z"
   },
   {
    "duration": 24,
    "start_time": "2021-07-08T09:18:16.387Z"
   },
   {
    "duration": 211,
    "start_time": "2021-07-08T09:18:16.413Z"
   },
   {
    "duration": 18,
    "start_time": "2021-07-08T09:18:16.626Z"
   },
   {
    "duration": 596,
    "start_time": "2021-07-08T10:06:33.623Z"
   },
   {
    "duration": 181,
    "start_time": "2021-07-08T10:06:34.221Z"
   },
   {
    "duration": 176,
    "start_time": "2021-07-08T10:06:34.635Z"
   },
   {
    "duration": 239,
    "start_time": "2021-07-08T10:06:55.572Z"
   },
   {
    "duration": 6,
    "start_time": "2021-07-08T10:06:57.687Z"
   },
   {
    "duration": 4,
    "start_time": "2021-07-08T10:07:03.956Z"
   },
   {
    "duration": 4,
    "start_time": "2021-07-08T10:07:10.376Z"
   },
   {
    "duration": 4,
    "start_time": "2021-07-08T10:17:19.889Z"
   },
   {
    "duration": 3,
    "start_time": "2021-07-08T10:19:19.407Z"
   },
   {
    "duration": 197,
    "start_time": "2021-07-08T10:19:19.412Z"
   },
   {
    "duration": 127,
    "start_time": "2021-07-08T10:19:19.611Z"
   },
   {
    "duration": 4,
    "start_time": "2021-07-08T10:19:19.740Z"
   },
   {
    "duration": 27,
    "start_time": "2021-07-08T10:19:19.746Z"
   },
   {
    "duration": 7,
    "start_time": "2021-07-08T10:19:19.775Z"
   },
   {
    "duration": 30,
    "start_time": "2021-07-08T10:19:19.784Z"
   },
   {
    "duration": 7,
    "start_time": "2021-07-08T10:19:19.817Z"
   },
   {
    "duration": 26,
    "start_time": "2021-07-08T10:19:19.826Z"
   },
   {
    "duration": 18,
    "start_time": "2021-07-08T10:19:19.854Z"
   },
   {
    "duration": 14,
    "start_time": "2021-07-08T10:19:19.874Z"
   },
   {
    "duration": 48,
    "start_time": "2021-07-08T10:19:19.890Z"
   },
   {
    "duration": 17,
    "start_time": "2021-07-08T10:19:19.940Z"
   },
   {
    "duration": 38,
    "start_time": "2021-07-08T10:19:19.959Z"
   },
   {
    "duration": 8,
    "start_time": "2021-07-08T10:19:19.999Z"
   },
   {
    "duration": 15,
    "start_time": "2021-07-08T10:19:20.009Z"
   },
   {
    "duration": 22,
    "start_time": "2021-07-08T10:19:20.026Z"
   },
   {
    "duration": 10,
    "start_time": "2021-07-08T10:19:20.050Z"
   },
   {
    "duration": 10,
    "start_time": "2021-07-08T10:19:20.062Z"
   },
   {
    "duration": 20,
    "start_time": "2021-07-08T10:19:20.073Z"
   },
   {
    "duration": 29,
    "start_time": "2021-07-08T10:19:20.095Z"
   },
   {
    "duration": 17,
    "start_time": "2021-07-08T10:19:20.126Z"
   },
   {
    "duration": 40,
    "start_time": "2021-07-08T10:19:20.146Z"
   },
   {
    "duration": 15,
    "start_time": "2021-07-08T10:19:20.189Z"
   },
   {
    "duration": 19,
    "start_time": "2021-07-08T10:19:20.206Z"
   },
   {
    "duration": 10,
    "start_time": "2021-07-08T10:19:20.226Z"
   },
   {
    "duration": 11,
    "start_time": "2021-07-08T10:19:20.238Z"
   },
   {
    "duration": 297,
    "start_time": "2021-07-08T10:19:20.250Z"
   },
   {
    "duration": 6,
    "start_time": "2021-07-08T10:19:20.549Z"
   },
   {
    "duration": 191,
    "start_time": "2021-07-08T10:19:20.557Z"
   },
   {
    "duration": 19,
    "start_time": "2021-07-08T10:19:20.750Z"
   },
   {
    "duration": 20,
    "start_time": "2021-07-08T10:19:20.771Z"
   },
   {
    "duration": 15,
    "start_time": "2021-07-08T10:19:20.793Z"
   },
   {
    "duration": 222,
    "start_time": "2021-07-08T10:19:20.809Z"
   },
   {
    "duration": 20,
    "start_time": "2021-07-08T10:19:21.033Z"
   },
   {
    "duration": 27,
    "start_time": "2021-07-08T10:45:04.055Z"
   },
   {
    "duration": 8,
    "start_time": "2021-07-08T10:45:08.478Z"
   },
   {
    "duration": 8,
    "start_time": "2021-07-08T10:45:31.982Z"
   },
   {
    "duration": 10,
    "start_time": "2021-07-08T10:46:01.221Z"
   },
   {
    "duration": 17,
    "start_time": "2021-07-08T10:46:40.011Z"
   },
   {
    "duration": 193,
    "start_time": "2021-07-08T10:48:19.471Z"
   },
   {
    "duration": 225,
    "start_time": "2021-07-08T10:49:26.480Z"
   },
   {
    "duration": 204,
    "start_time": "2021-07-08T10:49:59.992Z"
   },
   {
    "duration": 435,
    "start_time": "2021-07-08T10:50:06.779Z"
   },
   {
    "duration": 199,
    "start_time": "2021-07-08T10:50:14.891Z"
   },
   {
    "duration": 204,
    "start_time": "2021-07-08T10:50:18.501Z"
   },
   {
    "duration": 244,
    "start_time": "2021-07-08T10:50:23.359Z"
   },
   {
    "duration": 192,
    "start_time": "2021-07-08T10:50:29.135Z"
   },
   {
    "duration": 218,
    "start_time": "2021-07-08T10:50:33.092Z"
   },
   {
    "duration": 207,
    "start_time": "2021-07-08T10:52:45.381Z"
   },
   {
    "duration": 5,
    "start_time": "2021-07-08T10:53:34.641Z"
   },
   {
    "duration": 196,
    "start_time": "2021-07-08T10:53:41.478Z"
   },
   {
    "duration": 43,
    "start_time": "2021-07-08T10:53:50.335Z"
   },
   {
    "duration": 32,
    "start_time": "2021-07-08T10:53:55.294Z"
   },
   {
    "duration": 55,
    "start_time": "2021-07-08T10:54:09.675Z"
   },
   {
    "duration": 16,
    "start_time": "2021-07-08T10:54:12.260Z"
   },
   {
    "duration": 15,
    "start_time": "2021-07-08T10:54:49.150Z"
   },
   {
    "duration": 20,
    "start_time": "2021-07-08T10:56:07.596Z"
   },
   {
    "duration": 16,
    "start_time": "2021-07-08T10:58:26.276Z"
   },
   {
    "duration": 22,
    "start_time": "2021-07-08T10:59:00.486Z"
   },
   {
    "duration": 18,
    "start_time": "2021-07-08T11:02:09.653Z"
   },
   {
    "duration": 10,
    "start_time": "2021-07-08T11:03:44.331Z"
   },
   {
    "duration": 10,
    "start_time": "2021-07-08T11:03:54.055Z"
   },
   {
    "duration": 12,
    "start_time": "2021-07-08T11:04:41.967Z"
   },
   {
    "duration": 24,
    "start_time": "2021-07-08T11:07:30.732Z"
   },
   {
    "duration": 6,
    "start_time": "2021-07-08T11:07:37.364Z"
   },
   {
    "duration": 16,
    "start_time": "2021-07-08T11:08:01.819Z"
   },
   {
    "duration": 17,
    "start_time": "2021-07-08T11:09:47.488Z"
   },
   {
    "duration": 246,
    "start_time": "2021-07-08T11:10:00.830Z"
   },
   {
    "duration": 18,
    "start_time": "2021-07-08T11:13:55.195Z"
   },
   {
    "duration": 204,
    "start_time": "2021-07-08T11:14:04.951Z"
   },
   {
    "duration": 19,
    "start_time": "2021-07-08T11:15:10.613Z"
   },
   {
    "duration": 680,
    "start_time": "2021-07-08T11:16:25.793Z"
   },
   {
    "duration": 451,
    "start_time": "2021-07-08T11:16:40.313Z"
   },
   {
    "duration": 469,
    "start_time": "2021-07-08T11:17:21.286Z"
   },
   {
    "duration": 20,
    "start_time": "2021-07-08T11:19:12.554Z"
   },
   {
    "duration": 35,
    "start_time": "2021-07-08T11:20:05.484Z"
   },
   {
    "duration": 53,
    "start_time": "2021-07-08T11:21:40.050Z"
   },
   {
    "duration": 13,
    "start_time": "2021-07-08T11:22:26.059Z"
   },
   {
    "duration": 19,
    "start_time": "2021-07-08T11:22:47.419Z"
   },
   {
    "duration": 25,
    "start_time": "2021-07-08T11:23:19.958Z"
   },
   {
    "duration": 29,
    "start_time": "2021-07-08T11:23:25.415Z"
   },
   {
    "duration": 10,
    "start_time": "2021-07-08T11:24:45.138Z"
   },
   {
    "duration": 19,
    "start_time": "2021-07-08T11:24:54.498Z"
   },
   {
    "duration": 12,
    "start_time": "2021-07-08T11:25:32.225Z"
   },
   {
    "duration": 19,
    "start_time": "2021-07-08T11:25:37.092Z"
   },
   {
    "duration": 17,
    "start_time": "2021-07-08T11:25:58.116Z"
   },
   {
    "duration": 15,
    "start_time": "2021-07-08T11:26:02.258Z"
   },
   {
    "duration": 8,
    "start_time": "2021-07-08T11:26:59.682Z"
   },
   {
    "duration": 184,
    "start_time": "2021-07-08T11:27:21.894Z"
   },
   {
    "duration": 8,
    "start_time": "2021-07-08T11:27:23.824Z"
   },
   {
    "duration": 202,
    "start_time": "2021-07-08T11:27:23.962Z"
   },
   {
    "duration": 360,
    "start_time": "2021-07-08T11:28:33.215Z"
   },
   {
    "duration": 231,
    "start_time": "2021-07-08T11:32:05.542Z"
   },
   {
    "duration": 607,
    "start_time": "2021-07-08T11:36:27.854Z"
   },
   {
    "duration": 241,
    "start_time": "2021-07-08T11:36:28.463Z"
   },
   {
    "duration": 67,
    "start_time": "2021-07-08T11:36:28.709Z"
   },
   {
    "duration": 5,
    "start_time": "2021-07-08T11:36:28.778Z"
   },
   {
    "duration": 32,
    "start_time": "2021-07-08T11:36:28.784Z"
   },
   {
    "duration": 11,
    "start_time": "2021-07-08T11:36:28.819Z"
   },
   {
    "duration": 20,
    "start_time": "2021-07-08T11:36:28.834Z"
   },
   {
    "duration": 36,
    "start_time": "2021-07-08T11:36:28.857Z"
   },
   {
    "duration": 16,
    "start_time": "2021-07-08T11:36:28.895Z"
   },
   {
    "duration": 14,
    "start_time": "2021-07-08T11:36:28.913Z"
   },
   {
    "duration": 9,
    "start_time": "2021-07-08T11:36:28.930Z"
   },
   {
    "duration": 55,
    "start_time": "2021-07-08T11:36:28.941Z"
   },
   {
    "duration": 27,
    "start_time": "2021-07-08T11:36:28.999Z"
   },
   {
    "duration": 30,
    "start_time": "2021-07-08T11:36:29.028Z"
   },
   {
    "duration": 31,
    "start_time": "2021-07-08T11:36:29.060Z"
   },
   {
    "duration": 3,
    "start_time": "2021-07-08T11:36:29.093Z"
   },
   {
    "duration": 12,
    "start_time": "2021-07-08T11:36:29.099Z"
   },
   {
    "duration": 11,
    "start_time": "2021-07-08T11:36:29.112Z"
   },
   {
    "duration": 12,
    "start_time": "2021-07-08T11:36:29.125Z"
   },
   {
    "duration": 9,
    "start_time": "2021-07-08T11:36:29.139Z"
   },
   {
    "duration": 31,
    "start_time": "2021-07-08T11:36:29.191Z"
   },
   {
    "duration": 17,
    "start_time": "2021-07-08T11:36:29.226Z"
   },
   {
    "duration": 7,
    "start_time": "2021-07-08T11:36:29.245Z"
   },
   {
    "duration": 10,
    "start_time": "2021-07-08T11:36:29.254Z"
   },
   {
    "duration": 30,
    "start_time": "2021-07-08T11:36:29.292Z"
   },
   {
    "duration": 11,
    "start_time": "2021-07-08T11:36:29.324Z"
   },
   {
    "duration": 11,
    "start_time": "2021-07-08T11:36:29.337Z"
   },
   {
    "duration": 230,
    "start_time": "2021-07-08T11:36:29.349Z"
   },
   {
    "duration": 13,
    "start_time": "2021-07-08T11:36:29.588Z"
   },
   {
    "duration": 205,
    "start_time": "2021-07-08T11:36:29.603Z"
   },
   {
    "duration": 20,
    "start_time": "2021-07-08T11:36:29.810Z"
   },
   {
    "duration": 9,
    "start_time": "2021-07-08T11:36:29.832Z"
   },
   {
    "duration": 16,
    "start_time": "2021-07-08T11:36:29.843Z"
   },
   {
    "duration": 283,
    "start_time": "2021-07-08T11:36:29.861Z"
   },
   {
    "duration": 50,
    "start_time": "2021-07-08T11:36:30.146Z"
   },
   {
    "duration": 14,
    "start_time": "2021-07-08T11:36:30.198Z"
   },
   {
    "duration": 11,
    "start_time": "2021-07-08T11:36:30.214Z"
   },
   {
    "duration": 245,
    "start_time": "2021-07-08T11:36:30.227Z"
   },
   {
    "duration": 439,
    "start_time": "2021-07-08T11:36:30.474Z"
   },
   {
    "duration": 210,
    "start_time": "2021-07-08T11:36:30.915Z"
   },
   {
    "duration": 15,
    "start_time": "2021-07-08T11:36:31.127Z"
   },
   {
    "duration": 17,
    "start_time": "2021-07-08T11:38:20.451Z"
   },
   {
    "duration": 642,
    "start_time": "2021-07-08T11:46:17.881Z"
   },
   {
    "duration": 210,
    "start_time": "2021-07-08T11:46:18.525Z"
   },
   {
    "duration": 104,
    "start_time": "2021-07-08T11:46:18.741Z"
   },
   {
    "duration": 8,
    "start_time": "2021-07-08T11:46:18.847Z"
   },
   {
    "duration": 25,
    "start_time": "2021-07-08T11:46:18.857Z"
   },
   {
    "duration": 14,
    "start_time": "2021-07-08T11:46:18.884Z"
   },
   {
    "duration": 22,
    "start_time": "2021-07-08T11:46:18.900Z"
   },
   {
    "duration": 5,
    "start_time": "2021-07-08T11:46:18.924Z"
   },
   {
    "duration": 13,
    "start_time": "2021-07-08T11:46:18.931Z"
   },
   {
    "duration": 45,
    "start_time": "2021-07-08T11:46:18.946Z"
   },
   {
    "duration": 12,
    "start_time": "2021-07-08T11:46:18.993Z"
   },
   {
    "duration": 38,
    "start_time": "2021-07-08T11:46:19.006Z"
   },
   {
    "duration": 50,
    "start_time": "2021-07-08T11:46:19.046Z"
   },
   {
    "duration": 29,
    "start_time": "2021-07-08T11:46:19.099Z"
   },
   {
    "duration": 7,
    "start_time": "2021-07-08T11:46:19.130Z"
   },
   {
    "duration": 3,
    "start_time": "2021-07-08T11:46:19.139Z"
   },
   {
    "duration": 11,
    "start_time": "2021-07-08T11:46:19.144Z"
   },
   {
    "duration": 40,
    "start_time": "2021-07-08T11:46:19.157Z"
   },
   {
    "duration": 15,
    "start_time": "2021-07-08T11:46:19.199Z"
   },
   {
    "duration": 10,
    "start_time": "2021-07-08T11:46:19.217Z"
   },
   {
    "duration": 68,
    "start_time": "2021-07-08T11:46:19.230Z"
   },
   {
    "duration": 17,
    "start_time": "2021-07-08T11:46:19.301Z"
   },
   {
    "duration": 7,
    "start_time": "2021-07-08T11:46:19.321Z"
   },
   {
    "duration": 11,
    "start_time": "2021-07-08T11:46:19.330Z"
   },
   {
    "duration": 59,
    "start_time": "2021-07-08T11:46:19.343Z"
   },
   {
    "duration": 17,
    "start_time": "2021-07-08T11:46:19.405Z"
   },
   {
    "duration": 16,
    "start_time": "2021-07-08T11:46:19.424Z"
   },
   {
    "duration": 252,
    "start_time": "2021-07-08T11:46:19.443Z"
   },
   {
    "duration": 9,
    "start_time": "2021-07-08T11:46:19.697Z"
   },
   {
    "duration": 224,
    "start_time": "2021-07-08T11:46:19.708Z"
   },
   {
    "duration": 21,
    "start_time": "2021-07-08T11:46:19.934Z"
   },
   {
    "duration": 9,
    "start_time": "2021-07-08T11:46:19.956Z"
   },
   {
    "duration": 32,
    "start_time": "2021-07-08T11:46:19.967Z"
   },
   {
    "duration": 288,
    "start_time": "2021-07-08T11:46:20.004Z"
   },
   {
    "duration": 23,
    "start_time": "2021-07-08T11:46:20.300Z"
   },
   {
    "duration": 11,
    "start_time": "2021-07-08T11:46:20.325Z"
   },
   {
    "duration": 11,
    "start_time": "2021-07-08T11:46:20.339Z"
   },
   {
    "duration": 259,
    "start_time": "2021-07-08T11:46:20.352Z"
   },
   {
    "duration": 438,
    "start_time": "2021-07-08T11:46:20.613Z"
   },
   {
    "duration": 207,
    "start_time": "2021-07-08T11:46:21.054Z"
   },
   {
    "duration": 27,
    "start_time": "2021-07-08T11:46:21.262Z"
   },
   {
    "duration": 19,
    "start_time": "2021-07-08T11:46:21.291Z"
   },
   {
    "duration": 820,
    "start_time": "2021-07-08T11:49:01.655Z"
   },
   {
    "duration": 372,
    "start_time": "2021-07-08T11:49:02.478Z"
   },
   {
    "duration": 98,
    "start_time": "2021-07-08T11:49:02.853Z"
   },
   {
    "duration": 6,
    "start_time": "2021-07-08T11:49:02.953Z"
   },
   {
    "duration": 39,
    "start_time": "2021-07-08T11:49:02.960Z"
   },
   {
    "duration": 9,
    "start_time": "2021-07-08T11:49:03.003Z"
   },
   {
    "duration": 23,
    "start_time": "2021-07-08T11:49:03.014Z"
   },
   {
    "duration": 6,
    "start_time": "2021-07-08T11:49:03.041Z"
   },
   {
    "duration": 20,
    "start_time": "2021-07-08T11:49:03.049Z"
   },
   {
    "duration": 18,
    "start_time": "2021-07-08T11:49:03.084Z"
   },
   {
    "duration": 14,
    "start_time": "2021-07-08T11:49:03.104Z"
   },
   {
    "duration": 39,
    "start_time": "2021-07-08T11:49:03.119Z"
   },
   {
    "duration": 38,
    "start_time": "2021-07-08T11:49:03.160Z"
   },
   {
    "duration": 26,
    "start_time": "2021-07-08T11:49:03.200Z"
   },
   {
    "duration": 7,
    "start_time": "2021-07-08T11:49:03.227Z"
   },
   {
    "duration": 4,
    "start_time": "2021-07-08T11:49:03.236Z"
   },
   {
    "duration": 15,
    "start_time": "2021-07-08T11:49:03.243Z"
   },
   {
    "duration": 21,
    "start_time": "2021-07-08T11:49:03.285Z"
   },
   {
    "duration": 17,
    "start_time": "2021-07-08T11:49:03.309Z"
   },
   {
    "duration": 10,
    "start_time": "2021-07-08T11:49:03.328Z"
   },
   {
    "duration": 65,
    "start_time": "2021-07-08T11:49:03.340Z"
   },
   {
    "duration": 18,
    "start_time": "2021-07-08T11:49:03.407Z"
   },
   {
    "duration": 8,
    "start_time": "2021-07-08T11:49:03.428Z"
   },
   {
    "duration": 15,
    "start_time": "2021-07-08T11:49:03.438Z"
   },
   {
    "duration": 40,
    "start_time": "2021-07-08T11:49:03.455Z"
   },
   {
    "duration": 12,
    "start_time": "2021-07-08T11:49:03.497Z"
   },
   {
    "duration": 29,
    "start_time": "2021-07-08T11:49:03.511Z"
   },
   {
    "duration": 285,
    "start_time": "2021-07-08T11:49:03.542Z"
   },
   {
    "duration": 8,
    "start_time": "2021-07-08T11:49:03.829Z"
   },
   {
    "duration": 227,
    "start_time": "2021-07-08T11:49:03.838Z"
   },
   {
    "duration": 40,
    "start_time": "2021-07-08T11:49:04.066Z"
   },
   {
    "duration": 10,
    "start_time": "2021-07-08T11:49:04.108Z"
   },
   {
    "duration": 26,
    "start_time": "2021-07-08T11:49:04.121Z"
   },
   {
    "duration": 290,
    "start_time": "2021-07-08T11:49:04.149Z"
   },
   {
    "duration": 26,
    "start_time": "2021-07-08T11:49:04.441Z"
   },
   {
    "duration": 31,
    "start_time": "2021-07-08T11:49:04.470Z"
   },
   {
    "duration": 14,
    "start_time": "2021-07-08T11:49:04.503Z"
   },
   {
    "duration": 259,
    "start_time": "2021-07-08T11:49:04.521Z"
   },
   {
    "duration": 480,
    "start_time": "2021-07-08T11:49:04.782Z"
   },
   {
    "duration": 225,
    "start_time": "2021-07-08T11:49:05.264Z"
   },
   {
    "duration": 22,
    "start_time": "2021-07-08T11:49:05.491Z"
   },
   {
    "duration": 24,
    "start_time": "2021-07-08T11:49:05.515Z"
   },
   {
    "duration": 634,
    "start_time": "2021-07-08T11:52:24.960Z"
   },
   {
    "duration": 199,
    "start_time": "2021-07-08T11:52:25.599Z"
   },
   {
    "duration": 106,
    "start_time": "2021-07-08T11:52:25.803Z"
   },
   {
    "duration": 7,
    "start_time": "2021-07-08T11:52:25.911Z"
   },
   {
    "duration": 29,
    "start_time": "2021-07-08T11:52:25.920Z"
   },
   {
    "duration": 7,
    "start_time": "2021-07-08T11:52:25.951Z"
   },
   {
    "duration": 26,
    "start_time": "2021-07-08T11:52:25.961Z"
   },
   {
    "duration": 11,
    "start_time": "2021-07-08T11:52:25.990Z"
   },
   {
    "duration": 29,
    "start_time": "2021-07-08T11:52:26.005Z"
   },
   {
    "duration": 9,
    "start_time": "2021-07-08T11:52:26.036Z"
   },
   {
    "duration": 8,
    "start_time": "2021-07-08T11:52:26.047Z"
   },
   {
    "duration": 63,
    "start_time": "2021-07-08T11:52:26.057Z"
   },
   {
    "duration": 17,
    "start_time": "2021-07-08T11:52:26.122Z"
   },
   {
    "duration": 43,
    "start_time": "2021-07-08T11:52:26.142Z"
   },
   {
    "duration": 17,
    "start_time": "2021-07-08T11:52:26.187Z"
   },
   {
    "duration": 5,
    "start_time": "2021-07-08T11:52:26.206Z"
   },
   {
    "duration": 12,
    "start_time": "2021-07-08T11:52:26.212Z"
   },
   {
    "duration": 11,
    "start_time": "2021-07-08T11:52:26.226Z"
   },
   {
    "duration": 12,
    "start_time": "2021-07-08T11:52:26.238Z"
   },
   {
    "duration": 38,
    "start_time": "2021-07-08T11:52:26.252Z"
   },
   {
    "duration": 40,
    "start_time": "2021-07-08T11:52:26.292Z"
   },
   {
    "duration": 17,
    "start_time": "2021-07-08T11:52:26.336Z"
   },
   {
    "duration": 39,
    "start_time": "2021-07-08T11:52:26.355Z"
   },
   {
    "duration": 11,
    "start_time": "2021-07-08T11:52:26.395Z"
   },
   {
    "duration": 23,
    "start_time": "2021-07-08T11:52:26.408Z"
   },
   {
    "duration": 12,
    "start_time": "2021-07-08T11:52:26.432Z"
   },
   {
    "duration": 41,
    "start_time": "2021-07-08T11:52:26.446Z"
   },
   {
    "duration": 215,
    "start_time": "2021-07-08T11:52:26.493Z"
   },
   {
    "duration": 8,
    "start_time": "2021-07-08T11:52:26.710Z"
   },
   {
    "duration": 228,
    "start_time": "2021-07-08T11:52:26.720Z"
   },
   {
    "duration": 18,
    "start_time": "2021-07-08T11:52:26.950Z"
   },
   {
    "duration": 35,
    "start_time": "2021-07-08T11:52:26.969Z"
   },
   {
    "duration": 23,
    "start_time": "2021-07-08T11:52:27.006Z"
   },
   {
    "duration": 258,
    "start_time": "2021-07-08T11:52:27.030Z"
   },
   {
    "duration": 24,
    "start_time": "2021-07-08T11:52:27.290Z"
   },
   {
    "duration": 12,
    "start_time": "2021-07-08T11:52:27.316Z"
   },
   {
    "duration": 10,
    "start_time": "2021-07-08T11:52:27.329Z"
   },
   {
    "duration": 298,
    "start_time": "2021-07-08T11:52:27.341Z"
   },
   {
    "duration": 436,
    "start_time": "2021-07-08T11:52:27.641Z"
   },
   {
    "duration": 216,
    "start_time": "2021-07-08T11:52:28.079Z"
   },
   {
    "duration": 20,
    "start_time": "2021-07-08T11:52:28.297Z"
   },
   {
    "duration": 17,
    "start_time": "2021-07-08T11:52:28.319Z"
   },
   {
    "duration": 46,
    "start_time": "2024-08-08T19:49:32.967Z"
   },
   {
    "duration": 398,
    "start_time": "2024-08-08T19:50:05.453Z"
   },
   {
    "duration": 310,
    "start_time": "2024-08-08T19:50:05.932Z"
   },
   {
    "duration": 118,
    "start_time": "2024-08-08T19:50:13.500Z"
   },
   {
    "duration": 93,
    "start_time": "2024-08-08T19:52:23.232Z"
   },
   {
    "duration": 121,
    "start_time": "2024-08-08T19:53:15.681Z"
   },
   {
    "duration": 56,
    "start_time": "2024-08-08T19:53:28.853Z"
   },
   {
    "duration": 6,
    "start_time": "2024-08-08T19:56:55.907Z"
   },
   {
    "duration": 57,
    "start_time": "2024-08-08T19:59:32.223Z"
   },
   {
    "duration": 4,
    "start_time": "2024-08-08T19:59:55.748Z"
   },
   {
    "duration": 2,
    "start_time": "2024-08-08T20:00:07.111Z"
   },
   {
    "duration": 2,
    "start_time": "2024-08-08T20:00:12.779Z"
   },
   {
    "duration": 1,
    "start_time": "2024-08-08T20:00:38.363Z"
   },
   {
    "duration": 2,
    "start_time": "2024-08-08T20:01:15.603Z"
   },
   {
    "duration": 4,
    "start_time": "2024-08-08T20:01:19.156Z"
   },
   {
    "duration": 411,
    "start_time": "2024-08-08T20:01:19.161Z"
   },
   {
    "duration": 109,
    "start_time": "2024-08-08T20:01:19.573Z"
   },
   {
    "duration": 44,
    "start_time": "2024-08-08T20:01:19.684Z"
   },
   {
    "duration": 3,
    "start_time": "2024-08-08T20:01:36.922Z"
   },
   {
    "duration": 5,
    "start_time": "2024-08-08T20:02:05.114Z"
   },
   {
    "duration": 5,
    "start_time": "2024-08-08T20:02:45.187Z"
   },
   {
    "duration": 4,
    "start_time": "2024-08-08T20:03:02.191Z"
   },
   {
    "duration": 3,
    "start_time": "2024-08-08T20:04:15.061Z"
   },
   {
    "duration": 2,
    "start_time": "2024-08-08T20:06:14.734Z"
   },
   {
    "duration": 352,
    "start_time": "2024-08-08T20:07:47.928Z"
   },
   {
    "duration": 103,
    "start_time": "2024-08-08T20:07:48.283Z"
   },
   {
    "duration": 44,
    "start_time": "2024-08-08T20:07:48.388Z"
   },
   {
    "duration": 23,
    "start_time": "2024-08-08T20:12:49.104Z"
   },
   {
    "duration": 23,
    "start_time": "2024-08-08T20:13:05.446Z"
   },
   {
    "duration": 23,
    "start_time": "2024-08-08T20:14:32.868Z"
   },
   {
    "duration": 24,
    "start_time": "2024-08-08T20:14:47.197Z"
   },
   {
    "duration": 24,
    "start_time": "2024-08-08T20:14:58.338Z"
   },
   {
    "duration": 25,
    "start_time": "2024-08-08T20:15:05.822Z"
   },
   {
    "duration": 26,
    "start_time": "2024-08-08T20:15:17.063Z"
   },
   {
    "duration": 25,
    "start_time": "2024-08-08T20:15:35.132Z"
   },
   {
    "duration": 300,
    "start_time": "2024-08-08T20:25:11.247Z"
   },
   {
    "duration": 23,
    "start_time": "2024-08-08T20:30:40.043Z"
   },
   {
    "duration": 16,
    "start_time": "2024-08-08T20:31:19.979Z"
   },
   {
    "duration": 2,
    "start_time": "2024-08-08T20:31:41.429Z"
   },
   {
    "duration": 10,
    "start_time": "2024-08-08T20:37:26.536Z"
   },
   {
    "duration": 6,
    "start_time": "2024-08-08T20:38:04.697Z"
   },
   {
    "duration": 401,
    "start_time": "2024-08-08T20:38:19.685Z"
   },
   {
    "duration": 105,
    "start_time": "2024-08-08T20:38:20.087Z"
   },
   {
    "duration": 47,
    "start_time": "2024-08-08T20:38:20.193Z"
   },
   {
    "duration": 24,
    "start_time": "2024-08-08T20:38:20.242Z"
   },
   {
    "duration": 16,
    "start_time": "2024-08-08T20:38:20.268Z"
   },
   {
    "duration": 23,
    "start_time": "2024-08-08T20:38:20.285Z"
   },
   {
    "duration": 44,
    "start_time": "2024-08-08T20:38:20.309Z"
   },
   {
    "duration": 0,
    "start_time": "2024-08-08T20:38:20.355Z"
   },
   {
    "duration": 9,
    "start_time": "2024-08-08T20:38:30.443Z"
   },
   {
    "duration": 12,
    "start_time": "2024-08-08T20:41:09.770Z"
   },
   {
    "duration": 11,
    "start_time": "2024-08-08T20:42:54.688Z"
   },
   {
    "duration": 388,
    "start_time": "2024-08-08T21:22:46.985Z"
   },
   {
    "duration": 105,
    "start_time": "2024-08-08T21:22:47.374Z"
   },
   {
    "duration": 44,
    "start_time": "2024-08-08T21:22:47.480Z"
   },
   {
    "duration": 25,
    "start_time": "2024-08-08T21:22:47.526Z"
   },
   {
    "duration": 15,
    "start_time": "2024-08-08T21:22:47.553Z"
   },
   {
    "duration": 9,
    "start_time": "2024-08-08T21:22:47.570Z"
   },
   {
    "duration": 8,
    "start_time": "2024-08-08T21:22:47.580Z"
   },
   {
    "duration": 17,
    "start_time": "2024-08-08T21:22:47.590Z"
   },
   {
    "duration": 2,
    "start_time": "2024-08-08T21:27:56.364Z"
   },
   {
    "duration": 2,
    "start_time": "2024-08-08T21:27:57.434Z"
   },
   {
    "duration": 363,
    "start_time": "2024-08-08T21:28:00.445Z"
   },
   {
    "duration": 103,
    "start_time": "2024-08-08T21:28:00.810Z"
   },
   {
    "duration": 44,
    "start_time": "2024-08-08T21:28:00.915Z"
   },
   {
    "duration": 26,
    "start_time": "2024-08-08T21:28:00.961Z"
   },
   {
    "duration": 21,
    "start_time": "2024-08-08T21:28:00.988Z"
   },
   {
    "duration": 32,
    "start_time": "2024-08-08T21:28:01.010Z"
   },
   {
    "duration": 113,
    "start_time": "2024-08-08T21:28:01.044Z"
   },
   {
    "duration": 53,
    "start_time": "2024-08-08T21:28:01.158Z"
   },
   {
    "duration": 36,
    "start_time": "2024-08-08T21:28:01.213Z"
   },
   {
    "duration": 39,
    "start_time": "2024-08-08T21:28:01.251Z"
   },
   {
    "duration": 46,
    "start_time": "2024-08-08T21:28:01.291Z"
   },
   {
    "duration": 34,
    "start_time": "2024-08-08T21:28:01.339Z"
   },
   {
    "duration": 63,
    "start_time": "2024-08-08T21:28:01.374Z"
   },
   {
    "duration": 60,
    "start_time": "2024-08-08T21:28:01.438Z"
   },
   {
    "duration": 126,
    "start_time": "2024-08-08T21:28:01.500Z"
   },
   {
    "duration": 118,
    "start_time": "2024-08-08T21:28:01.627Z"
   },
   {
    "duration": 42,
    "start_time": "2024-08-08T21:28:01.747Z"
   },
   {
    "duration": 80,
    "start_time": "2024-08-08T21:28:01.791Z"
   },
   {
    "duration": 37,
    "start_time": "2024-08-08T21:28:01.872Z"
   },
   {
    "duration": 19,
    "start_time": "2024-08-08T21:28:01.910Z"
   },
   {
    "duration": 17,
    "start_time": "2024-08-08T21:28:01.931Z"
   },
   {
    "duration": 12,
    "start_time": "2024-08-08T21:28:01.950Z"
   },
   {
    "duration": 2,
    "start_time": "2024-08-08T21:30:46.829Z"
   },
   {
    "duration": 4,
    "start_time": "2024-08-08T21:37:46.726Z"
   },
   {
    "duration": 2,
    "start_time": "2024-08-08T21:45:49.648Z"
   },
   {
    "duration": 1022,
    "start_time": "2024-08-08T21:46:42.254Z"
   },
   {
    "duration": 2,
    "start_time": "2024-08-08T21:47:26.425Z"
   },
   {
    "duration": 2,
    "start_time": "2024-08-08T21:47:55.606Z"
   },
   {
    "duration": 3,
    "start_time": "2024-08-08T21:52:56.008Z"
   },
   {
    "duration": 4,
    "start_time": "2024-08-08T21:53:51.269Z"
   },
   {
    "duration": 5,
    "start_time": "2024-08-08T21:54:00.711Z"
   },
   {
    "duration": 2,
    "start_time": "2024-08-08T21:54:58.926Z"
   },
   {
    "duration": 1699,
    "start_time": "2024-08-08T21:54:59.539Z"
   },
   {
    "duration": 4,
    "start_time": "2024-08-08T21:55:01.240Z"
   },
   {
    "duration": 409,
    "start_time": "2024-08-09T17:05:13.279Z"
   },
   {
    "duration": 180,
    "start_time": "2024-08-09T17:05:13.690Z"
   },
   {
    "duration": 104,
    "start_time": "2024-08-09T17:05:13.872Z"
   },
   {
    "duration": 28,
    "start_time": "2024-08-09T17:05:13.978Z"
   },
   {
    "duration": 16,
    "start_time": "2024-08-09T17:05:14.007Z"
   },
   {
    "duration": 6,
    "start_time": "2024-08-09T17:05:14.024Z"
   },
   {
    "duration": 10,
    "start_time": "2024-08-09T17:05:14.031Z"
   },
   {
    "duration": 20,
    "start_time": "2024-08-09T17:05:14.043Z"
   },
   {
    "duration": 2,
    "start_time": "2024-08-09T17:05:14.065Z"
   },
   {
    "duration": 23,
    "start_time": "2024-08-09T17:05:14.070Z"
   },
   {
    "duration": 3,
    "start_time": "2024-08-09T17:05:14.095Z"
   },
   {
    "duration": 2449,
    "start_time": "2024-08-09T17:05:14.099Z"
   },
   {
    "duration": 5,
    "start_time": "2024-08-09T17:05:16.550Z"
   },
   {
    "duration": 13,
    "start_time": "2024-08-09T17:05:16.556Z"
   },
   {
    "duration": 3,
    "start_time": "2024-08-09T17:05:16.571Z"
   },
   {
    "duration": 367,
    "start_time": "2024-08-09T17:39:28.267Z"
   },
   {
    "duration": 164,
    "start_time": "2024-08-09T17:39:28.636Z"
   },
   {
    "duration": 94,
    "start_time": "2024-08-09T17:39:28.802Z"
   },
   {
    "duration": 40,
    "start_time": "2024-08-09T17:39:28.898Z"
   },
   {
    "duration": 17,
    "start_time": "2024-08-09T17:39:28.940Z"
   },
   {
    "duration": 8,
    "start_time": "2024-08-09T17:39:28.958Z"
   },
   {
    "duration": 52,
    "start_time": "2024-08-09T17:39:28.967Z"
   },
   {
    "duration": 23,
    "start_time": "2024-08-09T17:39:29.021Z"
   },
   {
    "duration": 3,
    "start_time": "2024-08-09T17:39:29.046Z"
   },
   {
    "duration": 11,
    "start_time": "2024-08-09T17:39:29.050Z"
   },
   {
    "duration": 435,
    "start_time": "2024-08-09T17:39:56.521Z"
   },
   {
    "duration": 169,
    "start_time": "2024-08-09T17:39:56.959Z"
   },
   {
    "duration": 101,
    "start_time": "2024-08-09T17:39:57.130Z"
   },
   {
    "duration": 28,
    "start_time": "2024-08-09T17:39:57.233Z"
   },
   {
    "duration": 17,
    "start_time": "2024-08-09T17:39:57.263Z"
   },
   {
    "duration": 38,
    "start_time": "2024-08-09T17:39:57.281Z"
   },
   {
    "duration": 14,
    "start_time": "2024-08-09T17:39:57.321Z"
   },
   {
    "duration": 13,
    "start_time": "2024-08-09T17:39:57.337Z"
   },
   {
    "duration": 2,
    "start_time": "2024-08-09T17:39:57.352Z"
   },
   {
    "duration": 12,
    "start_time": "2024-08-09T17:39:57.355Z"
   },
   {
    "duration": 50,
    "start_time": "2024-08-09T17:40:22.085Z"
   },
   {
    "duration": 6,
    "start_time": "2024-08-09T17:40:44.787Z"
   },
   {
    "duration": 456,
    "start_time": "2024-08-09T17:40:49.881Z"
   },
   {
    "duration": 163,
    "start_time": "2024-08-09T17:40:50.339Z"
   },
   {
    "duration": 92,
    "start_time": "2024-08-09T17:40:50.504Z"
   },
   {
    "duration": 27,
    "start_time": "2024-08-09T17:40:50.597Z"
   },
   {
    "duration": 16,
    "start_time": "2024-08-09T17:40:50.626Z"
   },
   {
    "duration": 6,
    "start_time": "2024-08-09T17:40:50.643Z"
   },
   {
    "duration": 19,
    "start_time": "2024-08-09T17:40:50.650Z"
   },
   {
    "duration": 49,
    "start_time": "2024-08-09T17:40:50.671Z"
   },
   {
    "duration": 2,
    "start_time": "2024-08-09T17:40:50.722Z"
   },
   {
    "duration": 11,
    "start_time": "2024-08-09T17:40:50.728Z"
   },
   {
    "duration": 15,
    "start_time": "2024-08-09T17:40:50.742Z"
   },
   {
    "duration": 475,
    "start_time": "2024-08-09T17:41:24.638Z"
   },
   {
    "duration": 192,
    "start_time": "2024-08-09T17:41:25.115Z"
   },
   {
    "duration": 95,
    "start_time": "2024-08-09T17:41:25.308Z"
   },
   {
    "duration": 38,
    "start_time": "2024-08-09T17:41:25.404Z"
   },
   {
    "duration": 15,
    "start_time": "2024-08-09T17:41:25.444Z"
   },
   {
    "duration": 4,
    "start_time": "2024-08-09T17:41:25.461Z"
   },
   {
    "duration": 54,
    "start_time": "2024-08-09T17:41:25.466Z"
   },
   {
    "duration": 17,
    "start_time": "2024-08-09T17:41:25.525Z"
   },
   {
    "duration": 3,
    "start_time": "2024-08-09T17:41:25.543Z"
   },
   {
    "duration": 7,
    "start_time": "2024-08-09T17:41:25.547Z"
   },
   {
    "duration": 6,
    "start_time": "2024-08-09T17:41:25.556Z"
   },
   {
    "duration": 385,
    "start_time": "2024-08-09T19:41:27.849Z"
   },
   {
    "duration": 109,
    "start_time": "2024-08-09T19:41:28.236Z"
   },
   {
    "duration": 41,
    "start_time": "2024-08-09T19:41:28.346Z"
   },
   {
    "duration": 30,
    "start_time": "2024-08-09T19:41:28.389Z"
   },
   {
    "duration": 16,
    "start_time": "2024-08-09T19:41:28.421Z"
   },
   {
    "duration": 7,
    "start_time": "2024-08-09T19:41:28.438Z"
   },
   {
    "duration": 10,
    "start_time": "2024-08-09T19:41:28.446Z"
   },
   {
    "duration": 13,
    "start_time": "2024-08-09T19:41:28.457Z"
   },
   {
    "duration": 9,
    "start_time": "2024-08-09T19:41:28.478Z"
   },
   {
    "duration": 45,
    "start_time": "2024-08-09T19:41:28.488Z"
   },
   {
    "duration": 10,
    "start_time": "2024-08-09T19:41:28.534Z"
   },
   {
    "duration": 47,
    "start_time": "2024-08-10T18:23:38.331Z"
   },
   {
    "duration": 449,
    "start_time": "2024-08-10T18:23:42.383Z"
   },
   {
    "duration": 170,
    "start_time": "2024-08-10T18:23:42.835Z"
   },
   {
    "duration": 5,
    "start_time": "2024-08-10T18:23:43.007Z"
   },
   {
    "duration": 108,
    "start_time": "2024-08-10T18:23:43.013Z"
   },
   {
    "duration": 28,
    "start_time": "2024-08-10T18:23:43.123Z"
   },
   {
    "duration": 16,
    "start_time": "2024-08-10T18:23:43.152Z"
   },
   {
    "duration": 5,
    "start_time": "2024-08-10T18:23:43.170Z"
   },
   {
    "duration": 33,
    "start_time": "2024-08-10T18:23:43.176Z"
   },
   {
    "duration": 15,
    "start_time": "2024-08-10T18:23:43.211Z"
   },
   {
    "duration": 6,
    "start_time": "2024-08-10T18:23:43.227Z"
   },
   {
    "duration": 12,
    "start_time": "2024-08-10T18:23:43.235Z"
   },
   {
    "duration": 5,
    "start_time": "2024-08-10T18:23:43.248Z"
   },
   {
    "duration": 416,
    "start_time": "2024-08-10T18:24:01.227Z"
   },
   {
    "duration": 174,
    "start_time": "2024-08-10T18:24:01.645Z"
   },
   {
    "duration": 6,
    "start_time": "2024-08-10T18:24:01.821Z"
   },
   {
    "duration": 120,
    "start_time": "2024-08-10T18:24:01.829Z"
   },
   {
    "duration": 43,
    "start_time": "2024-08-10T18:24:01.952Z"
   },
   {
    "duration": 63,
    "start_time": "2024-08-10T18:24:01.997Z"
   },
   {
    "duration": 117,
    "start_time": "2024-08-10T18:24:02.063Z"
   },
   {
    "duration": 93,
    "start_time": "2024-08-10T18:24:02.182Z"
   },
   {
    "duration": 30,
    "start_time": "2024-08-10T18:24:02.277Z"
   },
   {
    "duration": 74,
    "start_time": "2024-08-10T18:24:02.309Z"
   },
   {
    "duration": 15,
    "start_time": "2024-08-10T18:24:02.385Z"
   },
   {
    "duration": 5,
    "start_time": "2024-08-10T18:24:02.402Z"
   },
   {
    "duration": 48,
    "start_time": "2024-08-10T18:25:26.428Z"
   },
   {
    "duration": 444,
    "start_time": "2024-08-10T18:25:29.984Z"
   },
   {
    "duration": 165,
    "start_time": "2024-08-10T18:25:30.430Z"
   },
   {
    "duration": 6,
    "start_time": "2024-08-10T18:25:30.597Z"
   },
   {
    "duration": 64,
    "start_time": "2024-08-10T18:25:30.605Z"
   },
   {
    "duration": 117,
    "start_time": "2024-08-10T18:25:30.672Z"
   },
   {
    "duration": 30,
    "start_time": "2024-08-10T18:25:30.791Z"
   },
   {
    "duration": 24,
    "start_time": "2024-08-10T18:25:30.823Z"
   },
   {
    "duration": 62,
    "start_time": "2024-08-10T18:25:30.849Z"
   },
   {
    "duration": 41,
    "start_time": "2024-08-10T18:25:30.913Z"
   },
   {
    "duration": 44,
    "start_time": "2024-08-10T18:25:30.956Z"
   },
   {
    "duration": 19,
    "start_time": "2024-08-10T18:25:31.002Z"
   },
   {
    "duration": 37,
    "start_time": "2024-08-10T18:25:31.023Z"
   },
   {
    "duration": 39,
    "start_time": "2024-08-10T18:25:31.062Z"
   },
   {
    "duration": 4,
    "start_time": "2024-08-10T18:28:15.878Z"
   },
   {
    "duration": 48,
    "start_time": "2024-08-10T18:29:20.275Z"
   },
   {
    "duration": 430,
    "start_time": "2024-08-10T18:29:37.098Z"
   },
   {
    "duration": 159,
    "start_time": "2024-08-10T18:29:37.530Z"
   },
   {
    "duration": 5,
    "start_time": "2024-08-10T18:29:37.691Z"
   },
   {
    "duration": 4,
    "start_time": "2024-08-10T18:29:37.698Z"
   },
   {
    "duration": 103,
    "start_time": "2024-08-10T18:29:37.704Z"
   },
   {
    "duration": 27,
    "start_time": "2024-08-10T18:29:37.809Z"
   },
   {
    "duration": 16,
    "start_time": "2024-08-10T18:29:37.838Z"
   },
   {
    "duration": 5,
    "start_time": "2024-08-10T18:29:37.856Z"
   },
   {
    "duration": 21,
    "start_time": "2024-08-10T18:29:37.862Z"
   },
   {
    "duration": 14,
    "start_time": "2024-08-10T18:29:37.906Z"
   },
   {
    "duration": 15,
    "start_time": "2024-08-10T18:29:37.921Z"
   },
   {
    "duration": 5,
    "start_time": "2024-08-10T18:29:37.938Z"
   },
   {
    "duration": 6,
    "start_time": "2024-08-10T18:29:37.944Z"
   },
   {
    "duration": 62,
    "start_time": "2024-08-10T18:30:12.601Z"
   },
   {
    "duration": 401,
    "start_time": "2024-08-10T18:30:18.364Z"
   },
   {
    "duration": 177,
    "start_time": "2024-08-10T18:30:18.767Z"
   },
   {
    "duration": 6,
    "start_time": "2024-08-10T18:30:18.946Z"
   },
   {
    "duration": 9,
    "start_time": "2024-08-10T18:30:18.954Z"
   },
   {
    "duration": 100,
    "start_time": "2024-08-10T18:30:18.965Z"
   },
   {
    "duration": 32,
    "start_time": "2024-08-10T18:30:19.067Z"
   },
   {
    "duration": 17,
    "start_time": "2024-08-10T18:30:19.101Z"
   },
   {
    "duration": 10,
    "start_time": "2024-08-10T18:30:19.120Z"
   },
   {
    "duration": 11,
    "start_time": "2024-08-10T18:30:19.131Z"
   },
   {
    "duration": 20,
    "start_time": "2024-08-10T18:30:19.143Z"
   },
   {
    "duration": 12,
    "start_time": "2024-08-10T18:30:19.164Z"
   },
   {
    "duration": 27,
    "start_time": "2024-08-10T18:30:19.178Z"
   },
   {
    "duration": 5,
    "start_time": "2024-08-10T18:30:19.207Z"
   },
   {
    "duration": 420,
    "start_time": "2024-08-10T18:30:58.569Z"
   },
   {
    "duration": 174,
    "start_time": "2024-08-10T18:30:58.991Z"
   },
   {
    "duration": 6,
    "start_time": "2024-08-10T18:30:59.167Z"
   },
   {
    "duration": 7,
    "start_time": "2024-08-10T18:30:59.174Z"
   },
   {
    "duration": 100,
    "start_time": "2024-08-10T18:30:59.183Z"
   },
   {
    "duration": 29,
    "start_time": "2024-08-10T18:30:59.285Z"
   },
   {
    "duration": 18,
    "start_time": "2024-08-10T18:30:59.316Z"
   },
   {
    "duration": 12,
    "start_time": "2024-08-10T18:30:59.336Z"
   },
   {
    "duration": 13,
    "start_time": "2024-08-10T18:30:59.350Z"
   },
   {
    "duration": 41,
    "start_time": "2024-08-10T18:30:59.364Z"
   },
   {
    "duration": 13,
    "start_time": "2024-08-10T18:30:59.407Z"
   },
   {
    "duration": 5,
    "start_time": "2024-08-10T18:30:59.421Z"
   },
   {
    "duration": 8,
    "start_time": "2024-08-10T18:30:59.428Z"
   },
   {
    "duration": 387,
    "start_time": "2024-08-10T18:31:12.540Z"
   },
   {
    "duration": 176,
    "start_time": "2024-08-10T18:31:12.929Z"
   },
   {
    "duration": 8,
    "start_time": "2024-08-10T18:31:13.109Z"
   },
   {
    "duration": 6,
    "start_time": "2024-08-10T18:31:13.119Z"
   },
   {
    "duration": 104,
    "start_time": "2024-08-10T18:31:13.127Z"
   },
   {
    "duration": 39,
    "start_time": "2024-08-10T18:31:13.233Z"
   },
   {
    "duration": 17,
    "start_time": "2024-08-10T18:31:13.274Z"
   },
   {
    "duration": 16,
    "start_time": "2024-08-10T18:31:13.293Z"
   },
   {
    "duration": 15,
    "start_time": "2024-08-10T18:31:13.311Z"
   },
   {
    "duration": 21,
    "start_time": "2024-08-10T18:31:13.328Z"
   },
   {
    "duration": 18,
    "start_time": "2024-08-10T18:31:13.350Z"
   },
   {
    "duration": 13,
    "start_time": "2024-08-10T18:31:13.370Z"
   },
   {
    "duration": 5,
    "start_time": "2024-08-10T18:31:13.407Z"
   },
   {
    "duration": 448,
    "start_time": "2024-08-10T18:31:44.873Z"
   },
   {
    "duration": 164,
    "start_time": "2024-08-10T18:31:45.323Z"
   },
   {
    "duration": 6,
    "start_time": "2024-08-10T18:31:45.489Z"
   },
   {
    "duration": 13,
    "start_time": "2024-08-10T18:31:45.497Z"
   },
   {
    "duration": 125,
    "start_time": "2024-08-10T18:31:45.513Z"
   },
   {
    "duration": 41,
    "start_time": "2024-08-10T18:31:45.640Z"
   },
   {
    "duration": 24,
    "start_time": "2024-08-10T18:31:45.683Z"
   },
   {
    "duration": 25,
    "start_time": "2024-08-10T18:31:45.709Z"
   },
   {
    "duration": 14,
    "start_time": "2024-08-10T18:31:45.736Z"
   },
   {
    "duration": 30,
    "start_time": "2024-08-10T18:31:45.751Z"
   },
   {
    "duration": 11,
    "start_time": "2024-08-10T18:31:45.783Z"
   },
   {
    "duration": 5,
    "start_time": "2024-08-10T18:31:45.795Z"
   },
   {
    "duration": 11,
    "start_time": "2024-08-10T18:31:45.804Z"
   },
   {
    "duration": 8,
    "start_time": "2024-08-10T18:31:45.818Z"
   },
   {
    "duration": 12,
    "start_time": "2024-08-10T18:31:45.828Z"
   },
   {
    "duration": 419,
    "start_time": "2024-08-10T18:32:10.248Z"
   },
   {
    "duration": 108,
    "start_time": "2024-08-10T18:32:10.670Z"
   },
   {
    "duration": 6,
    "start_time": "2024-08-10T18:32:10.780Z"
   },
   {
    "duration": 6,
    "start_time": "2024-08-10T18:32:10.788Z"
   },
   {
    "duration": 42,
    "start_time": "2024-08-10T18:32:10.805Z"
   },
   {
    "duration": 29,
    "start_time": "2024-08-10T18:32:10.849Z"
   },
   {
    "duration": 17,
    "start_time": "2024-08-10T18:32:10.880Z"
   },
   {
    "duration": 9,
    "start_time": "2024-08-10T18:32:10.899Z"
   },
   {
    "duration": 10,
    "start_time": "2024-08-10T18:32:10.910Z"
   },
   {
    "duration": 15,
    "start_time": "2024-08-10T18:32:10.924Z"
   },
   {
    "duration": 13,
    "start_time": "2024-08-10T18:32:10.941Z"
   },
   {
    "duration": 5,
    "start_time": "2024-08-10T18:32:10.956Z"
   },
   {
    "duration": 42,
    "start_time": "2024-08-10T18:32:10.963Z"
   },
   {
    "duration": 2,
    "start_time": "2024-08-10T18:32:11.007Z"
   },
   {
    "duration": 4,
    "start_time": "2024-08-10T18:32:11.011Z"
   },
   {
    "duration": 6,
    "start_time": "2024-08-10T18:32:54.498Z"
   },
   {
    "duration": 440,
    "start_time": "2024-08-10T18:33:17.493Z"
   },
   {
    "duration": 110,
    "start_time": "2024-08-10T18:33:17.934Z"
   },
   {
    "duration": 5,
    "start_time": "2024-08-10T18:33:18.046Z"
   },
   {
    "duration": 15,
    "start_time": "2024-08-10T18:33:18.053Z"
   },
   {
    "duration": 41,
    "start_time": "2024-08-10T18:33:18.070Z"
   },
   {
    "duration": 29,
    "start_time": "2024-08-10T18:33:18.113Z"
   },
   {
    "duration": 17,
    "start_time": "2024-08-10T18:33:18.143Z"
   },
   {
    "duration": 118,
    "start_time": "2024-08-10T18:33:18.162Z"
   },
   {
    "duration": 15,
    "start_time": "2024-08-10T18:33:18.282Z"
   },
   {
    "duration": 16,
    "start_time": "2024-08-10T18:33:18.299Z"
   },
   {
    "duration": 12,
    "start_time": "2024-08-10T18:33:18.317Z"
   },
   {
    "duration": 88,
    "start_time": "2024-08-10T18:33:18.330Z"
   },
   {
    "duration": 6,
    "start_time": "2024-08-10T18:33:18.420Z"
   },
   {
    "duration": 6,
    "start_time": "2024-08-10T18:33:18.429Z"
   },
   {
    "duration": 8,
    "start_time": "2024-08-10T18:33:18.437Z"
   },
   {
    "duration": 6,
    "start_time": "2024-08-10T18:33:18.446Z"
   },
   {
    "duration": 9,
    "start_time": "2024-08-10T18:33:18.454Z"
   },
   {
    "duration": 10,
    "start_time": "2024-08-10T18:33:37.981Z"
   },
   {
    "duration": 13,
    "start_time": "2024-08-10T18:33:54.621Z"
   },
   {
    "duration": 9,
    "start_time": "2024-08-10T18:34:05.535Z"
   },
   {
    "duration": 442,
    "start_time": "2024-08-10T18:34:22.591Z"
   },
   {
    "duration": 115,
    "start_time": "2024-08-10T18:34:23.035Z"
   },
   {
    "duration": 6,
    "start_time": "2024-08-10T18:34:23.152Z"
   },
   {
    "duration": 5,
    "start_time": "2024-08-10T18:34:23.160Z"
   },
   {
    "duration": 46,
    "start_time": "2024-08-10T18:34:23.168Z"
   },
   {
    "duration": 42,
    "start_time": "2024-08-10T18:34:23.216Z"
   },
   {
    "duration": 21,
    "start_time": "2024-08-10T18:34:23.260Z"
   },
   {
    "duration": 27,
    "start_time": "2024-08-10T18:34:23.283Z"
   },
   {
    "duration": 11,
    "start_time": "2024-08-10T18:34:23.312Z"
   },
   {
    "duration": 18,
    "start_time": "2024-08-10T18:34:23.324Z"
   },
   {
    "duration": 13,
    "start_time": "2024-08-10T18:34:23.344Z"
   },
   {
    "duration": 5,
    "start_time": "2024-08-10T18:34:23.359Z"
   },
   {
    "duration": 40,
    "start_time": "2024-08-10T18:34:23.366Z"
   },
   {
    "duration": 4,
    "start_time": "2024-08-10T18:34:23.410Z"
   },
   {
    "duration": 7,
    "start_time": "2024-08-10T18:34:23.416Z"
   },
   {
    "duration": 6,
    "start_time": "2024-08-10T18:34:23.425Z"
   },
   {
    "duration": 25,
    "start_time": "2024-08-10T18:34:23.433Z"
   },
   {
    "duration": 12,
    "start_time": "2024-08-10T18:34:23.460Z"
   },
   {
    "duration": 2,
    "start_time": "2024-08-10T18:38:11.186Z"
   },
   {
    "duration": 13,
    "start_time": "2024-08-10T18:41:42.263Z"
   },
   {
    "duration": 65,
    "start_time": "2024-08-10T18:42:34.765Z"
   },
   {
    "duration": 18,
    "start_time": "2024-08-10T18:43:36.225Z"
   },
   {
    "duration": 69,
    "start_time": "2024-08-10T18:45:34.001Z"
   },
   {
    "duration": 22,
    "start_time": "2024-08-10T18:45:44.468Z"
   },
   {
    "duration": 5,
    "start_time": "2024-08-10T18:50:49.975Z"
   },
   {
    "duration": 63,
    "start_time": "2024-08-10T18:52:02.716Z"
   },
   {
    "duration": 17,
    "start_time": "2024-08-10T18:52:56.481Z"
   },
   {
    "duration": 5,
    "start_time": "2024-08-10T18:53:48.846Z"
   },
   {
    "duration": 3,
    "start_time": "2024-08-10T18:58:04.468Z"
   },
   {
    "duration": 21,
    "start_time": "2024-08-10T19:06:52.753Z"
   },
   {
    "duration": 5,
    "start_time": "2024-08-10T19:08:05.802Z"
   },
   {
    "duration": 69,
    "start_time": "2024-08-10T19:10:18.510Z"
   },
   {
    "duration": 17,
    "start_time": "2024-08-10T19:11:00.036Z"
   },
   {
    "duration": 5,
    "start_time": "2024-08-10T19:11:33.511Z"
   },
   {
    "duration": 9,
    "start_time": "2024-08-10T19:16:32.255Z"
   },
   {
    "duration": 7,
    "start_time": "2024-08-10T19:23:18.734Z"
   },
   {
    "duration": 9,
    "start_time": "2024-08-10T19:25:26.762Z"
   },
   {
    "duration": 6,
    "start_time": "2024-08-10T19:30:30.293Z"
   },
   {
    "duration": 13,
    "start_time": "2024-08-10T19:31:50.483Z"
   },
   {
    "duration": 508,
    "start_time": "2024-08-10T19:32:07.370Z"
   },
   {
    "duration": 136,
    "start_time": "2024-08-10T19:32:07.880Z"
   },
   {
    "duration": 8,
    "start_time": "2024-08-10T19:32:08.021Z"
   },
   {
    "duration": 10,
    "start_time": "2024-08-10T19:32:08.032Z"
   },
   {
    "duration": 54,
    "start_time": "2024-08-10T19:32:08.044Z"
   },
   {
    "duration": 31,
    "start_time": "2024-08-10T19:32:08.100Z"
   },
   {
    "duration": 21,
    "start_time": "2024-08-10T19:32:08.133Z"
   },
   {
    "duration": 53,
    "start_time": "2024-08-10T19:32:08.155Z"
   },
   {
    "duration": 31,
    "start_time": "2024-08-10T19:32:08.210Z"
   },
   {
    "duration": 18,
    "start_time": "2024-08-10T19:32:08.242Z"
   },
   {
    "duration": 14,
    "start_time": "2024-08-10T19:32:08.262Z"
   },
   {
    "duration": 6,
    "start_time": "2024-08-10T19:32:08.278Z"
   },
   {
    "duration": 6,
    "start_time": "2024-08-10T19:32:08.307Z"
   },
   {
    "duration": 10,
    "start_time": "2024-08-10T19:32:08.315Z"
   },
   {
    "duration": 9,
    "start_time": "2024-08-10T19:32:08.326Z"
   },
   {
    "duration": 145,
    "start_time": "2024-08-10T19:32:08.336Z"
   },
   {
    "duration": 12,
    "start_time": "2024-08-10T19:32:08.483Z"
   },
   {
    "duration": 15,
    "start_time": "2024-08-10T19:32:08.497Z"
   },
   {
    "duration": 22,
    "start_time": "2024-08-10T19:32:08.515Z"
   },
   {
    "duration": 5,
    "start_time": "2024-08-10T19:32:08.539Z"
   },
   {
    "duration": 21,
    "start_time": "2024-08-10T19:32:08.545Z"
   },
   {
    "duration": 6,
    "start_time": "2024-08-10T19:32:08.568Z"
   },
   {
    "duration": 41,
    "start_time": "2024-08-10T19:32:08.575Z"
   },
   {
    "duration": 91,
    "start_time": "2024-08-10T19:32:08.618Z"
   },
   {
    "duration": 26,
    "start_time": "2024-08-10T19:32:08.711Z"
   },
   {
    "duration": 5,
    "start_time": "2024-08-10T19:32:08.739Z"
   },
   {
    "duration": 16,
    "start_time": "2024-08-10T19:32:08.746Z"
   },
   {
    "duration": 42,
    "start_time": "2024-08-10T19:32:08.764Z"
   },
   {
    "duration": 5,
    "start_time": "2024-08-10T19:32:08.808Z"
   },
   {
    "duration": 19,
    "start_time": "2024-08-10T19:32:08.815Z"
   },
   {
    "duration": 20,
    "start_time": "2024-08-10T19:32:08.837Z"
   },
   {
    "duration": 44,
    "start_time": "2024-08-10T19:33:00.981Z"
   },
   {
    "duration": 34,
    "start_time": "2024-08-10T19:33:40.811Z"
   },
   {
    "duration": 70,
    "start_time": "2024-08-10T19:35:25.817Z"
   },
   {
    "duration": 43,
    "start_time": "2024-08-10T19:35:36.744Z"
   },
   {
    "duration": 35,
    "start_time": "2024-08-10T19:37:30.191Z"
   },
   {
    "duration": 429,
    "start_time": "2024-08-10T20:11:03.252Z"
   },
   {
    "duration": 133,
    "start_time": "2024-08-10T20:11:03.684Z"
   },
   {
    "duration": 25,
    "start_time": "2024-08-10T20:11:03.818Z"
   },
   {
    "duration": 11,
    "start_time": "2024-08-10T20:11:03.845Z"
   },
   {
    "duration": 134,
    "start_time": "2024-08-10T20:11:03.858Z"
   },
   {
    "duration": 47,
    "start_time": "2024-08-10T20:11:03.994Z"
   },
   {
    "duration": 21,
    "start_time": "2024-08-10T20:11:04.043Z"
   },
   {
    "duration": 6,
    "start_time": "2024-08-10T20:11:04.065Z"
   },
   {
    "duration": 23,
    "start_time": "2024-08-10T20:11:04.109Z"
   },
   {
    "duration": 17,
    "start_time": "2024-08-10T20:11:04.134Z"
   },
   {
    "duration": 13,
    "start_time": "2024-08-10T20:11:04.153Z"
   },
   {
    "duration": 5,
    "start_time": "2024-08-10T20:11:04.167Z"
   },
   {
    "duration": 22,
    "start_time": "2024-08-10T20:11:04.209Z"
   },
   {
    "duration": 6,
    "start_time": "2024-08-10T20:11:04.235Z"
   },
   {
    "duration": 8,
    "start_time": "2024-08-10T20:11:04.243Z"
   },
   {
    "duration": 5,
    "start_time": "2024-08-10T20:11:04.254Z"
   },
   {
    "duration": 53,
    "start_time": "2024-08-10T20:11:04.261Z"
   },
   {
    "duration": 24,
    "start_time": "2024-08-10T20:11:04.316Z"
   },
   {
    "duration": 75,
    "start_time": "2024-08-10T20:11:04.341Z"
   },
   {
    "duration": 9,
    "start_time": "2024-08-10T20:11:04.421Z"
   },
   {
    "duration": 22,
    "start_time": "2024-08-10T20:11:04.432Z"
   },
   {
    "duration": 6,
    "start_time": "2024-08-10T20:11:04.456Z"
   },
   {
    "duration": 51,
    "start_time": "2024-08-10T20:11:04.463Z"
   },
   {
    "duration": 67,
    "start_time": "2024-08-10T20:11:04.516Z"
   },
   {
    "duration": 37,
    "start_time": "2024-08-10T20:11:04.586Z"
   },
   {
    "duration": 5,
    "start_time": "2024-08-10T20:11:04.625Z"
   },
   {
    "duration": 7,
    "start_time": "2024-08-10T20:11:04.633Z"
   },
   {
    "duration": 23,
    "start_time": "2024-08-10T20:11:04.642Z"
   },
   {
    "duration": 4,
    "start_time": "2024-08-10T20:11:04.667Z"
   },
   {
    "duration": 16,
    "start_time": "2024-08-10T20:11:04.707Z"
   },
   {
    "duration": 96,
    "start_time": "2024-08-10T20:11:04.729Z"
   },
   {
    "duration": 32,
    "start_time": "2024-08-10T20:11:04.829Z"
   },
   {
    "duration": 60,
    "start_time": "2024-08-10T20:11:04.863Z"
   },
   {
    "duration": 47,
    "start_time": "2024-08-10T20:11:04.925Z"
   },
   {
    "duration": 19,
    "start_time": "2024-08-10T20:12:58.137Z"
   },
   {
    "duration": 81,
    "start_time": "2024-08-10T20:18:56.860Z"
   },
   {
    "duration": 5,
    "start_time": "2024-08-10T20:19:09.698Z"
   },
   {
    "duration": 6,
    "start_time": "2024-08-10T20:21:41.865Z"
   },
   {
    "duration": 21,
    "start_time": "2024-08-10T20:21:55.832Z"
   },
   {
    "duration": 6,
    "start_time": "2024-08-10T20:22:00.635Z"
   },
   {
    "duration": 5,
    "start_time": "2024-08-10T20:22:01.083Z"
   },
   {
    "duration": 25,
    "start_time": "2024-08-10T20:22:01.511Z"
   },
   {
    "duration": 486,
    "start_time": "2024-08-10T20:22:14.768Z"
   },
   {
    "duration": 153,
    "start_time": "2024-08-10T20:22:15.257Z"
   },
   {
    "duration": 17,
    "start_time": "2024-08-10T20:22:15.413Z"
   },
   {
    "duration": 14,
    "start_time": "2024-08-10T20:22:15.432Z"
   },
   {
    "duration": 41,
    "start_time": "2024-08-10T20:22:15.448Z"
   },
   {
    "duration": 43,
    "start_time": "2024-08-10T20:22:15.491Z"
   },
   {
    "duration": 22,
    "start_time": "2024-08-10T20:22:15.536Z"
   },
   {
    "duration": 28,
    "start_time": "2024-08-10T20:22:15.560Z"
   },
   {
    "duration": 33,
    "start_time": "2024-08-10T20:22:15.589Z"
   },
   {
    "duration": 23,
    "start_time": "2024-08-10T20:22:15.624Z"
   },
   {
    "duration": 16,
    "start_time": "2024-08-10T20:22:15.649Z"
   },
   {
    "duration": 43,
    "start_time": "2024-08-10T20:22:15.667Z"
   },
   {
    "duration": 8,
    "start_time": "2024-08-10T20:22:15.713Z"
   },
   {
    "duration": 8,
    "start_time": "2024-08-10T20:22:15.725Z"
   },
   {
    "duration": 8,
    "start_time": "2024-08-10T20:22:15.734Z"
   },
   {
    "duration": 6,
    "start_time": "2024-08-10T20:22:15.744Z"
   },
   {
    "duration": 63,
    "start_time": "2024-08-10T20:22:15.752Z"
   },
   {
    "duration": 16,
    "start_time": "2024-08-10T20:22:15.820Z"
   },
   {
    "duration": 21,
    "start_time": "2024-08-10T20:22:15.838Z"
   },
   {
    "duration": 6,
    "start_time": "2024-08-10T20:22:15.861Z"
   },
   {
    "duration": 54,
    "start_time": "2024-08-10T20:22:15.869Z"
   },
   {
    "duration": 70,
    "start_time": "2024-08-10T20:22:15.925Z"
   },
   {
    "duration": 24,
    "start_time": "2024-08-10T20:22:15.996Z"
   },
   {
    "duration": 22,
    "start_time": "2024-08-10T20:22:16.022Z"
   },
   {
    "duration": 30,
    "start_time": "2024-08-10T20:22:16.046Z"
   },
   {
    "duration": 6,
    "start_time": "2024-08-10T20:22:16.078Z"
   },
   {
    "duration": 34,
    "start_time": "2024-08-10T20:22:16.086Z"
   },
   {
    "duration": 26,
    "start_time": "2024-08-10T20:22:16.125Z"
   },
   {
    "duration": 4,
    "start_time": "2024-08-10T20:22:16.154Z"
   },
   {
    "duration": 12,
    "start_time": "2024-08-10T20:22:16.160Z"
   },
   {
    "duration": 10,
    "start_time": "2024-08-10T20:22:16.174Z"
   },
   {
    "duration": 58,
    "start_time": "2024-08-10T20:22:16.186Z"
   },
   {
    "duration": 29,
    "start_time": "2024-08-10T20:22:16.245Z"
   },
   {
    "duration": 76,
    "start_time": "2024-08-10T20:22:16.276Z"
   },
   {
    "duration": 20,
    "start_time": "2024-08-10T20:22:16.354Z"
   },
   {
    "duration": 42,
    "start_time": "2024-08-10T20:22:16.376Z"
   },
   {
    "duration": 15,
    "start_time": "2024-08-10T20:22:16.420Z"
   },
   {
    "duration": 17,
    "start_time": "2024-08-10T20:22:16.438Z"
   },
   {
    "duration": 3,
    "start_time": "2024-08-10T20:24:22.375Z"
   },
   {
    "duration": 2,
    "start_time": "2024-08-10T20:25:18.489Z"
   },
   {
    "duration": 69,
    "start_time": "2024-08-10T20:25:23.091Z"
   },
   {
    "duration": 6,
    "start_time": "2024-08-10T20:26:32.155Z"
   },
   {
    "duration": 10,
    "start_time": "2024-08-10T20:28:26.063Z"
   },
   {
    "duration": 8,
    "start_time": "2024-08-10T20:28:34.089Z"
   },
   {
    "duration": 7,
    "start_time": "2024-08-10T20:29:09.926Z"
   },
   {
    "duration": 9,
    "start_time": "2024-08-10T20:33:24.487Z"
   },
   {
    "duration": 441,
    "start_time": "2024-08-10T20:38:20.605Z"
   },
   {
    "duration": 130,
    "start_time": "2024-08-10T20:38:21.049Z"
   },
   {
    "duration": 5,
    "start_time": "2024-08-10T20:38:21.181Z"
   },
   {
    "duration": 26,
    "start_time": "2024-08-10T20:38:21.187Z"
   },
   {
    "duration": 41,
    "start_time": "2024-08-10T20:38:21.216Z"
   },
   {
    "duration": 29,
    "start_time": "2024-08-10T20:38:21.259Z"
   },
   {
    "duration": 33,
    "start_time": "2024-08-10T20:38:21.290Z"
   },
   {
    "duration": 5,
    "start_time": "2024-08-10T20:38:21.324Z"
   },
   {
    "duration": 22,
    "start_time": "2024-08-10T20:38:21.331Z"
   },
   {
    "duration": 15,
    "start_time": "2024-08-10T20:38:21.354Z"
   },
   {
    "duration": 66,
    "start_time": "2024-08-10T20:38:21.371Z"
   },
   {
    "duration": 7,
    "start_time": "2024-08-10T20:38:21.440Z"
   },
   {
    "duration": 9,
    "start_time": "2024-08-10T20:38:21.450Z"
   },
   {
    "duration": 5,
    "start_time": "2024-08-10T20:38:21.463Z"
   },
   {
    "duration": 49,
    "start_time": "2024-08-10T20:38:21.470Z"
   },
   {
    "duration": 17,
    "start_time": "2024-08-10T20:38:21.521Z"
   },
   {
    "duration": 15,
    "start_time": "2024-08-10T20:38:21.540Z"
   },
   {
    "duration": 12,
    "start_time": "2024-08-10T20:38:21.557Z"
   },
   {
    "duration": 74,
    "start_time": "2024-08-10T20:38:21.570Z"
   },
   {
    "duration": 6,
    "start_time": "2024-08-10T20:38:21.646Z"
   },
   {
    "duration": 16,
    "start_time": "2024-08-10T20:38:21.654Z"
   },
   {
    "duration": 36,
    "start_time": "2024-08-10T20:38:21.673Z"
   },
   {
    "duration": 28,
    "start_time": "2024-08-10T20:38:21.711Z"
   },
   {
    "duration": 5,
    "start_time": "2024-08-10T20:38:21.742Z"
   },
   {
    "duration": 28,
    "start_time": "2024-08-10T20:38:21.750Z"
   },
   {
    "duration": 33,
    "start_time": "2024-08-10T20:38:21.780Z"
   },
   {
    "duration": 7,
    "start_time": "2024-08-10T20:38:21.815Z"
   },
   {
    "duration": 37,
    "start_time": "2024-08-10T20:38:21.824Z"
   },
   {
    "duration": 4,
    "start_time": "2024-08-10T20:38:21.864Z"
   },
   {
    "duration": 6,
    "start_time": "2024-08-10T20:38:21.873Z"
   },
   {
    "duration": 18,
    "start_time": "2024-08-10T20:38:21.907Z"
   },
   {
    "duration": 34,
    "start_time": "2024-08-10T20:38:21.927Z"
   },
   {
    "duration": 84,
    "start_time": "2024-08-10T20:38:21.963Z"
   },
   {
    "duration": 69,
    "start_time": "2024-08-10T20:38:22.049Z"
   },
   {
    "duration": 37,
    "start_time": "2024-08-10T20:38:22.120Z"
   },
   {
    "duration": 12,
    "start_time": "2024-08-10T20:38:22.161Z"
   },
   {
    "duration": 14,
    "start_time": "2024-08-10T20:38:22.175Z"
   },
   {
    "duration": 25,
    "start_time": "2024-08-10T20:38:22.191Z"
   },
   {
    "duration": 16,
    "start_time": "2024-08-10T20:38:22.218Z"
   },
   {
    "duration": 13,
    "start_time": "2024-08-10T20:38:22.236Z"
   },
   {
    "duration": 418,
    "start_time": "2024-08-10T20:40:16.644Z"
   },
   {
    "duration": 123,
    "start_time": "2024-08-10T20:40:17.064Z"
   },
   {
    "duration": 6,
    "start_time": "2024-08-10T20:40:17.188Z"
   },
   {
    "duration": 10,
    "start_time": "2024-08-10T20:40:17.195Z"
   },
   {
    "duration": 45,
    "start_time": "2024-08-10T20:40:17.211Z"
   },
   {
    "duration": 68,
    "start_time": "2024-08-10T20:40:17.258Z"
   },
   {
    "duration": 28,
    "start_time": "2024-08-10T20:40:17.328Z"
   },
   {
    "duration": 7,
    "start_time": "2024-08-10T20:40:17.359Z"
   },
   {
    "duration": 53,
    "start_time": "2024-08-10T20:40:17.368Z"
   },
   {
    "duration": 24,
    "start_time": "2024-08-10T20:40:17.429Z"
   },
   {
    "duration": 18,
    "start_time": "2024-08-10T20:40:17.456Z"
   },
   {
    "duration": 46,
    "start_time": "2024-08-10T20:40:17.475Z"
   },
   {
    "duration": 15,
    "start_time": "2024-08-10T20:40:17.523Z"
   },
   {
    "duration": 16,
    "start_time": "2024-08-10T20:40:17.543Z"
   },
   {
    "duration": 26,
    "start_time": "2024-08-10T20:40:17.561Z"
   },
   {
    "duration": 33,
    "start_time": "2024-08-10T20:40:17.589Z"
   },
   {
    "duration": 31,
    "start_time": "2024-08-10T20:40:17.624Z"
   },
   {
    "duration": 18,
    "start_time": "2024-08-10T20:40:17.658Z"
   },
   {
    "duration": 48,
    "start_time": "2024-08-10T20:40:17.678Z"
   },
   {
    "duration": 15,
    "start_time": "2024-08-10T20:40:17.728Z"
   },
   {
    "duration": 29,
    "start_time": "2024-08-10T20:40:17.745Z"
   },
   {
    "duration": 7,
    "start_time": "2024-08-10T20:40:17.776Z"
   },
   {
    "duration": 36,
    "start_time": "2024-08-10T20:40:17.805Z"
   },
   {
    "duration": 10,
    "start_time": "2024-08-10T20:40:17.861Z"
   },
   {
    "duration": 41,
    "start_time": "2024-08-10T20:40:17.873Z"
   },
   {
    "duration": 21,
    "start_time": "2024-08-10T20:40:17.915Z"
   },
   {
    "duration": 13,
    "start_time": "2024-08-10T20:40:17.938Z"
   },
   {
    "duration": 32,
    "start_time": "2024-08-10T20:40:17.953Z"
   },
   {
    "duration": 4,
    "start_time": "2024-08-10T20:40:17.987Z"
   },
   {
    "duration": 28,
    "start_time": "2024-08-10T20:40:17.993Z"
   },
   {
    "duration": 64,
    "start_time": "2024-08-10T20:40:18.023Z"
   },
   {
    "duration": 60,
    "start_time": "2024-08-10T20:40:18.089Z"
   },
   {
    "duration": 43,
    "start_time": "2024-08-10T20:40:18.151Z"
   },
   {
    "duration": 49,
    "start_time": "2024-08-10T20:40:18.205Z"
   },
   {
    "duration": 19,
    "start_time": "2024-08-10T20:40:18.257Z"
   },
   {
    "duration": 14,
    "start_time": "2024-08-10T20:40:18.307Z"
   },
   {
    "duration": 15,
    "start_time": "2024-08-10T20:40:18.322Z"
   },
   {
    "duration": 15,
    "start_time": "2024-08-10T20:40:18.341Z"
   },
   {
    "duration": 13,
    "start_time": "2024-08-10T20:40:18.358Z"
   },
   {
    "duration": 47,
    "start_time": "2024-08-10T20:40:18.373Z"
   },
   {
    "duration": 449,
    "start_time": "2024-08-10T20:40:33.996Z"
   },
   {
    "duration": 126,
    "start_time": "2024-08-10T20:40:34.447Z"
   },
   {
    "duration": 7,
    "start_time": "2024-08-10T20:40:34.574Z"
   },
   {
    "duration": 67,
    "start_time": "2024-08-10T20:40:34.584Z"
   },
   {
    "duration": 47,
    "start_time": "2024-08-10T20:40:34.654Z"
   },
   {
    "duration": 66,
    "start_time": "2024-08-10T20:40:34.703Z"
   },
   {
    "duration": 47,
    "start_time": "2024-08-10T20:40:34.770Z"
   },
   {
    "duration": 20,
    "start_time": "2024-08-10T20:40:34.819Z"
   },
   {
    "duration": 20,
    "start_time": "2024-08-10T20:40:34.842Z"
   },
   {
    "duration": 108,
    "start_time": "2024-08-10T20:40:34.867Z"
   },
   {
    "duration": 14,
    "start_time": "2024-08-10T20:40:34.977Z"
   },
   {
    "duration": 7,
    "start_time": "2024-08-10T20:40:34.994Z"
   },
   {
    "duration": 17,
    "start_time": "2024-08-10T20:40:35.003Z"
   },
   {
    "duration": 9,
    "start_time": "2024-08-10T20:40:35.022Z"
   },
   {
    "duration": 15,
    "start_time": "2024-08-10T20:40:35.034Z"
   },
   {
    "duration": 7,
    "start_time": "2024-08-10T20:40:35.051Z"
   },
   {
    "duration": 48,
    "start_time": "2024-08-10T20:40:35.060Z"
   },
   {
    "duration": 30,
    "start_time": "2024-08-10T20:40:35.110Z"
   },
   {
    "duration": 27,
    "start_time": "2024-08-10T20:40:35.142Z"
   },
   {
    "duration": 6,
    "start_time": "2024-08-10T20:40:35.171Z"
   },
   {
    "duration": 66,
    "start_time": "2024-08-10T20:40:35.179Z"
   },
   {
    "duration": 5,
    "start_time": "2024-08-10T20:40:35.247Z"
   },
   {
    "duration": 21,
    "start_time": "2024-08-10T20:40:35.255Z"
   },
   {
    "duration": 11,
    "start_time": "2024-08-10T20:40:35.278Z"
   },
   {
    "duration": 49,
    "start_time": "2024-08-10T20:40:35.290Z"
   },
   {
    "duration": 10,
    "start_time": "2024-08-10T20:40:35.341Z"
   },
   {
    "duration": 6,
    "start_time": "2024-08-10T20:40:35.354Z"
   },
   {
    "duration": 62,
    "start_time": "2024-08-10T20:40:35.366Z"
   },
   {
    "duration": 8,
    "start_time": "2024-08-10T20:40:35.430Z"
   },
   {
    "duration": 6,
    "start_time": "2024-08-10T20:40:35.440Z"
   },
   {
    "duration": 12,
    "start_time": "2024-08-10T20:40:35.448Z"
   },
   {
    "duration": 75,
    "start_time": "2024-08-10T20:40:35.462Z"
   },
   {
    "duration": 29,
    "start_time": "2024-08-10T20:40:35.539Z"
   },
   {
    "duration": 70,
    "start_time": "2024-08-10T20:40:35.569Z"
   },
   {
    "duration": 26,
    "start_time": "2024-08-10T20:40:35.641Z"
   },
   {
    "duration": 10,
    "start_time": "2024-08-10T20:40:35.669Z"
   },
   {
    "duration": 39,
    "start_time": "2024-08-10T20:40:35.681Z"
   },
   {
    "duration": 21,
    "start_time": "2024-08-10T20:40:35.722Z"
   },
   {
    "duration": 9,
    "start_time": "2024-08-10T20:40:35.745Z"
   },
   {
    "duration": 15,
    "start_time": "2024-08-10T20:40:35.756Z"
   },
   {
    "duration": 69,
    "start_time": "2024-08-10T20:45:05.023Z"
   },
   {
    "duration": 26,
    "start_time": "2024-08-10T20:45:11.683Z"
   },
   {
    "duration": 8,
    "start_time": "2024-08-10T20:49:31.571Z"
   },
   {
    "duration": 9,
    "start_time": "2024-08-10T20:49:37.692Z"
   },
   {
    "duration": 66,
    "start_time": "2024-08-10T20:50:38.086Z"
   },
   {
    "duration": 26,
    "start_time": "2024-08-10T20:52:46.252Z"
   },
   {
    "duration": 25,
    "start_time": "2024-08-10T20:53:06.318Z"
   },
   {
    "duration": 9,
    "start_time": "2024-08-10T20:56:03.513Z"
   },
   {
    "duration": 66,
    "start_time": "2024-08-10T21:02:39.487Z"
   },
   {
    "duration": 13,
    "start_time": "2024-08-10T21:10:04.917Z"
   },
   {
    "duration": 15,
    "start_time": "2024-08-10T21:10:20.854Z"
   },
   {
    "duration": 12,
    "start_time": "2024-08-10T21:10:43.039Z"
   },
   {
    "duration": 4,
    "start_time": "2024-08-10T21:11:37.419Z"
   },
   {
    "duration": 11,
    "start_time": "2024-08-10T21:11:37.889Z"
   },
   {
    "duration": 25,
    "start_time": "2024-08-10T21:12:44.842Z"
   },
   {
    "duration": 24,
    "start_time": "2024-08-10T21:12:53.045Z"
   },
   {
    "duration": 4,
    "start_time": "2024-08-10T21:14:59.922Z"
   },
   {
    "duration": 9,
    "start_time": "2024-08-10T21:15:06.748Z"
   },
   {
    "duration": 12,
    "start_time": "2024-08-10T21:16:57.392Z"
   },
   {
    "duration": 7,
    "start_time": "2024-08-10T21:17:13.724Z"
   },
   {
    "duration": 32,
    "start_time": "2024-08-10T21:17:31.850Z"
   },
   {
    "duration": 469,
    "start_time": "2024-08-10T21:19:20.166Z"
   },
   {
    "duration": 112,
    "start_time": "2024-08-10T21:19:20.638Z"
   },
   {
    "duration": 7,
    "start_time": "2024-08-10T21:19:20.752Z"
   },
   {
    "duration": 19,
    "start_time": "2024-08-10T21:19:20.761Z"
   },
   {
    "duration": 46,
    "start_time": "2024-08-10T21:19:20.782Z"
   },
   {
    "duration": 42,
    "start_time": "2024-08-10T21:19:20.831Z"
   },
   {
    "duration": 54,
    "start_time": "2024-08-10T21:19:20.876Z"
   },
   {
    "duration": 5,
    "start_time": "2024-08-10T21:19:20.932Z"
   },
   {
    "duration": 27,
    "start_time": "2024-08-10T21:19:20.939Z"
   },
   {
    "duration": 55,
    "start_time": "2024-08-10T21:19:20.968Z"
   },
   {
    "duration": 13,
    "start_time": "2024-08-10T21:19:21.025Z"
   },
   {
    "duration": 9,
    "start_time": "2024-08-10T21:19:21.040Z"
   },
   {
    "duration": 9,
    "start_time": "2024-08-10T21:19:21.051Z"
   },
   {
    "duration": 40,
    "start_time": "2024-08-10T21:19:21.065Z"
   },
   {
    "duration": 7,
    "start_time": "2024-08-10T21:19:21.107Z"
   },
   {
    "duration": 6,
    "start_time": "2024-08-10T21:19:21.115Z"
   },
   {
    "duration": 70,
    "start_time": "2024-08-10T21:19:21.122Z"
   },
   {
    "duration": 56,
    "start_time": "2024-08-10T21:19:21.194Z"
   },
   {
    "duration": 23,
    "start_time": "2024-08-10T21:19:21.252Z"
   },
   {
    "duration": 25,
    "start_time": "2024-08-10T21:19:21.277Z"
   },
   {
    "duration": 20,
    "start_time": "2024-08-10T21:19:21.304Z"
   },
   {
    "duration": 15,
    "start_time": "2024-08-10T21:19:21.326Z"
   },
   {
    "duration": 12,
    "start_time": "2024-08-10T21:19:21.343Z"
   },
   {
    "duration": 8,
    "start_time": "2024-08-10T21:19:21.356Z"
   },
   {
    "duration": 51,
    "start_time": "2024-08-10T21:19:21.366Z"
   },
   {
    "duration": 5,
    "start_time": "2024-08-10T21:19:21.419Z"
   },
   {
    "duration": 24,
    "start_time": "2024-08-10T21:19:21.427Z"
   },
   {
    "duration": 34,
    "start_time": "2024-08-10T21:19:21.453Z"
   },
   {
    "duration": 4,
    "start_time": "2024-08-10T21:19:21.489Z"
   },
   {
    "duration": 16,
    "start_time": "2024-08-10T21:19:21.495Z"
   },
   {
    "duration": 15,
    "start_time": "2024-08-10T21:19:21.512Z"
   },
   {
    "duration": 34,
    "start_time": "2024-08-10T21:19:21.528Z"
   },
   {
    "duration": 60,
    "start_time": "2024-08-10T21:19:21.563Z"
   },
   {
    "duration": 35,
    "start_time": "2024-08-10T21:19:21.625Z"
   },
   {
    "duration": 51,
    "start_time": "2024-08-10T21:19:21.662Z"
   },
   {
    "duration": 10,
    "start_time": "2024-08-10T21:19:21.715Z"
   },
   {
    "duration": 7,
    "start_time": "2024-08-10T21:19:21.726Z"
   },
   {
    "duration": 10,
    "start_time": "2024-08-10T21:19:21.735Z"
   },
   {
    "duration": 5,
    "start_time": "2024-08-10T21:19:21.746Z"
   },
   {
    "duration": 54,
    "start_time": "2024-08-10T21:19:21.752Z"
   },
   {
    "duration": 23,
    "start_time": "2024-08-10T21:19:21.810Z"
   },
   {
    "duration": 8,
    "start_time": "2024-08-10T21:19:21.834Z"
   },
   {
    "duration": 70,
    "start_time": "2024-08-10T21:19:21.844Z"
   },
   {
    "duration": 11,
    "start_time": "2024-08-10T21:19:21.916Z"
   },
   {
    "duration": 13,
    "start_time": "2024-08-10T21:19:21.928Z"
   },
   {
    "duration": 14,
    "start_time": "2024-08-10T21:19:21.942Z"
   },
   {
    "duration": 49,
    "start_time": "2024-08-10T21:19:21.958Z"
   },
   {
    "duration": 10,
    "start_time": "2024-08-10T21:19:22.008Z"
   },
   {
    "duration": 7,
    "start_time": "2024-08-10T21:19:22.020Z"
   },
   {
    "duration": 36,
    "start_time": "2024-08-10T21:19:22.029Z"
   },
   {
    "duration": 303,
    "start_time": "2024-08-10T21:26:46.003Z"
   },
   {
    "duration": 363,
    "start_time": "2024-08-10T21:27:38.209Z"
   },
   {
    "duration": 296,
    "start_time": "2024-08-10T21:28:44.179Z"
   },
   {
    "duration": 422,
    "start_time": "2024-08-10T21:29:01.623Z"
   },
   {
    "duration": 111,
    "start_time": "2024-08-10T21:29:02.047Z"
   },
   {
    "duration": 6,
    "start_time": "2024-08-10T21:29:02.159Z"
   },
   {
    "duration": 18,
    "start_time": "2024-08-10T21:29:02.167Z"
   },
   {
    "duration": 148,
    "start_time": "2024-08-10T21:29:02.186Z"
   },
   {
    "duration": 34,
    "start_time": "2024-08-10T21:29:02.335Z"
   },
   {
    "duration": 17,
    "start_time": "2024-08-10T21:29:02.371Z"
   },
   {
    "duration": 6,
    "start_time": "2024-08-10T21:29:02.406Z"
   },
   {
    "duration": 38,
    "start_time": "2024-08-10T21:29:02.414Z"
   },
   {
    "duration": 21,
    "start_time": "2024-08-10T21:29:02.456Z"
   },
   {
    "duration": 32,
    "start_time": "2024-08-10T21:29:02.479Z"
   },
   {
    "duration": 7,
    "start_time": "2024-08-10T21:29:02.513Z"
   },
   {
    "duration": 25,
    "start_time": "2024-08-10T21:29:02.522Z"
   },
   {
    "duration": 13,
    "start_time": "2024-08-10T21:29:02.549Z"
   },
   {
    "duration": 21,
    "start_time": "2024-08-10T21:29:02.565Z"
   },
   {
    "duration": 26,
    "start_time": "2024-08-10T21:29:02.588Z"
   },
   {
    "duration": 38,
    "start_time": "2024-08-10T21:29:02.617Z"
   },
   {
    "duration": 29,
    "start_time": "2024-08-10T21:29:02.657Z"
   },
   {
    "duration": 29,
    "start_time": "2024-08-10T21:29:02.687Z"
   },
   {
    "duration": 130,
    "start_time": "2024-08-10T21:29:02.718Z"
   },
   {
    "duration": 114,
    "start_time": "2024-08-10T21:29:02.851Z"
   },
   {
    "duration": 16,
    "start_time": "2024-08-10T21:29:02.967Z"
   },
   {
    "duration": 33,
    "start_time": "2024-08-10T21:29:02.985Z"
   },
   {
    "duration": 30,
    "start_time": "2024-08-10T21:29:03.020Z"
   },
   {
    "duration": 29,
    "start_time": "2024-08-10T21:29:03.052Z"
   },
   {
    "duration": 5,
    "start_time": "2024-08-10T21:29:03.082Z"
   },
   {
    "duration": 9,
    "start_time": "2024-08-10T21:29:03.088Z"
   },
   {
    "duration": 35,
    "start_time": "2024-08-10T21:29:03.104Z"
   },
   {
    "duration": 5,
    "start_time": "2024-08-10T21:29:03.142Z"
   },
   {
    "duration": 26,
    "start_time": "2024-08-10T21:29:03.149Z"
   },
   {
    "duration": 94,
    "start_time": "2024-08-10T21:29:03.178Z"
   },
   {
    "duration": 28,
    "start_time": "2024-08-10T21:29:03.273Z"
   },
   {
    "duration": 30,
    "start_time": "2024-08-10T21:29:03.303Z"
   },
   {
    "duration": 35,
    "start_time": "2024-08-10T21:29:03.334Z"
   },
   {
    "duration": 46,
    "start_time": "2024-08-10T21:29:03.372Z"
   },
   {
    "duration": 6,
    "start_time": "2024-08-10T21:29:03.420Z"
   },
   {
    "duration": 7,
    "start_time": "2024-08-10T21:29:03.428Z"
   },
   {
    "duration": 15,
    "start_time": "2024-08-10T21:29:03.437Z"
   },
   {
    "duration": 53,
    "start_time": "2024-08-10T21:29:03.453Z"
   },
   {
    "duration": 11,
    "start_time": "2024-08-10T21:29:03.509Z"
   },
   {
    "duration": 28,
    "start_time": "2024-08-10T21:29:03.522Z"
   },
   {
    "duration": 15,
    "start_time": "2024-08-10T21:29:03.551Z"
   },
   {
    "duration": 70,
    "start_time": "2024-08-10T21:29:03.568Z"
   },
   {
    "duration": 19,
    "start_time": "2024-08-10T21:29:03.640Z"
   },
   {
    "duration": 4,
    "start_time": "2024-08-10T21:29:03.661Z"
   },
   {
    "duration": 16,
    "start_time": "2024-08-10T21:29:03.667Z"
   },
   {
    "duration": 22,
    "start_time": "2024-08-10T21:29:03.704Z"
   },
   {
    "duration": 35,
    "start_time": "2024-08-10T21:29:03.728Z"
   },
   {
    "duration": 7,
    "start_time": "2024-08-10T21:29:03.765Z"
   },
   {
    "duration": 32,
    "start_time": "2024-08-10T21:29:03.774Z"
   },
   {
    "duration": 346,
    "start_time": "2024-08-10T21:29:03.808Z"
   },
   {
    "duration": 232,
    "start_time": "2024-08-10T21:30:23.399Z"
   },
   {
    "duration": 258,
    "start_time": "2024-08-10T21:30:58.551Z"
   },
   {
    "duration": 259,
    "start_time": "2024-08-10T21:32:07.907Z"
   },
   {
    "duration": 6,
    "start_time": "2024-08-10T21:32:31.904Z"
   },
   {
    "duration": 467,
    "start_time": "2024-08-10T21:32:42.851Z"
   },
   {
    "duration": 117,
    "start_time": "2024-08-10T21:32:43.320Z"
   },
   {
    "duration": 6,
    "start_time": "2024-08-10T21:32:43.439Z"
   },
   {
    "duration": 14,
    "start_time": "2024-08-10T21:32:43.448Z"
   },
   {
    "duration": 42,
    "start_time": "2024-08-10T21:32:43.464Z"
   },
   {
    "duration": 43,
    "start_time": "2024-08-10T21:32:43.507Z"
   },
   {
    "duration": 55,
    "start_time": "2024-08-10T21:32:43.552Z"
   },
   {
    "duration": 5,
    "start_time": "2024-08-10T21:32:43.609Z"
   },
   {
    "duration": 17,
    "start_time": "2024-08-10T21:32:43.616Z"
   },
   {
    "duration": 19,
    "start_time": "2024-08-10T21:32:43.635Z"
   },
   {
    "duration": 53,
    "start_time": "2024-08-10T21:32:43.656Z"
   },
   {
    "duration": 7,
    "start_time": "2024-08-10T21:32:43.711Z"
   },
   {
    "duration": 21,
    "start_time": "2024-08-10T21:32:43.720Z"
   },
   {
    "duration": 7,
    "start_time": "2024-08-10T21:32:43.743Z"
   },
   {
    "duration": 6,
    "start_time": "2024-08-10T21:32:43.752Z"
   },
   {
    "duration": 5,
    "start_time": "2024-08-10T21:32:43.759Z"
   },
   {
    "duration": 40,
    "start_time": "2024-08-10T21:32:43.766Z"
   },
   {
    "duration": 12,
    "start_time": "2024-08-10T21:32:43.808Z"
   },
   {
    "duration": 21,
    "start_time": "2024-08-10T21:32:43.822Z"
   },
   {
    "duration": 4,
    "start_time": "2024-08-10T21:32:43.845Z"
   },
   {
    "duration": 68,
    "start_time": "2024-08-10T21:32:43.850Z"
   },
   {
    "duration": 4,
    "start_time": "2024-08-10T21:32:43.919Z"
   },
   {
    "duration": 25,
    "start_time": "2024-08-10T21:32:43.924Z"
   },
   {
    "duration": 5,
    "start_time": "2024-08-10T21:32:43.950Z"
   },
   {
    "duration": 55,
    "start_time": "2024-08-10T21:32:43.957Z"
   },
   {
    "duration": 4,
    "start_time": "2024-08-10T21:32:44.014Z"
   },
   {
    "duration": 6,
    "start_time": "2024-08-10T21:32:44.019Z"
   },
   {
    "duration": 20,
    "start_time": "2024-08-10T21:32:44.029Z"
   },
   {
    "duration": 4,
    "start_time": "2024-08-10T21:32:44.052Z"
   },
   {
    "duration": 49,
    "start_time": "2024-08-10T21:32:44.058Z"
   },
   {
    "duration": 14,
    "start_time": "2024-08-10T21:32:44.109Z"
   },
   {
    "duration": 26,
    "start_time": "2024-08-10T21:32:44.125Z"
   },
   {
    "duration": 61,
    "start_time": "2024-08-10T21:32:44.153Z"
   },
   {
    "duration": 34,
    "start_time": "2024-08-10T21:32:44.216Z"
   },
   {
    "duration": 45,
    "start_time": "2024-08-10T21:32:44.251Z"
   },
   {
    "duration": 13,
    "start_time": "2024-08-10T21:32:44.298Z"
   },
   {
    "duration": 8,
    "start_time": "2024-08-10T21:32:44.313Z"
   },
   {
    "duration": 20,
    "start_time": "2024-08-10T21:32:44.323Z"
   },
   {
    "duration": 5,
    "start_time": "2024-08-10T21:32:44.345Z"
   },
   {
    "duration": 8,
    "start_time": "2024-08-10T21:32:44.352Z"
   },
   {
    "duration": 58,
    "start_time": "2024-08-10T21:32:44.361Z"
   },
   {
    "duration": 8,
    "start_time": "2024-08-10T21:32:44.421Z"
   },
   {
    "duration": 23,
    "start_time": "2024-08-10T21:32:44.431Z"
   },
   {
    "duration": 6,
    "start_time": "2024-08-10T21:32:44.456Z"
   },
   {
    "duration": 42,
    "start_time": "2024-08-10T21:32:44.464Z"
   },
   {
    "duration": 18,
    "start_time": "2024-08-10T21:32:44.508Z"
   },
   {
    "duration": 18,
    "start_time": "2024-08-10T21:32:44.528Z"
   },
   {
    "duration": 9,
    "start_time": "2024-08-10T21:32:44.549Z"
   },
   {
    "duration": 45,
    "start_time": "2024-08-10T21:32:44.560Z"
   },
   {
    "duration": 20,
    "start_time": "2024-08-10T21:32:44.608Z"
   },
   {
    "duration": 4,
    "start_time": "2024-08-10T21:32:44.630Z"
   },
   {
    "duration": 395,
    "start_time": "2024-08-10T21:32:44.636Z"
   },
   {
    "duration": 15,
    "start_time": "2024-08-10T21:33:03.228Z"
   },
   {
    "duration": 418,
    "start_time": "2024-08-10T21:33:21.309Z"
   },
   {
    "duration": 109,
    "start_time": "2024-08-10T21:33:21.729Z"
   },
   {
    "duration": 5,
    "start_time": "2024-08-10T21:33:21.839Z"
   },
   {
    "duration": 4,
    "start_time": "2024-08-10T21:33:21.846Z"
   },
   {
    "duration": 42,
    "start_time": "2024-08-10T21:33:21.851Z"
   },
   {
    "duration": 31,
    "start_time": "2024-08-10T21:33:21.894Z"
   },
   {
    "duration": 19,
    "start_time": "2024-08-10T21:33:21.927Z"
   },
   {
    "duration": 6,
    "start_time": "2024-08-10T21:33:21.947Z"
   },
   {
    "duration": 55,
    "start_time": "2024-08-10T21:33:21.955Z"
   },
   {
    "duration": 18,
    "start_time": "2024-08-10T21:33:22.013Z"
   },
   {
    "duration": 12,
    "start_time": "2024-08-10T21:33:22.032Z"
   },
   {
    "duration": 5,
    "start_time": "2024-08-10T21:33:22.046Z"
   },
   {
    "duration": 6,
    "start_time": "2024-08-10T21:33:22.052Z"
   },
   {
    "duration": 49,
    "start_time": "2024-08-10T21:33:22.060Z"
   },
   {
    "duration": 7,
    "start_time": "2024-08-10T21:33:22.111Z"
   },
   {
    "duration": 6,
    "start_time": "2024-08-10T21:33:22.119Z"
   },
   {
    "duration": 13,
    "start_time": "2024-08-10T21:33:22.126Z"
   },
   {
    "duration": 15,
    "start_time": "2024-08-10T21:33:22.141Z"
   },
   {
    "duration": 65,
    "start_time": "2024-08-10T21:33:22.158Z"
   },
   {
    "duration": 43,
    "start_time": "2024-08-10T21:33:22.226Z"
   },
   {
    "duration": 16,
    "start_time": "2024-08-10T21:33:22.271Z"
   },
   {
    "duration": 4,
    "start_time": "2024-08-10T21:33:22.289Z"
   },
   {
    "duration": 14,
    "start_time": "2024-08-10T21:33:22.294Z"
   },
   {
    "duration": 4,
    "start_time": "2024-08-10T21:33:22.310Z"
   },
   {
    "duration": 18,
    "start_time": "2024-08-10T21:33:22.316Z"
   },
   {
    "duration": 5,
    "start_time": "2024-08-10T21:33:22.336Z"
   },
   {
    "duration": 6,
    "start_time": "2024-08-10T21:33:22.343Z"
   },
   {
    "duration": 79,
    "start_time": "2024-08-10T21:33:22.352Z"
   },
   {
    "duration": 5,
    "start_time": "2024-08-10T21:33:22.433Z"
   },
   {
    "duration": 6,
    "start_time": "2024-08-10T21:33:22.440Z"
   },
   {
    "duration": 13,
    "start_time": "2024-08-10T21:33:22.447Z"
   },
   {
    "duration": 67,
    "start_time": "2024-08-10T21:33:22.462Z"
   },
   {
    "duration": 27,
    "start_time": "2024-08-10T21:33:22.531Z"
   },
   {
    "duration": 68,
    "start_time": "2024-08-10T21:33:22.560Z"
   },
   {
    "duration": 21,
    "start_time": "2024-08-10T21:33:22.630Z"
   },
   {
    "duration": 17,
    "start_time": "2024-08-10T21:33:22.653Z"
   },
   {
    "duration": 34,
    "start_time": "2024-08-10T21:33:22.672Z"
   },
   {
    "duration": 99,
    "start_time": "2024-08-10T21:33:22.708Z"
   },
   {
    "duration": 34,
    "start_time": "2024-08-10T21:33:22.808Z"
   },
   {
    "duration": 23,
    "start_time": "2024-08-10T21:33:22.844Z"
   },
   {
    "duration": 38,
    "start_time": "2024-08-10T21:33:22.868Z"
   },
   {
    "duration": 9,
    "start_time": "2024-08-10T21:33:22.908Z"
   },
   {
    "duration": 39,
    "start_time": "2024-08-10T21:33:22.919Z"
   },
   {
    "duration": 6,
    "start_time": "2024-08-10T21:33:22.959Z"
   },
   {
    "duration": 38,
    "start_time": "2024-08-10T21:33:22.967Z"
   },
   {
    "duration": 11,
    "start_time": "2024-08-10T21:33:23.007Z"
   },
   {
    "duration": 26,
    "start_time": "2024-08-10T21:33:23.019Z"
   },
   {
    "duration": 7,
    "start_time": "2024-08-10T21:33:23.047Z"
   },
   {
    "duration": 6,
    "start_time": "2024-08-10T21:33:23.055Z"
   },
   {
    "duration": 66,
    "start_time": "2024-08-10T21:33:23.063Z"
   },
   {
    "duration": 80,
    "start_time": "2024-08-10T21:33:23.130Z"
   },
   {
    "duration": 0,
    "start_time": "2024-08-10T21:33:23.212Z"
   },
   {
    "duration": 265,
    "start_time": "2024-08-10T21:34:31.704Z"
   },
   {
    "duration": 9,
    "start_time": "2024-08-10T21:37:00.494Z"
   },
   {
    "duration": 4,
    "start_time": "2024-08-10T21:37:17.983Z"
   },
   {
    "duration": 19,
    "start_time": "2024-08-10T21:37:41.416Z"
   },
   {
    "duration": 404,
    "start_time": "2024-08-10T21:39:08.961Z"
   },
   {
    "duration": 117,
    "start_time": "2024-08-10T21:39:09.367Z"
   },
   {
    "duration": 6,
    "start_time": "2024-08-10T21:39:09.487Z"
   },
   {
    "duration": 7,
    "start_time": "2024-08-10T21:39:09.504Z"
   },
   {
    "duration": 57,
    "start_time": "2024-08-10T21:39:09.513Z"
   },
   {
    "duration": 39,
    "start_time": "2024-08-10T21:39:09.572Z"
   },
   {
    "duration": 20,
    "start_time": "2024-08-10T21:39:09.613Z"
   },
   {
    "duration": 6,
    "start_time": "2024-08-10T21:39:09.634Z"
   },
   {
    "duration": 18,
    "start_time": "2024-08-10T21:39:09.642Z"
   },
   {
    "duration": 52,
    "start_time": "2024-08-10T21:39:09.662Z"
   },
   {
    "duration": 17,
    "start_time": "2024-08-10T21:39:09.716Z"
   },
   {
    "duration": 5,
    "start_time": "2024-08-10T21:39:09.734Z"
   },
   {
    "duration": 32,
    "start_time": "2024-08-10T21:39:09.742Z"
   },
   {
    "duration": 20,
    "start_time": "2024-08-10T21:39:09.776Z"
   },
   {
    "duration": 6,
    "start_time": "2024-08-10T21:39:09.798Z"
   },
   {
    "duration": 6,
    "start_time": "2024-08-10T21:39:09.806Z"
   },
   {
    "duration": 11,
    "start_time": "2024-08-10T21:39:09.813Z"
   },
   {
    "duration": 12,
    "start_time": "2024-08-10T21:39:09.826Z"
   },
   {
    "duration": 70,
    "start_time": "2024-08-10T21:39:09.840Z"
   },
   {
    "duration": 5,
    "start_time": "2024-08-10T21:39:09.912Z"
   },
   {
    "duration": 21,
    "start_time": "2024-08-10T21:39:09.919Z"
   },
   {
    "duration": 8,
    "start_time": "2024-08-10T21:39:09.942Z"
   },
   {
    "duration": 19,
    "start_time": "2024-08-10T21:39:09.951Z"
   },
   {
    "duration": 35,
    "start_time": "2024-08-10T21:39:09.971Z"
   },
   {
    "duration": 40,
    "start_time": "2024-08-10T21:39:10.008Z"
   },
   {
    "duration": 10,
    "start_time": "2024-08-10T21:39:10.050Z"
   },
   {
    "duration": 40,
    "start_time": "2024-08-10T21:39:10.062Z"
   },
   {
    "duration": 26,
    "start_time": "2024-08-10T21:39:10.103Z"
   },
   {
    "duration": 4,
    "start_time": "2024-08-10T21:39:10.131Z"
   },
   {
    "duration": 26,
    "start_time": "2024-08-10T21:39:10.136Z"
   },
   {
    "duration": 31,
    "start_time": "2024-08-10T21:39:10.164Z"
   },
   {
    "duration": 31,
    "start_time": "2024-08-10T21:39:10.196Z"
   },
   {
    "duration": 44,
    "start_time": "2024-08-10T21:39:10.229Z"
   },
   {
    "duration": 48,
    "start_time": "2024-08-10T21:39:10.275Z"
   },
   {
    "duration": 18,
    "start_time": "2024-08-10T21:39:10.324Z"
   },
   {
    "duration": 32,
    "start_time": "2024-08-10T21:39:10.344Z"
   },
   {
    "duration": 14,
    "start_time": "2024-08-10T21:39:10.378Z"
   },
   {
    "duration": 17,
    "start_time": "2024-08-10T21:39:10.394Z"
   },
   {
    "duration": 5,
    "start_time": "2024-08-10T21:39:10.413Z"
   },
   {
    "duration": 10,
    "start_time": "2024-08-10T21:39:10.423Z"
   },
   {
    "duration": 30,
    "start_time": "2024-08-10T21:39:10.434Z"
   },
   {
    "duration": 48,
    "start_time": "2024-08-10T21:39:10.465Z"
   },
   {
    "duration": 34,
    "start_time": "2024-08-10T21:39:10.514Z"
   },
   {
    "duration": 4,
    "start_time": "2024-08-10T21:39:10.550Z"
   },
   {
    "duration": 6,
    "start_time": "2024-08-10T21:39:10.556Z"
   },
   {
    "duration": 56,
    "start_time": "2024-08-10T21:39:10.563Z"
   },
   {
    "duration": 19,
    "start_time": "2024-08-10T21:39:10.621Z"
   },
   {
    "duration": 8,
    "start_time": "2024-08-10T21:39:10.641Z"
   },
   {
    "duration": 55,
    "start_time": "2024-08-10T21:39:10.650Z"
   },
   {
    "duration": 22,
    "start_time": "2024-08-10T21:39:10.707Z"
   },
   {
    "duration": 61,
    "start_time": "2024-08-10T21:39:10.731Z"
   },
   {
    "duration": 89,
    "start_time": "2024-08-10T21:39:10.793Z"
   },
   {
    "duration": 41,
    "start_time": "2024-08-10T21:39:30.893Z"
   },
   {
    "duration": 705,
    "start_time": "2024-08-10T21:43:20.154Z"
   },
   {
    "duration": 4,
    "start_time": "2024-08-10T21:44:15.153Z"
   },
   {
    "duration": 677,
    "start_time": "2024-08-10T21:44:20.139Z"
   },
   {
    "duration": 121,
    "start_time": "2024-08-10T21:44:20.818Z"
   },
   {
    "duration": 7,
    "start_time": "2024-08-10T21:44:20.942Z"
   },
   {
    "duration": 19,
    "start_time": "2024-08-10T21:44:20.951Z"
   },
   {
    "duration": 49,
    "start_time": "2024-08-10T21:44:20.973Z"
   },
   {
    "duration": 32,
    "start_time": "2024-08-10T21:44:21.024Z"
   },
   {
    "duration": 50,
    "start_time": "2024-08-10T21:44:21.058Z"
   },
   {
    "duration": 41,
    "start_time": "2024-08-10T21:44:21.110Z"
   },
   {
    "duration": 15,
    "start_time": "2024-08-10T21:44:21.152Z"
   },
   {
    "duration": 36,
    "start_time": "2024-08-10T21:44:21.170Z"
   },
   {
    "duration": 16,
    "start_time": "2024-08-10T21:44:21.208Z"
   },
   {
    "duration": 7,
    "start_time": "2024-08-10T21:44:21.226Z"
   },
   {
    "duration": 12,
    "start_time": "2024-08-10T21:44:21.234Z"
   },
   {
    "duration": 6,
    "start_time": "2024-08-10T21:44:21.250Z"
   },
   {
    "duration": 6,
    "start_time": "2024-08-10T21:44:21.257Z"
   },
   {
    "duration": 116,
    "start_time": "2024-08-10T21:44:21.264Z"
   },
   {
    "duration": 19,
    "start_time": "2024-08-10T21:44:21.381Z"
   },
   {
    "duration": 15,
    "start_time": "2024-08-10T21:44:21.402Z"
   },
   {
    "duration": 39,
    "start_time": "2024-08-10T21:44:21.418Z"
   },
   {
    "duration": 6,
    "start_time": "2024-08-10T21:44:21.459Z"
   },
   {
    "duration": 20,
    "start_time": "2024-08-10T21:44:21.467Z"
   },
   {
    "duration": 23,
    "start_time": "2024-08-10T21:44:21.488Z"
   },
   {
    "duration": 20,
    "start_time": "2024-08-10T21:44:21.513Z"
   },
   {
    "duration": 8,
    "start_time": "2024-08-10T21:44:21.535Z"
   },
   {
    "duration": 20,
    "start_time": "2024-08-10T21:44:21.545Z"
   },
   {
    "duration": 4,
    "start_time": "2024-08-10T21:44:21.567Z"
   },
   {
    "duration": 33,
    "start_time": "2024-08-10T21:44:21.573Z"
   },
   {
    "duration": 21,
    "start_time": "2024-08-10T21:44:21.610Z"
   },
   {
    "duration": 4,
    "start_time": "2024-08-10T21:44:21.633Z"
   },
   {
    "duration": 5,
    "start_time": "2024-08-10T21:44:21.639Z"
   },
   {
    "duration": 12,
    "start_time": "2024-08-10T21:44:21.645Z"
   },
   {
    "duration": 77,
    "start_time": "2024-08-10T21:44:21.658Z"
   },
   {
    "duration": 27,
    "start_time": "2024-08-10T21:44:21.737Z"
   },
   {
    "duration": 65,
    "start_time": "2024-08-10T21:44:21.766Z"
   },
   {
    "duration": 17,
    "start_time": "2024-08-10T21:44:21.833Z"
   },
   {
    "duration": 9,
    "start_time": "2024-08-10T21:44:21.852Z"
   },
   {
    "duration": 6,
    "start_time": "2024-08-10T21:44:21.862Z"
   },
   {
    "duration": 42,
    "start_time": "2024-08-10T21:44:21.869Z"
   },
   {
    "duration": 5,
    "start_time": "2024-08-10T21:44:21.912Z"
   },
   {
    "duration": 11,
    "start_time": "2024-08-10T21:44:21.918Z"
   },
   {
    "duration": 25,
    "start_time": "2024-08-10T21:44:21.930Z"
   },
   {
    "duration": 8,
    "start_time": "2024-08-10T21:44:22.005Z"
   },
   {
    "duration": 43,
    "start_time": "2024-08-10T21:44:22.015Z"
   },
   {
    "duration": 5,
    "start_time": "2024-08-10T21:44:22.059Z"
   },
   {
    "duration": 4,
    "start_time": "2024-08-10T21:44:22.065Z"
   },
   {
    "duration": 14,
    "start_time": "2024-08-10T21:44:22.105Z"
   },
   {
    "duration": 17,
    "start_time": "2024-08-10T21:44:22.121Z"
   },
   {
    "duration": 19,
    "start_time": "2024-08-10T21:44:22.140Z"
   },
   {
    "duration": 13,
    "start_time": "2024-08-10T21:44:22.160Z"
   },
   {
    "duration": 49,
    "start_time": "2024-08-10T21:44:22.174Z"
   },
   {
    "duration": 37,
    "start_time": "2024-08-10T21:44:22.225Z"
   },
   {
    "duration": 263,
    "start_time": "2024-08-10T21:44:22.264Z"
   },
   {
    "duration": 65,
    "start_time": "2024-08-10T21:44:22.529Z"
   },
   {
    "duration": 4,
    "start_time": "2024-08-10T21:48:25.356Z"
   },
   {
    "duration": 13,
    "start_time": "2024-08-10T21:48:30.290Z"
   },
   {
    "duration": 147,
    "start_time": "2024-08-10T21:49:20.263Z"
   },
   {
    "duration": 164,
    "start_time": "2024-08-10T21:49:32.902Z"
   },
   {
    "duration": 158,
    "start_time": "2024-08-10T21:49:45.103Z"
   },
   {
    "duration": 75,
    "start_time": "2024-08-10T21:51:51.662Z"
   },
   {
    "duration": 6,
    "start_time": "2024-08-10T21:54:29.521Z"
   },
   {
    "duration": 4,
    "start_time": "2024-08-10T21:54:30.054Z"
   },
   {
    "duration": 5,
    "start_time": "2024-08-10T21:54:44.974Z"
   },
   {
    "duration": 662,
    "start_time": "2024-08-10T21:56:45.769Z"
   },
   {
    "duration": 107,
    "start_time": "2024-08-10T21:56:46.433Z"
   },
   {
    "duration": 5,
    "start_time": "2024-08-10T21:56:46.542Z"
   },
   {
    "duration": 8,
    "start_time": "2024-08-10T21:56:46.549Z"
   },
   {
    "duration": 44,
    "start_time": "2024-08-10T21:56:46.559Z"
   },
   {
    "duration": 32,
    "start_time": "2024-08-10T21:56:46.604Z"
   },
   {
    "duration": 21,
    "start_time": "2024-08-10T21:56:46.638Z"
   },
   {
    "duration": 5,
    "start_time": "2024-08-10T21:56:46.661Z"
   },
   {
    "duration": 11,
    "start_time": "2024-08-10T21:56:46.705Z"
   },
   {
    "duration": 27,
    "start_time": "2024-08-10T21:56:46.718Z"
   },
   {
    "duration": 12,
    "start_time": "2024-08-10T21:56:46.748Z"
   },
   {
    "duration": 25,
    "start_time": "2024-08-10T21:56:46.761Z"
   },
   {
    "duration": 19,
    "start_time": "2024-08-10T21:56:46.787Z"
   },
   {
    "duration": 5,
    "start_time": "2024-08-10T21:56:46.811Z"
   },
   {
    "duration": 11,
    "start_time": "2024-08-10T21:56:46.819Z"
   },
   {
    "duration": 6,
    "start_time": "2024-08-10T21:56:46.832Z"
   },
   {
    "duration": 17,
    "start_time": "2024-08-10T21:56:46.840Z"
   },
   {
    "duration": 58,
    "start_time": "2024-08-10T21:56:46.859Z"
   },
   {
    "duration": 38,
    "start_time": "2024-08-10T21:56:46.919Z"
   },
   {
    "duration": 5,
    "start_time": "2024-08-10T21:56:46.959Z"
   },
   {
    "duration": 44,
    "start_time": "2024-08-10T21:56:46.966Z"
   },
   {
    "duration": 7,
    "start_time": "2024-08-10T21:56:47.012Z"
   },
   {
    "duration": 20,
    "start_time": "2024-08-10T21:56:47.021Z"
   },
   {
    "duration": 24,
    "start_time": "2024-08-10T21:56:47.042Z"
   },
   {
    "duration": 27,
    "start_time": "2024-08-10T21:56:47.067Z"
   },
   {
    "duration": 11,
    "start_time": "2024-08-10T21:56:47.096Z"
   },
   {
    "duration": 10,
    "start_time": "2024-08-10T21:56:47.109Z"
   },
   {
    "duration": 25,
    "start_time": "2024-08-10T21:56:47.121Z"
   },
   {
    "duration": 4,
    "start_time": "2024-08-10T21:56:47.149Z"
   },
   {
    "duration": 4,
    "start_time": "2024-08-10T21:56:47.155Z"
   },
   {
    "duration": 50,
    "start_time": "2024-08-10T21:56:47.161Z"
   },
   {
    "duration": 31,
    "start_time": "2024-08-10T21:56:47.213Z"
   },
   {
    "duration": 61,
    "start_time": "2024-08-10T21:56:47.246Z"
   },
   {
    "duration": 44,
    "start_time": "2024-08-10T21:56:47.309Z"
   },
   {
    "duration": 99,
    "start_time": "2024-08-10T21:56:47.354Z"
   },
   {
    "duration": 5,
    "start_time": "2024-08-10T21:56:47.455Z"
   },
   {
    "duration": 6,
    "start_time": "2024-08-10T21:56:47.461Z"
   },
   {
    "duration": 11,
    "start_time": "2024-08-10T21:56:47.469Z"
   },
   {
    "duration": 5,
    "start_time": "2024-08-10T21:56:47.482Z"
   },
   {
    "duration": 22,
    "start_time": "2024-08-10T21:56:47.489Z"
   },
   {
    "duration": 31,
    "start_time": "2024-08-10T21:56:47.516Z"
   },
   {
    "duration": 14,
    "start_time": "2024-08-10T21:56:47.549Z"
   },
   {
    "duration": 66,
    "start_time": "2024-08-10T21:56:47.565Z"
   },
   {
    "duration": 6,
    "start_time": "2024-08-10T21:56:47.633Z"
   },
   {
    "duration": 9,
    "start_time": "2024-08-10T21:56:47.641Z"
   },
   {
    "duration": 13,
    "start_time": "2024-08-10T21:56:47.652Z"
   },
   {
    "duration": 49,
    "start_time": "2024-08-10T21:56:47.667Z"
   },
   {
    "duration": 38,
    "start_time": "2024-08-10T21:56:47.717Z"
   },
   {
    "duration": 28,
    "start_time": "2024-08-10T21:56:47.757Z"
   },
   {
    "duration": 22,
    "start_time": "2024-08-10T21:56:47.787Z"
   },
   {
    "duration": 45,
    "start_time": "2024-08-10T21:56:47.811Z"
   },
   {
    "duration": 210,
    "start_time": "2024-08-10T21:56:47.858Z"
   },
   {
    "duration": 10,
    "start_time": "2024-08-10T21:56:48.070Z"
   },
   {
    "duration": 161,
    "start_time": "2024-08-10T21:56:48.082Z"
   },
   {
    "duration": 5,
    "start_time": "2024-08-10T21:56:48.245Z"
   },
   {
    "duration": 24,
    "start_time": "2024-08-10T21:56:48.251Z"
   },
   {
    "duration": 10,
    "start_time": "2024-08-10T21:57:24.554Z"
   },
   {
    "duration": 166,
    "start_time": "2024-08-10T21:58:54.430Z"
   },
   {
    "duration": 81,
    "start_time": "2024-08-10T22:05:24.744Z"
   },
   {
    "duration": 13,
    "start_time": "2024-08-10T22:05:32.456Z"
   },
   {
    "duration": 11,
    "start_time": "2024-08-10T22:05:49.041Z"
   },
   {
    "duration": 292,
    "start_time": "2024-08-10T22:06:47.736Z"
   },
   {
    "duration": 10,
    "start_time": "2024-08-10T22:08:20.223Z"
   },
   {
    "duration": 11,
    "start_time": "2024-08-10T22:09:07.229Z"
   },
   {
    "duration": 17,
    "start_time": "2024-08-10T22:09:26.114Z"
   },
   {
    "duration": 880,
    "start_time": "2024-08-11T05:32:25.056Z"
   },
   {
    "duration": 209,
    "start_time": "2024-08-11T05:32:25.938Z"
   },
   {
    "duration": 6,
    "start_time": "2024-08-11T05:32:26.149Z"
   },
   {
    "duration": 23,
    "start_time": "2024-08-11T05:32:26.157Z"
   },
   {
    "duration": 159,
    "start_time": "2024-08-11T05:32:26.183Z"
   },
   {
    "duration": 35,
    "start_time": "2024-08-11T05:32:26.344Z"
   },
   {
    "duration": 19,
    "start_time": "2024-08-11T05:32:26.381Z"
   },
   {
    "duration": 39,
    "start_time": "2024-08-11T05:32:26.401Z"
   },
   {
    "duration": 12,
    "start_time": "2024-08-11T05:32:26.446Z"
   },
   {
    "duration": 25,
    "start_time": "2024-08-11T05:32:26.460Z"
   },
   {
    "duration": 30,
    "start_time": "2024-08-11T05:32:26.487Z"
   },
   {
    "duration": 6,
    "start_time": "2024-08-11T05:32:26.518Z"
   },
   {
    "duration": 20,
    "start_time": "2024-08-11T05:32:26.526Z"
   },
   {
    "duration": 9,
    "start_time": "2024-08-11T05:32:26.549Z"
   },
   {
    "duration": 9,
    "start_time": "2024-08-11T05:32:26.559Z"
   },
   {
    "duration": 12,
    "start_time": "2024-08-11T05:32:26.569Z"
   },
   {
    "duration": 18,
    "start_time": "2024-08-11T05:32:26.583Z"
   },
   {
    "duration": 21,
    "start_time": "2024-08-11T05:32:26.603Z"
   },
   {
    "duration": 44,
    "start_time": "2024-08-11T05:32:26.626Z"
   },
   {
    "duration": 6,
    "start_time": "2024-08-11T05:32:26.673Z"
   },
   {
    "duration": 22,
    "start_time": "2024-08-11T05:32:26.681Z"
   },
   {
    "duration": 8,
    "start_time": "2024-08-11T05:32:26.705Z"
   },
   {
    "duration": 11,
    "start_time": "2024-08-11T05:32:26.746Z"
   },
   {
    "duration": 38,
    "start_time": "2024-08-11T05:32:26.759Z"
   },
   {
    "duration": 63,
    "start_time": "2024-08-11T05:32:26.799Z"
   },
   {
    "duration": 14,
    "start_time": "2024-08-11T05:32:26.864Z"
   },
   {
    "duration": 8,
    "start_time": "2024-08-11T05:32:26.879Z"
   },
   {
    "duration": 25,
    "start_time": "2024-08-11T05:32:26.888Z"
   },
   {
    "duration": 3,
    "start_time": "2024-08-11T05:32:26.915Z"
   },
   {
    "duration": 6,
    "start_time": "2024-08-11T05:32:26.920Z"
   },
   {
    "duration": 26,
    "start_time": "2024-08-11T05:32:26.927Z"
   },
   {
    "duration": 25,
    "start_time": "2024-08-11T05:32:26.955Z"
   },
   {
    "duration": 25,
    "start_time": "2024-08-11T05:32:26.982Z"
   },
   {
    "duration": 64,
    "start_time": "2024-08-11T05:32:27.009Z"
   },
   {
    "duration": 17,
    "start_time": "2024-08-11T05:32:27.075Z"
   },
   {
    "duration": 14,
    "start_time": "2024-08-11T05:32:27.094Z"
   },
   {
    "duration": 37,
    "start_time": "2024-08-11T05:32:27.110Z"
   },
   {
    "duration": 37,
    "start_time": "2024-08-11T05:32:27.149Z"
   },
   {
    "duration": 5,
    "start_time": "2024-08-11T05:32:27.188Z"
   },
   {
    "duration": 12,
    "start_time": "2024-08-11T05:32:27.194Z"
   },
   {
    "duration": 30,
    "start_time": "2024-08-11T05:32:27.210Z"
   },
   {
    "duration": 9,
    "start_time": "2024-08-11T05:32:27.242Z"
   },
   {
    "duration": 27,
    "start_time": "2024-08-11T05:32:27.252Z"
   },
   {
    "duration": 5,
    "start_time": "2024-08-11T05:32:27.281Z"
   },
   {
    "duration": 5,
    "start_time": "2024-08-11T05:32:27.287Z"
   },
   {
    "duration": 47,
    "start_time": "2024-08-11T05:32:27.293Z"
   },
   {
    "duration": 37,
    "start_time": "2024-08-11T05:32:27.341Z"
   },
   {
    "duration": 12,
    "start_time": "2024-08-11T05:32:27.380Z"
   },
   {
    "duration": 12,
    "start_time": "2024-08-11T05:32:27.394Z"
   },
   {
    "duration": 39,
    "start_time": "2024-08-11T05:32:27.407Z"
   },
   {
    "duration": 51,
    "start_time": "2024-08-11T05:32:27.448Z"
   },
   {
    "duration": 194,
    "start_time": "2024-08-11T05:32:27.500Z"
   },
   {
    "duration": 8,
    "start_time": "2024-08-11T05:32:27.696Z"
   },
   {
    "duration": 157,
    "start_time": "2024-08-11T05:32:27.706Z"
   },
   {
    "duration": 4,
    "start_time": "2024-08-11T05:32:27.865Z"
   },
   {
    "duration": 16,
    "start_time": "2024-08-11T05:32:27.870Z"
   },
   {
    "duration": 35,
    "start_time": "2024-08-11T05:32:27.887Z"
   },
   {
    "duration": 172,
    "start_time": "2024-08-11T05:32:27.924Z"
   },
   {
    "duration": 353,
    "start_time": "2024-08-11T05:32:28.097Z"
   },
   {
    "duration": 17,
    "start_time": "2024-08-11T05:32:28.451Z"
   },
   {
    "duration": 17,
    "start_time": "2024-08-11T05:36:55.162Z"
   },
   {
    "duration": 16,
    "start_time": "2024-08-11T05:36:58.251Z"
   },
   {
    "duration": 17,
    "start_time": "2024-08-11T05:39:43.940Z"
   },
   {
    "duration": 18,
    "start_time": "2024-08-11T05:39:46.572Z"
   },
   {
    "duration": 17,
    "start_time": "2024-08-11T05:39:58.117Z"
   },
   {
    "duration": 17,
    "start_time": "2024-08-11T05:43:23.220Z"
   },
   {
    "duration": 717,
    "start_time": "2024-08-11T05:43:30.214Z"
   },
   {
    "duration": 113,
    "start_time": "2024-08-11T05:43:30.934Z"
   },
   {
    "duration": 97,
    "start_time": "2024-08-11T05:43:31.049Z"
   },
   {
    "duration": 115,
    "start_time": "2024-08-11T05:43:31.148Z"
   },
   {
    "duration": 132,
    "start_time": "2024-08-11T05:43:31.266Z"
   },
   {
    "duration": 100,
    "start_time": "2024-08-11T05:43:31.399Z"
   },
   {
    "duration": 94,
    "start_time": "2024-08-11T05:43:31.501Z"
   },
   {
    "duration": 46,
    "start_time": "2024-08-11T05:43:31.597Z"
   },
   {
    "duration": 42,
    "start_time": "2024-08-11T05:43:31.645Z"
   },
   {
    "duration": 68,
    "start_time": "2024-08-11T05:43:31.689Z"
   },
   {
    "duration": 91,
    "start_time": "2024-08-11T05:43:31.759Z"
   },
   {
    "duration": 110,
    "start_time": "2024-08-11T05:43:31.851Z"
   },
   {
    "duration": 18,
    "start_time": "2024-08-11T05:43:31.963Z"
   },
   {
    "duration": 26,
    "start_time": "2024-08-11T05:43:31.984Z"
   },
   {
    "duration": 45,
    "start_time": "2024-08-11T05:43:32.013Z"
   },
   {
    "duration": 41,
    "start_time": "2024-08-11T05:43:32.059Z"
   },
   {
    "duration": 22,
    "start_time": "2024-08-11T05:43:32.101Z"
   },
   {
    "duration": 33,
    "start_time": "2024-08-11T05:43:32.124Z"
   },
   {
    "duration": 37,
    "start_time": "2024-08-11T05:43:32.158Z"
   },
   {
    "duration": 10,
    "start_time": "2024-08-11T05:43:32.196Z"
   },
   {
    "duration": 39,
    "start_time": "2024-08-11T05:43:32.207Z"
   },
   {
    "duration": 16,
    "start_time": "2024-08-11T05:43:32.247Z"
   },
   {
    "duration": 33,
    "start_time": "2024-08-11T05:43:32.264Z"
   },
   {
    "duration": 22,
    "start_time": "2024-08-11T05:43:32.299Z"
   },
   {
    "duration": 43,
    "start_time": "2024-08-11T05:43:32.322Z"
   },
   {
    "duration": 19,
    "start_time": "2024-08-11T05:43:32.367Z"
   },
   {
    "duration": 47,
    "start_time": "2024-08-11T05:43:32.387Z"
   },
   {
    "duration": 34,
    "start_time": "2024-08-11T05:43:32.436Z"
   },
   {
    "duration": 13,
    "start_time": "2024-08-11T05:43:32.471Z"
   },
   {
    "duration": 35,
    "start_time": "2024-08-11T05:43:32.486Z"
   },
   {
    "duration": 32,
    "start_time": "2024-08-11T05:43:32.523Z"
   },
   {
    "duration": 52,
    "start_time": "2024-08-11T05:43:32.557Z"
   },
   {
    "duration": 27,
    "start_time": "2024-08-11T05:43:32.611Z"
   },
   {
    "duration": 38,
    "start_time": "2024-08-11T05:43:32.640Z"
   },
   {
    "duration": 27,
    "start_time": "2024-08-11T05:43:32.680Z"
   },
   {
    "duration": 21,
    "start_time": "2024-08-11T05:43:32.709Z"
   },
   {
    "duration": 118,
    "start_time": "2024-08-11T05:43:32.732Z"
   },
   {
    "duration": 113,
    "start_time": "2024-08-11T05:43:32.852Z"
   },
   {
    "duration": 100,
    "start_time": "2024-08-11T05:43:32.967Z"
   },
   {
    "duration": 40,
    "start_time": "2024-08-11T05:43:33.069Z"
   },
   {
    "duration": 61,
    "start_time": "2024-08-11T05:43:33.113Z"
   },
   {
    "duration": 22,
    "start_time": "2024-08-11T05:43:33.176Z"
   },
   {
    "duration": 49,
    "start_time": "2024-08-11T05:43:33.199Z"
   },
   {
    "duration": 14,
    "start_time": "2024-08-11T05:43:33.249Z"
   },
   {
    "duration": 21,
    "start_time": "2024-08-11T05:43:33.265Z"
   },
   {
    "duration": 20,
    "start_time": "2024-08-11T05:43:33.288Z"
   },
   {
    "duration": 28,
    "start_time": "2024-08-11T05:43:33.310Z"
   },
   {
    "duration": 25,
    "start_time": "2024-08-11T05:43:33.340Z"
   },
   {
    "duration": 31,
    "start_time": "2024-08-11T05:43:33.366Z"
   },
   {
    "duration": 41,
    "start_time": "2024-08-11T05:43:33.398Z"
   },
   {
    "duration": 50,
    "start_time": "2024-08-11T05:43:33.440Z"
   },
   {
    "duration": 172,
    "start_time": "2024-08-11T05:43:33.492Z"
   },
   {
    "duration": 9,
    "start_time": "2024-08-11T05:43:33.666Z"
   },
   {
    "duration": 170,
    "start_time": "2024-08-11T05:43:33.677Z"
   },
   {
    "duration": 4,
    "start_time": "2024-08-11T05:43:33.849Z"
   },
   {
    "duration": 36,
    "start_time": "2024-08-11T05:43:33.855Z"
   },
   {
    "duration": 31,
    "start_time": "2024-08-11T05:43:33.892Z"
   },
   {
    "duration": 180,
    "start_time": "2024-08-11T05:43:33.925Z"
   },
   {
    "duration": 284,
    "start_time": "2024-08-11T05:43:34.106Z"
   },
   {
    "duration": 17,
    "start_time": "2024-08-11T05:43:34.391Z"
   },
   {
    "duration": 715,
    "start_time": "2024-08-11T05:51:30.239Z"
   },
   {
    "duration": 112,
    "start_time": "2024-08-11T05:51:30.956Z"
   },
   {
    "duration": 5,
    "start_time": "2024-08-11T05:51:31.070Z"
   },
   {
    "duration": 46,
    "start_time": "2024-08-11T05:51:31.077Z"
   },
   {
    "duration": 82,
    "start_time": "2024-08-11T05:51:31.124Z"
   },
   {
    "duration": 67,
    "start_time": "2024-08-11T05:51:31.208Z"
   },
   {
    "duration": 60,
    "start_time": "2024-08-11T05:51:31.277Z"
   },
   {
    "duration": 93,
    "start_time": "2024-08-11T05:51:31.338Z"
   },
   {
    "duration": 146,
    "start_time": "2024-08-11T05:51:31.432Z"
   },
   {
    "duration": 173,
    "start_time": "2024-08-11T05:51:31.580Z"
   },
   {
    "duration": 30,
    "start_time": "2024-08-11T05:51:31.754Z"
   },
   {
    "duration": 243,
    "start_time": "2024-08-11T05:51:31.786Z"
   },
   {
    "duration": 487,
    "start_time": "2024-08-11T05:51:32.030Z"
   },
   {
    "duration": 106,
    "start_time": "2024-08-11T05:51:32.519Z"
   },
   {
    "duration": 134,
    "start_time": "2024-08-11T05:51:32.626Z"
   },
   {
    "duration": 45,
    "start_time": "2024-08-11T05:51:32.761Z"
   },
   {
    "duration": 35,
    "start_time": "2024-08-11T05:51:32.808Z"
   },
   {
    "duration": 58,
    "start_time": "2024-08-11T05:51:32.845Z"
   },
   {
    "duration": 84,
    "start_time": "2024-08-11T05:51:32.904Z"
   },
   {
    "duration": 15,
    "start_time": "2024-08-11T05:51:32.990Z"
   },
   {
    "duration": 130,
    "start_time": "2024-08-11T05:51:33.007Z"
   },
   {
    "duration": 31,
    "start_time": "2024-08-11T05:51:33.138Z"
   },
   {
    "duration": 95,
    "start_time": "2024-08-11T05:51:33.170Z"
   },
   {
    "duration": 27,
    "start_time": "2024-08-11T05:51:33.267Z"
   },
   {
    "duration": 52,
    "start_time": "2024-08-11T05:51:33.296Z"
   },
   {
    "duration": 5,
    "start_time": "2024-08-11T05:51:33.350Z"
   },
   {
    "duration": 8,
    "start_time": "2024-08-11T05:51:33.357Z"
   },
   {
    "duration": 27,
    "start_time": "2024-08-11T05:51:33.370Z"
   },
   {
    "duration": 5,
    "start_time": "2024-08-11T05:51:33.399Z"
   },
   {
    "duration": 7,
    "start_time": "2024-08-11T05:51:33.406Z"
   },
   {
    "duration": 35,
    "start_time": "2024-08-11T05:51:33.415Z"
   },
   {
    "duration": 39,
    "start_time": "2024-08-11T05:51:33.451Z"
   },
   {
    "duration": 28,
    "start_time": "2024-08-11T05:51:33.492Z"
   },
   {
    "duration": 48,
    "start_time": "2024-08-11T05:51:33.522Z"
   },
   {
    "duration": 17,
    "start_time": "2024-08-11T05:51:33.572Z"
   },
   {
    "duration": 5,
    "start_time": "2024-08-11T05:51:33.591Z"
   },
   {
    "duration": 17,
    "start_time": "2024-08-11T05:51:33.597Z"
   },
   {
    "duration": 10,
    "start_time": "2024-08-11T05:51:33.615Z"
   },
   {
    "duration": 4,
    "start_time": "2024-08-11T05:51:33.647Z"
   },
   {
    "duration": 19,
    "start_time": "2024-08-11T05:51:33.652Z"
   },
   {
    "duration": 23,
    "start_time": "2024-08-11T05:51:33.673Z"
   },
   {
    "duration": 38,
    "start_time": "2024-08-11T05:51:33.697Z"
   },
   {
    "duration": 29,
    "start_time": "2024-08-11T05:51:33.737Z"
   },
   {
    "duration": 15,
    "start_time": "2024-08-11T05:51:33.768Z"
   },
   {
    "duration": 35,
    "start_time": "2024-08-11T05:51:33.784Z"
   },
   {
    "duration": 21,
    "start_time": "2024-08-11T05:51:33.821Z"
   },
   {
    "duration": 18,
    "start_time": "2024-08-11T05:51:33.844Z"
   },
   {
    "duration": 12,
    "start_time": "2024-08-11T05:51:33.864Z"
   },
   {
    "duration": 5,
    "start_time": "2024-08-11T05:51:33.878Z"
   },
   {
    "duration": 21,
    "start_time": "2024-08-11T05:51:33.885Z"
   },
   {
    "duration": 59,
    "start_time": "2024-08-11T05:51:33.908Z"
   },
   {
    "duration": 185,
    "start_time": "2024-08-11T05:51:33.968Z"
   },
   {
    "duration": 8,
    "start_time": "2024-08-11T05:51:34.155Z"
   },
   {
    "duration": 161,
    "start_time": "2024-08-11T05:51:34.165Z"
   },
   {
    "duration": 5,
    "start_time": "2024-08-11T05:51:34.328Z"
   },
   {
    "duration": 133,
    "start_time": "2024-08-11T05:51:34.334Z"
   },
   {
    "duration": 35,
    "start_time": "2024-08-11T05:51:34.469Z"
   },
   {
    "duration": 191,
    "start_time": "2024-08-11T05:51:34.506Z"
   },
   {
    "duration": 291,
    "start_time": "2024-08-11T05:51:34.699Z"
   },
   {
    "duration": 23,
    "start_time": "2024-08-11T05:51:34.991Z"
   },
   {
    "duration": 707,
    "start_time": "2024-08-11T05:52:54.856Z"
   },
   {
    "duration": 0,
    "start_time": "2024-08-11T05:52:55.566Z"
   },
   {
    "duration": 1,
    "start_time": "2024-08-11T05:52:55.566Z"
   },
   {
    "duration": 0,
    "start_time": "2024-08-11T05:52:55.567Z"
   },
   {
    "duration": 0,
    "start_time": "2024-08-11T05:52:55.569Z"
   },
   {
    "duration": 0,
    "start_time": "2024-08-11T05:52:55.570Z"
   },
   {
    "duration": 0,
    "start_time": "2024-08-11T05:52:55.572Z"
   },
   {
    "duration": 0,
    "start_time": "2024-08-11T05:52:55.572Z"
   },
   {
    "duration": 0,
    "start_time": "2024-08-11T05:52:55.573Z"
   },
   {
    "duration": 0,
    "start_time": "2024-08-11T05:52:55.575Z"
   },
   {
    "duration": 0,
    "start_time": "2024-08-11T05:52:55.576Z"
   },
   {
    "duration": 0,
    "start_time": "2024-08-11T05:52:55.577Z"
   },
   {
    "duration": 0,
    "start_time": "2024-08-11T05:52:55.578Z"
   },
   {
    "duration": 0,
    "start_time": "2024-08-11T05:52:55.579Z"
   },
   {
    "duration": 0,
    "start_time": "2024-08-11T05:52:55.580Z"
   },
   {
    "duration": 0,
    "start_time": "2024-08-11T05:52:55.581Z"
   },
   {
    "duration": 0,
    "start_time": "2024-08-11T05:52:55.582Z"
   },
   {
    "duration": 0,
    "start_time": "2024-08-11T05:52:55.584Z"
   },
   {
    "duration": 0,
    "start_time": "2024-08-11T05:52:55.584Z"
   },
   {
    "duration": 0,
    "start_time": "2024-08-11T05:52:55.586Z"
   },
   {
    "duration": 0,
    "start_time": "2024-08-11T05:52:55.586Z"
   },
   {
    "duration": 0,
    "start_time": "2024-08-11T05:52:55.587Z"
   },
   {
    "duration": 0,
    "start_time": "2024-08-11T05:52:55.588Z"
   },
   {
    "duration": 0,
    "start_time": "2024-08-11T05:52:55.590Z"
   },
   {
    "duration": 0,
    "start_time": "2024-08-11T05:52:55.591Z"
   },
   {
    "duration": 0,
    "start_time": "2024-08-11T05:52:55.591Z"
   },
   {
    "duration": 0,
    "start_time": "2024-08-11T05:52:55.592Z"
   },
   {
    "duration": 0,
    "start_time": "2024-08-11T05:52:55.594Z"
   },
   {
    "duration": 0,
    "start_time": "2024-08-11T05:52:55.595Z"
   },
   {
    "duration": 0,
    "start_time": "2024-08-11T05:52:55.595Z"
   },
   {
    "duration": 0,
    "start_time": "2024-08-11T05:52:55.646Z"
   },
   {
    "duration": 0,
    "start_time": "2024-08-11T05:52:55.647Z"
   },
   {
    "duration": 0,
    "start_time": "2024-08-11T05:52:55.648Z"
   },
   {
    "duration": 0,
    "start_time": "2024-08-11T05:52:55.649Z"
   },
   {
    "duration": 0,
    "start_time": "2024-08-11T05:52:55.650Z"
   },
   {
    "duration": 0,
    "start_time": "2024-08-11T05:52:55.651Z"
   },
   {
    "duration": 0,
    "start_time": "2024-08-11T05:52:55.652Z"
   },
   {
    "duration": 0,
    "start_time": "2024-08-11T05:52:55.653Z"
   },
   {
    "duration": 0,
    "start_time": "2024-08-11T05:52:55.654Z"
   },
   {
    "duration": 0,
    "start_time": "2024-08-11T05:52:55.655Z"
   },
   {
    "duration": 0,
    "start_time": "2024-08-11T05:52:55.657Z"
   },
   {
    "duration": 0,
    "start_time": "2024-08-11T05:52:55.658Z"
   },
   {
    "duration": 0,
    "start_time": "2024-08-11T05:52:55.659Z"
   },
   {
    "duration": 0,
    "start_time": "2024-08-11T05:52:55.660Z"
   },
   {
    "duration": 0,
    "start_time": "2024-08-11T05:52:55.661Z"
   },
   {
    "duration": 0,
    "start_time": "2024-08-11T05:52:55.662Z"
   },
   {
    "duration": 0,
    "start_time": "2024-08-11T05:52:55.664Z"
   },
   {
    "duration": 0,
    "start_time": "2024-08-11T05:52:55.665Z"
   },
   {
    "duration": 0,
    "start_time": "2024-08-11T05:52:55.666Z"
   },
   {
    "duration": 0,
    "start_time": "2024-08-11T05:52:55.667Z"
   },
   {
    "duration": 0,
    "start_time": "2024-08-11T05:52:55.668Z"
   },
   {
    "duration": 0,
    "start_time": "2024-08-11T05:52:55.669Z"
   },
   {
    "duration": 0,
    "start_time": "2024-08-11T05:52:55.670Z"
   },
   {
    "duration": 0,
    "start_time": "2024-08-11T05:52:55.671Z"
   },
   {
    "duration": 0,
    "start_time": "2024-08-11T05:52:55.671Z"
   },
   {
    "duration": 0,
    "start_time": "2024-08-11T05:52:55.672Z"
   },
   {
    "duration": 0,
    "start_time": "2024-08-11T05:52:55.673Z"
   },
   {
    "duration": 0,
    "start_time": "2024-08-11T05:52:55.674Z"
   },
   {
    "duration": 0,
    "start_time": "2024-08-11T05:52:55.675Z"
   },
   {
    "duration": 0,
    "start_time": "2024-08-11T05:52:55.676Z"
   },
   {
    "duration": 768,
    "start_time": "2024-08-11T05:53:20.017Z"
   },
   {
    "duration": 0,
    "start_time": "2024-08-11T05:53:20.788Z"
   },
   {
    "duration": 0,
    "start_time": "2024-08-11T05:53:20.789Z"
   },
   {
    "duration": 0,
    "start_time": "2024-08-11T05:53:20.790Z"
   },
   {
    "duration": 1,
    "start_time": "2024-08-11T05:53:20.791Z"
   },
   {
    "duration": 0,
    "start_time": "2024-08-11T05:53:20.793Z"
   },
   {
    "duration": 0,
    "start_time": "2024-08-11T05:53:20.793Z"
   },
   {
    "duration": 0,
    "start_time": "2024-08-11T05:53:20.794Z"
   },
   {
    "duration": 0,
    "start_time": "2024-08-11T05:53:20.795Z"
   },
   {
    "duration": 0,
    "start_time": "2024-08-11T05:53:20.796Z"
   },
   {
    "duration": 0,
    "start_time": "2024-08-11T05:53:20.797Z"
   },
   {
    "duration": 0,
    "start_time": "2024-08-11T05:53:20.798Z"
   },
   {
    "duration": 0,
    "start_time": "2024-08-11T05:53:20.799Z"
   },
   {
    "duration": 0,
    "start_time": "2024-08-11T05:53:20.800Z"
   },
   {
    "duration": 0,
    "start_time": "2024-08-11T05:53:20.801Z"
   },
   {
    "duration": 0,
    "start_time": "2024-08-11T05:53:20.802Z"
   },
   {
    "duration": 0,
    "start_time": "2024-08-11T05:53:20.803Z"
   },
   {
    "duration": 0,
    "start_time": "2024-08-11T05:53:20.804Z"
   },
   {
    "duration": 0,
    "start_time": "2024-08-11T05:53:20.805Z"
   },
   {
    "duration": 0,
    "start_time": "2024-08-11T05:53:20.805Z"
   },
   {
    "duration": 0,
    "start_time": "2024-08-11T05:53:20.806Z"
   },
   {
    "duration": 0,
    "start_time": "2024-08-11T05:53:20.807Z"
   },
   {
    "duration": 0,
    "start_time": "2024-08-11T05:53:20.808Z"
   },
   {
    "duration": 0,
    "start_time": "2024-08-11T05:53:20.809Z"
   },
   {
    "duration": 0,
    "start_time": "2024-08-11T05:53:20.846Z"
   },
   {
    "duration": 0,
    "start_time": "2024-08-11T05:53:20.847Z"
   },
   {
    "duration": 0,
    "start_time": "2024-08-11T05:53:20.848Z"
   },
   {
    "duration": 0,
    "start_time": "2024-08-11T05:53:20.849Z"
   },
   {
    "duration": 0,
    "start_time": "2024-08-11T05:53:20.850Z"
   },
   {
    "duration": 0,
    "start_time": "2024-08-11T05:53:20.851Z"
   },
   {
    "duration": 0,
    "start_time": "2024-08-11T05:53:20.852Z"
   },
   {
    "duration": 0,
    "start_time": "2024-08-11T05:53:20.853Z"
   },
   {
    "duration": 0,
    "start_time": "2024-08-11T05:53:20.854Z"
   },
   {
    "duration": 0,
    "start_time": "2024-08-11T05:53:20.855Z"
   },
   {
    "duration": 0,
    "start_time": "2024-08-11T05:53:20.856Z"
   },
   {
    "duration": 0,
    "start_time": "2024-08-11T05:53:20.857Z"
   },
   {
    "duration": 0,
    "start_time": "2024-08-11T05:53:20.858Z"
   },
   {
    "duration": 0,
    "start_time": "2024-08-11T05:53:20.859Z"
   },
   {
    "duration": 0,
    "start_time": "2024-08-11T05:53:20.860Z"
   },
   {
    "duration": 0,
    "start_time": "2024-08-11T05:53:20.861Z"
   },
   {
    "duration": 0,
    "start_time": "2024-08-11T05:53:20.862Z"
   },
   {
    "duration": 0,
    "start_time": "2024-08-11T05:53:20.863Z"
   },
   {
    "duration": 0,
    "start_time": "2024-08-11T05:53:20.864Z"
   },
   {
    "duration": 0,
    "start_time": "2024-08-11T05:53:20.866Z"
   },
   {
    "duration": 0,
    "start_time": "2024-08-11T05:53:20.867Z"
   },
   {
    "duration": 0,
    "start_time": "2024-08-11T05:53:20.867Z"
   },
   {
    "duration": 0,
    "start_time": "2024-08-11T05:53:20.868Z"
   },
   {
    "duration": 0,
    "start_time": "2024-08-11T05:53:20.869Z"
   },
   {
    "duration": 0,
    "start_time": "2024-08-11T05:53:20.870Z"
   },
   {
    "duration": 0,
    "start_time": "2024-08-11T05:53:20.872Z"
   },
   {
    "duration": 0,
    "start_time": "2024-08-11T05:53:20.873Z"
   },
   {
    "duration": 0,
    "start_time": "2024-08-11T05:53:20.873Z"
   },
   {
    "duration": 0,
    "start_time": "2024-08-11T05:53:20.874Z"
   },
   {
    "duration": 0,
    "start_time": "2024-08-11T05:53:20.875Z"
   },
   {
    "duration": 0,
    "start_time": "2024-08-11T05:53:20.876Z"
   },
   {
    "duration": 0,
    "start_time": "2024-08-11T05:53:20.877Z"
   },
   {
    "duration": 0,
    "start_time": "2024-08-11T05:53:20.878Z"
   },
   {
    "duration": 0,
    "start_time": "2024-08-11T05:53:20.879Z"
   },
   {
    "duration": 0,
    "start_time": "2024-08-11T05:53:20.880Z"
   },
   {
    "duration": 0,
    "start_time": "2024-08-11T05:53:20.946Z"
   },
   {
    "duration": 628,
    "start_time": "2024-08-11T05:53:52.302Z"
   },
   {
    "duration": 111,
    "start_time": "2024-08-11T05:53:52.931Z"
   },
   {
    "duration": 5,
    "start_time": "2024-08-11T05:53:53.044Z"
   },
   {
    "duration": 10,
    "start_time": "2024-08-11T05:53:53.051Z"
   },
   {
    "duration": 48,
    "start_time": "2024-08-11T05:53:53.063Z"
   },
   {
    "duration": 44,
    "start_time": "2024-08-11T05:53:53.113Z"
   },
   {
    "duration": 15,
    "start_time": "2024-08-11T05:53:53.159Z"
   },
   {
    "duration": 4,
    "start_time": "2024-08-11T05:53:53.176Z"
   },
   {
    "duration": 14,
    "start_time": "2024-08-11T05:53:53.181Z"
   },
   {
    "duration": 49,
    "start_time": "2024-08-11T05:53:53.197Z"
   },
   {
    "duration": 13,
    "start_time": "2024-08-11T05:53:53.248Z"
   },
   {
    "duration": 5,
    "start_time": "2024-08-11T05:53:53.263Z"
   },
   {
    "duration": 9,
    "start_time": "2024-08-11T05:53:53.270Z"
   },
   {
    "duration": 4,
    "start_time": "2024-08-11T05:53:53.280Z"
   },
   {
    "duration": 9,
    "start_time": "2024-08-11T05:53:53.286Z"
   },
   {
    "duration": 53,
    "start_time": "2024-08-11T05:53:53.297Z"
   },
   {
    "duration": 16,
    "start_time": "2024-08-11T05:53:53.352Z"
   },
   {
    "duration": 10,
    "start_time": "2024-08-11T05:53:53.370Z"
   },
   {
    "duration": 18,
    "start_time": "2024-08-11T05:53:53.382Z"
   },
   {
    "duration": 4,
    "start_time": "2024-08-11T05:53:53.402Z"
   },
   {
    "duration": 14,
    "start_time": "2024-08-11T05:53:53.446Z"
   },
   {
    "duration": 7,
    "start_time": "2024-08-11T05:53:53.462Z"
   },
   {
    "duration": 9,
    "start_time": "2024-08-11T05:53:53.470Z"
   },
   {
    "duration": 6,
    "start_time": "2024-08-11T05:53:53.480Z"
   },
   {
    "duration": 18,
    "start_time": "2024-08-11T05:53:53.488Z"
   },
   {
    "duration": 5,
    "start_time": "2024-08-11T05:53:53.508Z"
   },
   {
    "duration": 5,
    "start_time": "2024-08-11T05:53:53.545Z"
   },
   {
    "duration": 27,
    "start_time": "2024-08-11T05:53:53.553Z"
   },
   {
    "duration": 5,
    "start_time": "2024-08-11T05:53:53.582Z"
   },
   {
    "duration": 6,
    "start_time": "2024-08-11T05:53:53.589Z"
   },
   {
    "duration": 13,
    "start_time": "2024-08-11T05:53:53.596Z"
   },
   {
    "duration": 60,
    "start_time": "2024-08-11T05:53:53.611Z"
   },
   {
    "duration": 27,
    "start_time": "2024-08-11T05:53:53.673Z"
   },
   {
    "duration": 55,
    "start_time": "2024-08-11T05:53:53.701Z"
   },
   {
    "duration": 15,
    "start_time": "2024-08-11T05:53:53.757Z"
   },
   {
    "duration": 49,
    "start_time": "2024-08-11T05:53:53.773Z"
   },
   {
    "duration": 8,
    "start_time": "2024-08-11T05:53:53.824Z"
   },
   {
    "duration": 12,
    "start_time": "2024-08-11T05:53:53.833Z"
   },
   {
    "duration": 5,
    "start_time": "2024-08-11T05:53:53.847Z"
   },
   {
    "duration": 31,
    "start_time": "2024-08-11T05:53:53.854Z"
   },
   {
    "duration": 32,
    "start_time": "2024-08-11T05:53:53.886Z"
   },
   {
    "duration": 10,
    "start_time": "2024-08-11T05:53:53.920Z"
   },
   {
    "duration": 23,
    "start_time": "2024-08-11T05:53:53.945Z"
   },
   {
    "duration": 6,
    "start_time": "2024-08-11T05:53:53.969Z"
   },
   {
    "duration": 4,
    "start_time": "2024-08-11T05:53:53.977Z"
   },
   {
    "duration": 15,
    "start_time": "2024-08-11T05:53:53.982Z"
   },
   {
    "duration": 18,
    "start_time": "2024-08-11T05:53:53.999Z"
   },
   {
    "duration": 11,
    "start_time": "2024-08-11T05:53:54.045Z"
   },
   {
    "duration": 7,
    "start_time": "2024-08-11T05:53:54.058Z"
   },
   {
    "duration": 26,
    "start_time": "2024-08-11T05:53:54.067Z"
   },
   {
    "duration": 61,
    "start_time": "2024-08-11T05:53:54.095Z"
   },
   {
    "duration": 195,
    "start_time": "2024-08-11T05:53:54.158Z"
   },
   {
    "duration": 12,
    "start_time": "2024-08-11T05:53:54.355Z"
   },
   {
    "duration": 213,
    "start_time": "2024-08-11T05:53:54.369Z"
   },
   {
    "duration": 5,
    "start_time": "2024-08-11T05:53:54.584Z"
   },
   {
    "duration": 11,
    "start_time": "2024-08-11T05:53:54.591Z"
   },
   {
    "duration": 10,
    "start_time": "2024-08-11T05:53:54.603Z"
   },
   {
    "duration": 200,
    "start_time": "2024-08-11T05:53:54.614Z"
   },
   {
    "duration": 300,
    "start_time": "2024-08-11T05:53:54.815Z"
   },
   {
    "duration": 13,
    "start_time": "2024-08-11T05:53:55.117Z"
   },
   {
    "duration": 619,
    "start_time": "2024-08-11T05:54:09.594Z"
   },
   {
    "duration": 108,
    "start_time": "2024-08-11T05:54:10.215Z"
   },
   {
    "duration": 6,
    "start_time": "2024-08-11T05:54:10.325Z"
   },
   {
    "duration": 150,
    "start_time": "2024-08-11T05:54:10.334Z"
   },
   {
    "duration": 53,
    "start_time": "2024-08-11T05:54:10.486Z"
   },
   {
    "duration": 29,
    "start_time": "2024-08-11T05:54:10.541Z"
   },
   {
    "duration": 16,
    "start_time": "2024-08-11T05:54:10.572Z"
   },
   {
    "duration": 13,
    "start_time": "2024-08-11T05:54:10.589Z"
   },
   {
    "duration": 45,
    "start_time": "2024-08-11T05:54:10.603Z"
   },
   {
    "duration": 33,
    "start_time": "2024-08-11T05:54:10.652Z"
   },
   {
    "duration": 18,
    "start_time": "2024-08-11T05:54:10.687Z"
   },
   {
    "duration": 5,
    "start_time": "2024-08-11T05:54:10.707Z"
   },
   {
    "duration": 12,
    "start_time": "2024-08-11T05:54:10.714Z"
   },
   {
    "duration": 18,
    "start_time": "2024-08-11T05:54:10.728Z"
   },
   {
    "duration": 6,
    "start_time": "2024-08-11T05:54:10.748Z"
   },
   {
    "duration": 6,
    "start_time": "2024-08-11T05:54:10.755Z"
   },
   {
    "duration": 12,
    "start_time": "2024-08-11T05:54:10.762Z"
   },
   {
    "duration": 11,
    "start_time": "2024-08-11T05:54:10.775Z"
   },
   {
    "duration": 23,
    "start_time": "2024-08-11T05:54:10.788Z"
   },
   {
    "duration": 36,
    "start_time": "2024-08-11T05:54:10.813Z"
   },
   {
    "duration": 18,
    "start_time": "2024-08-11T05:54:10.851Z"
   },
   {
    "duration": 12,
    "start_time": "2024-08-11T05:54:10.871Z"
   },
   {
    "duration": 14,
    "start_time": "2024-08-11T05:54:10.885Z"
   },
   {
    "duration": 9,
    "start_time": "2024-08-11T05:54:10.900Z"
   },
   {
    "duration": 44,
    "start_time": "2024-08-11T05:54:10.911Z"
   },
   {
    "duration": 5,
    "start_time": "2024-08-11T05:54:10.957Z"
   },
   {
    "duration": 16,
    "start_time": "2024-08-11T05:54:10.963Z"
   },
   {
    "duration": 32,
    "start_time": "2024-08-11T05:54:10.983Z"
   },
   {
    "duration": 4,
    "start_time": "2024-08-11T05:54:11.017Z"
   },
   {
    "duration": 17,
    "start_time": "2024-08-11T05:54:11.023Z"
   },
   {
    "duration": 20,
    "start_time": "2024-08-11T05:54:11.041Z"
   },
   {
    "duration": 25,
    "start_time": "2024-08-11T05:54:11.063Z"
   },
   {
    "duration": 25,
    "start_time": "2024-08-11T05:54:11.089Z"
   },
   {
    "duration": 52,
    "start_time": "2024-08-11T05:54:11.115Z"
   },
   {
    "duration": 14,
    "start_time": "2024-08-11T05:54:11.169Z"
   },
   {
    "duration": 9,
    "start_time": "2024-08-11T05:54:11.184Z"
   },
   {
    "duration": 24,
    "start_time": "2024-08-11T05:54:11.194Z"
   },
   {
    "duration": 23,
    "start_time": "2024-08-11T05:54:11.219Z"
   },
   {
    "duration": 6,
    "start_time": "2024-08-11T05:54:11.244Z"
   },
   {
    "duration": 17,
    "start_time": "2024-08-11T05:54:11.251Z"
   },
   {
    "duration": 62,
    "start_time": "2024-08-11T05:54:11.270Z"
   },
   {
    "duration": 24,
    "start_time": "2024-08-11T05:54:11.334Z"
   },
   {
    "duration": 36,
    "start_time": "2024-08-11T05:54:11.360Z"
   },
   {
    "duration": 41,
    "start_time": "2024-08-11T05:54:11.398Z"
   },
   {
    "duration": 10,
    "start_time": "2024-08-11T05:54:11.441Z"
   },
   {
    "duration": 28,
    "start_time": "2024-08-11T05:54:11.453Z"
   },
   {
    "duration": 22,
    "start_time": "2024-08-11T05:54:11.482Z"
   },
   {
    "duration": 8,
    "start_time": "2024-08-11T05:54:11.506Z"
   },
   {
    "duration": 10,
    "start_time": "2024-08-11T05:54:11.516Z"
   },
   {
    "duration": 22,
    "start_time": "2024-08-11T05:54:11.527Z"
   },
   {
    "duration": 36,
    "start_time": "2024-08-11T05:54:11.551Z"
   },
   {
    "duration": 197,
    "start_time": "2024-08-11T05:54:11.588Z"
   },
   {
    "duration": 10,
    "start_time": "2024-08-11T05:54:11.787Z"
   },
   {
    "duration": 148,
    "start_time": "2024-08-11T05:54:11.799Z"
   },
   {
    "duration": 5,
    "start_time": "2024-08-11T05:54:11.949Z"
   },
   {
    "duration": 8,
    "start_time": "2024-08-11T05:54:11.955Z"
   },
   {
    "duration": 16,
    "start_time": "2024-08-11T05:54:11.965Z"
   },
   {
    "duration": 197,
    "start_time": "2024-08-11T05:54:11.984Z"
   },
   {
    "duration": 320,
    "start_time": "2024-08-11T05:54:12.183Z"
   },
   {
    "duration": 12,
    "start_time": "2024-08-11T05:54:12.504Z"
   },
   {
    "duration": 6,
    "start_time": "2024-08-11T06:22:47.880Z"
   },
   {
    "duration": 5,
    "start_time": "2024-08-11T06:23:03.567Z"
   },
   {
    "duration": 5,
    "start_time": "2024-08-11T06:23:14.541Z"
   },
   {
    "duration": 5,
    "start_time": "2024-08-11T06:24:17.759Z"
   },
   {
    "duration": 211,
    "start_time": "2024-08-11T06:25:34.198Z"
   },
   {
    "duration": 71,
    "start_time": "2024-08-11T06:26:08.569Z"
   },
   {
    "duration": 69,
    "start_time": "2024-08-11T06:26:19.447Z"
   },
   {
    "duration": 257,
    "start_time": "2024-08-11T06:28:07.228Z"
   },
   {
    "duration": 241,
    "start_time": "2024-08-11T06:28:17.076Z"
   },
   {
    "duration": 184,
    "start_time": "2024-08-11T06:30:58.916Z"
   },
   {
    "duration": 106,
    "start_time": "2024-08-11T06:31:12.100Z"
   },
   {
    "duration": 99,
    "start_time": "2024-08-11T06:31:53.522Z"
   },
   {
    "duration": 109,
    "start_time": "2024-08-11T06:32:07.758Z"
   },
   {
    "duration": 114,
    "start_time": "2024-08-11T06:32:23.434Z"
   },
   {
    "duration": 103,
    "start_time": "2024-08-11T06:32:39.394Z"
   },
   {
    "duration": 170,
    "start_time": "2024-08-11T06:32:43.145Z"
   },
   {
    "duration": 107,
    "start_time": "2024-08-11T06:32:58.953Z"
   },
   {
    "duration": 76,
    "start_time": "2024-08-11T06:35:27.285Z"
   },
   {
    "duration": 196,
    "start_time": "2024-08-11T06:37:52.124Z"
   },
   {
    "duration": 117,
    "start_time": "2024-08-11T06:38:43.955Z"
   },
   {
    "duration": 107,
    "start_time": "2024-08-11T06:38:48.900Z"
   },
   {
    "duration": 122,
    "start_time": "2024-08-11T06:39:02.933Z"
   },
   {
    "duration": 110,
    "start_time": "2024-08-11T06:41:40.095Z"
   },
   {
    "duration": 109,
    "start_time": "2024-08-11T06:41:52.627Z"
   },
   {
    "duration": 108,
    "start_time": "2024-08-11T06:42:09.261Z"
   },
   {
    "duration": 17,
    "start_time": "2024-08-11T06:53:49.958Z"
   },
   {
    "duration": 685,
    "start_time": "2024-08-11T07:39:47.531Z"
   },
   {
    "duration": 107,
    "start_time": "2024-08-11T07:39:48.218Z"
   },
   {
    "duration": 5,
    "start_time": "2024-08-11T07:39:48.327Z"
   },
   {
    "duration": 23,
    "start_time": "2024-08-11T07:39:48.334Z"
   },
   {
    "duration": 59,
    "start_time": "2024-08-11T07:39:48.358Z"
   },
   {
    "duration": 36,
    "start_time": "2024-08-11T07:39:48.419Z"
   },
   {
    "duration": 16,
    "start_time": "2024-08-11T07:39:48.457Z"
   },
   {
    "duration": 11,
    "start_time": "2024-08-11T07:39:48.475Z"
   },
   {
    "duration": 61,
    "start_time": "2024-08-11T07:39:48.488Z"
   },
   {
    "duration": 14,
    "start_time": "2024-08-11T07:39:48.554Z"
   },
   {
    "duration": 72,
    "start_time": "2024-08-11T07:39:48.569Z"
   },
   {
    "duration": 33,
    "start_time": "2024-08-11T07:39:48.643Z"
   },
   {
    "duration": 6,
    "start_time": "2024-08-11T07:39:48.678Z"
   },
   {
    "duration": 20,
    "start_time": "2024-08-11T07:39:48.686Z"
   },
   {
    "duration": 15,
    "start_time": "2024-08-11T07:39:48.709Z"
   },
   {
    "duration": 6,
    "start_time": "2024-08-11T07:39:48.727Z"
   },
   {
    "duration": 12,
    "start_time": "2024-08-11T07:39:48.745Z"
   },
   {
    "duration": 12,
    "start_time": "2024-08-11T07:39:48.759Z"
   },
   {
    "duration": 33,
    "start_time": "2024-08-11T07:39:48.773Z"
   },
   {
    "duration": 5,
    "start_time": "2024-08-11T07:39:48.846Z"
   },
   {
    "duration": 22,
    "start_time": "2024-08-11T07:39:48.853Z"
   },
   {
    "duration": 19,
    "start_time": "2024-08-11T07:39:48.877Z"
   },
   {
    "duration": 21,
    "start_time": "2024-08-11T07:39:48.898Z"
   },
   {
    "duration": 11,
    "start_time": "2024-08-11T07:39:48.948Z"
   },
   {
    "duration": 29,
    "start_time": "2024-08-11T07:39:48.961Z"
   },
   {
    "duration": 6,
    "start_time": "2024-08-11T07:39:48.992Z"
   },
   {
    "duration": 28,
    "start_time": "2024-08-11T07:39:49.000Z"
   },
   {
    "duration": 30,
    "start_time": "2024-08-11T07:39:49.032Z"
   },
   {
    "duration": 4,
    "start_time": "2024-08-11T07:39:49.064Z"
   },
   {
    "duration": 26,
    "start_time": "2024-08-11T07:39:49.069Z"
   },
   {
    "duration": 19,
    "start_time": "2024-08-11T07:39:49.097Z"
   },
   {
    "duration": 42,
    "start_time": "2024-08-11T07:39:49.118Z"
   },
   {
    "duration": 26,
    "start_time": "2024-08-11T07:39:49.161Z"
   },
   {
    "duration": 28,
    "start_time": "2024-08-11T07:39:49.188Z"
   },
   {
    "duration": 44,
    "start_time": "2024-08-11T07:39:49.217Z"
   },
   {
    "duration": 101,
    "start_time": "2024-08-11T07:39:49.263Z"
   },
   {
    "duration": 24,
    "start_time": "2024-08-11T07:39:49.366Z"
   },
   {
    "duration": 42,
    "start_time": "2024-08-11T07:39:49.392Z"
   },
   {
    "duration": 39,
    "start_time": "2024-08-11T07:39:49.436Z"
   },
   {
    "duration": 22,
    "start_time": "2024-08-11T07:39:49.476Z"
   },
   {
    "duration": 40,
    "start_time": "2024-08-11T07:39:49.500Z"
   },
   {
    "duration": 61,
    "start_time": "2024-08-11T07:39:49.543Z"
   },
   {
    "duration": 37,
    "start_time": "2024-08-11T07:39:49.607Z"
   },
   {
    "duration": 7,
    "start_time": "2024-08-11T07:39:49.646Z"
   },
   {
    "duration": 27,
    "start_time": "2024-08-11T07:39:49.654Z"
   },
   {
    "duration": 13,
    "start_time": "2024-08-11T07:39:49.683Z"
   },
   {
    "duration": 30,
    "start_time": "2024-08-11T07:39:49.698Z"
   },
   {
    "duration": 19,
    "start_time": "2024-08-11T07:39:49.730Z"
   },
   {
    "duration": 53,
    "start_time": "2024-08-11T07:39:49.750Z"
   },
   {
    "duration": 29,
    "start_time": "2024-08-11T07:39:49.804Z"
   },
   {
    "duration": 36,
    "start_time": "2024-08-11T07:39:49.835Z"
   },
   {
    "duration": 194,
    "start_time": "2024-08-11T07:39:49.873Z"
   },
   {
    "duration": 8,
    "start_time": "2024-08-11T07:39:50.069Z"
   },
   {
    "duration": 177,
    "start_time": "2024-08-11T07:39:50.079Z"
   },
   {
    "duration": 5,
    "start_time": "2024-08-11T07:39:50.258Z"
   },
   {
    "duration": 26,
    "start_time": "2024-08-11T07:39:50.264Z"
   },
   {
    "duration": 36,
    "start_time": "2024-08-11T07:39:50.292Z"
   },
   {
    "duration": 182,
    "start_time": "2024-08-11T07:39:50.330Z"
   },
   {
    "duration": 312,
    "start_time": "2024-08-11T07:39:50.514Z"
   },
   {
    "duration": 22,
    "start_time": "2024-08-11T07:39:50.828Z"
   },
   {
    "duration": 21,
    "start_time": "2024-08-11T07:39:50.852Z"
   },
   {
    "duration": 25,
    "start_time": "2024-08-11T07:39:50.875Z"
   },
   {
    "duration": 12,
    "start_time": "2024-08-11T07:39:50.902Z"
   },
   {
    "duration": 9,
    "start_time": "2024-08-11T07:39:50.916Z"
   },
   {
    "duration": 308,
    "start_time": "2024-08-11T07:39:50.927Z"
   },
   {
    "duration": 131,
    "start_time": "2024-08-11T07:39:51.237Z"
   },
   {
    "duration": 16,
    "start_time": "2024-08-11T07:39:51.369Z"
   },
   {
    "duration": 8,
    "start_time": "2024-08-11T07:43:49.942Z"
   },
   {
    "duration": 72,
    "start_time": "2024-08-11T07:44:34.199Z"
   },
   {
    "duration": 11,
    "start_time": "2024-08-11T07:44:41.639Z"
   },
   {
    "duration": 71,
    "start_time": "2024-08-11T07:45:36.618Z"
   },
   {
    "duration": 11,
    "start_time": "2024-08-11T07:46:30.905Z"
   },
   {
    "duration": 8,
    "start_time": "2024-08-11T07:46:55.082Z"
   },
   {
    "duration": 10,
    "start_time": "2024-08-11T07:47:20.791Z"
   },
   {
    "duration": 79,
    "start_time": "2024-08-11T07:48:33.041Z"
   },
   {
    "duration": 3,
    "start_time": "2024-08-11T07:48:49.877Z"
   },
   {
    "duration": 17,
    "start_time": "2024-08-11T07:49:02.745Z"
   },
   {
    "duration": 9,
    "start_time": "2024-08-11T07:50:10.227Z"
   },
   {
    "duration": 3,
    "start_time": "2024-08-11T07:51:01.348Z"
   },
   {
    "duration": 8,
    "start_time": "2024-08-11T07:51:01.882Z"
   },
   {
    "duration": 269,
    "start_time": "2024-08-11T07:51:09.564Z"
   },
   {
    "duration": 26,
    "start_time": "2024-08-11T07:53:57.557Z"
   },
   {
    "duration": 694,
    "start_time": "2024-08-11T08:26:11.433Z"
   },
   {
    "duration": 109,
    "start_time": "2024-08-11T08:26:12.129Z"
   },
   {
    "duration": 4,
    "start_time": "2024-08-11T08:26:12.240Z"
   },
   {
    "duration": 12,
    "start_time": "2024-08-11T08:26:12.246Z"
   },
   {
    "duration": 52,
    "start_time": "2024-08-11T08:26:12.259Z"
   },
   {
    "duration": 27,
    "start_time": "2024-08-11T08:26:12.313Z"
   },
   {
    "duration": 15,
    "start_time": "2024-08-11T08:26:12.342Z"
   },
   {
    "duration": 11,
    "start_time": "2024-08-11T08:26:12.359Z"
   },
   {
    "duration": 15,
    "start_time": "2024-08-11T08:26:12.372Z"
   },
   {
    "duration": 13,
    "start_time": "2024-08-11T08:26:12.390Z"
   },
   {
    "duration": 12,
    "start_time": "2024-08-11T08:26:12.405Z"
   },
   {
    "duration": 28,
    "start_time": "2024-08-11T08:26:12.419Z"
   },
   {
    "duration": 6,
    "start_time": "2024-08-11T08:26:12.448Z"
   },
   {
    "duration": 6,
    "start_time": "2024-08-11T08:26:12.455Z"
   },
   {
    "duration": 6,
    "start_time": "2024-08-11T08:26:12.463Z"
   },
   {
    "duration": 5,
    "start_time": "2024-08-11T08:26:12.470Z"
   },
   {
    "duration": 17,
    "start_time": "2024-08-11T08:26:12.476Z"
   },
   {
    "duration": 12,
    "start_time": "2024-08-11T08:26:12.495Z"
   },
   {
    "duration": 18,
    "start_time": "2024-08-11T08:26:12.547Z"
   },
   {
    "duration": 6,
    "start_time": "2024-08-11T08:26:12.567Z"
   },
   {
    "duration": 40,
    "start_time": "2024-08-11T08:26:12.575Z"
   },
   {
    "duration": 13,
    "start_time": "2024-08-11T08:26:12.616Z"
   },
   {
    "duration": 22,
    "start_time": "2024-08-11T08:26:12.631Z"
   },
   {
    "duration": 5,
    "start_time": "2024-08-11T08:26:12.654Z"
   },
   {
    "duration": 32,
    "start_time": "2024-08-11T08:26:12.661Z"
   },
   {
    "duration": 3,
    "start_time": "2024-08-11T08:26:12.695Z"
   },
   {
    "duration": 5,
    "start_time": "2024-08-11T08:26:12.700Z"
   },
   {
    "duration": 43,
    "start_time": "2024-08-11T08:26:12.710Z"
   },
   {
    "duration": 4,
    "start_time": "2024-08-11T08:26:12.755Z"
   },
   {
    "duration": 5,
    "start_time": "2024-08-11T08:26:12.760Z"
   },
   {
    "duration": 16,
    "start_time": "2024-08-11T08:26:12.766Z"
   },
   {
    "duration": 26,
    "start_time": "2024-08-11T08:26:12.783Z"
   },
   {
    "duration": 53,
    "start_time": "2024-08-11T08:26:12.810Z"
   },
   {
    "duration": 25,
    "start_time": "2024-08-11T08:26:12.865Z"
   },
   {
    "duration": 14,
    "start_time": "2024-08-11T08:26:12.892Z"
   },
   {
    "duration": 39,
    "start_time": "2024-08-11T08:26:12.907Z"
   },
   {
    "duration": 8,
    "start_time": "2024-08-11T08:26:12.947Z"
   },
   {
    "duration": 12,
    "start_time": "2024-08-11T08:26:12.956Z"
   },
   {
    "duration": 4,
    "start_time": "2024-08-11T08:26:12.969Z"
   },
   {
    "duration": 23,
    "start_time": "2024-08-11T08:26:12.975Z"
   },
   {
    "duration": 22,
    "start_time": "2024-08-11T08:26:13.000Z"
   },
   {
    "duration": 28,
    "start_time": "2024-08-11T08:26:13.023Z"
   },
   {
    "duration": 34,
    "start_time": "2024-08-11T08:26:13.052Z"
   },
   {
    "duration": 17,
    "start_time": "2024-08-11T08:26:13.089Z"
   },
   {
    "duration": 27,
    "start_time": "2024-08-11T08:26:13.108Z"
   },
   {
    "duration": 13,
    "start_time": "2024-08-11T08:26:13.137Z"
   },
   {
    "duration": 13,
    "start_time": "2024-08-11T08:26:13.152Z"
   },
   {
    "duration": 9,
    "start_time": "2024-08-11T08:26:13.167Z"
   },
   {
    "duration": 29,
    "start_time": "2024-08-11T08:26:13.178Z"
   },
   {
    "duration": 26,
    "start_time": "2024-08-11T08:26:13.209Z"
   },
   {
    "duration": 72,
    "start_time": "2024-08-11T08:26:13.237Z"
   },
   {
    "duration": 177,
    "start_time": "2024-08-11T08:26:13.310Z"
   },
   {
    "duration": 8,
    "start_time": "2024-08-11T08:26:13.489Z"
   },
   {
    "duration": 169,
    "start_time": "2024-08-11T08:26:13.499Z"
   },
   {
    "duration": 5,
    "start_time": "2024-08-11T08:26:13.670Z"
   },
   {
    "duration": 10,
    "start_time": "2024-08-11T08:26:13.677Z"
   },
   {
    "duration": 11,
    "start_time": "2024-08-11T08:26:13.689Z"
   },
   {
    "duration": 198,
    "start_time": "2024-08-11T08:26:13.701Z"
   },
   {
    "duration": 291,
    "start_time": "2024-08-11T08:26:13.900Z"
   },
   {
    "duration": 15,
    "start_time": "2024-08-11T08:26:14.193Z"
   },
   {
    "duration": 8,
    "start_time": "2024-08-11T08:26:14.210Z"
   },
   {
    "duration": 27,
    "start_time": "2024-08-11T08:26:14.220Z"
   },
   {
    "duration": 5,
    "start_time": "2024-08-11T08:26:14.249Z"
   },
   {
    "duration": 7,
    "start_time": "2024-08-11T08:26:14.256Z"
   },
   {
    "duration": 323,
    "start_time": "2024-08-11T08:26:14.264Z"
   },
   {
    "duration": 124,
    "start_time": "2024-08-11T08:26:14.589Z"
   },
   {
    "duration": 33,
    "start_time": "2024-08-11T08:26:14.715Z"
   },
   {
    "duration": 8,
    "start_time": "2024-08-11T08:26:14.750Z"
   },
   {
    "duration": 11,
    "start_time": "2024-08-11T08:26:14.760Z"
   },
   {
    "duration": 10,
    "start_time": "2024-08-11T08:26:14.773Z"
   },
   {
    "duration": 6,
    "start_time": "2024-08-11T08:26:14.784Z"
   },
   {
    "duration": 7,
    "start_time": "2024-08-11T08:26:14.792Z"
   },
   {
    "duration": 65,
    "start_time": "2024-08-11T08:26:14.800Z"
   },
   {
    "duration": 5,
    "start_time": "2024-08-11T08:26:14.866Z"
   },
   {
    "duration": 291,
    "start_time": "2024-08-11T08:26:14.872Z"
   },
   {
    "duration": 685,
    "start_time": "2024-08-11T08:35:20.636Z"
   },
   {
    "duration": 112,
    "start_time": "2024-08-11T08:35:21.323Z"
   },
   {
    "duration": 10,
    "start_time": "2024-08-11T08:35:21.437Z"
   },
   {
    "duration": 20,
    "start_time": "2024-08-11T08:35:21.450Z"
   },
   {
    "duration": 53,
    "start_time": "2024-08-11T08:35:21.472Z"
   },
   {
    "duration": 48,
    "start_time": "2024-08-11T08:35:21.528Z"
   },
   {
    "duration": 27,
    "start_time": "2024-08-11T08:35:21.578Z"
   },
   {
    "duration": 39,
    "start_time": "2024-08-11T08:35:21.607Z"
   },
   {
    "duration": 15,
    "start_time": "2024-08-11T08:35:21.648Z"
   },
   {
    "duration": 30,
    "start_time": "2024-08-11T08:35:21.666Z"
   },
   {
    "duration": 13,
    "start_time": "2024-08-11T08:35:21.698Z"
   },
   {
    "duration": 33,
    "start_time": "2024-08-11T08:35:21.713Z"
   },
   {
    "duration": 7,
    "start_time": "2024-08-11T08:35:21.748Z"
   },
   {
    "duration": 7,
    "start_time": "2024-08-11T08:35:21.757Z"
   },
   {
    "duration": 9,
    "start_time": "2024-08-11T08:35:21.766Z"
   },
   {
    "duration": 5,
    "start_time": "2024-08-11T08:35:21.777Z"
   },
   {
    "duration": 67,
    "start_time": "2024-08-11T08:35:21.784Z"
   },
   {
    "duration": 18,
    "start_time": "2024-08-11T08:35:21.854Z"
   },
   {
    "duration": 19,
    "start_time": "2024-08-11T08:35:21.874Z"
   },
   {
    "duration": 6,
    "start_time": "2024-08-11T08:35:21.895Z"
   },
   {
    "duration": 67,
    "start_time": "2024-08-11T08:35:21.904Z"
   },
   {
    "duration": 11,
    "start_time": "2024-08-11T08:35:21.974Z"
   },
   {
    "duration": 23,
    "start_time": "2024-08-11T08:35:21.988Z"
   },
   {
    "duration": 5,
    "start_time": "2024-08-11T08:35:22.014Z"
   },
   {
    "duration": 46,
    "start_time": "2024-08-11T08:35:22.021Z"
   },
   {
    "duration": 8,
    "start_time": "2024-08-11T08:35:22.068Z"
   },
   {
    "duration": 7,
    "start_time": "2024-08-11T08:35:22.078Z"
   },
   {
    "duration": 57,
    "start_time": "2024-08-11T08:35:22.091Z"
   },
   {
    "duration": 6,
    "start_time": "2024-08-11T08:35:22.150Z"
   },
   {
    "duration": 16,
    "start_time": "2024-08-11T08:35:22.158Z"
   },
   {
    "duration": 17,
    "start_time": "2024-08-11T08:35:22.175Z"
   },
   {
    "duration": 61,
    "start_time": "2024-08-11T08:35:22.194Z"
   },
   {
    "duration": 26,
    "start_time": "2024-08-11T08:35:22.257Z"
   },
   {
    "duration": 28,
    "start_time": "2024-08-11T08:35:22.285Z"
   },
   {
    "duration": 52,
    "start_time": "2024-08-11T08:35:22.315Z"
   },
   {
    "duration": 14,
    "start_time": "2024-08-11T08:35:22.369Z"
   },
   {
    "duration": 9,
    "start_time": "2024-08-11T08:35:22.384Z"
   },
   {
    "duration": 14,
    "start_time": "2024-08-11T08:35:22.394Z"
   },
   {
    "duration": 35,
    "start_time": "2024-08-11T08:35:22.410Z"
   },
   {
    "duration": 12,
    "start_time": "2024-08-11T08:35:22.448Z"
   },
   {
    "duration": 53,
    "start_time": "2024-08-11T08:35:22.462Z"
   },
   {
    "duration": 13,
    "start_time": "2024-08-11T08:35:22.517Z"
   },
   {
    "duration": 34,
    "start_time": "2024-08-11T08:35:22.532Z"
   },
   {
    "duration": 13,
    "start_time": "2024-08-11T08:35:22.567Z"
   },
   {
    "duration": 13,
    "start_time": "2024-08-11T08:35:22.581Z"
   },
   {
    "duration": 36,
    "start_time": "2024-08-11T08:35:22.596Z"
   },
   {
    "duration": 40,
    "start_time": "2024-08-11T08:35:22.634Z"
   },
   {
    "duration": 30,
    "start_time": "2024-08-11T08:35:22.675Z"
   },
   {
    "duration": 8,
    "start_time": "2024-08-11T08:35:22.707Z"
   },
   {
    "duration": 37,
    "start_time": "2024-08-11T08:35:22.717Z"
   },
   {
    "duration": 36,
    "start_time": "2024-08-11T08:35:22.756Z"
   },
   {
    "duration": 215,
    "start_time": "2024-08-11T08:35:22.794Z"
   },
   {
    "duration": 8,
    "start_time": "2024-08-11T08:35:23.011Z"
   },
   {
    "duration": 159,
    "start_time": "2024-08-11T08:35:23.021Z"
   },
   {
    "duration": 5,
    "start_time": "2024-08-11T08:35:23.181Z"
   },
   {
    "duration": 4,
    "start_time": "2024-08-11T08:35:23.188Z"
   },
   {
    "duration": 12,
    "start_time": "2024-08-11T08:35:23.194Z"
   },
   {
    "duration": 234,
    "start_time": "2024-08-11T08:35:23.207Z"
   },
   {
    "duration": 325,
    "start_time": "2024-08-11T08:35:23.446Z"
   },
   {
    "duration": 16,
    "start_time": "2024-08-11T08:35:23.773Z"
   },
   {
    "duration": 9,
    "start_time": "2024-08-11T08:35:23.790Z"
   },
   {
    "duration": 14,
    "start_time": "2024-08-11T08:35:23.801Z"
   },
   {
    "duration": 6,
    "start_time": "2024-08-11T08:35:23.846Z"
   },
   {
    "duration": 8,
    "start_time": "2024-08-11T08:35:23.854Z"
   },
   {
    "duration": 340,
    "start_time": "2024-08-11T08:35:23.864Z"
   },
   {
    "duration": 125,
    "start_time": "2024-08-11T08:35:24.205Z"
   },
   {
    "duration": 30,
    "start_time": "2024-08-11T08:35:24.332Z"
   },
   {
    "duration": 8,
    "start_time": "2024-08-11T08:35:24.364Z"
   },
   {
    "duration": 35,
    "start_time": "2024-08-11T08:35:24.374Z"
   },
   {
    "duration": 45,
    "start_time": "2024-08-11T08:35:24.411Z"
   },
   {
    "duration": 14,
    "start_time": "2024-08-11T08:35:24.458Z"
   },
   {
    "duration": 14,
    "start_time": "2024-08-11T08:35:24.474Z"
   },
   {
    "duration": 36,
    "start_time": "2024-08-11T08:35:24.490Z"
   },
   {
    "duration": 6,
    "start_time": "2024-08-11T08:35:24.528Z"
   },
   {
    "duration": 321,
    "start_time": "2024-08-11T08:35:24.537Z"
   },
   {
    "duration": 775,
    "start_time": "2024-08-11T11:07:53.988Z"
   },
   {
    "duration": 138,
    "start_time": "2024-08-11T11:07:54.766Z"
   },
   {
    "duration": 13,
    "start_time": "2024-08-11T11:07:54.908Z"
   },
   {
    "duration": 6,
    "start_time": "2024-08-11T11:07:54.926Z"
   },
   {
    "duration": 46,
    "start_time": "2024-08-11T11:07:54.934Z"
   },
   {
    "duration": 38,
    "start_time": "2024-08-11T11:07:54.982Z"
   },
   {
    "duration": 22,
    "start_time": "2024-08-11T11:07:55.022Z"
   },
   {
    "duration": 50,
    "start_time": "2024-08-11T11:07:55.046Z"
   },
   {
    "duration": 12,
    "start_time": "2024-08-11T11:07:55.097Z"
   },
   {
    "duration": 33,
    "start_time": "2024-08-11T11:07:55.112Z"
   },
   {
    "duration": 15,
    "start_time": "2024-08-11T11:07:55.147Z"
   },
   {
    "duration": 5,
    "start_time": "2024-08-11T11:07:55.163Z"
   },
   {
    "duration": 48,
    "start_time": "2024-08-11T11:07:55.169Z"
   },
   {
    "duration": 11,
    "start_time": "2024-08-11T11:07:55.219Z"
   },
   {
    "duration": 9,
    "start_time": "2024-08-11T11:07:55.231Z"
   },
   {
    "duration": 5,
    "start_time": "2024-08-11T11:07:55.242Z"
   },
   {
    "duration": 15,
    "start_time": "2024-08-11T11:07:55.248Z"
   },
   {
    "duration": 11,
    "start_time": "2024-08-11T11:07:55.265Z"
   },
   {
    "duration": 42,
    "start_time": "2024-08-11T11:07:55.277Z"
   },
   {
    "duration": 5,
    "start_time": "2024-08-11T11:07:55.320Z"
   },
   {
    "duration": 35,
    "start_time": "2024-08-11T11:07:55.327Z"
   },
   {
    "duration": 6,
    "start_time": "2024-08-11T11:07:55.363Z"
   },
   {
    "duration": 9,
    "start_time": "2024-08-11T11:07:55.371Z"
   },
   {
    "duration": 6,
    "start_time": "2024-08-11T11:07:55.382Z"
   },
   {
    "duration": 42,
    "start_time": "2024-08-11T11:07:55.390Z"
   },
   {
    "duration": 4,
    "start_time": "2024-08-11T11:07:55.435Z"
   },
   {
    "duration": 14,
    "start_time": "2024-08-11T11:07:55.441Z"
   },
   {
    "duration": 29,
    "start_time": "2024-08-11T11:07:55.461Z"
   },
   {
    "duration": 7,
    "start_time": "2024-08-11T11:07:55.504Z"
   },
   {
    "duration": 13,
    "start_time": "2024-08-11T11:07:55.513Z"
   },
   {
    "duration": 24,
    "start_time": "2024-08-11T11:07:55.528Z"
   },
   {
    "duration": 27,
    "start_time": "2024-08-11T11:07:55.553Z"
   },
   {
    "duration": 50,
    "start_time": "2024-08-11T11:07:55.582Z"
   },
   {
    "duration": 30,
    "start_time": "2024-08-11T11:07:55.633Z"
   },
   {
    "duration": 55,
    "start_time": "2024-08-11T11:07:55.665Z"
   },
   {
    "duration": 12,
    "start_time": "2024-08-11T11:07:55.724Z"
   },
   {
    "duration": 7,
    "start_time": "2024-08-11T11:07:55.738Z"
   },
   {
    "duration": 31,
    "start_time": "2024-08-11T11:07:55.747Z"
   },
   {
    "duration": 7,
    "start_time": "2024-08-11T11:07:55.780Z"
   },
   {
    "duration": 17,
    "start_time": "2024-08-11T11:07:55.789Z"
   },
   {
    "duration": 36,
    "start_time": "2024-08-11T11:07:55.810Z"
   },
   {
    "duration": 16,
    "start_time": "2024-08-11T11:07:55.848Z"
   },
   {
    "duration": 38,
    "start_time": "2024-08-11T11:07:55.869Z"
   },
   {
    "duration": 7,
    "start_time": "2024-08-11T11:07:55.909Z"
   },
   {
    "duration": 8,
    "start_time": "2024-08-11T11:07:55.918Z"
   },
   {
    "duration": 18,
    "start_time": "2024-08-11T11:07:55.928Z"
   },
   {
    "duration": 23,
    "start_time": "2024-08-11T11:07:55.948Z"
   },
   {
    "duration": 38,
    "start_time": "2024-08-11T11:07:55.973Z"
   },
   {
    "duration": 11,
    "start_time": "2024-08-11T11:07:56.013Z"
   },
   {
    "duration": 36,
    "start_time": "2024-08-11T11:07:56.030Z"
   },
   {
    "duration": 63,
    "start_time": "2024-08-11T11:07:56.068Z"
   },
   {
    "duration": 231,
    "start_time": "2024-08-11T11:07:56.133Z"
   },
   {
    "duration": 10,
    "start_time": "2024-08-11T11:07:56.366Z"
   },
   {
    "duration": 179,
    "start_time": "2024-08-11T11:07:56.378Z"
   },
   {
    "duration": 5,
    "start_time": "2024-08-11T11:07:56.558Z"
   },
   {
    "duration": 6,
    "start_time": "2024-08-11T11:07:56.565Z"
   },
   {
    "duration": 19,
    "start_time": "2024-08-11T11:07:56.572Z"
   },
   {
    "duration": 214,
    "start_time": "2024-08-11T11:07:56.606Z"
   },
   {
    "duration": 335,
    "start_time": "2024-08-11T11:07:56.823Z"
   },
   {
    "duration": 13,
    "start_time": "2024-08-11T11:07:57.160Z"
   },
   {
    "duration": 9,
    "start_time": "2024-08-11T11:07:57.175Z"
   },
   {
    "duration": 40,
    "start_time": "2024-08-11T11:07:57.185Z"
   },
   {
    "duration": 14,
    "start_time": "2024-08-11T11:07:57.227Z"
   },
   {
    "duration": 11,
    "start_time": "2024-08-11T11:07:57.243Z"
   },
   {
    "duration": 358,
    "start_time": "2024-08-11T11:07:57.256Z"
   },
   {
    "duration": 133,
    "start_time": "2024-08-11T11:07:57.616Z"
   },
   {
    "duration": 20,
    "start_time": "2024-08-11T11:07:57.751Z"
   },
   {
    "duration": 34,
    "start_time": "2024-08-11T11:07:57.773Z"
   },
   {
    "duration": 16,
    "start_time": "2024-08-11T11:07:57.811Z"
   },
   {
    "duration": 14,
    "start_time": "2024-08-11T11:07:57.829Z"
   },
   {
    "duration": 8,
    "start_time": "2024-08-11T11:07:57.845Z"
   },
   {
    "duration": 6,
    "start_time": "2024-08-11T11:07:57.855Z"
   },
   {
    "duration": 43,
    "start_time": "2024-08-11T11:07:57.863Z"
   },
   {
    "duration": 7,
    "start_time": "2024-08-11T11:07:57.909Z"
   },
   {
    "duration": 313,
    "start_time": "2024-08-11T11:07:57.918Z"
   },
   {
    "duration": 51,
    "start_time": "2024-08-11T16:27:02.286Z"
   },
   {
    "duration": 835,
    "start_time": "2024-08-11T16:27:07.031Z"
   },
   {
    "duration": 312,
    "start_time": "2024-08-11T16:27:07.868Z"
   },
   {
    "duration": 6,
    "start_time": "2024-08-11T16:27:08.181Z"
   },
   {
    "duration": 12,
    "start_time": "2024-08-11T16:27:08.188Z"
   },
   {
    "duration": 105,
    "start_time": "2024-08-11T16:27:08.202Z"
   },
   {
    "duration": 28,
    "start_time": "2024-08-11T16:27:08.308Z"
   },
   {
    "duration": 16,
    "start_time": "2024-08-11T16:27:08.338Z"
   },
   {
    "duration": 47,
    "start_time": "2024-08-11T16:27:08.355Z"
   },
   {
    "duration": 9,
    "start_time": "2024-08-11T16:27:08.404Z"
   },
   {
    "duration": 18,
    "start_time": "2024-08-11T16:27:08.415Z"
   },
   {
    "duration": 79,
    "start_time": "2024-08-11T16:27:08.435Z"
   },
   {
    "duration": 0,
    "start_time": "2024-08-11T16:27:08.517Z"
   },
   {
    "duration": 0,
    "start_time": "2024-08-11T16:27:08.518Z"
   },
   {
    "duration": 0,
    "start_time": "2024-08-11T16:27:08.519Z"
   },
   {
    "duration": 0,
    "start_time": "2024-08-11T16:27:08.520Z"
   },
   {
    "duration": 0,
    "start_time": "2024-08-11T16:27:08.521Z"
   },
   {
    "duration": 1,
    "start_time": "2024-08-11T16:27:08.522Z"
   },
   {
    "duration": 0,
    "start_time": "2024-08-11T16:27:08.523Z"
   },
   {
    "duration": 0,
    "start_time": "2024-08-11T16:27:08.524Z"
   },
   {
    "duration": 0,
    "start_time": "2024-08-11T16:27:08.525Z"
   },
   {
    "duration": 0,
    "start_time": "2024-08-11T16:27:08.526Z"
   },
   {
    "duration": 0,
    "start_time": "2024-08-11T16:27:08.527Z"
   },
   {
    "duration": 0,
    "start_time": "2024-08-11T16:27:08.528Z"
   },
   {
    "duration": 0,
    "start_time": "2024-08-11T16:27:08.529Z"
   },
   {
    "duration": 0,
    "start_time": "2024-08-11T16:27:08.530Z"
   },
   {
    "duration": 0,
    "start_time": "2024-08-11T16:27:08.531Z"
   },
   {
    "duration": 0,
    "start_time": "2024-08-11T16:27:08.532Z"
   },
   {
    "duration": 0,
    "start_time": "2024-08-11T16:27:08.534Z"
   },
   {
    "duration": 0,
    "start_time": "2024-08-11T16:27:08.535Z"
   },
   {
    "duration": 0,
    "start_time": "2024-08-11T16:27:08.536Z"
   },
   {
    "duration": 0,
    "start_time": "2024-08-11T16:27:08.537Z"
   },
   {
    "duration": 0,
    "start_time": "2024-08-11T16:27:08.538Z"
   },
   {
    "duration": 0,
    "start_time": "2024-08-11T16:27:08.539Z"
   },
   {
    "duration": 0,
    "start_time": "2024-08-11T16:27:08.540Z"
   },
   {
    "duration": 0,
    "start_time": "2024-08-11T16:27:08.541Z"
   },
   {
    "duration": 0,
    "start_time": "2024-08-11T16:27:08.542Z"
   },
   {
    "duration": 0,
    "start_time": "2024-08-11T16:27:08.543Z"
   },
   {
    "duration": 0,
    "start_time": "2024-08-11T16:27:08.544Z"
   },
   {
    "duration": 0,
    "start_time": "2024-08-11T16:27:08.545Z"
   },
   {
    "duration": 0,
    "start_time": "2024-08-11T16:27:08.596Z"
   },
   {
    "duration": 0,
    "start_time": "2024-08-11T16:27:08.597Z"
   },
   {
    "duration": 0,
    "start_time": "2024-08-11T16:27:08.598Z"
   },
   {
    "duration": 0,
    "start_time": "2024-08-11T16:27:08.599Z"
   },
   {
    "duration": 0,
    "start_time": "2024-08-11T16:27:08.600Z"
   },
   {
    "duration": 0,
    "start_time": "2024-08-11T16:27:08.601Z"
   },
   {
    "duration": 0,
    "start_time": "2024-08-11T16:27:08.602Z"
   },
   {
    "duration": 0,
    "start_time": "2024-08-11T16:27:08.603Z"
   },
   {
    "duration": 0,
    "start_time": "2024-08-11T16:27:08.604Z"
   },
   {
    "duration": 0,
    "start_time": "2024-08-11T16:27:08.605Z"
   },
   {
    "duration": 0,
    "start_time": "2024-08-11T16:27:08.607Z"
   },
   {
    "duration": 0,
    "start_time": "2024-08-11T16:27:08.608Z"
   },
   {
    "duration": 0,
    "start_time": "2024-08-11T16:27:08.609Z"
   },
   {
    "duration": 0,
    "start_time": "2024-08-11T16:27:08.610Z"
   },
   {
    "duration": 0,
    "start_time": "2024-08-11T16:27:08.612Z"
   },
   {
    "duration": 0,
    "start_time": "2024-08-11T16:27:08.613Z"
   },
   {
    "duration": 1,
    "start_time": "2024-08-11T16:27:08.614Z"
   },
   {
    "duration": 0,
    "start_time": "2024-08-11T16:27:08.616Z"
   },
   {
    "duration": 0,
    "start_time": "2024-08-11T16:27:08.617Z"
   },
   {
    "duration": 0,
    "start_time": "2024-08-11T16:27:08.619Z"
   },
   {
    "duration": 0,
    "start_time": "2024-08-11T16:27:08.620Z"
   },
   {
    "duration": 0,
    "start_time": "2024-08-11T16:27:08.622Z"
   },
   {
    "duration": 0,
    "start_time": "2024-08-11T16:27:08.623Z"
   },
   {
    "duration": 0,
    "start_time": "2024-08-11T16:27:08.625Z"
   },
   {
    "duration": 0,
    "start_time": "2024-08-11T16:27:08.626Z"
   },
   {
    "duration": 0,
    "start_time": "2024-08-11T16:27:08.627Z"
   },
   {
    "duration": 0,
    "start_time": "2024-08-11T16:27:08.629Z"
   },
   {
    "duration": 0,
    "start_time": "2024-08-11T16:27:08.630Z"
   },
   {
    "duration": 0,
    "start_time": "2024-08-11T16:27:08.700Z"
   },
   {
    "duration": 0,
    "start_time": "2024-08-11T16:27:08.701Z"
   },
   {
    "duration": 0,
    "start_time": "2024-08-11T16:27:08.703Z"
   },
   {
    "duration": 1,
    "start_time": "2024-08-11T16:27:08.704Z"
   },
   {
    "duration": 0,
    "start_time": "2024-08-11T16:27:08.706Z"
   },
   {
    "duration": 0,
    "start_time": "2024-08-11T16:27:08.707Z"
   },
   {
    "duration": 0,
    "start_time": "2024-08-11T16:27:08.708Z"
   },
   {
    "duration": 0,
    "start_time": "2024-08-11T16:27:08.710Z"
   },
   {
    "duration": 0,
    "start_time": "2024-08-11T16:27:08.711Z"
   },
   {
    "duration": 4,
    "start_time": "2024-08-11T16:28:34.808Z"
   },
   {
    "duration": 669,
    "start_time": "2024-08-11T16:28:56.460Z"
   },
   {
    "duration": 119,
    "start_time": "2024-08-11T16:28:57.130Z"
   },
   {
    "duration": 5,
    "start_time": "2024-08-11T16:28:57.251Z"
   },
   {
    "duration": 5,
    "start_time": "2024-08-11T16:28:57.258Z"
   },
   {
    "duration": 48,
    "start_time": "2024-08-11T16:28:57.264Z"
   },
   {
    "duration": 33,
    "start_time": "2024-08-11T16:28:57.314Z"
   },
   {
    "duration": 17,
    "start_time": "2024-08-11T16:28:57.349Z"
   },
   {
    "duration": 33,
    "start_time": "2024-08-11T16:28:57.368Z"
   },
   {
    "duration": 18,
    "start_time": "2024-08-11T16:28:57.402Z"
   },
   {
    "duration": 16,
    "start_time": "2024-08-11T16:28:57.424Z"
   },
   {
    "duration": 10,
    "start_time": "2024-08-11T16:28:57.442Z"
   },
   {
    "duration": 45,
    "start_time": "2024-08-11T16:28:57.454Z"
   },
   {
    "duration": 6,
    "start_time": "2024-08-11T16:28:57.500Z"
   },
   {
    "duration": 13,
    "start_time": "2024-08-11T16:28:57.508Z"
   },
   {
    "duration": 5,
    "start_time": "2024-08-11T16:28:57.522Z"
   },
   {
    "duration": 8,
    "start_time": "2024-08-11T16:28:57.529Z"
   },
   {
    "duration": 6,
    "start_time": "2024-08-11T16:28:57.538Z"
   },
   {
    "duration": 52,
    "start_time": "2024-08-11T16:28:57.545Z"
   },
   {
    "duration": 12,
    "start_time": "2024-08-11T16:28:57.599Z"
   },
   {
    "duration": 18,
    "start_time": "2024-08-11T16:28:57.613Z"
   },
   {
    "duration": 4,
    "start_time": "2024-08-11T16:28:57.632Z"
   },
   {
    "duration": 23,
    "start_time": "2024-08-11T16:28:57.638Z"
   },
   {
    "duration": 33,
    "start_time": "2024-08-11T16:28:57.663Z"
   },
   {
    "duration": 13,
    "start_time": "2024-08-11T16:28:57.698Z"
   },
   {
    "duration": 9,
    "start_time": "2024-08-11T16:28:57.713Z"
   },
   {
    "duration": 28,
    "start_time": "2024-08-11T16:28:57.723Z"
   },
   {
    "duration": 4,
    "start_time": "2024-08-11T16:28:57.753Z"
   },
   {
    "duration": 8,
    "start_time": "2024-08-11T16:28:57.761Z"
   },
   {
    "duration": 43,
    "start_time": "2024-08-11T16:28:57.770Z"
   },
   {
    "duration": 6,
    "start_time": "2024-08-11T16:28:57.815Z"
   },
   {
    "duration": 6,
    "start_time": "2024-08-11T16:28:57.823Z"
   },
   {
    "duration": 13,
    "start_time": "2024-08-11T16:28:57.830Z"
   },
   {
    "duration": 65,
    "start_time": "2024-08-11T16:28:57.845Z"
   },
   {
    "duration": 27,
    "start_time": "2024-08-11T16:28:57.912Z"
   },
   {
    "duration": 28,
    "start_time": "2024-08-11T16:28:57.940Z"
   },
   {
    "duration": 44,
    "start_time": "2024-08-11T16:28:57.969Z"
   },
   {
    "duration": 5,
    "start_time": "2024-08-11T16:28:58.015Z"
   },
   {
    "duration": 6,
    "start_time": "2024-08-11T16:28:58.021Z"
   },
   {
    "duration": 10,
    "start_time": "2024-08-11T16:28:58.029Z"
   },
   {
    "duration": 8,
    "start_time": "2024-08-11T16:28:58.041Z"
   },
   {
    "duration": 9,
    "start_time": "2024-08-11T16:28:58.050Z"
   },
   {
    "duration": 21,
    "start_time": "2024-08-11T16:28:58.096Z"
   },
   {
    "duration": 8,
    "start_time": "2024-08-11T16:28:58.119Z"
   },
   {
    "duration": 31,
    "start_time": "2024-08-11T16:28:58.129Z"
   },
   {
    "duration": 34,
    "start_time": "2024-08-11T16:28:58.162Z"
   },
   {
    "duration": 3,
    "start_time": "2024-08-11T16:28:58.198Z"
   },
   {
    "duration": 12,
    "start_time": "2024-08-11T16:28:58.202Z"
   },
   {
    "duration": 18,
    "start_time": "2024-08-11T16:28:58.215Z"
   },
   {
    "duration": 9,
    "start_time": "2024-08-11T16:28:58.234Z"
   },
   {
    "duration": 5,
    "start_time": "2024-08-11T16:28:58.245Z"
   },
   {
    "duration": 62,
    "start_time": "2024-08-11T16:28:58.252Z"
   },
   {
    "duration": 39,
    "start_time": "2024-08-11T16:28:58.316Z"
   },
   {
    "duration": 211,
    "start_time": "2024-08-11T16:28:58.356Z"
   },
   {
    "duration": 9,
    "start_time": "2024-08-11T16:28:58.569Z"
   },
   {
    "duration": 163,
    "start_time": "2024-08-11T16:28:58.579Z"
   },
   {
    "duration": 4,
    "start_time": "2024-08-11T16:28:58.744Z"
   },
   {
    "duration": 79,
    "start_time": "2024-08-11T16:28:58.749Z"
   },
   {
    "duration": 11,
    "start_time": "2024-08-11T16:28:58.830Z"
   },
   {
    "duration": 183,
    "start_time": "2024-08-11T16:28:58.843Z"
   },
   {
    "duration": 295,
    "start_time": "2024-08-11T16:28:59.027Z"
   },
   {
    "duration": 13,
    "start_time": "2024-08-11T16:28:59.324Z"
   },
   {
    "duration": 9,
    "start_time": "2024-08-11T16:28:59.339Z"
   },
   {
    "duration": 5,
    "start_time": "2024-08-11T16:28:59.350Z"
   },
   {
    "duration": 41,
    "start_time": "2024-08-11T16:28:59.356Z"
   },
   {
    "duration": 6,
    "start_time": "2024-08-11T16:28:59.398Z"
   },
   {
    "duration": 320,
    "start_time": "2024-08-11T16:28:59.405Z"
   },
   {
    "duration": 125,
    "start_time": "2024-08-11T16:28:59.727Z"
   },
   {
    "duration": 16,
    "start_time": "2024-08-11T16:28:59.854Z"
   },
   {
    "duration": 32,
    "start_time": "2024-08-11T16:28:59.872Z"
   },
   {
    "duration": 10,
    "start_time": "2024-08-11T16:28:59.906Z"
   },
   {
    "duration": 10,
    "start_time": "2024-08-11T16:28:59.917Z"
   },
   {
    "duration": 6,
    "start_time": "2024-08-11T16:28:59.928Z"
   },
   {
    "duration": 3,
    "start_time": "2024-08-11T16:28:59.936Z"
   },
   {
    "duration": 15,
    "start_time": "2024-08-11T16:28:59.996Z"
   },
   {
    "duration": 12,
    "start_time": "2024-08-11T16:29:00.013Z"
   },
   {
    "duration": 316,
    "start_time": "2024-08-11T16:29:00.026Z"
   },
   {
    "duration": 4,
    "start_time": "2024-08-11T16:31:33.486Z"
   },
   {
    "duration": 673,
    "start_time": "2024-08-11T16:31:44.106Z"
   },
   {
    "duration": 110,
    "start_time": "2024-08-11T16:31:44.781Z"
   },
   {
    "duration": 6,
    "start_time": "2024-08-11T16:31:44.892Z"
   },
   {
    "duration": 5,
    "start_time": "2024-08-11T16:31:44.900Z"
   },
   {
    "duration": 46,
    "start_time": "2024-08-11T16:31:44.906Z"
   },
   {
    "duration": 28,
    "start_time": "2024-08-11T16:31:44.954Z"
   },
   {
    "duration": 24,
    "start_time": "2024-08-11T16:31:44.983Z"
   },
   {
    "duration": 44,
    "start_time": "2024-08-11T16:31:45.008Z"
   },
   {
    "duration": 43,
    "start_time": "2024-08-11T16:31:45.054Z"
   },
   {
    "duration": 32,
    "start_time": "2024-08-11T16:31:45.099Z"
   },
   {
    "duration": 42,
    "start_time": "2024-08-11T16:31:45.133Z"
   },
   {
    "duration": 22,
    "start_time": "2024-08-11T16:31:45.176Z"
   },
   {
    "duration": 36,
    "start_time": "2024-08-11T16:31:45.199Z"
   },
   {
    "duration": 25,
    "start_time": "2024-08-11T16:31:45.237Z"
   },
   {
    "duration": 36,
    "start_time": "2024-08-11T16:31:45.264Z"
   },
   {
    "duration": 38,
    "start_time": "2024-08-11T16:31:45.302Z"
   },
   {
    "duration": 23,
    "start_time": "2024-08-11T16:31:45.342Z"
   },
   {
    "duration": 17,
    "start_time": "2024-08-11T16:31:45.366Z"
   },
   {
    "duration": 23,
    "start_time": "2024-08-11T16:31:45.385Z"
   },
   {
    "duration": 32,
    "start_time": "2024-08-11T16:31:45.411Z"
   },
   {
    "duration": 20,
    "start_time": "2024-08-11T16:31:45.444Z"
   },
   {
    "duration": 4,
    "start_time": "2024-08-11T16:31:45.465Z"
   },
   {
    "duration": 33,
    "start_time": "2024-08-11T16:31:45.471Z"
   },
   {
    "duration": 5,
    "start_time": "2024-08-11T16:31:45.507Z"
   },
   {
    "duration": 16,
    "start_time": "2024-08-11T16:31:45.514Z"
   },
   {
    "duration": 10,
    "start_time": "2024-08-11T16:31:45.533Z"
   },
   {
    "duration": 53,
    "start_time": "2024-08-11T16:31:45.545Z"
   },
   {
    "duration": 5,
    "start_time": "2024-08-11T16:31:45.602Z"
   },
   {
    "duration": 6,
    "start_time": "2024-08-11T16:31:45.608Z"
   },
   {
    "duration": 28,
    "start_time": "2024-08-11T16:31:45.616Z"
   },
   {
    "duration": 4,
    "start_time": "2024-08-11T16:31:45.646Z"
   },
   {
    "duration": 10,
    "start_time": "2024-08-11T16:31:45.651Z"
   },
   {
    "duration": 34,
    "start_time": "2024-08-11T16:31:45.663Z"
   },
   {
    "duration": 26,
    "start_time": "2024-08-11T16:31:45.698Z"
   },
   {
    "duration": 25,
    "start_time": "2024-08-11T16:31:45.726Z"
   },
   {
    "duration": 55,
    "start_time": "2024-08-11T16:31:45.753Z"
   },
   {
    "duration": 17,
    "start_time": "2024-08-11T16:31:45.809Z"
   },
   {
    "duration": 8,
    "start_time": "2024-08-11T16:31:45.828Z"
   },
   {
    "duration": 7,
    "start_time": "2024-08-11T16:31:45.838Z"
   },
   {
    "duration": 10,
    "start_time": "2024-08-11T16:31:45.846Z"
   },
   {
    "duration": 39,
    "start_time": "2024-08-11T16:31:45.858Z"
   },
   {
    "duration": 10,
    "start_time": "2024-08-11T16:31:45.899Z"
   },
   {
    "duration": 21,
    "start_time": "2024-08-11T16:31:45.911Z"
   },
   {
    "duration": 9,
    "start_time": "2024-08-11T16:31:45.934Z"
   },
   {
    "duration": 61,
    "start_time": "2024-08-11T16:31:45.945Z"
   },
   {
    "duration": 24,
    "start_time": "2024-08-11T16:31:46.008Z"
   },
   {
    "duration": 4,
    "start_time": "2024-08-11T16:31:46.034Z"
   },
   {
    "duration": 47,
    "start_time": "2024-08-11T16:31:46.040Z"
   },
   {
    "duration": 15,
    "start_time": "2024-08-11T16:31:46.089Z"
   },
   {
    "duration": 9,
    "start_time": "2024-08-11T16:31:46.106Z"
   },
   {
    "duration": 8,
    "start_time": "2024-08-11T16:31:46.117Z"
   },
   {
    "duration": 22,
    "start_time": "2024-08-11T16:31:46.126Z"
   },
   {
    "duration": 81,
    "start_time": "2024-08-11T16:31:46.150Z"
   },
   {
    "duration": 195,
    "start_time": "2024-08-11T16:31:46.232Z"
   },
   {
    "duration": 9,
    "start_time": "2024-08-11T16:31:46.428Z"
   },
   {
    "duration": 155,
    "start_time": "2024-08-11T16:31:46.439Z"
   },
   {
    "duration": 5,
    "start_time": "2024-08-11T16:31:46.595Z"
   },
   {
    "duration": 5,
    "start_time": "2024-08-11T16:31:46.602Z"
   },
   {
    "duration": 8,
    "start_time": "2024-08-11T16:31:46.609Z"
   },
   {
    "duration": 198,
    "start_time": "2024-08-11T16:31:46.618Z"
   },
   {
    "duration": 287,
    "start_time": "2024-08-11T16:31:46.818Z"
   },
   {
    "duration": 12,
    "start_time": "2024-08-11T16:31:47.107Z"
   },
   {
    "duration": 5,
    "start_time": "2024-08-11T16:31:47.121Z"
   },
   {
    "duration": 4,
    "start_time": "2024-08-11T16:31:47.128Z"
   },
   {
    "duration": 28,
    "start_time": "2024-08-11T16:31:47.134Z"
   },
   {
    "duration": 4,
    "start_time": "2024-08-11T16:31:47.163Z"
   },
   {
    "duration": 310,
    "start_time": "2024-08-11T16:31:47.169Z"
   },
   {
    "duration": 125,
    "start_time": "2024-08-11T16:31:47.481Z"
   },
   {
    "duration": 16,
    "start_time": "2024-08-11T16:31:47.608Z"
   },
   {
    "duration": 10,
    "start_time": "2024-08-11T16:31:47.625Z"
   },
   {
    "duration": 30,
    "start_time": "2024-08-11T16:31:47.637Z"
   },
   {
    "duration": 32,
    "start_time": "2024-08-11T16:31:47.669Z"
   },
   {
    "duration": 6,
    "start_time": "2024-08-11T16:31:47.702Z"
   },
   {
    "duration": 8,
    "start_time": "2024-08-11T16:31:47.709Z"
   },
   {
    "duration": 21,
    "start_time": "2024-08-11T16:31:47.718Z"
   },
   {
    "duration": 14,
    "start_time": "2024-08-11T16:31:47.741Z"
   },
   {
    "duration": 286,
    "start_time": "2024-08-11T16:31:47.757Z"
   },
   {
    "duration": 16,
    "start_time": "2024-08-11T16:35:21.036Z"
   },
   {
    "duration": 709,
    "start_time": "2024-08-11T16:35:45.177Z"
   },
   {
    "duration": 110,
    "start_time": "2024-08-11T16:35:45.888Z"
   },
   {
    "duration": 5,
    "start_time": "2024-08-11T16:35:45.999Z"
   },
   {
    "duration": 43,
    "start_time": "2024-08-11T16:35:46.007Z"
   },
   {
    "duration": 59,
    "start_time": "2024-08-11T16:35:46.051Z"
   },
   {
    "duration": 26,
    "start_time": "2024-08-11T16:35:46.112Z"
   },
   {
    "duration": 16,
    "start_time": "2024-08-11T16:35:46.139Z"
   },
   {
    "duration": 7,
    "start_time": "2024-08-11T16:35:46.156Z"
   },
   {
    "duration": 10,
    "start_time": "2024-08-11T16:35:46.196Z"
   },
   {
    "duration": 8,
    "start_time": "2024-08-11T16:35:46.210Z"
   },
   {
    "duration": 16,
    "start_time": "2024-08-11T16:35:46.220Z"
   },
   {
    "duration": 16,
    "start_time": "2024-08-11T16:35:46.237Z"
   },
   {
    "duration": 49,
    "start_time": "2024-08-11T16:35:46.255Z"
   },
   {
    "duration": 5,
    "start_time": "2024-08-11T16:35:46.305Z"
   },
   {
    "duration": 8,
    "start_time": "2024-08-11T16:35:46.312Z"
   },
   {
    "duration": 5,
    "start_time": "2024-08-11T16:35:46.322Z"
   },
   {
    "duration": 21,
    "start_time": "2024-08-11T16:35:46.328Z"
   },
   {
    "duration": 5,
    "start_time": "2024-08-11T16:35:46.351Z"
   },
   {
    "duration": 13,
    "start_time": "2024-08-11T16:35:46.357Z"
   },
   {
    "duration": 11,
    "start_time": "2024-08-11T16:35:46.396Z"
   },
   {
    "duration": 59,
    "start_time": "2024-08-11T16:35:46.409Z"
   },
   {
    "duration": 4,
    "start_time": "2024-08-11T16:35:46.469Z"
   },
   {
    "duration": 46,
    "start_time": "2024-08-11T16:35:46.475Z"
   },
   {
    "duration": 20,
    "start_time": "2024-08-11T16:35:46.524Z"
   },
   {
    "duration": 17,
    "start_time": "2024-08-11T16:35:46.545Z"
   },
   {
    "duration": 6,
    "start_time": "2024-08-11T16:35:46.564Z"
   },
   {
    "duration": 27,
    "start_time": "2024-08-11T16:35:46.571Z"
   },
   {
    "duration": 3,
    "start_time": "2024-08-11T16:35:46.603Z"
   },
   {
    "duration": 22,
    "start_time": "2024-08-11T16:35:46.608Z"
   },
   {
    "duration": 21,
    "start_time": "2024-08-11T16:35:46.632Z"
   },
   {
    "duration": 5,
    "start_time": "2024-08-11T16:35:46.655Z"
   },
   {
    "duration": 12,
    "start_time": "2024-08-11T16:35:46.662Z"
   },
   {
    "duration": 27,
    "start_time": "2024-08-11T16:35:46.676Z"
   },
   {
    "duration": 28,
    "start_time": "2024-08-11T16:35:46.705Z"
   },
   {
    "duration": 26,
    "start_time": "2024-08-11T16:35:46.735Z"
   },
   {
    "duration": 56,
    "start_time": "2024-08-11T16:35:46.763Z"
   },
   {
    "duration": 51,
    "start_time": "2024-08-11T16:35:46.820Z"
   },
   {
    "duration": 5,
    "start_time": "2024-08-11T16:35:46.873Z"
   },
   {
    "duration": 12,
    "start_time": "2024-08-11T16:35:46.879Z"
   },
   {
    "duration": 11,
    "start_time": "2024-08-11T16:35:46.893Z"
   },
   {
    "duration": 4,
    "start_time": "2024-08-11T16:35:46.906Z"
   },
   {
    "duration": 8,
    "start_time": "2024-08-11T16:35:46.912Z"
   },
   {
    "duration": 20,
    "start_time": "2024-08-11T16:35:46.921Z"
   },
   {
    "duration": 9,
    "start_time": "2024-08-11T16:35:46.942Z"
   },
   {
    "duration": 55,
    "start_time": "2024-08-11T16:35:46.953Z"
   },
   {
    "duration": 6,
    "start_time": "2024-08-11T16:35:47.010Z"
   },
   {
    "duration": 3,
    "start_time": "2024-08-11T16:35:47.017Z"
   },
   {
    "duration": 12,
    "start_time": "2024-08-11T16:35:47.021Z"
   },
   {
    "duration": 17,
    "start_time": "2024-08-11T16:35:47.034Z"
   },
   {
    "duration": 47,
    "start_time": "2024-08-11T16:35:47.052Z"
   },
   {
    "duration": 31,
    "start_time": "2024-08-11T16:35:47.100Z"
   },
   {
    "duration": 69,
    "start_time": "2024-08-11T16:35:47.132Z"
   },
   {
    "duration": 38,
    "start_time": "2024-08-11T16:35:47.203Z"
   },
   {
    "duration": 200,
    "start_time": "2024-08-11T16:35:47.242Z"
   },
   {
    "duration": 11,
    "start_time": "2024-08-11T16:35:47.445Z"
   },
   {
    "duration": 149,
    "start_time": "2024-08-11T16:35:47.458Z"
   },
   {
    "duration": 4,
    "start_time": "2024-08-11T16:35:47.608Z"
   },
   {
    "duration": 5,
    "start_time": "2024-08-11T16:35:47.614Z"
   },
   {
    "duration": 9,
    "start_time": "2024-08-11T16:35:47.620Z"
   },
   {
    "duration": 193,
    "start_time": "2024-08-11T16:35:47.630Z"
   },
   {
    "duration": 332,
    "start_time": "2024-08-11T16:35:47.825Z"
   },
   {
    "duration": 12,
    "start_time": "2024-08-11T16:35:48.159Z"
   },
   {
    "duration": 25,
    "start_time": "2024-08-11T16:35:48.172Z"
   },
   {
    "duration": 5,
    "start_time": "2024-08-11T16:35:48.198Z"
   },
   {
    "duration": 10,
    "start_time": "2024-08-11T16:35:48.204Z"
   },
   {
    "duration": 6,
    "start_time": "2024-08-11T16:35:48.215Z"
   },
   {
    "duration": 260,
    "start_time": "2024-08-11T16:35:48.222Z"
   },
   {
    "duration": 125,
    "start_time": "2024-08-11T16:35:48.484Z"
   },
   {
    "duration": 14,
    "start_time": "2024-08-11T16:35:48.611Z"
   },
   {
    "duration": 7,
    "start_time": "2024-08-11T16:35:48.627Z"
   },
   {
    "duration": 10,
    "start_time": "2024-08-11T16:35:48.635Z"
   },
   {
    "duration": 51,
    "start_time": "2024-08-11T16:35:48.646Z"
   },
   {
    "duration": 6,
    "start_time": "2024-08-11T16:35:48.699Z"
   },
   {
    "duration": 4,
    "start_time": "2024-08-11T16:35:48.706Z"
   },
   {
    "duration": 34,
    "start_time": "2024-08-11T16:35:48.711Z"
   },
   {
    "duration": 5,
    "start_time": "2024-08-11T16:35:48.747Z"
   },
   {
    "duration": 277,
    "start_time": "2024-08-11T16:35:48.754Z"
   },
   {
    "duration": 47,
    "start_time": "2024-08-11T16:37:45.856Z"
   },
   {
    "duration": 3,
    "start_time": "2024-08-11T16:43:32.521Z"
   },
   {
    "duration": 2,
    "start_time": "2024-08-11T16:43:32.760Z"
   },
   {
    "duration": 2,
    "start_time": "2024-08-11T16:43:32.989Z"
   },
   {
    "duration": 2,
    "start_time": "2024-08-11T16:43:33.167Z"
   },
   {
    "duration": 2,
    "start_time": "2024-08-11T16:43:33.816Z"
   },
   {
    "duration": 2,
    "start_time": "2024-08-11T16:43:34.067Z"
   },
   {
    "duration": 6,
    "start_time": "2024-08-11T16:45:58.315Z"
   },
   {
    "duration": 6,
    "start_time": "2024-08-11T16:45:59.866Z"
   },
   {
    "duration": 10,
    "start_time": "2024-08-11T16:46:00.384Z"
   },
   {
    "duration": 5,
    "start_time": "2024-08-11T16:46:04.807Z"
   },
   {
    "duration": 7,
    "start_time": "2024-08-11T16:46:11.942Z"
   },
   {
    "duration": 6,
    "start_time": "2024-08-11T16:46:14.628Z"
   },
   {
    "duration": 7,
    "start_time": "2024-08-11T16:46:15.760Z"
   },
   {
    "duration": 9,
    "start_time": "2024-08-11T16:46:22.005Z"
   },
   {
    "duration": 5,
    "start_time": "2024-08-11T16:46:24.234Z"
   },
   {
    "duration": 6,
    "start_time": "2024-08-11T16:46:25.266Z"
   },
   {
    "duration": 5,
    "start_time": "2024-08-11T16:46:27.742Z"
   },
   {
    "duration": 5,
    "start_time": "2024-08-11T16:46:28.673Z"
   },
   {
    "duration": 8,
    "start_time": "2024-08-11T16:46:31.033Z"
   },
   {
    "duration": 50,
    "start_time": "2024-08-11T16:47:19.611Z"
   },
   {
    "duration": 44,
    "start_time": "2024-08-11T16:47:32.549Z"
   },
   {
    "duration": 73,
    "start_time": "2024-08-11T16:47:44.662Z"
   },
   {
    "duration": 6,
    "start_time": "2024-08-11T16:47:52.284Z"
   },
   {
    "duration": 63,
    "start_time": "2024-08-11T16:57:48.202Z"
   },
   {
    "duration": 629,
    "start_time": "2024-08-11T16:58:43.039Z"
   },
   {
    "duration": 103,
    "start_time": "2024-08-11T16:58:43.670Z"
   },
   {
    "duration": 18,
    "start_time": "2024-08-11T16:58:43.778Z"
   },
   {
    "duration": 5,
    "start_time": "2024-08-11T16:58:43.798Z"
   },
   {
    "duration": 46,
    "start_time": "2024-08-11T16:58:43.804Z"
   },
   {
    "duration": 27,
    "start_time": "2024-08-11T16:58:43.852Z"
   },
   {
    "duration": 20,
    "start_time": "2024-08-11T16:58:43.880Z"
   },
   {
    "duration": 34,
    "start_time": "2024-08-11T16:58:43.901Z"
   },
   {
    "duration": 9,
    "start_time": "2024-08-11T16:58:43.937Z"
   },
   {
    "duration": 4,
    "start_time": "2024-08-11T16:58:43.947Z"
   },
   {
    "duration": 13,
    "start_time": "2024-08-11T16:58:43.952Z"
   },
   {
    "duration": 13,
    "start_time": "2024-08-11T16:58:43.967Z"
   },
   {
    "duration": 22,
    "start_time": "2024-08-11T16:58:43.981Z"
   },
   {
    "duration": 4,
    "start_time": "2024-08-11T16:58:44.005Z"
   },
   {
    "duration": 27,
    "start_time": "2024-08-11T16:58:44.011Z"
   },
   {
    "duration": 7,
    "start_time": "2024-08-11T16:58:44.040Z"
   },
   {
    "duration": 7,
    "start_time": "2024-08-11T16:58:44.049Z"
   },
   {
    "duration": 5,
    "start_time": "2024-08-11T16:58:44.057Z"
   },
   {
    "duration": 86,
    "start_time": "2024-08-11T16:58:44.063Z"
   },
   {
    "duration": 10,
    "start_time": "2024-08-11T16:58:44.150Z"
   },
   {
    "duration": 16,
    "start_time": "2024-08-11T16:58:44.162Z"
   },
   {
    "duration": 4,
    "start_time": "2024-08-11T16:58:44.180Z"
   },
   {
    "duration": 21,
    "start_time": "2024-08-11T16:58:44.186Z"
   },
   {
    "duration": 18,
    "start_time": "2024-08-11T16:58:44.208Z"
   },
   {
    "duration": 14,
    "start_time": "2024-08-11T16:58:44.228Z"
   },
   {
    "duration": 13,
    "start_time": "2024-08-11T16:58:44.243Z"
   },
   {
    "duration": 16,
    "start_time": "2024-08-11T16:58:44.260Z"
   },
   {
    "duration": 4,
    "start_time": "2024-08-11T16:58:44.277Z"
   },
   {
    "duration": 15,
    "start_time": "2024-08-11T16:58:44.282Z"
   },
   {
    "duration": 17,
    "start_time": "2024-08-11T16:58:44.299Z"
   },
   {
    "duration": 3,
    "start_time": "2024-08-11T16:58:44.318Z"
   },
   {
    "duration": 12,
    "start_time": "2024-08-11T16:58:44.322Z"
   },
   {
    "duration": 14,
    "start_time": "2024-08-11T16:58:44.335Z"
   },
   {
    "duration": 57,
    "start_time": "2024-08-11T16:58:44.351Z"
   },
   {
    "duration": 24,
    "start_time": "2024-08-11T16:58:44.409Z"
   },
   {
    "duration": 25,
    "start_time": "2024-08-11T16:58:44.435Z"
   },
   {
    "duration": 35,
    "start_time": "2024-08-11T16:58:44.462Z"
   },
   {
    "duration": 49,
    "start_time": "2024-08-11T16:58:44.498Z"
   },
   {
    "duration": 6,
    "start_time": "2024-08-11T16:58:44.549Z"
   },
   {
    "duration": 10,
    "start_time": "2024-08-11T16:58:44.556Z"
   },
   {
    "duration": 12,
    "start_time": "2024-08-11T16:58:44.567Z"
   },
   {
    "duration": 4,
    "start_time": "2024-08-11T16:58:44.580Z"
   },
   {
    "duration": 12,
    "start_time": "2024-08-11T16:58:44.585Z"
   },
   {
    "duration": 60,
    "start_time": "2024-08-11T16:58:44.598Z"
   },
   {
    "duration": 5,
    "start_time": "2024-08-11T16:58:44.660Z"
   },
   {
    "duration": 6,
    "start_time": "2024-08-11T16:58:44.666Z"
   },
   {
    "duration": 8,
    "start_time": "2024-08-11T16:58:44.696Z"
   },
   {
    "duration": 5,
    "start_time": "2024-08-11T16:58:44.706Z"
   },
   {
    "duration": 6,
    "start_time": "2024-08-11T16:58:44.712Z"
   },
   {
    "duration": 4,
    "start_time": "2024-08-11T16:58:44.720Z"
   },
   {
    "duration": 4,
    "start_time": "2024-08-11T16:58:44.725Z"
   },
   {
    "duration": 7,
    "start_time": "2024-08-11T16:58:44.731Z"
   },
   {
    "duration": 71,
    "start_time": "2024-08-11T16:58:44.739Z"
   },
   {
    "duration": 7,
    "start_time": "2024-08-11T16:58:44.811Z"
   },
   {
    "duration": 26,
    "start_time": "2024-08-11T16:58:44.820Z"
   },
   {
    "duration": 10,
    "start_time": "2024-08-11T16:58:44.847Z"
   },
   {
    "duration": 5,
    "start_time": "2024-08-11T16:58:44.858Z"
   },
   {
    "duration": 31,
    "start_time": "2024-08-11T16:58:44.865Z"
   },
   {
    "duration": 14,
    "start_time": "2024-08-11T16:58:44.897Z"
   },
   {
    "duration": 51,
    "start_time": "2024-08-11T16:58:44.913Z"
   },
   {
    "duration": 6,
    "start_time": "2024-08-11T16:58:44.965Z"
   },
   {
    "duration": 20,
    "start_time": "2024-08-11T16:58:44.972Z"
   },
   {
    "duration": 34,
    "start_time": "2024-08-11T16:58:44.993Z"
   },
   {
    "duration": 181,
    "start_time": "2024-08-11T16:58:45.029Z"
   },
   {
    "duration": 8,
    "start_time": "2024-08-11T16:58:45.212Z"
   },
   {
    "duration": 160,
    "start_time": "2024-08-11T16:58:45.222Z"
   },
   {
    "duration": 4,
    "start_time": "2024-08-11T16:58:45.384Z"
   },
   {
    "duration": 25,
    "start_time": "2024-08-11T16:58:45.389Z"
   },
   {
    "duration": 27,
    "start_time": "2024-08-11T16:58:45.415Z"
   },
   {
    "duration": 191,
    "start_time": "2024-08-11T16:58:45.443Z"
   },
   {
    "duration": 332,
    "start_time": "2024-08-11T16:58:45.635Z"
   },
   {
    "duration": 12,
    "start_time": "2024-08-11T16:58:45.968Z"
   },
   {
    "duration": 41,
    "start_time": "2024-08-11T16:58:45.982Z"
   },
   {
    "duration": 5,
    "start_time": "2024-08-11T16:58:46.025Z"
   },
   {
    "duration": 4,
    "start_time": "2024-08-11T16:58:46.035Z"
   },
   {
    "duration": 4,
    "start_time": "2024-08-11T16:58:46.040Z"
   },
   {
    "duration": 240,
    "start_time": "2024-08-11T16:58:46.045Z"
   },
   {
    "duration": 117,
    "start_time": "2024-08-11T16:58:46.287Z"
   },
   {
    "duration": 14,
    "start_time": "2024-08-11T16:58:46.406Z"
   },
   {
    "duration": 8,
    "start_time": "2024-08-11T16:58:46.421Z"
   },
   {
    "duration": 8,
    "start_time": "2024-08-11T16:58:46.434Z"
   },
   {
    "duration": 9,
    "start_time": "2024-08-11T16:58:46.444Z"
   },
   {
    "duration": 46,
    "start_time": "2024-08-11T16:58:46.454Z"
   },
   {
    "duration": 55,
    "start_time": "2024-08-11T16:58:46.502Z"
   },
   {
    "duration": 13,
    "start_time": "2024-08-11T16:58:46.559Z"
   },
   {
    "duration": 4,
    "start_time": "2024-08-11T16:58:46.573Z"
   },
   {
    "duration": 249,
    "start_time": "2024-08-11T16:58:46.579Z"
   },
   {
    "duration": 79,
    "start_time": "2024-08-11T17:00:41.804Z"
   },
   {
    "duration": 648,
    "start_time": "2024-08-11T17:01:07.081Z"
   },
   {
    "duration": 104,
    "start_time": "2024-08-11T17:01:07.730Z"
   },
   {
    "duration": 5,
    "start_time": "2024-08-11T17:01:07.835Z"
   },
   {
    "duration": 4,
    "start_time": "2024-08-11T17:01:07.842Z"
   },
   {
    "duration": 59,
    "start_time": "2024-08-11T17:01:07.847Z"
   },
   {
    "duration": 26,
    "start_time": "2024-08-11T17:01:07.907Z"
   },
   {
    "duration": 20,
    "start_time": "2024-08-11T17:01:07.934Z"
   },
   {
    "duration": 6,
    "start_time": "2024-08-11T17:01:07.956Z"
   },
   {
    "duration": 34,
    "start_time": "2024-08-11T17:01:07.963Z"
   },
   {
    "duration": 4,
    "start_time": "2024-08-11T17:01:07.999Z"
   },
   {
    "duration": 37,
    "start_time": "2024-08-11T17:01:08.004Z"
   },
   {
    "duration": 13,
    "start_time": "2024-08-11T17:01:08.043Z"
   },
   {
    "duration": 10,
    "start_time": "2024-08-11T17:01:08.058Z"
   },
   {
    "duration": 61,
    "start_time": "2024-08-11T17:01:08.070Z"
   },
   {
    "duration": 6,
    "start_time": "2024-08-11T17:01:08.132Z"
   },
   {
    "duration": 5,
    "start_time": "2024-08-11T17:01:08.140Z"
   },
   {
    "duration": 7,
    "start_time": "2024-08-11T17:01:08.147Z"
   },
   {
    "duration": 24,
    "start_time": "2024-08-11T17:01:08.156Z"
   },
   {
    "duration": 12,
    "start_time": "2024-08-11T17:01:08.181Z"
   },
   {
    "duration": 13,
    "start_time": "2024-08-11T17:01:08.195Z"
   },
   {
    "duration": 39,
    "start_time": "2024-08-11T17:01:08.210Z"
   },
   {
    "duration": 4,
    "start_time": "2024-08-11T17:01:08.251Z"
   },
   {
    "duration": 24,
    "start_time": "2024-08-11T17:01:08.256Z"
   },
   {
    "duration": 4,
    "start_time": "2024-08-11T17:01:08.282Z"
   },
   {
    "duration": 9,
    "start_time": "2024-08-11T17:01:08.287Z"
   },
   {
    "duration": 5,
    "start_time": "2024-08-11T17:01:08.297Z"
   },
   {
    "duration": 35,
    "start_time": "2024-08-11T17:01:08.303Z"
   },
   {
    "duration": 3,
    "start_time": "2024-08-11T17:01:08.342Z"
   },
   {
    "duration": 5,
    "start_time": "2024-08-11T17:01:08.347Z"
   },
   {
    "duration": 17,
    "start_time": "2024-08-11T17:01:08.353Z"
   },
   {
    "duration": 3,
    "start_time": "2024-08-11T17:01:08.372Z"
   },
   {
    "duration": 20,
    "start_time": "2024-08-11T17:01:08.376Z"
   },
   {
    "duration": 11,
    "start_time": "2024-08-11T17:01:08.398Z"
   },
   {
    "duration": 44,
    "start_time": "2024-08-11T17:01:08.411Z"
   },
   {
    "duration": 24,
    "start_time": "2024-08-11T17:01:08.456Z"
   },
   {
    "duration": 33,
    "start_time": "2024-08-11T17:01:08.481Z"
   },
   {
    "duration": 47,
    "start_time": "2024-08-11T17:01:08.516Z"
   },
   {
    "duration": 4,
    "start_time": "2024-08-11T17:01:08.565Z"
   },
   {
    "duration": 5,
    "start_time": "2024-08-11T17:01:08.570Z"
   },
   {
    "duration": 17,
    "start_time": "2024-08-11T17:01:08.576Z"
   },
   {
    "duration": 70,
    "start_time": "2024-08-11T17:01:08.595Z"
   },
   {
    "duration": 6,
    "start_time": "2024-08-11T17:01:08.666Z"
   },
   {
    "duration": 24,
    "start_time": "2024-08-11T17:01:08.673Z"
   },
   {
    "duration": 9,
    "start_time": "2024-08-11T17:01:08.698Z"
   },
   {
    "duration": 12,
    "start_time": "2024-08-11T17:01:08.709Z"
   },
   {
    "duration": 5,
    "start_time": "2024-08-11T17:01:08.723Z"
   },
   {
    "duration": 4,
    "start_time": "2024-08-11T17:01:08.729Z"
   },
   {
    "duration": 5,
    "start_time": "2024-08-11T17:01:08.735Z"
   },
   {
    "duration": 57,
    "start_time": "2024-08-11T17:01:08.742Z"
   },
   {
    "duration": 20,
    "start_time": "2024-08-11T17:01:08.801Z"
   },
   {
    "duration": 8,
    "start_time": "2024-08-11T17:01:08.824Z"
   },
   {
    "duration": 22,
    "start_time": "2024-08-11T17:01:08.833Z"
   },
   {
    "duration": 5,
    "start_time": "2024-08-11T17:01:08.895Z"
   },
   {
    "duration": 15,
    "start_time": "2024-08-11T17:01:08.902Z"
   },
   {
    "duration": 19,
    "start_time": "2024-08-11T17:01:08.918Z"
   },
   {
    "duration": 81,
    "start_time": "2024-08-11T17:01:08.938Z"
   },
   {
    "duration": 7,
    "start_time": "2024-08-11T17:01:09.020Z"
   },
   {
    "duration": 5,
    "start_time": "2024-08-11T17:01:09.028Z"
   },
   {
    "duration": 22,
    "start_time": "2024-08-11T17:01:09.035Z"
   },
   {
    "duration": 48,
    "start_time": "2024-08-11T17:01:09.058Z"
   },
   {
    "duration": 201,
    "start_time": "2024-08-11T17:01:09.107Z"
   },
   {
    "duration": 8,
    "start_time": "2024-08-11T17:01:09.310Z"
   },
   {
    "duration": 144,
    "start_time": "2024-08-11T17:01:09.319Z"
   },
   {
    "duration": 5,
    "start_time": "2024-08-11T17:01:09.464Z"
   },
   {
    "duration": 8,
    "start_time": "2024-08-11T17:01:09.470Z"
   },
   {
    "duration": 20,
    "start_time": "2024-08-11T17:01:09.479Z"
   },
   {
    "duration": 167,
    "start_time": "2024-08-11T17:01:09.500Z"
   },
   {
    "duration": 308,
    "start_time": "2024-08-11T17:01:09.668Z"
   },
   {
    "duration": 24,
    "start_time": "2024-08-11T17:01:09.977Z"
   },
   {
    "duration": 30,
    "start_time": "2024-08-11T17:01:10.003Z"
   },
   {
    "duration": 9,
    "start_time": "2024-08-11T17:01:10.035Z"
   },
   {
    "duration": 7,
    "start_time": "2024-08-11T17:01:10.046Z"
   },
   {
    "duration": 12,
    "start_time": "2024-08-11T17:01:10.055Z"
   },
   {
    "duration": 233,
    "start_time": "2024-08-11T17:01:10.068Z"
   },
   {
    "duration": 120,
    "start_time": "2024-08-11T17:01:10.302Z"
   },
   {
    "duration": 16,
    "start_time": "2024-08-11T17:01:10.424Z"
   },
   {
    "duration": 7,
    "start_time": "2024-08-11T17:01:10.441Z"
   },
   {
    "duration": 10,
    "start_time": "2024-08-11T17:01:10.449Z"
   },
   {
    "duration": 39,
    "start_time": "2024-08-11T17:01:10.461Z"
   },
   {
    "duration": 6,
    "start_time": "2024-08-11T17:01:10.502Z"
   },
   {
    "duration": 40,
    "start_time": "2024-08-11T17:01:10.509Z"
   },
   {
    "duration": 13,
    "start_time": "2024-08-11T17:01:10.554Z"
   },
   {
    "duration": 4,
    "start_time": "2024-08-11T17:01:10.569Z"
   },
   {
    "duration": 263,
    "start_time": "2024-08-11T17:01:10.575Z"
   },
   {
    "duration": 68,
    "start_time": "2024-08-11T18:27:42.041Z"
   },
   {
    "duration": 582,
    "start_time": "2024-08-11T18:28:07.453Z"
   },
   {
    "duration": 100,
    "start_time": "2024-08-11T18:28:08.037Z"
   },
   {
    "duration": 5,
    "start_time": "2024-08-11T18:28:08.138Z"
   },
   {
    "duration": 5,
    "start_time": "2024-08-11T18:28:08.145Z"
   },
   {
    "duration": 45,
    "start_time": "2024-08-11T18:28:08.151Z"
   },
   {
    "duration": 24,
    "start_time": "2024-08-11T18:28:08.198Z"
   },
   {
    "duration": 13,
    "start_time": "2024-08-11T18:28:08.224Z"
   },
   {
    "duration": 4,
    "start_time": "2024-08-11T18:28:08.238Z"
   },
   {
    "duration": 10,
    "start_time": "2024-08-11T18:28:08.243Z"
   },
   {
    "duration": 43,
    "start_time": "2024-08-11T18:28:08.255Z"
   },
   {
    "duration": 23,
    "start_time": "2024-08-11T18:28:08.299Z"
   },
   {
    "duration": 13,
    "start_time": "2024-08-11T18:28:08.324Z"
   },
   {
    "duration": 11,
    "start_time": "2024-08-11T18:28:08.339Z"
   },
   {
    "duration": 4,
    "start_time": "2024-08-11T18:28:08.351Z"
   },
   {
    "duration": 9,
    "start_time": "2024-08-11T18:28:08.357Z"
   },
   {
    "duration": 55,
    "start_time": "2024-08-11T18:28:08.367Z"
   },
   {
    "duration": 7,
    "start_time": "2024-08-11T18:28:08.423Z"
   },
   {
    "duration": 26,
    "start_time": "2024-08-11T18:28:08.431Z"
   },
   {
    "duration": 12,
    "start_time": "2024-08-11T18:28:08.458Z"
   },
   {
    "duration": 12,
    "start_time": "2024-08-11T18:28:08.472Z"
   },
   {
    "duration": 40,
    "start_time": "2024-08-11T18:28:08.486Z"
   },
   {
    "duration": 5,
    "start_time": "2024-08-11T18:28:08.528Z"
   },
   {
    "duration": 14,
    "start_time": "2024-08-11T18:28:08.535Z"
   },
   {
    "duration": 4,
    "start_time": "2024-08-11T18:28:08.551Z"
   },
   {
    "duration": 7,
    "start_time": "2024-08-11T18:28:08.557Z"
   },
   {
    "duration": 8,
    "start_time": "2024-08-11T18:28:08.565Z"
   },
   {
    "duration": 33,
    "start_time": "2024-08-11T18:28:08.574Z"
   },
   {
    "duration": 3,
    "start_time": "2024-08-11T18:28:08.611Z"
   },
   {
    "duration": 5,
    "start_time": "2024-08-11T18:28:08.615Z"
   },
   {
    "duration": 18,
    "start_time": "2024-08-11T18:28:08.621Z"
   },
   {
    "duration": 4,
    "start_time": "2024-08-11T18:28:08.640Z"
   },
   {
    "duration": 8,
    "start_time": "2024-08-11T18:28:08.645Z"
   },
   {
    "duration": 9,
    "start_time": "2024-08-11T18:28:08.654Z"
   },
   {
    "duration": 24,
    "start_time": "2024-08-11T18:28:08.696Z"
   },
   {
    "duration": 25,
    "start_time": "2024-08-11T18:28:08.721Z"
   },
   {
    "duration": 23,
    "start_time": "2024-08-11T18:28:08.747Z"
   },
   {
    "duration": 14,
    "start_time": "2024-08-11T18:28:08.796Z"
   },
   {
    "duration": 5,
    "start_time": "2024-08-11T18:28:08.811Z"
   },
   {
    "duration": 62,
    "start_time": "2024-08-11T18:28:08.817Z"
   },
   {
    "duration": 33,
    "start_time": "2024-08-11T18:28:08.880Z"
   },
   {
    "duration": 70,
    "start_time": "2024-08-11T18:28:08.915Z"
   },
   {
    "duration": 62,
    "start_time": "2024-08-11T18:28:08.986Z"
   },
   {
    "duration": 17,
    "start_time": "2024-08-11T18:28:09.050Z"
   },
   {
    "duration": 28,
    "start_time": "2024-08-11T18:28:09.069Z"
   },
   {
    "duration": 18,
    "start_time": "2024-08-11T18:28:09.099Z"
   },
   {
    "duration": 10,
    "start_time": "2024-08-11T18:28:09.119Z"
   },
   {
    "duration": 2,
    "start_time": "2024-08-11T18:28:09.131Z"
   },
   {
    "duration": 23,
    "start_time": "2024-08-11T18:28:09.134Z"
   },
   {
    "duration": 12,
    "start_time": "2024-08-11T18:28:09.159Z"
   },
   {
    "duration": 25,
    "start_time": "2024-08-11T18:28:09.172Z"
   },
   {
    "duration": 6,
    "start_time": "2024-08-11T18:28:09.198Z"
   },
   {
    "duration": 31,
    "start_time": "2024-08-11T18:28:09.205Z"
   },
   {
    "duration": 33,
    "start_time": "2024-08-11T18:28:09.238Z"
   },
   {
    "duration": 173,
    "start_time": "2024-08-11T18:28:09.273Z"
   },
   {
    "duration": 8,
    "start_time": "2024-08-11T18:28:09.447Z"
   },
   {
    "duration": 134,
    "start_time": "2024-08-11T18:28:09.456Z"
   },
   {
    "duration": 4,
    "start_time": "2024-08-11T18:28:09.595Z"
   },
   {
    "duration": 4,
    "start_time": "2024-08-11T18:28:09.601Z"
   },
   {
    "duration": 8,
    "start_time": "2024-08-11T18:28:09.607Z"
   },
   {
    "duration": 183,
    "start_time": "2024-08-11T18:28:09.616Z"
   },
   {
    "duration": 306,
    "start_time": "2024-08-11T18:28:09.800Z"
   },
   {
    "duration": 12,
    "start_time": "2024-08-11T18:28:10.107Z"
   },
   {
    "duration": 20,
    "start_time": "2024-08-11T18:28:10.120Z"
   },
   {
    "duration": 4,
    "start_time": "2024-08-11T18:28:10.141Z"
   },
   {
    "duration": 4,
    "start_time": "2024-08-11T18:28:10.149Z"
   },
   {
    "duration": 5,
    "start_time": "2024-08-11T18:28:10.155Z"
   },
   {
    "duration": 247,
    "start_time": "2024-08-11T18:28:10.162Z"
   },
   {
    "duration": 117,
    "start_time": "2024-08-11T18:28:10.411Z"
   },
   {
    "duration": 18,
    "start_time": "2024-08-11T18:28:10.530Z"
   },
   {
    "duration": 10,
    "start_time": "2024-08-11T18:28:10.549Z"
   },
   {
    "duration": 11,
    "start_time": "2024-08-11T18:28:10.596Z"
   },
   {
    "duration": 12,
    "start_time": "2024-08-11T18:28:10.609Z"
   },
   {
    "duration": 6,
    "start_time": "2024-08-11T18:28:10.623Z"
   },
   {
    "duration": 7,
    "start_time": "2024-08-11T18:28:10.631Z"
   },
   {
    "duration": 18,
    "start_time": "2024-08-11T18:28:10.640Z"
   },
   {
    "duration": 4,
    "start_time": "2024-08-11T18:28:10.660Z"
   },
   {
    "duration": 288,
    "start_time": "2024-08-11T18:28:10.665Z"
   },
   {
    "duration": 2,
    "start_time": "2024-08-11T18:29:47.860Z"
   },
   {
    "duration": 627,
    "start_time": "2024-08-11T18:32:28.180Z"
   },
   {
    "duration": 103,
    "start_time": "2024-08-11T18:32:28.808Z"
   },
   {
    "duration": 5,
    "start_time": "2024-08-11T18:32:28.912Z"
   },
   {
    "duration": 5,
    "start_time": "2024-08-11T18:32:28.919Z"
   },
   {
    "duration": 45,
    "start_time": "2024-08-11T18:32:28.926Z"
   },
   {
    "duration": 31,
    "start_time": "2024-08-11T18:32:28.973Z"
   },
   {
    "duration": 14,
    "start_time": "2024-08-11T18:32:29.006Z"
   },
   {
    "duration": 5,
    "start_time": "2024-08-11T18:32:29.022Z"
   },
   {
    "duration": 12,
    "start_time": "2024-08-11T18:32:29.028Z"
   },
   {
    "duration": 3,
    "start_time": "2024-08-11T18:32:29.044Z"
   },
   {
    "duration": 55,
    "start_time": "2024-08-11T18:32:29.049Z"
   },
   {
    "duration": 14,
    "start_time": "2024-08-11T18:32:29.106Z"
   },
   {
    "duration": 13,
    "start_time": "2024-08-11T18:32:29.122Z"
   },
   {
    "duration": 5,
    "start_time": "2024-08-11T18:32:29.137Z"
   },
   {
    "duration": 53,
    "start_time": "2024-08-11T18:32:29.144Z"
   },
   {
    "duration": 5,
    "start_time": "2024-08-11T18:32:29.198Z"
   },
   {
    "duration": 7,
    "start_time": "2024-08-11T18:32:29.205Z"
   },
   {
    "duration": 4,
    "start_time": "2024-08-11T18:32:29.214Z"
   },
   {
    "duration": 12,
    "start_time": "2024-08-11T18:32:29.220Z"
   },
   {
    "duration": 12,
    "start_time": "2024-08-11T18:32:29.234Z"
   },
   {
    "duration": 65,
    "start_time": "2024-08-11T18:32:29.247Z"
   },
   {
    "duration": 5,
    "start_time": "2024-08-11T18:32:29.314Z"
   },
   {
    "duration": 14,
    "start_time": "2024-08-11T18:32:29.321Z"
   },
   {
    "duration": 69,
    "start_time": "2024-08-11T18:32:29.337Z"
   },
   {
    "duration": 7,
    "start_time": "2024-08-11T18:32:29.408Z"
   },
   {
    "duration": 3,
    "start_time": "2024-08-11T18:32:29.417Z"
   },
   {
    "duration": 15,
    "start_time": "2024-08-11T18:32:29.422Z"
   },
   {
    "duration": 3,
    "start_time": "2024-08-11T18:32:29.443Z"
   },
   {
    "duration": 5,
    "start_time": "2024-08-11T18:32:29.447Z"
   },
   {
    "duration": 47,
    "start_time": "2024-08-11T18:32:29.454Z"
   },
   {
    "duration": 4,
    "start_time": "2024-08-11T18:32:29.503Z"
   },
   {
    "duration": 4,
    "start_time": "2024-08-11T18:32:29.509Z"
   },
   {
    "duration": 15,
    "start_time": "2024-08-11T18:32:29.514Z"
   },
   {
    "duration": 25,
    "start_time": "2024-08-11T18:32:29.531Z"
   },
   {
    "duration": 56,
    "start_time": "2024-08-11T18:32:29.558Z"
   },
   {
    "duration": 26,
    "start_time": "2024-08-11T18:32:29.616Z"
   },
   {
    "duration": 16,
    "start_time": "2024-08-11T18:32:29.644Z"
   },
   {
    "duration": 36,
    "start_time": "2024-08-11T18:32:29.662Z"
   },
   {
    "duration": 6,
    "start_time": "2024-08-11T18:32:29.700Z"
   },
   {
    "duration": 10,
    "start_time": "2024-08-11T18:32:29.707Z"
   },
   {
    "duration": 119,
    "start_time": "2024-08-11T18:32:29.719Z"
   },
   {
    "duration": 89,
    "start_time": "2024-08-11T18:32:29.840Z"
   },
   {
    "duration": 19,
    "start_time": "2024-08-11T18:32:29.931Z"
   },
   {
    "duration": 9,
    "start_time": "2024-08-11T18:32:29.952Z"
   },
   {
    "duration": 44,
    "start_time": "2024-08-11T18:32:29.963Z"
   },
   {
    "duration": 33,
    "start_time": "2024-08-11T18:32:30.009Z"
   },
   {
    "duration": 45,
    "start_time": "2024-08-11T18:32:30.043Z"
   },
   {
    "duration": 30,
    "start_time": "2024-08-11T18:32:30.090Z"
   },
   {
    "duration": 20,
    "start_time": "2024-08-11T18:32:30.121Z"
   },
   {
    "duration": 41,
    "start_time": "2024-08-11T18:32:30.143Z"
   },
   {
    "duration": 28,
    "start_time": "2024-08-11T18:32:30.185Z"
   },
   {
    "duration": 40,
    "start_time": "2024-08-11T18:32:30.215Z"
   },
   {
    "duration": 55,
    "start_time": "2024-08-11T18:32:30.256Z"
   },
   {
    "duration": 168,
    "start_time": "2024-08-11T18:32:30.312Z"
   },
   {
    "duration": 16,
    "start_time": "2024-08-11T18:32:30.482Z"
   },
   {
    "duration": 163,
    "start_time": "2024-08-11T18:32:30.499Z"
   },
   {
    "duration": 4,
    "start_time": "2024-08-11T18:32:30.663Z"
   },
   {
    "duration": 44,
    "start_time": "2024-08-11T18:32:30.668Z"
   },
   {
    "duration": 51,
    "start_time": "2024-08-11T18:32:30.713Z"
   },
   {
    "duration": 177,
    "start_time": "2024-08-11T18:32:30.765Z"
   },
   {
    "duration": 321,
    "start_time": "2024-08-11T18:32:30.944Z"
   },
   {
    "duration": 14,
    "start_time": "2024-08-11T18:32:31.267Z"
   },
   {
    "duration": 24,
    "start_time": "2024-08-11T18:32:31.296Z"
   },
   {
    "duration": 77,
    "start_time": "2024-08-11T18:32:31.322Z"
   },
   {
    "duration": 48,
    "start_time": "2024-08-11T18:32:31.401Z"
   },
   {
    "duration": 36,
    "start_time": "2024-08-11T18:32:31.451Z"
   },
   {
    "duration": 243,
    "start_time": "2024-08-11T18:32:31.488Z"
   },
   {
    "duration": 121,
    "start_time": "2024-08-11T18:32:31.733Z"
   },
   {
    "duration": 18,
    "start_time": "2024-08-11T18:32:31.856Z"
   },
   {
    "duration": 27,
    "start_time": "2024-08-11T18:32:31.876Z"
   },
   {
    "duration": 23,
    "start_time": "2024-08-11T18:32:31.905Z"
   },
   {
    "duration": 19,
    "start_time": "2024-08-11T18:32:31.930Z"
   },
   {
    "duration": 13,
    "start_time": "2024-08-11T18:32:31.951Z"
   },
   {
    "duration": 18,
    "start_time": "2024-08-11T18:32:31.965Z"
   },
   {
    "duration": 32,
    "start_time": "2024-08-11T18:32:31.984Z"
   },
   {
    "duration": 25,
    "start_time": "2024-08-11T18:32:32.018Z"
   },
   {
    "duration": 258,
    "start_time": "2024-08-11T18:32:32.045Z"
   },
   {
    "duration": 49,
    "start_time": "2024-08-11T18:36:27.791Z"
   },
   {
    "duration": 23,
    "start_time": "2024-08-11T18:37:01.840Z"
   },
   {
    "duration": 122,
    "start_time": "2024-08-11T18:39:35.822Z"
   },
   {
    "duration": 88,
    "start_time": "2024-08-11T18:39:39.925Z"
   },
   {
    "duration": 2,
    "start_time": "2024-08-11T18:42:26.186Z"
   },
   {
    "duration": 9,
    "start_time": "2024-08-11T18:52:19.053Z"
   },
   {
    "duration": 7,
    "start_time": "2024-08-11T18:53:01.876Z"
   },
   {
    "duration": 7,
    "start_time": "2024-08-11T18:53:05.061Z"
   },
   {
    "duration": 7,
    "start_time": "2024-08-11T18:54:59.810Z"
   },
   {
    "duration": 112,
    "start_time": "2024-08-11T18:55:00.393Z"
   },
   {
    "duration": 7,
    "start_time": "2024-08-11T18:55:03.763Z"
   },
   {
    "duration": 94,
    "start_time": "2024-08-11T18:55:04.262Z"
   },
   {
    "duration": 8,
    "start_time": "2024-08-11T18:55:08.091Z"
   },
   {
    "duration": 96,
    "start_time": "2024-08-11T18:55:08.712Z"
   },
   {
    "duration": 107,
    "start_time": "2024-08-11T18:55:33.918Z"
   },
   {
    "duration": 92,
    "start_time": "2024-08-11T18:55:40.463Z"
   },
   {
    "duration": 93,
    "start_time": "2024-08-11T18:55:46.490Z"
   },
   {
    "duration": 158,
    "start_time": "2024-08-11T18:55:58.161Z"
   },
   {
    "duration": 88,
    "start_time": "2024-08-11T18:56:13.562Z"
   },
   {
    "duration": 110,
    "start_time": "2024-08-11T18:56:33.795Z"
   },
   {
    "duration": 92,
    "start_time": "2024-08-11T18:56:36.665Z"
   },
   {
    "duration": 95,
    "start_time": "2024-08-11T18:57:12.776Z"
   },
   {
    "duration": 111,
    "start_time": "2024-08-11T18:57:25.439Z"
   },
   {
    "duration": 106,
    "start_time": "2024-08-11T18:57:32.278Z"
   },
   {
    "duration": 104,
    "start_time": "2024-08-11T18:58:13.420Z"
   },
   {
    "duration": 107,
    "start_time": "2024-08-11T18:58:29.794Z"
   },
   {
    "duration": 98,
    "start_time": "2024-08-11T18:58:38.427Z"
   },
   {
    "duration": 98,
    "start_time": "2024-08-11T18:58:56.428Z"
   },
   {
    "duration": 190,
    "start_time": "2024-08-11T18:59:05.330Z"
   },
   {
    "duration": 106,
    "start_time": "2024-08-11T19:01:26.362Z"
   },
   {
    "duration": 102,
    "start_time": "2024-08-11T19:01:32.085Z"
   },
   {
    "duration": 111,
    "start_time": "2024-08-11T19:02:04.397Z"
   },
   {
    "duration": 101,
    "start_time": "2024-08-11T19:06:56.080Z"
   },
   {
    "duration": 108,
    "start_time": "2024-08-11T19:07:01.997Z"
   },
   {
    "duration": 95,
    "start_time": "2024-08-11T19:07:14.831Z"
   },
   {
    "duration": 107,
    "start_time": "2024-08-11T19:07:24.927Z"
   },
   {
    "duration": 97,
    "start_time": "2024-08-11T19:07:33.511Z"
   },
   {
    "duration": 97,
    "start_time": "2024-08-11T19:07:40.615Z"
   },
   {
    "duration": 104,
    "start_time": "2024-08-11T19:07:49.114Z"
   },
   {
    "duration": 110,
    "start_time": "2024-08-11T19:07:55.887Z"
   },
   {
    "duration": 97,
    "start_time": "2024-08-11T19:08:06.576Z"
   },
   {
    "duration": 68,
    "start_time": "2024-08-11T19:13:13.171Z"
   },
   {
    "duration": 1629,
    "start_time": "2024-08-11T19:13:18.241Z"
   },
   {
    "duration": 605,
    "start_time": "2024-08-11T19:13:45.759Z"
   },
   {
    "duration": 100,
    "start_time": "2024-08-11T19:13:46.366Z"
   },
   {
    "duration": 4,
    "start_time": "2024-08-11T19:13:46.468Z"
   },
   {
    "duration": 4,
    "start_time": "2024-08-11T19:13:46.474Z"
   },
   {
    "duration": 45,
    "start_time": "2024-08-11T19:13:46.480Z"
   },
   {
    "duration": 24,
    "start_time": "2024-08-11T19:13:46.526Z"
   },
   {
    "duration": 52,
    "start_time": "2024-08-11T19:13:46.552Z"
   },
   {
    "duration": 5,
    "start_time": "2024-08-11T19:13:46.606Z"
   },
   {
    "duration": 8,
    "start_time": "2024-08-11T19:13:46.612Z"
   },
   {
    "duration": 3,
    "start_time": "2024-08-11T19:13:46.623Z"
   },
   {
    "duration": 12,
    "start_time": "2024-08-11T19:13:46.627Z"
   },
   {
    "duration": 12,
    "start_time": "2024-08-11T19:13:46.641Z"
   },
   {
    "duration": 42,
    "start_time": "2024-08-11T19:13:46.654Z"
   },
   {
    "duration": 4,
    "start_time": "2024-08-11T19:13:46.697Z"
   },
   {
    "duration": 10,
    "start_time": "2024-08-11T19:13:46.703Z"
   },
   {
    "duration": 6,
    "start_time": "2024-08-11T19:13:46.714Z"
   },
   {
    "duration": 7,
    "start_time": "2024-08-11T19:13:46.721Z"
   },
   {
    "duration": 4,
    "start_time": "2024-08-11T19:13:46.730Z"
   },
   {
    "duration": 10,
    "start_time": "2024-08-11T19:13:46.735Z"
   },
   {
    "duration": 10,
    "start_time": "2024-08-11T19:13:46.746Z"
   },
   {
    "duration": 60,
    "start_time": "2024-08-11T19:13:46.757Z"
   },
   {
    "duration": 4,
    "start_time": "2024-08-11T19:13:46.818Z"
   },
   {
    "duration": 13,
    "start_time": "2024-08-11T19:13:46.823Z"
   },
   {
    "duration": 7,
    "start_time": "2024-08-11T19:13:46.837Z"
   },
   {
    "duration": 32,
    "start_time": "2024-08-11T19:13:46.845Z"
   },
   {
    "duration": 29,
    "start_time": "2024-08-11T19:13:46.879Z"
   },
   {
    "duration": 19,
    "start_time": "2024-08-11T19:13:46.909Z"
   },
   {
    "duration": 3,
    "start_time": "2024-08-11T19:13:46.932Z"
   },
   {
    "duration": 14,
    "start_time": "2024-08-11T19:13:46.936Z"
   },
   {
    "duration": 20,
    "start_time": "2024-08-11T19:13:46.952Z"
   },
   {
    "duration": 4,
    "start_time": "2024-08-11T19:13:46.973Z"
   },
   {
    "duration": 3,
    "start_time": "2024-08-11T19:13:46.978Z"
   },
   {
    "duration": 21,
    "start_time": "2024-08-11T19:13:46.983Z"
   },
   {
    "duration": 23,
    "start_time": "2024-08-11T19:13:47.005Z"
   },
   {
    "duration": 23,
    "start_time": "2024-08-11T19:13:47.030Z"
   },
   {
    "duration": 61,
    "start_time": "2024-08-11T19:13:47.054Z"
   },
   {
    "duration": 13,
    "start_time": "2024-08-11T19:13:47.117Z"
   },
   {
    "duration": 4,
    "start_time": "2024-08-11T19:13:47.132Z"
   },
   {
    "duration": 5,
    "start_time": "2024-08-11T19:13:47.137Z"
   },
   {
    "duration": 17,
    "start_time": "2024-08-11T19:13:47.143Z"
   },
   {
    "duration": 118,
    "start_time": "2024-08-11T19:13:47.161Z"
   },
   {
    "duration": 99,
    "start_time": "2024-08-11T19:13:47.281Z"
   },
   {
    "duration": 17,
    "start_time": "2024-08-11T19:13:47.396Z"
   },
   {
    "duration": 20,
    "start_time": "2024-08-11T19:13:47.415Z"
   },
   {
    "duration": 20,
    "start_time": "2024-08-11T19:13:47.436Z"
   },
   {
    "duration": 20,
    "start_time": "2024-08-11T19:13:47.457Z"
   },
   {
    "duration": 19,
    "start_time": "2024-08-11T19:13:47.478Z"
   },
   {
    "duration": 7,
    "start_time": "2024-08-11T19:13:47.498Z"
   },
   {
    "duration": 1339,
    "start_time": "2024-08-11T19:13:47.506Z"
   },
   {
    "duration": 4,
    "start_time": "2024-08-11T19:13:48.846Z"
   },
   {
    "duration": 4,
    "start_time": "2024-08-11T19:13:48.852Z"
   },
   {
    "duration": 12,
    "start_time": "2024-08-11T19:13:48.858Z"
   },
   {
    "duration": 35,
    "start_time": "2024-08-11T19:13:48.871Z"
   },
   {
    "duration": 6,
    "start_time": "2024-08-11T19:13:48.908Z"
   },
   {
    "duration": 5,
    "start_time": "2024-08-11T19:13:48.915Z"
   },
   {
    "duration": 18,
    "start_time": "2024-08-11T19:13:48.922Z"
   },
   {
    "duration": 35,
    "start_time": "2024-08-11T19:13:48.997Z"
   },
   {
    "duration": 363,
    "start_time": "2024-08-11T19:13:49.033Z"
   },
   {
    "duration": 9,
    "start_time": "2024-08-11T19:13:49.398Z"
   },
   {
    "duration": 230,
    "start_time": "2024-08-11T19:13:49.408Z"
   },
   {
    "duration": 4,
    "start_time": "2024-08-11T19:13:49.639Z"
   },
   {
    "duration": 10,
    "start_time": "2024-08-11T19:13:49.645Z"
   },
   {
    "duration": 9,
    "start_time": "2024-08-11T19:13:49.656Z"
   },
   {
    "duration": 163,
    "start_time": "2024-08-11T19:13:49.696Z"
   },
   {
    "duration": 315,
    "start_time": "2024-08-11T19:13:49.861Z"
   },
   {
    "duration": 21,
    "start_time": "2024-08-11T19:13:50.178Z"
   },
   {
    "duration": 4,
    "start_time": "2024-08-11T19:13:50.201Z"
   },
   {
    "duration": 4,
    "start_time": "2024-08-11T19:13:50.206Z"
   },
   {
    "duration": 3,
    "start_time": "2024-08-11T19:13:50.212Z"
   },
   {
    "duration": 4,
    "start_time": "2024-08-11T19:13:50.216Z"
   },
   {
    "duration": 254,
    "start_time": "2024-08-11T19:13:50.221Z"
   },
   {
    "duration": 104,
    "start_time": "2024-08-11T19:13:50.477Z"
   },
   {
    "duration": 24,
    "start_time": "2024-08-11T19:13:50.583Z"
   },
   {
    "duration": 8,
    "start_time": "2024-08-11T19:13:50.609Z"
   },
   {
    "duration": 9,
    "start_time": "2024-08-11T19:13:50.618Z"
   },
   {
    "duration": 9,
    "start_time": "2024-08-11T19:13:50.628Z"
   },
   {
    "duration": 6,
    "start_time": "2024-08-11T19:13:50.639Z"
   },
   {
    "duration": 4,
    "start_time": "2024-08-11T19:13:50.646Z"
   },
   {
    "duration": 57,
    "start_time": "2024-08-11T19:13:50.651Z"
   },
   {
    "duration": 18,
    "start_time": "2024-08-11T19:13:50.709Z"
   },
   {
    "duration": 251,
    "start_time": "2024-08-11T19:13:50.729Z"
   },
   {
    "duration": 23,
    "start_time": "2024-08-11T19:18:50.279Z"
   },
   {
    "duration": 16,
    "start_time": "2024-08-11T19:20:15.024Z"
   },
   {
    "duration": 603,
    "start_time": "2024-08-11T19:20:50.212Z"
   },
   {
    "duration": 108,
    "start_time": "2024-08-11T19:20:50.817Z"
   },
   {
    "duration": 5,
    "start_time": "2024-08-11T19:20:50.926Z"
   },
   {
    "duration": 4,
    "start_time": "2024-08-11T19:20:50.933Z"
   },
   {
    "duration": 51,
    "start_time": "2024-08-11T19:20:50.939Z"
   },
   {
    "duration": 28,
    "start_time": "2024-08-11T19:20:50.992Z"
   },
   {
    "duration": 15,
    "start_time": "2024-08-11T19:20:51.022Z"
   },
   {
    "duration": 82,
    "start_time": "2024-08-11T19:20:51.038Z"
   },
   {
    "duration": 12,
    "start_time": "2024-08-11T19:20:51.121Z"
   },
   {
    "duration": 4,
    "start_time": "2024-08-11T19:20:51.135Z"
   },
   {
    "duration": 25,
    "start_time": "2024-08-11T19:20:51.140Z"
   },
   {
    "duration": 15,
    "start_time": "2024-08-11T19:20:51.166Z"
   },
   {
    "duration": 10,
    "start_time": "2024-08-11T19:20:51.183Z"
   },
   {
    "duration": 4,
    "start_time": "2024-08-11T19:20:51.195Z"
   },
   {
    "duration": 14,
    "start_time": "2024-08-11T19:20:51.201Z"
   },
   {
    "duration": 5,
    "start_time": "2024-08-11T19:20:51.216Z"
   },
   {
    "duration": 18,
    "start_time": "2024-08-11T19:20:51.222Z"
   },
   {
    "duration": 4,
    "start_time": "2024-08-11T19:20:51.242Z"
   },
   {
    "duration": 11,
    "start_time": "2024-08-11T19:20:51.248Z"
   },
   {
    "duration": 19,
    "start_time": "2024-08-11T19:20:51.261Z"
   },
   {
    "duration": 40,
    "start_time": "2024-08-11T19:20:51.282Z"
   },
   {
    "duration": 3,
    "start_time": "2024-08-11T19:20:51.324Z"
   },
   {
    "duration": 14,
    "start_time": "2024-08-11T19:20:51.329Z"
   },
   {
    "duration": 5,
    "start_time": "2024-08-11T19:20:51.345Z"
   },
   {
    "duration": 11,
    "start_time": "2024-08-11T19:20:51.351Z"
   },
   {
    "duration": 10,
    "start_time": "2024-08-11T19:20:51.363Z"
   },
   {
    "duration": 31,
    "start_time": "2024-08-11T19:20:51.374Z"
   },
   {
    "duration": 7,
    "start_time": "2024-08-11T19:20:51.409Z"
   },
   {
    "duration": 12,
    "start_time": "2024-08-11T19:20:51.417Z"
   },
   {
    "duration": 26,
    "start_time": "2024-08-11T19:20:51.430Z"
   },
   {
    "duration": 3,
    "start_time": "2024-08-11T19:20:51.458Z"
   },
   {
    "duration": 5,
    "start_time": "2024-08-11T19:20:51.463Z"
   },
   {
    "duration": 30,
    "start_time": "2024-08-11T19:20:51.469Z"
   },
   {
    "duration": 23,
    "start_time": "2024-08-11T19:20:51.501Z"
   },
   {
    "duration": 23,
    "start_time": "2024-08-11T19:20:51.525Z"
   },
   {
    "duration": 52,
    "start_time": "2024-08-11T19:20:51.550Z"
   },
   {
    "duration": 27,
    "start_time": "2024-08-11T19:20:51.604Z"
   },
   {
    "duration": 4,
    "start_time": "2024-08-11T19:20:51.633Z"
   },
   {
    "duration": 4,
    "start_time": "2024-08-11T19:20:51.639Z"
   },
   {
    "duration": 11,
    "start_time": "2024-08-11T19:20:51.645Z"
   },
   {
    "duration": 112,
    "start_time": "2024-08-11T19:20:51.658Z"
   },
   {
    "duration": 98,
    "start_time": "2024-08-11T19:20:51.771Z"
   },
   {
    "duration": 31,
    "start_time": "2024-08-11T19:20:51.870Z"
   },
   {
    "duration": 6,
    "start_time": "2024-08-11T19:20:51.903Z"
   },
   {
    "duration": 19,
    "start_time": "2024-08-11T19:20:51.911Z"
   },
   {
    "duration": 8,
    "start_time": "2024-08-11T19:20:51.932Z"
   },
   {
    "duration": 6,
    "start_time": "2024-08-11T19:20:51.941Z"
   },
   {
    "duration": 48,
    "start_time": "2024-08-11T19:20:51.949Z"
   },
   {
    "duration": 1303,
    "start_time": "2024-08-11T19:20:51.998Z"
   },
   {
    "duration": 14,
    "start_time": "2024-08-11T19:20:53.303Z"
   },
   {
    "duration": 13,
    "start_time": "2024-08-11T19:20:53.319Z"
   },
   {
    "duration": 4,
    "start_time": "2024-08-11T19:20:53.333Z"
   },
   {
    "duration": 58,
    "start_time": "2024-08-11T19:20:53.338Z"
   },
   {
    "duration": 10,
    "start_time": "2024-08-11T19:20:53.398Z"
   },
   {
    "duration": 14,
    "start_time": "2024-08-11T19:20:53.409Z"
   },
   {
    "duration": 8,
    "start_time": "2024-08-11T19:20:53.425Z"
   },
   {
    "duration": 5,
    "start_time": "2024-08-11T19:20:53.435Z"
   },
   {
    "duration": 68,
    "start_time": "2024-08-11T19:20:53.441Z"
   },
   {
    "duration": 87,
    "start_time": "2024-08-11T19:20:53.510Z"
   },
   {
    "duration": 310,
    "start_time": "2024-08-11T19:20:53.598Z"
   },
   {
    "duration": 9,
    "start_time": "2024-08-11T19:20:53.909Z"
   },
   {
    "duration": 228,
    "start_time": "2024-08-11T19:20:53.919Z"
   },
   {
    "duration": 5,
    "start_time": "2024-08-11T19:20:54.148Z"
   },
   {
    "duration": 3,
    "start_time": "2024-08-11T19:20:54.197Z"
   },
   {
    "duration": 7,
    "start_time": "2024-08-11T19:20:54.202Z"
   },
   {
    "duration": 170,
    "start_time": "2024-08-11T19:20:54.211Z"
   },
   {
    "duration": 303,
    "start_time": "2024-08-11T19:20:54.383Z"
   },
   {
    "duration": 18,
    "start_time": "2024-08-11T19:20:54.687Z"
   },
   {
    "duration": 5,
    "start_time": "2024-08-11T19:20:54.706Z"
   },
   {
    "duration": 4,
    "start_time": "2024-08-11T19:20:54.712Z"
   },
   {
    "duration": 7,
    "start_time": "2024-08-11T19:20:54.717Z"
   },
   {
    "duration": 6,
    "start_time": "2024-08-11T19:20:54.725Z"
   },
   {
    "duration": 249,
    "start_time": "2024-08-11T19:20:54.733Z"
   },
   {
    "duration": 100,
    "start_time": "2024-08-11T19:20:54.984Z"
   },
   {
    "duration": 22,
    "start_time": "2024-08-11T19:20:55.086Z"
   },
   {
    "duration": 8,
    "start_time": "2024-08-11T19:20:55.109Z"
   },
   {
    "duration": 13,
    "start_time": "2024-08-11T19:20:55.118Z"
   },
   {
    "duration": 9,
    "start_time": "2024-08-11T19:20:55.132Z"
   },
   {
    "duration": 10,
    "start_time": "2024-08-11T19:20:55.143Z"
   },
   {
    "duration": 3,
    "start_time": "2024-08-11T19:20:55.155Z"
   },
   {
    "duration": 14,
    "start_time": "2024-08-11T19:20:55.197Z"
   },
   {
    "duration": 4,
    "start_time": "2024-08-11T19:20:55.215Z"
   },
   {
    "duration": 292,
    "start_time": "2024-08-11T19:20:55.220Z"
   },
   {
    "duration": 24,
    "start_time": "2024-08-11T19:21:21.165Z"
   },
   {
    "duration": 70,
    "start_time": "2024-08-11T19:22:08.880Z"
   },
   {
    "duration": 7,
    "start_time": "2024-08-11T19:22:34.391Z"
   },
   {
    "duration": 727,
    "start_time": "2024-08-11T19:23:02.447Z"
   },
   {
    "duration": 689,
    "start_time": "2024-08-11T19:23:16.839Z"
   },
   {
    "duration": 1126,
    "start_time": "2024-08-11T19:23:51.905Z"
   },
   {
    "duration": 14,
    "start_time": "2024-08-11T19:25:07.593Z"
   },
   {
    "duration": 56,
    "start_time": "2024-08-11T19:27:34.714Z"
   },
   {
    "duration": 695,
    "start_time": "2024-08-11T19:36:48.447Z"
   },
   {
    "duration": 50,
    "start_time": "2024-08-11T19:39:30.335Z"
   },
   {
    "duration": 168,
    "start_time": "2024-08-11T19:40:55.321Z"
   },
   {
    "duration": 150,
    "start_time": "2024-08-11T19:42:01.021Z"
   },
   {
    "duration": 613,
    "start_time": "2024-08-11T19:42:08.505Z"
   },
   {
    "duration": 102,
    "start_time": "2024-08-11T19:42:09.120Z"
   },
   {
    "duration": 4,
    "start_time": "2024-08-11T19:42:09.223Z"
   },
   {
    "duration": 5,
    "start_time": "2024-08-11T19:42:09.229Z"
   },
   {
    "duration": 45,
    "start_time": "2024-08-11T19:42:09.235Z"
   },
   {
    "duration": 23,
    "start_time": "2024-08-11T19:42:09.282Z"
   },
   {
    "duration": 13,
    "start_time": "2024-08-11T19:42:09.307Z"
   },
   {
    "duration": 5,
    "start_time": "2024-08-11T19:42:09.322Z"
   },
   {
    "duration": 38,
    "start_time": "2024-08-11T19:42:09.328Z"
   },
   {
    "duration": 3,
    "start_time": "2024-08-11T19:42:09.368Z"
   },
   {
    "duration": 12,
    "start_time": "2024-08-11T19:42:09.373Z"
   },
   {
    "duration": 20,
    "start_time": "2024-08-11T19:42:09.386Z"
   },
   {
    "duration": 10,
    "start_time": "2024-08-11T19:42:09.408Z"
   },
   {
    "duration": 4,
    "start_time": "2024-08-11T19:42:09.420Z"
   },
   {
    "duration": 12,
    "start_time": "2024-08-11T19:42:09.425Z"
   },
   {
    "duration": 5,
    "start_time": "2024-08-11T19:42:09.438Z"
   },
   {
    "duration": 25,
    "start_time": "2024-08-11T19:42:09.444Z"
   },
   {
    "duration": 7,
    "start_time": "2024-08-11T19:42:09.470Z"
   },
   {
    "duration": 25,
    "start_time": "2024-08-11T19:42:09.478Z"
   },
   {
    "duration": 9,
    "start_time": "2024-08-11T19:42:09.505Z"
   },
   {
    "duration": 15,
    "start_time": "2024-08-11T19:42:09.516Z"
   },
   {
    "duration": 4,
    "start_time": "2024-08-11T19:42:09.533Z"
   },
   {
    "duration": 13,
    "start_time": "2024-08-11T19:42:09.538Z"
   },
   {
    "duration": 44,
    "start_time": "2024-08-11T19:42:09.552Z"
   },
   {
    "duration": 12,
    "start_time": "2024-08-11T19:42:09.597Z"
   },
   {
    "duration": 4,
    "start_time": "2024-08-11T19:42:09.611Z"
   },
   {
    "duration": 28,
    "start_time": "2024-08-11T19:42:09.616Z"
   },
   {
    "duration": 3,
    "start_time": "2024-08-11T19:42:09.646Z"
   },
   {
    "duration": 87,
    "start_time": "2024-08-11T19:42:09.650Z"
   },
   {
    "duration": 20,
    "start_time": "2024-08-11T19:42:09.738Z"
   },
   {
    "duration": 3,
    "start_time": "2024-08-11T19:42:09.759Z"
   },
   {
    "duration": 4,
    "start_time": "2024-08-11T19:42:09.764Z"
   },
   {
    "duration": 11,
    "start_time": "2024-08-11T19:42:09.769Z"
   },
   {
    "duration": 22,
    "start_time": "2024-08-11T19:42:09.782Z"
   },
   {
    "duration": 24,
    "start_time": "2024-08-11T19:42:09.806Z"
   },
   {
    "duration": 24,
    "start_time": "2024-08-11T19:42:09.831Z"
   },
   {
    "duration": 13,
    "start_time": "2024-08-11T19:42:09.857Z"
   },
   {
    "duration": 28,
    "start_time": "2024-08-11T19:42:09.871Z"
   },
   {
    "duration": 9,
    "start_time": "2024-08-11T19:42:09.900Z"
   },
   {
    "duration": 10,
    "start_time": "2024-08-11T19:42:09.910Z"
   },
   {
    "duration": 115,
    "start_time": "2024-08-11T19:42:09.924Z"
   },
   {
    "duration": 101,
    "start_time": "2024-08-11T19:42:10.040Z"
   },
   {
    "duration": 19,
    "start_time": "2024-08-11T19:42:10.143Z"
   },
   {
    "duration": 33,
    "start_time": "2024-08-11T19:42:10.164Z"
   },
   {
    "duration": 20,
    "start_time": "2024-08-11T19:42:10.199Z"
   },
   {
    "duration": 9,
    "start_time": "2024-08-11T19:42:10.221Z"
   },
   {
    "duration": 9,
    "start_time": "2024-08-11T19:42:10.232Z"
   },
   {
    "duration": 8,
    "start_time": "2024-08-11T19:42:10.243Z"
   },
   {
    "duration": 18,
    "start_time": "2024-08-11T19:42:10.296Z"
   },
   {
    "duration": 14,
    "start_time": "2024-08-11T19:42:10.316Z"
   },
   {
    "duration": 16,
    "start_time": "2024-08-11T19:42:10.332Z"
   },
   {
    "duration": 4,
    "start_time": "2024-08-11T19:42:10.349Z"
   },
   {
    "duration": 42,
    "start_time": "2024-08-11T19:42:10.354Z"
   },
   {
    "duration": 11,
    "start_time": "2024-08-11T19:42:10.398Z"
   },
   {
    "duration": 13,
    "start_time": "2024-08-11T19:42:10.410Z"
   },
   {
    "duration": 40,
    "start_time": "2024-08-11T19:42:10.425Z"
   },
   {
    "duration": 11,
    "start_time": "2024-08-11T19:42:10.467Z"
   },
   {
    "duration": 18,
    "start_time": "2024-08-11T19:42:10.480Z"
   },
   {
    "duration": 33,
    "start_time": "2024-08-11T19:42:10.500Z"
   },
   {
    "duration": 172,
    "start_time": "2024-08-11T19:42:10.534Z"
   },
   {
    "duration": 8,
    "start_time": "2024-08-11T19:42:10.707Z"
   },
   {
    "duration": 137,
    "start_time": "2024-08-11T19:42:10.716Z"
   },
   {
    "duration": 3,
    "start_time": "2024-08-11T19:42:10.855Z"
   },
   {
    "duration": 11,
    "start_time": "2024-08-11T19:42:10.860Z"
   },
   {
    "duration": 24,
    "start_time": "2024-08-11T19:42:10.873Z"
   },
   {
    "duration": 158,
    "start_time": "2024-08-11T19:42:10.899Z"
   },
   {
    "duration": 301,
    "start_time": "2024-08-11T19:42:11.058Z"
   },
   {
    "duration": 11,
    "start_time": "2024-08-11T19:42:11.361Z"
   },
   {
    "duration": 23,
    "start_time": "2024-08-11T19:42:11.373Z"
   },
   {
    "duration": 4,
    "start_time": "2024-08-11T19:42:11.398Z"
   },
   {
    "duration": 29,
    "start_time": "2024-08-11T19:42:11.403Z"
   },
   {
    "duration": 4,
    "start_time": "2024-08-11T19:42:11.433Z"
   },
   {
    "duration": 228,
    "start_time": "2024-08-11T19:42:11.438Z"
   },
   {
    "duration": 112,
    "start_time": "2024-08-11T19:42:11.668Z"
   },
   {
    "duration": 24,
    "start_time": "2024-08-11T19:42:11.782Z"
   },
   {
    "duration": 6,
    "start_time": "2024-08-11T19:42:11.808Z"
   },
   {
    "duration": 8,
    "start_time": "2024-08-11T19:42:11.815Z"
   },
   {
    "duration": 10,
    "start_time": "2024-08-11T19:42:11.824Z"
   },
   {
    "duration": 8,
    "start_time": "2024-08-11T19:42:11.836Z"
   },
   {
    "duration": 52,
    "start_time": "2024-08-11T19:42:11.845Z"
   },
   {
    "duration": 15,
    "start_time": "2024-08-11T19:42:11.898Z"
   },
   {
    "duration": 13,
    "start_time": "2024-08-11T19:42:11.914Z"
   },
   {
    "duration": 286,
    "start_time": "2024-08-11T19:42:11.928Z"
   },
   {
    "duration": 229,
    "start_time": "2024-08-11T19:43:19.992Z"
   },
   {
    "duration": 152,
    "start_time": "2024-08-11T19:43:36.234Z"
   },
   {
    "duration": 163,
    "start_time": "2024-08-11T19:44:08.012Z"
   },
   {
    "duration": 158,
    "start_time": "2024-08-11T19:44:47.929Z"
   },
   {
    "duration": 481,
    "start_time": "2024-08-11T19:45:37.934Z"
   },
   {
    "duration": 161,
    "start_time": "2024-08-11T19:45:48.410Z"
   },
   {
    "duration": 138,
    "start_time": "2024-08-11T19:46:20.986Z"
   },
   {
    "duration": 248,
    "start_time": "2024-08-11T19:46:45.158Z"
   },
   {
    "duration": 257,
    "start_time": "2024-08-11T19:47:17.691Z"
   },
   {
    "duration": 228,
    "start_time": "2024-08-11T19:49:48.774Z"
   },
   {
    "duration": 210,
    "start_time": "2024-08-11T19:49:59.007Z"
   },
   {
    "duration": 226,
    "start_time": "2024-08-11T19:53:19.654Z"
   },
   {
    "duration": 236,
    "start_time": "2024-08-11T19:54:18.095Z"
   },
   {
    "duration": 286,
    "start_time": "2024-08-11T19:55:17.676Z"
   },
   {
    "duration": 219,
    "start_time": "2024-08-11T19:55:26.800Z"
   },
   {
    "duration": 226,
    "start_time": "2024-08-11T19:55:31.230Z"
   },
   {
    "duration": 225,
    "start_time": "2024-08-11T19:55:36.113Z"
   },
   {
    "duration": 224,
    "start_time": "2024-08-11T19:55:58.200Z"
   },
   {
    "duration": 6,
    "start_time": "2024-08-11T19:58:04.802Z"
   },
   {
    "duration": 8,
    "start_time": "2024-08-11T19:58:35.122Z"
   },
   {
    "duration": 8,
    "start_time": "2024-08-11T19:59:39.818Z"
   },
   {
    "duration": 46,
    "start_time": "2024-08-11T20:00:08.463Z"
   },
   {
    "duration": 647,
    "start_time": "2024-08-11T20:01:03.579Z"
   },
   {
    "duration": 106,
    "start_time": "2024-08-11T20:01:04.227Z"
   },
   {
    "duration": 6,
    "start_time": "2024-08-11T20:01:04.334Z"
   },
   {
    "duration": 4,
    "start_time": "2024-08-11T20:01:04.342Z"
   },
   {
    "duration": 45,
    "start_time": "2024-08-11T20:01:04.348Z"
   },
   {
    "duration": 27,
    "start_time": "2024-08-11T20:01:04.394Z"
   },
   {
    "duration": 14,
    "start_time": "2024-08-11T20:01:04.423Z"
   },
   {
    "duration": 5,
    "start_time": "2024-08-11T20:01:04.438Z"
   },
   {
    "duration": 10,
    "start_time": "2024-08-11T20:01:04.445Z"
   },
   {
    "duration": 39,
    "start_time": "2024-08-11T20:01:04.457Z"
   },
   {
    "duration": 12,
    "start_time": "2024-08-11T20:01:04.498Z"
   },
   {
    "duration": 14,
    "start_time": "2024-08-11T20:01:04.511Z"
   },
   {
    "duration": 11,
    "start_time": "2024-08-11T20:01:04.526Z"
   },
   {
    "duration": 4,
    "start_time": "2024-08-11T20:01:04.539Z"
   },
   {
    "duration": 5,
    "start_time": "2024-08-11T20:01:04.544Z"
   },
   {
    "duration": 3,
    "start_time": "2024-08-11T20:01:04.551Z"
   },
   {
    "duration": 6,
    "start_time": "2024-08-11T20:01:04.597Z"
   },
   {
    "duration": 5,
    "start_time": "2024-08-11T20:01:04.604Z"
   },
   {
    "duration": 43,
    "start_time": "2024-08-11T20:01:04.610Z"
   },
   {
    "duration": 12,
    "start_time": "2024-08-11T20:01:04.654Z"
   },
   {
    "duration": 18,
    "start_time": "2024-08-11T20:01:04.667Z"
   },
   {
    "duration": 4,
    "start_time": "2024-08-11T20:01:04.686Z"
   },
   {
    "duration": 21,
    "start_time": "2024-08-11T20:01:04.695Z"
   },
   {
    "duration": 77,
    "start_time": "2024-08-11T20:01:04.718Z"
   },
   {
    "duration": 8,
    "start_time": "2024-08-11T20:01:04.797Z"
   },
   {
    "duration": 4,
    "start_time": "2024-08-11T20:01:04.807Z"
   },
   {
    "duration": 22,
    "start_time": "2024-08-11T20:01:04.812Z"
   },
   {
    "duration": 3,
    "start_time": "2024-08-11T20:01:04.838Z"
   },
   {
    "duration": 5,
    "start_time": "2024-08-11T20:01:04.843Z"
   },
   {
    "duration": 18,
    "start_time": "2024-08-11T20:01:04.850Z"
   },
   {
    "duration": 28,
    "start_time": "2024-08-11T20:01:04.869Z"
   },
   {
    "duration": 3,
    "start_time": "2024-08-11T20:01:04.899Z"
   },
   {
    "duration": 11,
    "start_time": "2024-08-11T20:01:04.904Z"
   },
   {
    "duration": 24,
    "start_time": "2024-08-11T20:01:04.916Z"
   },
   {
    "duration": 56,
    "start_time": "2024-08-11T20:01:04.941Z"
   },
   {
    "duration": 27,
    "start_time": "2024-08-11T20:01:04.998Z"
   },
   {
    "duration": 20,
    "start_time": "2024-08-11T20:01:05.026Z"
   },
   {
    "duration": 4,
    "start_time": "2024-08-11T20:01:05.048Z"
   },
   {
    "duration": 7,
    "start_time": "2024-08-11T20:01:05.054Z"
   },
   {
    "duration": 35,
    "start_time": "2024-08-11T20:01:05.062Z"
   },
   {
    "duration": 104,
    "start_time": "2024-08-11T20:01:05.098Z"
   },
   {
    "duration": 98,
    "start_time": "2024-08-11T20:01:05.203Z"
   },
   {
    "duration": 19,
    "start_time": "2024-08-11T20:01:05.302Z"
   },
   {
    "duration": 10,
    "start_time": "2024-08-11T20:01:05.322Z"
   },
   {
    "duration": 27,
    "start_time": "2024-08-11T20:01:05.334Z"
   },
   {
    "duration": 34,
    "start_time": "2024-08-11T20:01:05.363Z"
   },
   {
    "duration": 7,
    "start_time": "2024-08-11T20:01:05.398Z"
   },
   {
    "duration": 12,
    "start_time": "2024-08-11T20:01:05.406Z"
   },
   {
    "duration": 16,
    "start_time": "2024-08-11T20:01:05.419Z"
   },
   {
    "duration": 13,
    "start_time": "2024-08-11T20:01:05.437Z"
   },
   {
    "duration": 45,
    "start_time": "2024-08-11T20:01:05.451Z"
   },
   {
    "duration": 6,
    "start_time": "2024-08-11T20:01:05.498Z"
   },
   {
    "duration": 30,
    "start_time": "2024-08-11T20:01:05.506Z"
   },
   {
    "duration": 13,
    "start_time": "2024-08-11T20:01:05.538Z"
   },
   {
    "duration": 13,
    "start_time": "2024-08-11T20:01:05.552Z"
   },
   {
    "duration": 7,
    "start_time": "2024-08-11T20:01:05.566Z"
   },
   {
    "duration": 26,
    "start_time": "2024-08-11T20:01:05.575Z"
   },
   {
    "duration": 25,
    "start_time": "2024-08-11T20:01:05.603Z"
   },
   {
    "duration": 34,
    "start_time": "2024-08-11T20:01:05.630Z"
   },
   {
    "duration": 184,
    "start_time": "2024-08-11T20:01:05.666Z"
   },
   {
    "duration": 8,
    "start_time": "2024-08-11T20:01:05.852Z"
   },
   {
    "duration": 169,
    "start_time": "2024-08-11T20:01:05.862Z"
   },
   {
    "duration": 5,
    "start_time": "2024-08-11T20:01:06.033Z"
   },
   {
    "duration": 20,
    "start_time": "2024-08-11T20:01:06.039Z"
   },
   {
    "duration": 8,
    "start_time": "2024-08-11T20:01:06.060Z"
   },
   {
    "duration": 176,
    "start_time": "2024-08-11T20:01:06.070Z"
   },
   {
    "duration": 314,
    "start_time": "2024-08-11T20:01:06.248Z"
   },
   {
    "duration": 14,
    "start_time": "2024-08-11T20:01:06.563Z"
   },
   {
    "duration": 20,
    "start_time": "2024-08-11T20:01:06.578Z"
   },
   {
    "duration": 30,
    "start_time": "2024-08-11T20:01:06.600Z"
   },
   {
    "duration": 10,
    "start_time": "2024-08-11T20:01:06.632Z"
   },
   {
    "duration": 8,
    "start_time": "2024-08-11T20:01:06.644Z"
   },
   {
    "duration": 229,
    "start_time": "2024-08-11T20:01:06.654Z"
   },
   {
    "duration": 113,
    "start_time": "2024-08-11T20:01:06.885Z"
   },
   {
    "duration": 15,
    "start_time": "2024-08-11T20:01:06.999Z"
   },
   {
    "duration": 22,
    "start_time": "2024-08-11T20:01:07.015Z"
   },
   {
    "duration": 7,
    "start_time": "2024-08-11T20:01:07.039Z"
   },
   {
    "duration": 11,
    "start_time": "2024-08-11T20:01:07.048Z"
   },
   {
    "duration": 5,
    "start_time": "2024-08-11T20:01:07.060Z"
   },
   {
    "duration": 29,
    "start_time": "2024-08-11T20:01:07.067Z"
   },
   {
    "duration": 17,
    "start_time": "2024-08-11T20:01:07.098Z"
   },
   {
    "duration": 4,
    "start_time": "2024-08-11T20:01:07.120Z"
   },
   {
    "duration": 271,
    "start_time": "2024-08-11T20:01:07.126Z"
   },
   {
    "duration": 164,
    "start_time": "2024-08-11T20:07:50.176Z"
   },
   {
    "duration": 323,
    "start_time": "2024-08-11T20:12:10.337Z"
   },
   {
    "duration": 263,
    "start_time": "2024-08-11T20:12:32.068Z"
   },
   {
    "duration": 261,
    "start_time": "2024-08-11T20:12:48.737Z"
   },
   {
    "duration": 277,
    "start_time": "2024-08-11T20:15:15.560Z"
   },
   {
    "duration": 288,
    "start_time": "2024-08-11T20:19:02.004Z"
   },
   {
    "duration": 328,
    "start_time": "2024-08-11T20:19:23.745Z"
   },
   {
    "duration": 713,
    "start_time": "2024-08-11T22:07:17.431Z"
   },
   {
    "duration": 336,
    "start_time": "2024-08-11T22:07:18.147Z"
   },
   {
    "duration": 5,
    "start_time": "2024-08-11T22:07:18.484Z"
   },
   {
    "duration": 15,
    "start_time": "2024-08-11T22:07:18.490Z"
   },
   {
    "duration": 131,
    "start_time": "2024-08-11T22:07:18.506Z"
   },
   {
    "duration": 25,
    "start_time": "2024-08-11T22:07:18.638Z"
   },
   {
    "duration": 14,
    "start_time": "2024-08-11T22:07:18.664Z"
   },
   {
    "duration": 4,
    "start_time": "2024-08-11T22:07:18.679Z"
   },
   {
    "duration": 8,
    "start_time": "2024-08-11T22:07:18.685Z"
   },
   {
    "duration": 10,
    "start_time": "2024-08-11T22:07:18.695Z"
   },
   {
    "duration": 12,
    "start_time": "2024-08-11T22:07:18.706Z"
   },
   {
    "duration": 13,
    "start_time": "2024-08-11T22:07:18.720Z"
   },
   {
    "duration": 10,
    "start_time": "2024-08-11T22:07:18.734Z"
   },
   {
    "duration": 5,
    "start_time": "2024-08-11T22:07:18.746Z"
   },
   {
    "duration": 34,
    "start_time": "2024-08-11T22:07:18.752Z"
   },
   {
    "duration": 28,
    "start_time": "2024-08-11T22:07:18.788Z"
   },
   {
    "duration": 19,
    "start_time": "2024-08-11T22:07:18.818Z"
   },
   {
    "duration": 10,
    "start_time": "2024-08-11T22:07:18.839Z"
   },
   {
    "duration": 13,
    "start_time": "2024-08-11T22:07:18.851Z"
   },
   {
    "duration": 9,
    "start_time": "2024-08-11T22:07:18.866Z"
   },
   {
    "duration": 15,
    "start_time": "2024-08-11T22:07:18.876Z"
   },
   {
    "duration": 4,
    "start_time": "2024-08-11T22:07:18.892Z"
   },
   {
    "duration": 20,
    "start_time": "2024-08-11T22:07:18.897Z"
   },
   {
    "duration": 3,
    "start_time": "2024-08-11T22:07:18.919Z"
   },
   {
    "duration": 6,
    "start_time": "2024-08-11T22:07:18.923Z"
   },
   {
    "duration": 3,
    "start_time": "2024-08-11T22:07:18.931Z"
   },
   {
    "duration": 22,
    "start_time": "2024-08-11T22:07:18.935Z"
   },
   {
    "duration": 4,
    "start_time": "2024-08-11T22:07:18.960Z"
   },
   {
    "duration": 23,
    "start_time": "2024-08-11T22:07:18.965Z"
   },
   {
    "duration": 21,
    "start_time": "2024-08-11T22:07:18.989Z"
   },
   {
    "duration": 4,
    "start_time": "2024-08-11T22:07:19.012Z"
   },
   {
    "duration": 4,
    "start_time": "2024-08-11T22:07:19.017Z"
   },
   {
    "duration": 10,
    "start_time": "2024-08-11T22:07:19.022Z"
   },
   {
    "duration": 50,
    "start_time": "2024-08-11T22:07:19.033Z"
   },
   {
    "duration": 24,
    "start_time": "2024-08-11T22:07:19.084Z"
   },
   {
    "duration": 24,
    "start_time": "2024-08-11T22:07:19.110Z"
   },
   {
    "duration": 14,
    "start_time": "2024-08-11T22:07:19.135Z"
   },
   {
    "duration": 34,
    "start_time": "2024-08-11T22:07:19.150Z"
   },
   {
    "duration": 7,
    "start_time": "2024-08-11T22:07:19.185Z"
   },
   {
    "duration": 12,
    "start_time": "2024-08-11T22:07:19.193Z"
   },
   {
    "duration": 101,
    "start_time": "2024-08-11T22:07:19.207Z"
   },
   {
    "duration": 91,
    "start_time": "2024-08-11T22:07:19.310Z"
   },
   {
    "duration": 18,
    "start_time": "2024-08-11T22:07:19.402Z"
   },
   {
    "duration": 7,
    "start_time": "2024-08-11T22:07:19.421Z"
   },
   {
    "duration": 19,
    "start_time": "2024-08-11T22:07:19.429Z"
   },
   {
    "duration": 33,
    "start_time": "2024-08-11T22:07:19.449Z"
   },
   {
    "duration": 6,
    "start_time": "2024-08-11T22:07:19.484Z"
   },
   {
    "duration": 6,
    "start_time": "2024-08-11T22:07:19.492Z"
   },
   {
    "duration": 16,
    "start_time": "2024-08-11T22:07:19.500Z"
   },
   {
    "duration": 10,
    "start_time": "2024-08-11T22:07:19.517Z"
   },
   {
    "duration": 13,
    "start_time": "2024-08-11T22:07:19.529Z"
   },
   {
    "duration": 39,
    "start_time": "2024-08-11T22:07:19.543Z"
   },
   {
    "duration": 4,
    "start_time": "2024-08-11T22:07:19.583Z"
   },
   {
    "duration": 11,
    "start_time": "2024-08-11T22:07:19.588Z"
   },
   {
    "duration": 12,
    "start_time": "2024-08-11T22:07:19.600Z"
   },
   {
    "duration": 7,
    "start_time": "2024-08-11T22:07:19.614Z"
   },
   {
    "duration": 6,
    "start_time": "2024-08-11T22:07:19.622Z"
   },
   {
    "duration": 23,
    "start_time": "2024-08-11T22:07:19.630Z"
   },
   {
    "duration": 58,
    "start_time": "2024-08-11T22:07:19.655Z"
   },
   {
    "duration": 172,
    "start_time": "2024-08-11T22:07:19.715Z"
   },
   {
    "duration": 8,
    "start_time": "2024-08-11T22:07:19.889Z"
   },
   {
    "duration": 142,
    "start_time": "2024-08-11T22:07:19.898Z"
   },
   {
    "duration": 4,
    "start_time": "2024-08-11T22:07:20.041Z"
   },
   {
    "duration": 8,
    "start_time": "2024-08-11T22:07:20.047Z"
   },
   {
    "duration": 8,
    "start_time": "2024-08-11T22:07:20.056Z"
   },
   {
    "duration": 186,
    "start_time": "2024-08-11T22:07:20.065Z"
   },
   {
    "duration": 334,
    "start_time": "2024-08-11T22:07:20.253Z"
   },
   {
    "duration": 11,
    "start_time": "2024-08-11T22:07:20.589Z"
   },
   {
    "duration": 8,
    "start_time": "2024-08-11T22:07:20.601Z"
   },
   {
    "duration": 8,
    "start_time": "2024-08-11T22:07:20.610Z"
   },
   {
    "duration": 14,
    "start_time": "2024-08-11T22:07:20.619Z"
   },
   {
    "duration": 5,
    "start_time": "2024-08-11T22:07:20.634Z"
   },
   {
    "duration": 223,
    "start_time": "2024-08-11T22:07:20.640Z"
   },
   {
    "duration": 102,
    "start_time": "2024-08-11T22:07:20.864Z"
   },
   {
    "duration": 21,
    "start_time": "2024-08-11T22:07:20.968Z"
   },
   {
    "duration": 23,
    "start_time": "2024-08-11T22:07:20.990Z"
   },
   {
    "duration": 15,
    "start_time": "2024-08-11T22:07:21.014Z"
   },
   {
    "duration": 22,
    "start_time": "2024-08-11T22:07:21.030Z"
   },
   {
    "duration": 20,
    "start_time": "2024-08-11T22:07:21.053Z"
   },
   {
    "duration": 9,
    "start_time": "2024-08-11T22:07:21.075Z"
   },
   {
    "duration": 22,
    "start_time": "2024-08-11T22:07:21.085Z"
   },
   {
    "duration": 10,
    "start_time": "2024-08-11T22:07:21.112Z"
   },
   {
    "duration": 244,
    "start_time": "2024-08-11T22:07:21.123Z"
   },
   {
    "duration": 754,
    "start_time": "2024-12-01T17:11:50.715Z"
   },
   {
    "duration": 175,
    "start_time": "2024-12-01T17:11:51.471Z"
   },
   {
    "duration": 6,
    "start_time": "2024-12-01T17:11:51.649Z"
   },
   {
    "duration": 18,
    "start_time": "2024-12-01T17:11:51.657Z"
   },
   {
    "duration": 121,
    "start_time": "2024-12-01T17:11:51.677Z"
   },
   {
    "duration": 36,
    "start_time": "2024-12-01T17:11:51.800Z"
   },
   {
    "duration": 18,
    "start_time": "2024-12-01T17:11:51.838Z"
   },
   {
    "duration": 47,
    "start_time": "2024-12-01T17:11:51.858Z"
   },
   {
    "duration": 11,
    "start_time": "2024-12-01T17:11:51.907Z"
   },
   {
    "duration": 16,
    "start_time": "2024-12-01T17:11:51.921Z"
   },
   {
    "duration": 23,
    "start_time": "2024-12-01T17:11:51.939Z"
   },
   {
    "duration": 30,
    "start_time": "2024-12-01T17:11:51.963Z"
   },
   {
    "duration": 19,
    "start_time": "2024-12-01T17:11:51.994Z"
   },
   {
    "duration": 7,
    "start_time": "2024-12-01T17:11:52.015Z"
   },
   {
    "duration": 26,
    "start_time": "2024-12-01T17:11:52.023Z"
   },
   {
    "duration": 35,
    "start_time": "2024-12-01T17:11:52.050Z"
   },
   {
    "duration": 18,
    "start_time": "2024-12-01T17:11:52.086Z"
   },
   {
    "duration": 89,
    "start_time": "2024-12-01T17:11:52.106Z"
   },
   {
    "duration": 47,
    "start_time": "2024-12-01T17:11:52.197Z"
   },
   {
    "duration": 25,
    "start_time": "2024-12-01T17:11:52.246Z"
   },
   {
    "duration": 26,
    "start_time": "2024-12-01T17:11:52.273Z"
   },
   {
    "duration": 14,
    "start_time": "2024-12-01T17:11:52.301Z"
   },
   {
    "duration": 19,
    "start_time": "2024-12-01T17:11:52.317Z"
   },
   {
    "duration": 11,
    "start_time": "2024-12-01T17:11:52.338Z"
   },
   {
    "duration": 17,
    "start_time": "2024-12-01T17:11:52.351Z"
   },
   {
    "duration": 23,
    "start_time": "2024-12-01T17:11:52.369Z"
   },
   {
    "duration": 30,
    "start_time": "2024-12-01T17:11:52.394Z"
   },
   {
    "duration": 39,
    "start_time": "2024-12-01T17:11:52.428Z"
   },
   {
    "duration": 13,
    "start_time": "2024-12-01T17:11:52.469Z"
   },
   {
    "duration": 32,
    "start_time": "2024-12-01T17:11:52.484Z"
   },
   {
    "duration": 6,
    "start_time": "2024-12-01T17:11:52.518Z"
   },
   {
    "duration": 5,
    "start_time": "2024-12-01T17:11:52.526Z"
   },
   {
    "duration": 17,
    "start_time": "2024-12-01T17:11:52.533Z"
   },
   {
    "duration": 30,
    "start_time": "2024-12-01T17:11:52.552Z"
   },
   {
    "duration": 70,
    "start_time": "2024-12-01T17:11:52.584Z"
   },
   {
    "duration": 30,
    "start_time": "2024-12-01T17:11:52.656Z"
   },
   {
    "duration": 35,
    "start_time": "2024-12-01T17:11:52.688Z"
   },
   {
    "duration": 7,
    "start_time": "2024-12-01T17:11:52.725Z"
   },
   {
    "duration": 9,
    "start_time": "2024-12-01T17:11:52.734Z"
   },
   {
    "duration": 15,
    "start_time": "2024-12-01T17:11:52.745Z"
   },
   {
    "duration": 145,
    "start_time": "2024-12-01T17:11:52.762Z"
   },
   {
    "duration": 123,
    "start_time": "2024-12-01T17:11:52.908Z"
   },
   {
    "duration": 19,
    "start_time": "2024-12-01T17:11:53.033Z"
   },
   {
    "duration": 29,
    "start_time": "2024-12-01T17:11:53.054Z"
   },
   {
    "duration": 32,
    "start_time": "2024-12-01T17:11:53.085Z"
   },
   {
    "duration": 10,
    "start_time": "2024-12-01T17:11:53.119Z"
   },
   {
    "duration": 13,
    "start_time": "2024-12-01T17:11:53.130Z"
   },
   {
    "duration": 9,
    "start_time": "2024-12-01T17:11:53.145Z"
   },
   {
    "duration": 24,
    "start_time": "2024-12-01T17:11:53.155Z"
   },
   {
    "duration": 50,
    "start_time": "2024-12-01T17:11:53.181Z"
   },
   {
    "duration": 18,
    "start_time": "2024-12-01T17:11:53.233Z"
   },
   {
    "duration": 26,
    "start_time": "2024-12-01T17:11:53.253Z"
   },
   {
    "duration": 6,
    "start_time": "2024-12-01T17:11:53.280Z"
   },
   {
    "duration": 30,
    "start_time": "2024-12-01T17:11:53.287Z"
   },
   {
    "duration": 17,
    "start_time": "2024-12-01T17:11:53.318Z"
   },
   {
    "duration": 10,
    "start_time": "2024-12-01T17:11:53.337Z"
   },
   {
    "duration": 8,
    "start_time": "2024-12-01T17:11:53.348Z"
   },
   {
    "duration": 33,
    "start_time": "2024-12-01T17:11:53.357Z"
   },
   {
    "duration": 65,
    "start_time": "2024-12-01T17:11:53.392Z"
   },
   {
    "duration": 269,
    "start_time": "2024-12-01T17:11:53.459Z"
   },
   {
    "duration": 9,
    "start_time": "2024-12-01T17:11:53.730Z"
   },
   {
    "duration": 183,
    "start_time": "2024-12-01T17:11:53.741Z"
   },
   {
    "duration": 7,
    "start_time": "2024-12-01T17:11:53.926Z"
   },
   {
    "duration": 12,
    "start_time": "2024-12-01T17:11:53.935Z"
   },
   {
    "duration": 13,
    "start_time": "2024-12-01T17:11:53.949Z"
   },
   {
    "duration": 224,
    "start_time": "2024-12-01T17:11:53.964Z"
   },
   {
    "duration": 433,
    "start_time": "2024-12-01T17:11:54.190Z"
   },
   {
    "duration": 14,
    "start_time": "2024-12-01T17:11:54.625Z"
   },
   {
    "duration": 6,
    "start_time": "2024-12-01T17:11:54.641Z"
   },
   {
    "duration": 8,
    "start_time": "2024-12-01T17:11:54.649Z"
   },
   {
    "duration": 4,
    "start_time": "2024-12-01T17:11:54.659Z"
   },
   {
    "duration": 9,
    "start_time": "2024-12-01T17:11:54.665Z"
   },
   {
    "duration": 304,
    "start_time": "2024-12-01T17:11:54.676Z"
   },
   {
    "duration": 148,
    "start_time": "2024-12-01T17:11:54.982Z"
   },
   {
    "duration": 26,
    "start_time": "2024-12-01T17:11:55.132Z"
   },
   {
    "duration": 24,
    "start_time": "2024-12-01T17:11:55.160Z"
   },
   {
    "duration": 34,
    "start_time": "2024-12-01T17:11:55.186Z"
   },
   {
    "duration": 22,
    "start_time": "2024-12-01T17:11:55.223Z"
   },
   {
    "duration": 9,
    "start_time": "2024-12-01T17:11:55.247Z"
   },
   {
    "duration": 10,
    "start_time": "2024-12-01T17:11:55.258Z"
   },
   {
    "duration": 17,
    "start_time": "2024-12-01T17:11:55.270Z"
   },
   {
    "duration": 19,
    "start_time": "2024-12-01T17:11:55.292Z"
   },
   {
    "duration": 303,
    "start_time": "2024-12-01T17:11:55.313Z"
   }
  ],
  "colab": {
   "name": "DA+. Сборный проект 1. Шаблон (1).ipynb",
   "provenance": []
  },
  "kernelspec": {
   "display_name": "Python 3 (ipykernel)",
   "language": "python",
   "name": "python3"
  },
  "language_info": {
   "codemirror_mode": {
    "name": "ipython",
    "version": 3
   },
   "file_extension": ".py",
   "mimetype": "text/x-python",
   "name": "python",
   "nbconvert_exporter": "python",
   "pygments_lexer": "ipython3",
   "version": "3.9.5"
  },
  "toc": {
   "base_numbering": 1,
   "nav_menu": {},
   "number_sections": true,
   "sideBar": true,
   "skip_h1_title": true,
   "title_cell": "Table of Contents",
   "title_sidebar": "Contents",
   "toc_cell": false,
   "toc_position": {
    "height": "calc(100% - 180px)",
    "left": "10px",
    "top": "150px",
    "width": "417.905px"
   },
   "toc_section_display": true,
   "toc_window_display": true
  }
 },
 "nbformat": 4,
 "nbformat_minor": 1
}
