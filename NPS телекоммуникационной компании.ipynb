{
 "cells": [
  {
   "cell_type": "markdown",
   "id": "d5c26392",
   "metadata": {},
   "source": [
    "**ОПРЕДЕЛЕНИЕ ПОТРЕБИТЕЛЬСКОЙ ЛОЯЛЬНОСТИ СРЕДИ КЛИЕНТОВ ДЛЯ ТЕЛЕКОММУНИКАЦИОННОЙ КОМПАНИИ.**"
   ]
  },
  {
   "cell_type": "markdown",
   "id": "c87a6f86",
   "metadata": {},
   "source": [
    "✅ **Описание проекта:**\n",
    "\n",
    "Заказчик этого исследования — большая телекоммуникационная компания, которая оказывает услуги на территории всего СНГ.  \n",
    "\n",
    "Перед компанией стоит задача определить текущий уровень потребительской лояльности, или NPS (от англ. Net Promoter Score), среди клиентов из России. \n",
    "\n",
    "Чтобы определить уровень лояльности, клиентам задавали классический вопрос: «Оцените по шкале от 1 до 10 вероятность того, что вы порекомендуете компанию друзьям и знакомым».\n",
    "\n",
    "Чтобы оценить результаты опроса, оценки обычно делят на три группы:\n",
    "* 9-10 баллов — «cторонники» (англ. promoters);\n",
    "* 7-8 баллов — «нейтралы» (англ. passives);\n",
    "* 0-6 баллов — «критики» (англ. detractors).\n",
    "\n",
    "Итоговое значение NPS рассчитывается по формуле: `% «сторонников» - % «критиков»`.\n",
    "Таким образом, значение этого показателя варьируется от -100% (когда все клиенты «критики») до 100% (когда все клиенты лояльны к сервису). \n",
    "    \n",
    "✅ **Цель исследования:**\n",
    "    \n",
    "1. Определить текущий уровень потребительской лояльности, или NPS среди клиентов из России.\n",
    "2. Оформить результаты в визуальном представлении.\n",
    "    \n",
    "✅ **Описание данных:**\n",
    "\n",
    "**Таблица `user`**\n",
    "\n",
    "Содержит основную информацию о клиентах.\n",
    "\n",
    "* `user_id`- Идентификатор клиента, первичный ключ таблицы\n",
    "* `lt_day` - Количество дней «жизни» клиента\n",
    "* `age` - Возраст клиента в годах\n",
    "* `gender_segment` - Пол клиента (1 – женщина, 0 – мужчина)\n",
    "* `os_name` - Тип операционной системы\n",
    "* `cpe_type_name` - Тип устройства\n",
    "* `location_id` - Идентификатор домашнего региона клиента, внешний ключ, отсылающий к таблице location\n",
    "* `age_gr_id` - Идентификатор возрастного сегмента клиента, внешний ключ, отсылающий к таблице age_segment\n",
    "* `tr_gr_id` - Идентификатор сегмента клиента по объёму потребляемого трафика в месяц, внешний ключ, отсылающий к таблице traffic_segment\n",
    "* `lt_gr_id` - Идентификатор сегмента клиента по количеству месяцев «жизни», внешний ключ, отсылающий к таблице lifetime_segment\n",
    "* `nps_score` - Оценка клиента в NPS-опросе (от 1 до 10)\n",
    "\n",
    "\n",
    "**Таблица `location`**\n",
    "Справочник территорий, в которых телеком-компания оказывает услуги.\n",
    "\n",
    "* `location_id` - Идентификатор записи, первичный ключ\n",
    "* `country` - Страна\n",
    "* `city` - Город\n",
    "\n",
    "**Таблица `age_segment`**\n",
    "Данные о возрастных сегментах клиентов.\n",
    "\n",
    "* `age_gr_id` - Идентификатор сегмента, первичный ключ\n",
    "* `bucket_min` - Минимальная граница сегмента\n",
    "* `bucket_max` - Максимальная граница сегмента\n",
    "* `title` - Название сегмента\n",
    "\n",
    "**Таблица `traffic_segment`**\n",
    "Данные о выделяемых сегментах по объёму потребляемого трафика.\n",
    "\n",
    "* `tr_gr_id` - Идентификатор сегмента, первичный ключ\n",
    "* `bucket_min` - Минимальная граница сегмента\n",
    "* `bucket_max` - Максимальная граница сегмента\n",
    "* `title` - Название сегмента\n",
    "\n",
    "**Таблица `lifetime_segment`**\n",
    "Данные о выделяемых сегментах по количеству месяцев «жизни» клиента — лайфтайму.\n",
    "\n",
    "* `lt_gr_id` - Идентификатор сегмента, первичный ключ\n",
    "* `bucket_min` - Минимальная граница сегмента\n",
    "* `bucket_max` - Максимальная граница сегмента\n",
    "* `title` - Название сегмента\n",
    "\n",
    "\n",
    "✅ **План работы:**\n",
    "    \n",
    "1. Подключение к базе;\n",
    "2. Выгрузка данных;\n",
    "3. Создание дашборда в Tableau для ответа на поставленные вопросы: \n",
    "* Как распределены участники опроса?\n",
    "* Каких пользователей больше по возрасту?\n",
    "* Каких пользователей больше по полу и возрасту?\n",
    "* Каких пользователей больше: новых или старых?\n",
    "* Пользователи из каких городов активнее участвовали в опросе?\n",
    "* Какие группы пользователей наиболее и наименее лояльны к сервису?\n",
    "* Какой общий NPS среди всех опрошенных?\n",
    "* Как можно описать клиентов, которые относятся к группе cторонников?\n"
   ]
  },
  {
   "cell_type": "markdown",
   "id": "3bac7e0c",
   "metadata": {},
   "source": [
    "## Импортируем библиотеки"
   ]
  },
  {
   "cell_type": "code",
   "execution_count": 1,
   "id": "fc7efa54",
   "metadata": {},
   "outputs": [],
   "source": [
    "import os\n",
    "import pandas as pd\n",
    "import numpy as np\n",
    "from IPython.display import display, HTML\n",
    "import sqlalchemy\n",
    "from sqlalchemy import create_engine\n",
    "from sqlalchemy.orm import sessionmaker\n",
    "from sqlalchemy import text"
   ]
  },
  {
   "cell_type": "markdown",
   "id": "f9bfb116",
   "metadata": {},
   "source": [
    "## Подключение к базе"
   ]
  },
  {
   "cell_type": "code",
   "execution_count": 2,
   "id": "0017f8e7",
   "metadata": {},
   "outputs": [],
   "source": [
    "path_to_db_local = 'telecomm_csi.db'\n",
    "path_to_db_platform = '/datasets/telecomm_csi.db'\n",
    "path_to_db = None\n",
    "\n",
    "if os.path.exists(path_to_db_local):\n",
    "    path_to_db = path_to_db_local\n",
    "elif os.path.exists(path_to_db_platform):\n",
    "    path_to_db = path_to_db_platform\n",
    "else:\n",
    "    raise Exception('Файл с базой данных SQLite не найден!')\n",
    "\n",
    "if path_to_db:\n",
    "    engine = create_engine(f'sqlite:///{path_to_db}', echo=False)"
   ]
  },
  {
   "cell_type": "markdown",
   "id": "22af71d3",
   "metadata": {},
   "source": [
    "## Выгрузка данных"
   ]
  },
  {
   "cell_type": "code",
   "execution_count": 3,
   "id": "84ebad43",
   "metadata": {},
   "outputs": [],
   "source": [
    "query = \"\"\"\n",
    "WITH data_cte AS (\n",
    "    SELECT\n",
    "        u.user_id,\n",
    "        u.lt_day,\n",
    "        u.age,\n",
    "        u.gender_segment,\n",
    "        u.os_name,\n",
    "        u.cpe_type_name,\n",
    "        l.country,\n",
    "        l.city,\n",
    "        SUBSTR(a.title, 3) AS age_segment,\n",
    "        SUBSTR(t.title, 3) AS traffic_segment,\n",
    "        SUBSTR(lt.title, 3) AS lifetime_segment,\n",
    "        u.nps_score,\n",
    "        CASE WHEN u.nps_score >= 9 THEN 'сторонники'\n",
    "             WHEN u.nps_score >= 7 THEN 'нейтралы'\n",
    "             ELSE 'критики'\n",
    "        END AS nps_group,\n",
    "        CASE WHEN u.lt_day <= 365 THEN 'True' ELSE 'False' END AS is_new\n",
    "    FROM\n",
    "        user AS u\n",
    "        LEFT JOIN location AS l ON l.location_id = u.location_id\n",
    "        LEFT JOIN age_segment AS a ON a.age_gr_id = u.age_gr_id\n",
    "        LEFT JOIN traffic_segment AS t ON t.tr_gr_id = u.tr_gr_id\n",
    "        LEFT JOIN lifetime_segment AS lt ON lt.lt_gr_id = u.lt_gr_id\n",
    ")\n",
    "SELECT *\n",
    "FROM data_cte;\n",
    "\"\"\""
   ]
  },
  {
   "cell_type": "code",
   "execution_count": 4,
   "id": "3965faf2",
   "metadata": {},
   "outputs": [
    {
     "data": {
      "text/html": [
       "<div>\n",
       "<style scoped>\n",
       "    .dataframe tbody tr th:only-of-type {\n",
       "        vertical-align: middle;\n",
       "    }\n",
       "\n",
       "    .dataframe tbody tr th {\n",
       "        vertical-align: top;\n",
       "    }\n",
       "\n",
       "    .dataframe thead th {\n",
       "        text-align: right;\n",
       "    }\n",
       "</style>\n",
       "<table border=\"1\" class=\"dataframe\">\n",
       "  <thead>\n",
       "    <tr style=\"text-align: right;\">\n",
       "      <th></th>\n",
       "      <th>user_id</th>\n",
       "      <th>lt_day</th>\n",
       "      <th>age</th>\n",
       "      <th>gender_segment</th>\n",
       "      <th>os_name</th>\n",
       "      <th>cpe_type_name</th>\n",
       "      <th>country</th>\n",
       "      <th>city</th>\n",
       "      <th>age_segment</th>\n",
       "      <th>traffic_segment</th>\n",
       "      <th>lifetime_segment</th>\n",
       "      <th>nps_score</th>\n",
       "      <th>nps_group</th>\n",
       "      <th>is_new</th>\n",
       "    </tr>\n",
       "  </thead>\n",
       "  <tbody>\n",
       "    <tr>\n",
       "      <th>0</th>\n",
       "      <td>A001A2</td>\n",
       "      <td>2320</td>\n",
       "      <td>45.0</td>\n",
       "      <td>1.0</td>\n",
       "      <td>ANDROID</td>\n",
       "      <td>SMARTPHONE</td>\n",
       "      <td>Россия</td>\n",
       "      <td>Уфа</td>\n",
       "      <td>45-54</td>\n",
       "      <td>1-5</td>\n",
       "      <td>36+</td>\n",
       "      <td>10</td>\n",
       "      <td>сторонники</td>\n",
       "      <td>False</td>\n",
       "    </tr>\n",
       "    <tr>\n",
       "      <th>1</th>\n",
       "      <td>A001WF</td>\n",
       "      <td>2344</td>\n",
       "      <td>53.0</td>\n",
       "      <td>0.0</td>\n",
       "      <td>ANDROID</td>\n",
       "      <td>SMARTPHONE</td>\n",
       "      <td>Россия</td>\n",
       "      <td>Киров</td>\n",
       "      <td>45-54</td>\n",
       "      <td>1-5</td>\n",
       "      <td>36+</td>\n",
       "      <td>10</td>\n",
       "      <td>сторонники</td>\n",
       "      <td>False</td>\n",
       "    </tr>\n",
       "    <tr>\n",
       "      <th>2</th>\n",
       "      <td>A003Q7</td>\n",
       "      <td>467</td>\n",
       "      <td>57.0</td>\n",
       "      <td>0.0</td>\n",
       "      <td>ANDROID</td>\n",
       "      <td>SMARTPHONE</td>\n",
       "      <td>Россия</td>\n",
       "      <td>Москва</td>\n",
       "      <td>55-64</td>\n",
       "      <td>20-25</td>\n",
       "      <td>13-24</td>\n",
       "      <td>10</td>\n",
       "      <td>сторонники</td>\n",
       "      <td>False</td>\n",
       "    </tr>\n",
       "  </tbody>\n",
       "</table>\n",
       "</div>"
      ],
      "text/plain": [
       "  user_id  lt_day   age  gender_segment  os_name cpe_type_name country  \\\n",
       "0  A001A2    2320  45.0             1.0  ANDROID    SMARTPHONE  Россия   \n",
       "1  A001WF    2344  53.0             0.0  ANDROID    SMARTPHONE  Россия   \n",
       "2  A003Q7     467  57.0             0.0  ANDROID    SMARTPHONE  Россия   \n",
       "\n",
       "     city age_segment traffic_segment lifetime_segment  nps_score   nps_group  \\\n",
       "0     Уфа       45-54             1-5              36+         10  сторонники   \n",
       "1   Киров       45-54             1-5              36+         10  сторонники   \n",
       "2  Москва       55-64           20-25            13-24         10  сторонники   \n",
       "\n",
       "  is_new  \n",
       "0  False  \n",
       "1  False  \n",
       "2  False  "
      ]
     },
     "execution_count": 4,
     "metadata": {},
     "output_type": "execute_result"
    }
   ],
   "source": [
    "df = pd.read_sql(query, engine)\n",
    "df.head(3)"
   ]
  },
  {
   "cell_type": "code",
   "execution_count": 5,
   "id": "9db04858",
   "metadata": {},
   "outputs": [],
   "source": [
    "df.to_csv('telecomm_csi_tableau_veria.csv', index=False)"
   ]
  },
  {
   "cell_type": "markdown",
   "id": "641b7991",
   "metadata": {},
   "source": [
    "## Создание дашборда в Tableau"
   ]
  },
  {
   "cell_type": "markdown",
   "id": "23d8b705",
   "metadata": {},
   "source": [
    "Результаты исследования представленны по ссылке:"
   ]
  },
  {
   "cell_type": "markdown",
   "id": "9f35c8a8",
   "metadata": {},
   "source": [
    "https://public.tableau.com/shared/3TTM6Z38Y?:display_count=n&:origin=viz_share_link"
   ]
  }
 ],
 "metadata": {
  "ExecuteTimeLog": [
   {
    "duration": 503,
    "start_time": "2024-11-06T18:38:10.013Z"
   },
   {
    "duration": 2,
    "start_time": "2024-11-06T19:12:44.509Z"
   },
   {
    "duration": 5,
    "start_time": "2024-11-06T19:12:50.041Z"
   },
   {
    "duration": 78,
    "start_time": "2024-11-06T19:13:40.364Z"
   },
   {
    "duration": 3,
    "start_time": "2024-11-06T19:15:41.382Z"
   },
   {
    "duration": 4650,
    "start_time": "2024-11-06T19:15:42.408Z"
   },
   {
    "duration": 3931,
    "start_time": "2024-11-06T19:15:47.060Z"
   },
   {
    "duration": 593,
    "start_time": "2024-11-07T08:02:55.008Z"
   },
   {
    "duration": 77,
    "start_time": "2024-11-07T08:02:55.603Z"
   },
   {
    "duration": 6,
    "start_time": "2024-11-07T08:02:55.682Z"
   },
   {
    "duration": 5797,
    "start_time": "2024-11-07T08:02:55.690Z"
   },
   {
    "duration": 4858,
    "start_time": "2024-11-07T08:03:01.489Z"
   },
   {
    "duration": 588,
    "start_time": "2024-11-07T21:27:16.386Z"
   },
   {
    "duration": 73,
    "start_time": "2024-11-07T21:27:16.976Z"
   },
   {
    "duration": 4,
    "start_time": "2024-11-07T21:27:17.051Z"
   },
   {
    "duration": 5397,
    "start_time": "2024-11-07T21:27:17.056Z"
   },
   {
    "duration": 4212,
    "start_time": "2024-11-07T21:27:22.461Z"
   }
  ],
  "kernelspec": {
   "display_name": "Python 3 (ipykernel)",
   "language": "python",
   "name": "python3"
  },
  "language_info": {
   "codemirror_mode": {
    "name": "ipython",
    "version": 3
   },
   "file_extension": ".py",
   "mimetype": "text/x-python",
   "name": "python",
   "nbconvert_exporter": "python",
   "pygments_lexer": "ipython3",
   "version": "3.9.5"
  },
  "toc": {
   "base_numbering": 1,
   "nav_menu": {},
   "number_sections": true,
   "sideBar": true,
   "skip_h1_title": true,
   "title_cell": "Table of Contents",
   "title_sidebar": "Contents",
   "toc_cell": false,
   "toc_position": {},
   "toc_section_display": true,
   "toc_window_display": false
  }
 },
 "nbformat": 4,
 "nbformat_minor": 5
}
